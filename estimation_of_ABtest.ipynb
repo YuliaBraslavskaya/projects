{
 "cells": [
  {
   "cell_type": "markdown",
   "id": "43f9f16e",
   "metadata": {},
   "source": [
    "# Оценка А/Б тестирования #"
   ]
  },
  {
   "cell_type": "markdown",
   "id": "c871e5b0",
   "metadata": {},
   "source": [
    "В данном исследовании необходимо оценить А/Б тестирование. Для оценки мы будем опираться на Техническое задание (ТЗ).\n",
    "\n",
    "`Основные задачи, которые необходимо выполнить в данном проекте:`\n",
    "\n",
    "1. Выгрузить данные и сделать их предобработку.\n",
    "\n",
    "2. Проанализировать данные в 4-х датасетах.\n",
    "\n",
    "3. Сравнить условия, прописанные в ТЗ с теми данными, которые мы получили при анализе.\n",
    "\n",
    "4. Применить статистический метод для нахождения статистически значимого различия конверсий между группами теста по каждому событию."
   ]
  },
  {
   "cell_type": "markdown",
   "id": "a5466941",
   "metadata": {},
   "source": [
    "Ниже представлено ТЗ.\n",
    "\n",
    "**Техническое задание**:\n",
    "\n",
    "- Название теста: `recommender_system_test`;\n",
    "- группы: А — контрольная, B — новая платёжная воронка;\n",
    "- дата запуска: 2020-12-07;\n",
    "- дата остановки набора новых пользователей: 2020-12-21;\n",
    "- дата остановки: 2021-01-04;\n",
    "- аудитория: 15% новых пользователей из региона EU;\n",
    "- назначение теста: тестирование изменений, связанных с внедрением улучшенной рекомендательной системы;\n",
    "- ожидаемое количество участников теста: 6000.\n",
    "- ожидаемый эффект: за 14 дней с момента регистрации пользователи покажут улучшение каждой метрики не менее, чем на 10%:\n",
    "    - конверсии в просмотр карточек товаров — событие `product_page`,\n",
    "    - просмотры корзины — `product_cart`,\n",
    "    - покупки — `purchase`."
   ]
  },
  {
   "cell_type": "markdown",
   "id": "7b137af6",
   "metadata": {
    "toc": true
   },
   "source": [
    "<h1>ОГЛАВЛЕНИЕ<span class=\"tocSkip\"></span></h1>\n",
    "<div class=\"toc\"><ul class=\"toc-item\"><li><span><a href=\"#Знакомство-с-данными-и-их-предобработка\" data-toc-modified-id=\"Знакомство-с-данными-и-их-предобработка-1\"><span class=\"toc-item-num\">1&nbsp;&nbsp;</span>Знакомство с данными и их предобработка</a></span></li><li><span><a href=\"#Анализ-данных\" data-toc-modified-id=\"Анализ-данных-2\"><span class=\"toc-item-num\">2&nbsp;&nbsp;</span>Анализ данных</a></span><ul class=\"toc-item\"><li><span><a href=\"#Определение-количества-аудитории-теста\" data-toc-modified-id=\"Определение-количества-аудитории-теста-2.1\"><span class=\"toc-item-num\">2.1&nbsp;&nbsp;</span>Определение количества аудитории теста</a></span></li><li><span><a href=\"#Анализ-пользователей-в-тесте-'recommender_system_test'\" data-toc-modified-id=\"Анализ-пользователей-в-тесте-'recommender_system_test'-2.2\"><span class=\"toc-item-num\">2.2&nbsp;&nbsp;</span>Анализ пользователей в тесте 'recommender_system_test'</a></span></li><li><span><a href=\"#Формирование-и-анализ-воронки-событий\" data-toc-modified-id=\"Формирование-и-анализ-воронки-событий-2.3\"><span class=\"toc-item-num\">2.3&nbsp;&nbsp;</span>Формирование и анализ воронки событий</a></span></li></ul></li><li><span><a href=\"#Изучение-результатов-эксперимента\" data-toc-modified-id=\"Изучение-результатов-эксперимента-3\"><span class=\"toc-item-num\">3&nbsp;&nbsp;</span>Изучение результатов эксперимента</a></span></li><li><span><a href=\"#Выводы\" data-toc-modified-id=\"Выводы-4\"><span class=\"toc-item-num\">4&nbsp;&nbsp;</span>Выводы</a></span></li></ul></div>"
   ]
  },
  {
   "cell_type": "markdown",
   "id": "282a0c49",
   "metadata": {},
   "source": [
    "## Знакомство с данными и их предобработка ##"
   ]
  },
  {
   "cell_type": "code",
   "execution_count": 215,
   "id": "1d47d5be",
   "metadata": {},
   "outputs": [],
   "source": [
    "# импорт библиотек\n",
    "\n",
    "import pandas as pd\n",
    "import numpy as np\n",
    "import seaborn as sns\n",
    "from datetime import datetime, timedelta\n",
    "from matplotlib import pyplot as plt\n",
    "import scipy.stats as stats\n",
    "import datetime as dt\n",
    "import math as mth\n",
    "from statsmodels.stats.proportion import proportions_ztest\n",
    "from plotly import graph_objects as go\n",
    "import matplotlib.ticker as mtick"
   ]
  },
  {
   "cell_type": "markdown",
   "id": "9010b866",
   "metadata": {},
   "source": [
    "**Выгрузим данные таблицы 'ab_project_marketing_events' - таблицу с данными о проводимых мероприятиях.**"
   ]
  },
  {
   "cell_type": "code",
   "execution_count": 114,
   "id": "bf4ad762",
   "metadata": {},
   "outputs": [
    {
     "data": {
      "text/html": [
       "<div>\n",
       "<style scoped>\n",
       "    .dataframe tbody tr th:only-of-type {\n",
       "        vertical-align: middle;\n",
       "    }\n",
       "\n",
       "    .dataframe tbody tr th {\n",
       "        vertical-align: top;\n",
       "    }\n",
       "\n",
       "    .dataframe thead th {\n",
       "        text-align: right;\n",
       "    }\n",
       "</style>\n",
       "<table border=\"1\" class=\"dataframe\">\n",
       "  <thead>\n",
       "    <tr style=\"text-align: right;\">\n",
       "      <th></th>\n",
       "      <th>name</th>\n",
       "      <th>regions</th>\n",
       "      <th>start_dt</th>\n",
       "      <th>finish_dt</th>\n",
       "    </tr>\n",
       "  </thead>\n",
       "  <tbody>\n",
       "    <tr>\n",
       "      <th>0</th>\n",
       "      <td>Christmas&amp;New Year Promo</td>\n",
       "      <td>EU, N.America</td>\n",
       "      <td>2020-12-25</td>\n",
       "      <td>2021-01-03</td>\n",
       "    </tr>\n",
       "    <tr>\n",
       "      <th>1</th>\n",
       "      <td>St. Valentine's Day Giveaway</td>\n",
       "      <td>EU, CIS, APAC, N.America</td>\n",
       "      <td>2020-02-14</td>\n",
       "      <td>2020-02-16</td>\n",
       "    </tr>\n",
       "    <tr>\n",
       "      <th>2</th>\n",
       "      <td>St. Patric's Day Promo</td>\n",
       "      <td>EU, N.America</td>\n",
       "      <td>2020-03-17</td>\n",
       "      <td>2020-03-19</td>\n",
       "    </tr>\n",
       "    <tr>\n",
       "      <th>3</th>\n",
       "      <td>Easter Promo</td>\n",
       "      <td>EU, CIS, APAC, N.America</td>\n",
       "      <td>2020-04-12</td>\n",
       "      <td>2020-04-19</td>\n",
       "    </tr>\n",
       "    <tr>\n",
       "      <th>4</th>\n",
       "      <td>4th of July Promo</td>\n",
       "      <td>N.America</td>\n",
       "      <td>2020-07-04</td>\n",
       "      <td>2020-07-11</td>\n",
       "    </tr>\n",
       "    <tr>\n",
       "      <th>5</th>\n",
       "      <td>Black Friday Ads Campaign</td>\n",
       "      <td>EU, CIS, APAC, N.America</td>\n",
       "      <td>2020-11-26</td>\n",
       "      <td>2020-12-01</td>\n",
       "    </tr>\n",
       "    <tr>\n",
       "      <th>6</th>\n",
       "      <td>Chinese New Year Promo</td>\n",
       "      <td>APAC</td>\n",
       "      <td>2020-01-25</td>\n",
       "      <td>2020-02-07</td>\n",
       "    </tr>\n",
       "    <tr>\n",
       "      <th>7</th>\n",
       "      <td>Labor day (May 1st) Ads Campaign</td>\n",
       "      <td>EU, CIS, APAC</td>\n",
       "      <td>2020-05-01</td>\n",
       "      <td>2020-05-03</td>\n",
       "    </tr>\n",
       "    <tr>\n",
       "      <th>8</th>\n",
       "      <td>International Women's Day Promo</td>\n",
       "      <td>EU, CIS, APAC</td>\n",
       "      <td>2020-03-08</td>\n",
       "      <td>2020-03-10</td>\n",
       "    </tr>\n",
       "    <tr>\n",
       "      <th>9</th>\n",
       "      <td>Victory Day CIS (May 9th) Event</td>\n",
       "      <td>CIS</td>\n",
       "      <td>2020-05-09</td>\n",
       "      <td>2020-05-11</td>\n",
       "    </tr>\n",
       "    <tr>\n",
       "      <th>10</th>\n",
       "      <td>CIS New Year Gift Lottery</td>\n",
       "      <td>CIS</td>\n",
       "      <td>2020-12-30</td>\n",
       "      <td>2021-01-07</td>\n",
       "    </tr>\n",
       "    <tr>\n",
       "      <th>11</th>\n",
       "      <td>Dragon Boat Festival Giveaway</td>\n",
       "      <td>APAC</td>\n",
       "      <td>2020-06-25</td>\n",
       "      <td>2020-07-01</td>\n",
       "    </tr>\n",
       "    <tr>\n",
       "      <th>12</th>\n",
       "      <td>Single's Day Gift Promo</td>\n",
       "      <td>APAC</td>\n",
       "      <td>2020-11-11</td>\n",
       "      <td>2020-11-12</td>\n",
       "    </tr>\n",
       "    <tr>\n",
       "      <th>13</th>\n",
       "      <td>Chinese Moon Festival</td>\n",
       "      <td>APAC</td>\n",
       "      <td>2020-10-01</td>\n",
       "      <td>2020-10-07</td>\n",
       "    </tr>\n",
       "  </tbody>\n",
       "</table>\n",
       "</div>"
      ],
      "text/plain": [
       "                                name                   regions    start_dt  \\\n",
       "0           Christmas&New Year Promo             EU, N.America  2020-12-25   \n",
       "1       St. Valentine's Day Giveaway  EU, CIS, APAC, N.America  2020-02-14   \n",
       "2             St. Patric's Day Promo             EU, N.America  2020-03-17   \n",
       "3                       Easter Promo  EU, CIS, APAC, N.America  2020-04-12   \n",
       "4                  4th of July Promo                 N.America  2020-07-04   \n",
       "5          Black Friday Ads Campaign  EU, CIS, APAC, N.America  2020-11-26   \n",
       "6             Chinese New Year Promo                      APAC  2020-01-25   \n",
       "7   Labor day (May 1st) Ads Campaign             EU, CIS, APAC  2020-05-01   \n",
       "8    International Women's Day Promo             EU, CIS, APAC  2020-03-08   \n",
       "9    Victory Day CIS (May 9th) Event                       CIS  2020-05-09   \n",
       "10         CIS New Year Gift Lottery                       CIS  2020-12-30   \n",
       "11     Dragon Boat Festival Giveaway                      APAC  2020-06-25   \n",
       "12           Single's Day Gift Promo                      APAC  2020-11-11   \n",
       "13             Chinese Moon Festival                      APAC  2020-10-01   \n",
       "\n",
       "     finish_dt  \n",
       "0   2021-01-03  \n",
       "1   2020-02-16  \n",
       "2   2020-03-19  \n",
       "3   2020-04-19  \n",
       "4   2020-07-11  \n",
       "5   2020-12-01  \n",
       "6   2020-02-07  \n",
       "7   2020-05-03  \n",
       "8   2020-03-10  \n",
       "9   2020-05-11  \n",
       "10  2021-01-07  \n",
       "11  2020-07-01  \n",
       "12  2020-11-12  \n",
       "13  2020-10-07  "
      ]
     },
     "execution_count": 114,
     "metadata": {},
     "output_type": "execute_result"
    }
   ],
   "source": [
    "# выгрузим календарь маркетинговых событий на 2020 год\n",
    "\n",
    "marketing_events = pd.read_csv(\"C:/Users/User/Desktop/Проекты курса/Проект №4/ab_project_marketing_events.csv\")\n",
    "\n",
    "marketing_events"
   ]
  },
  {
   "cell_type": "markdown",
   "id": "a5e74692",
   "metadata": {},
   "source": [
    "Структура файла:\n",
    "\n",
    "- `name` — название маркетингового события;\n",
    "- `regions` — регионы, в которых будет проводиться рекламная кампания;\n",
    "- `start_dt` — дата начала кампании;\n",
    "- `finish_dt` — дата завершения кампании."
   ]
  },
  {
   "cell_type": "code",
   "execution_count": 115,
   "id": "c88b28ac",
   "metadata": {
    "scrolled": true
   },
   "outputs": [
    {
     "name": "stdout",
     "output_type": "stream",
     "text": [
      "<class 'pandas.core.frame.DataFrame'>\n",
      "RangeIndex: 14 entries, 0 to 13\n",
      "Data columns (total 4 columns):\n",
      " #   Column     Non-Null Count  Dtype \n",
      "---  ------     --------------  ----- \n",
      " 0   name       14 non-null     object\n",
      " 1   regions    14 non-null     object\n",
      " 2   start_dt   14 non-null     object\n",
      " 3   finish_dt  14 non-null     object\n",
      "dtypes: object(4)\n",
      "memory usage: 576.0+ bytes\n"
     ]
    }
   ],
   "source": [
    "# выведем информацию по всему датафрейму\n",
    "\n",
    "marketing_events.info()    "
   ]
  },
  {
   "cell_type": "markdown",
   "id": "35bf0ebb",
   "metadata": {},
   "source": [
    "В данной датафрейме мы видим 4 столбца, 14 строк. Пропусков нет."
   ]
  },
  {
   "cell_type": "code",
   "execution_count": 116,
   "id": "b6cee915",
   "metadata": {},
   "outputs": [],
   "source": [
    "# изменим тип данных у дат\n",
    "\n",
    "marketing_events['start_dt'] = pd.to_datetime(marketing_events['start_dt'])\n",
    "\n",
    "marketing_events['finish_dt'] = pd.to_datetime(marketing_events['finish_dt'])"
   ]
  },
  {
   "cell_type": "code",
   "execution_count": 117,
   "id": "5e0f093a",
   "metadata": {},
   "outputs": [
    {
     "name": "stdout",
     "output_type": "stream",
     "text": [
      "Самая ранняя дата начала мероприятий: 2020-01-25 00:00:00\n",
      "Самая поздняя дата начала мероприятий: 2020-12-30 00:00:00\n"
     ]
    }
   ],
   "source": [
    "# самая ранняя и самая поздняя дата начала мероприятий\n",
    "\n",
    "print(f\"Самая ранняя дата начала мероприятий: {marketing_events['start_dt'].min()}\")\n",
    "print(f\"Самая поздняя дата начала мероприятий: {marketing_events['start_dt'].max()}\")"
   ]
  },
  {
   "cell_type": "code",
   "execution_count": 118,
   "id": "93706a24",
   "metadata": {},
   "outputs": [
    {
     "data": {
      "text/plain": [
       "name                 object\n",
       "regions              object\n",
       "start_dt     datetime64[ns]\n",
       "finish_dt    datetime64[ns]\n",
       "dtype: object"
      ]
     },
     "execution_count": 118,
     "metadata": {},
     "output_type": "execute_result"
    }
   ],
   "source": [
    "# проверим тип данных\n",
    "\n",
    "marketing_events.dtypes"
   ]
  },
  {
   "cell_type": "code",
   "execution_count": 119,
   "id": "9b90ca48",
   "metadata": {},
   "outputs": [
    {
     "data": {
      "text/plain": [
       "0"
      ]
     },
     "execution_count": 119,
     "metadata": {},
     "output_type": "execute_result"
    }
   ],
   "source": [
    "# проверим явные дубликаты\n",
    "\n",
    "marketing_events.duplicated().sum()"
   ]
  },
  {
   "cell_type": "code",
   "execution_count": 120,
   "id": "f8ae4e85",
   "metadata": {},
   "outputs": [
    {
     "data": {
      "text/plain": [
       "array(['EU, N.America', 'EU, CIS, APAC, N.America', 'N.America', 'APAC',\n",
       "       'EU, CIS, APAC', 'CIS'], dtype=object)"
      ]
     },
     "execution_count": 120,
     "metadata": {},
     "output_type": "execute_result"
    }
   ],
   "source": [
    "# проверим неявные дубликаты\n",
    "\n",
    "marketing_events.regions.unique()"
   ]
  },
  {
   "cell_type": "markdown",
   "id": "b8cb559b",
   "metadata": {},
   "source": [
    "Дубликаты отсутствуют в датафрейме."
   ]
  },
  {
   "cell_type": "code",
   "execution_count": 121,
   "id": "8823a5fc",
   "metadata": {},
   "outputs": [
    {
     "data": {
      "text/html": [
       "<div>\n",
       "<style scoped>\n",
       "    .dataframe tbody tr th:only-of-type {\n",
       "        vertical-align: middle;\n",
       "    }\n",
       "\n",
       "    .dataframe tbody tr th {\n",
       "        vertical-align: top;\n",
       "    }\n",
       "\n",
       "    .dataframe thead th {\n",
       "        text-align: right;\n",
       "    }\n",
       "</style>\n",
       "<table border=\"1\" class=\"dataframe\">\n",
       "  <thead>\n",
       "    <tr style=\"text-align: right;\">\n",
       "      <th></th>\n",
       "      <th>name</th>\n",
       "      <th>regions</th>\n",
       "      <th>start_dt</th>\n",
       "      <th>finish_dt</th>\n",
       "    </tr>\n",
       "  </thead>\n",
       "  <tbody>\n",
       "    <tr>\n",
       "      <th>0</th>\n",
       "      <td>Christmas&amp;New Year Promo</td>\n",
       "      <td>EU, N.America</td>\n",
       "      <td>2020-12-25</td>\n",
       "      <td>2021-01-03</td>\n",
       "    </tr>\n",
       "    <tr>\n",
       "      <th>1</th>\n",
       "      <td>St. Valentine's Day Giveaway</td>\n",
       "      <td>EU, CIS, APAC, N.America</td>\n",
       "      <td>2020-02-14</td>\n",
       "      <td>2020-02-16</td>\n",
       "    </tr>\n",
       "    <tr>\n",
       "      <th>2</th>\n",
       "      <td>St. Patric's Day Promo</td>\n",
       "      <td>EU, N.America</td>\n",
       "      <td>2020-03-17</td>\n",
       "      <td>2020-03-19</td>\n",
       "    </tr>\n",
       "    <tr>\n",
       "      <th>3</th>\n",
       "      <td>Easter Promo</td>\n",
       "      <td>EU, CIS, APAC, N.America</td>\n",
       "      <td>2020-04-12</td>\n",
       "      <td>2020-04-19</td>\n",
       "    </tr>\n",
       "    <tr>\n",
       "      <th>4</th>\n",
       "      <td>4th of July Promo</td>\n",
       "      <td>N.America</td>\n",
       "      <td>2020-07-04</td>\n",
       "      <td>2020-07-11</td>\n",
       "    </tr>\n",
       "    <tr>\n",
       "      <th>5</th>\n",
       "      <td>Black Friday Ads Campaign</td>\n",
       "      <td>EU, CIS, APAC, N.America</td>\n",
       "      <td>2020-11-26</td>\n",
       "      <td>2020-12-01</td>\n",
       "    </tr>\n",
       "    <tr>\n",
       "      <th>6</th>\n",
       "      <td>Chinese New Year Promo</td>\n",
       "      <td>APAC</td>\n",
       "      <td>2020-01-25</td>\n",
       "      <td>2020-02-07</td>\n",
       "    </tr>\n",
       "    <tr>\n",
       "      <th>7</th>\n",
       "      <td>Labor day (May 1st) Ads Campaign</td>\n",
       "      <td>EU, CIS, APAC</td>\n",
       "      <td>2020-05-01</td>\n",
       "      <td>2020-05-03</td>\n",
       "    </tr>\n",
       "    <tr>\n",
       "      <th>8</th>\n",
       "      <td>International Women's Day Promo</td>\n",
       "      <td>EU, CIS, APAC</td>\n",
       "      <td>2020-03-08</td>\n",
       "      <td>2020-03-10</td>\n",
       "    </tr>\n",
       "    <tr>\n",
       "      <th>9</th>\n",
       "      <td>Victory Day CIS (May 9th) Event</td>\n",
       "      <td>CIS</td>\n",
       "      <td>2020-05-09</td>\n",
       "      <td>2020-05-11</td>\n",
       "    </tr>\n",
       "    <tr>\n",
       "      <th>10</th>\n",
       "      <td>CIS New Year Gift Lottery</td>\n",
       "      <td>CIS</td>\n",
       "      <td>2020-12-30</td>\n",
       "      <td>2021-01-07</td>\n",
       "    </tr>\n",
       "    <tr>\n",
       "      <th>11</th>\n",
       "      <td>Dragon Boat Festival Giveaway</td>\n",
       "      <td>APAC</td>\n",
       "      <td>2020-06-25</td>\n",
       "      <td>2020-07-01</td>\n",
       "    </tr>\n",
       "    <tr>\n",
       "      <th>12</th>\n",
       "      <td>Single's Day Gift Promo</td>\n",
       "      <td>APAC</td>\n",
       "      <td>2020-11-11</td>\n",
       "      <td>2020-11-12</td>\n",
       "    </tr>\n",
       "    <tr>\n",
       "      <th>13</th>\n",
       "      <td>Chinese Moon Festival</td>\n",
       "      <td>APAC</td>\n",
       "      <td>2020-10-01</td>\n",
       "      <td>2020-10-07</td>\n",
       "    </tr>\n",
       "  </tbody>\n",
       "</table>\n",
       "</div>"
      ],
      "text/plain": [
       "                                name                   regions   start_dt  \\\n",
       "0           Christmas&New Year Promo             EU, N.America 2020-12-25   \n",
       "1       St. Valentine's Day Giveaway  EU, CIS, APAC, N.America 2020-02-14   \n",
       "2             St. Patric's Day Promo             EU, N.America 2020-03-17   \n",
       "3                       Easter Promo  EU, CIS, APAC, N.America 2020-04-12   \n",
       "4                  4th of July Promo                 N.America 2020-07-04   \n",
       "5          Black Friday Ads Campaign  EU, CIS, APAC, N.America 2020-11-26   \n",
       "6             Chinese New Year Promo                      APAC 2020-01-25   \n",
       "7   Labor day (May 1st) Ads Campaign             EU, CIS, APAC 2020-05-01   \n",
       "8    International Women's Day Promo             EU, CIS, APAC 2020-03-08   \n",
       "9    Victory Day CIS (May 9th) Event                       CIS 2020-05-09   \n",
       "10         CIS New Year Gift Lottery                       CIS 2020-12-30   \n",
       "11     Dragon Boat Festival Giveaway                      APAC 2020-06-25   \n",
       "12           Single's Day Gift Promo                      APAC 2020-11-11   \n",
       "13             Chinese Moon Festival                      APAC 2020-10-01   \n",
       "\n",
       "    finish_dt  \n",
       "0  2021-01-03  \n",
       "1  2020-02-16  \n",
       "2  2020-03-19  \n",
       "3  2020-04-19  \n",
       "4  2020-07-11  \n",
       "5  2020-12-01  \n",
       "6  2020-02-07  \n",
       "7  2020-05-03  \n",
       "8  2020-03-10  \n",
       "9  2020-05-11  \n",
       "10 2021-01-07  \n",
       "11 2020-07-01  \n",
       "12 2020-11-12  \n",
       "13 2020-10-07  "
      ]
     },
     "execution_count": 121,
     "metadata": {},
     "output_type": "execute_result"
    }
   ],
   "source": [
    "# выведем таблицу\n",
    "\n",
    "marketing_events"
   ]
  },
  {
   "cell_type": "markdown",
   "id": "cc175534",
   "metadata": {},
   "source": [
    "**Выгрузим данные таблицы 'final_ab_new_users' - данные о новых пользователях.**"
   ]
  },
  {
   "cell_type": "code",
   "execution_count": 122,
   "id": "54b839e9",
   "metadata": {},
   "outputs": [
    {
     "data": {
      "text/html": [
       "<div>\n",
       "<style scoped>\n",
       "    .dataframe tbody tr th:only-of-type {\n",
       "        vertical-align: middle;\n",
       "    }\n",
       "\n",
       "    .dataframe tbody tr th {\n",
       "        vertical-align: top;\n",
       "    }\n",
       "\n",
       "    .dataframe thead th {\n",
       "        text-align: right;\n",
       "    }\n",
       "</style>\n",
       "<table border=\"1\" class=\"dataframe\">\n",
       "  <thead>\n",
       "    <tr style=\"text-align: right;\">\n",
       "      <th></th>\n",
       "      <th>user_id</th>\n",
       "      <th>first_date</th>\n",
       "      <th>region</th>\n",
       "      <th>device</th>\n",
       "    </tr>\n",
       "  </thead>\n",
       "  <tbody>\n",
       "    <tr>\n",
       "      <th>0</th>\n",
       "      <td>D72A72121175D8BE</td>\n",
       "      <td>2020-12-07</td>\n",
       "      <td>EU</td>\n",
       "      <td>PC</td>\n",
       "    </tr>\n",
       "    <tr>\n",
       "      <th>1</th>\n",
       "      <td>F1C668619DFE6E65</td>\n",
       "      <td>2020-12-07</td>\n",
       "      <td>N.America</td>\n",
       "      <td>Android</td>\n",
       "    </tr>\n",
       "    <tr>\n",
       "      <th>2</th>\n",
       "      <td>2E1BF1D4C37EA01F</td>\n",
       "      <td>2020-12-07</td>\n",
       "      <td>EU</td>\n",
       "      <td>PC</td>\n",
       "    </tr>\n",
       "    <tr>\n",
       "      <th>3</th>\n",
       "      <td>50734A22C0C63768</td>\n",
       "      <td>2020-12-07</td>\n",
       "      <td>EU</td>\n",
       "      <td>iPhone</td>\n",
       "    </tr>\n",
       "    <tr>\n",
       "      <th>4</th>\n",
       "      <td>E1BDDCE0DAFA2679</td>\n",
       "      <td>2020-12-07</td>\n",
       "      <td>N.America</td>\n",
       "      <td>iPhone</td>\n",
       "    </tr>\n",
       "  </tbody>\n",
       "</table>\n",
       "</div>"
      ],
      "text/plain": [
       "            user_id  first_date     region   device\n",
       "0  D72A72121175D8BE  2020-12-07         EU       PC\n",
       "1  F1C668619DFE6E65  2020-12-07  N.America  Android\n",
       "2  2E1BF1D4C37EA01F  2020-12-07         EU       PC\n",
       "3  50734A22C0C63768  2020-12-07         EU   iPhone\n",
       "4  E1BDDCE0DAFA2679  2020-12-07  N.America   iPhone"
      ]
     },
     "execution_count": 122,
     "metadata": {},
     "output_type": "execute_result"
    }
   ],
   "source": [
    "# пользователи, зарегистрировавшиеся с 7 по 23 декабря 2020 года\n",
    "\n",
    "registered_users = pd.read_csv('C:/Users/User/Desktop/Проекты курса/Проект №4/final_ab_new_users.csv')\n",
    "\n",
    "registered_users.head()"
   ]
  },
  {
   "cell_type": "markdown",
   "id": "3e88615b",
   "metadata": {},
   "source": [
    "Структура файла:\n",
    "\n",
    "- `user_id` — идентификатор пользователя;\n",
    "- `first_date` — дата регистрации;\n",
    "- `region` — регион пользователя;\n",
    "- `device` — устройство, с которого происходила регистрация."
   ]
  },
  {
   "cell_type": "code",
   "execution_count": 123,
   "id": "79652990",
   "metadata": {},
   "outputs": [
    {
     "name": "stdout",
     "output_type": "stream",
     "text": [
      "<class 'pandas.core.frame.DataFrame'>\n",
      "RangeIndex: 61733 entries, 0 to 61732\n",
      "Data columns (total 4 columns):\n",
      " #   Column      Non-Null Count  Dtype \n",
      "---  ------      --------------  ----- \n",
      " 0   user_id     61733 non-null  object\n",
      " 1   first_date  61733 non-null  object\n",
      " 2   region      61733 non-null  object\n",
      " 3   device      61733 non-null  object\n",
      "dtypes: object(4)\n",
      "memory usage: 1.9+ MB\n"
     ]
    }
   ],
   "source": [
    "# отразим общую информацию о датафрейме\n",
    "\n",
    "registered_users.info()"
   ]
  },
  {
   "cell_type": "markdown",
   "id": "b1eee75f",
   "metadata": {},
   "source": [
    "В датафрейме 4 столбца, 61733 строк. Пропусков нет."
   ]
  },
  {
   "cell_type": "code",
   "execution_count": 124,
   "id": "5ef28526",
   "metadata": {},
   "outputs": [],
   "source": [
    "# изменим тип данных в столбце с датами\n",
    "\n",
    "registered_users['first_date'] = registered_users['first_date'].astype('datetime64[D]')\n"
   ]
  },
  {
   "cell_type": "code",
   "execution_count": 125,
   "id": "f9c2ea23",
   "metadata": {},
   "outputs": [
    {
     "data": {
      "text/plain": [
       "user_id               object\n",
       "first_date    datetime64[ns]\n",
       "region                object\n",
       "device                object\n",
       "dtype: object"
      ]
     },
     "execution_count": 125,
     "metadata": {},
     "output_type": "execute_result"
    }
   ],
   "source": [
    "# проверим еще раз типы данных\n",
    "\n",
    "registered_users.dtypes"
   ]
  },
  {
   "cell_type": "code",
   "execution_count": 126,
   "id": "b6dd2826",
   "metadata": {},
   "outputs": [
    {
     "name": "stdout",
     "output_type": "stream",
     "text": [
      " Самая ранняя дата регистраций: 2020-12-07 00:00:00\n",
      " Самая поздняя дата регистраций: 2020-12-23 00:00:00\n"
     ]
    }
   ],
   "source": [
    "# определим диапазон дат в датафрейме\n",
    "\n",
    "\n",
    "print(f\" Самая ранняя дата регистраций: {registered_users.first_date.min()}\")\n",
    "\n",
    "print(f\" Самая поздняя дата регистраций: {registered_users.first_date.max()}\")"
   ]
  },
  {
   "cell_type": "markdown",
   "id": "e2a0ddf6",
   "metadata": {},
   "source": [
    "Новые пользователи регистрировались с 07.12.20 по 23.12.20."
   ]
  },
  {
   "cell_type": "code",
   "execution_count": 127,
   "id": "a9990984",
   "metadata": {},
   "outputs": [
    {
     "data": {
      "text/plain": [
       "array(['EU', 'N.America', 'APAC', 'CIS'], dtype=object)"
      ]
     },
     "execution_count": 127,
     "metadata": {},
     "output_type": "execute_result"
    }
   ],
   "source": [
    "# проверим на неявные дубликаты столбец с регионами\n",
    "\n",
    "registered_users.region.unique()"
   ]
  },
  {
   "cell_type": "code",
   "execution_count": 128,
   "id": "8156e6f5",
   "metadata": {},
   "outputs": [
    {
     "data": {
      "text/plain": [
       "array(['PC', 'Android', 'iPhone', 'Mac'], dtype=object)"
      ]
     },
     "execution_count": 128,
     "metadata": {},
     "output_type": "execute_result"
    }
   ],
   "source": [
    "# проверим на неявные дубликаты столбец с названием устройств\n",
    "\n",
    "registered_users.device.unique()"
   ]
  },
  {
   "cell_type": "code",
   "execution_count": 129,
   "id": "8188ecff",
   "metadata": {},
   "outputs": [
    {
     "data": {
      "text/plain": [
       "0"
      ]
     },
     "execution_count": 129,
     "metadata": {},
     "output_type": "execute_result"
    }
   ],
   "source": [
    "# проверим явные дубликаты\n",
    "\n",
    "registered_users.duplicated().sum()"
   ]
  },
  {
   "cell_type": "markdown",
   "id": "041111f7",
   "metadata": {},
   "source": [
    "Явных и неявных дубликатов в датафрейме нет."
   ]
  },
  {
   "cell_type": "code",
   "execution_count": 130,
   "id": "d6b0681c",
   "metadata": {},
   "outputs": [
    {
     "data": {
      "text/plain": [
       "61733"
      ]
     },
     "execution_count": 130,
     "metadata": {},
     "output_type": "execute_result"
    }
   ],
   "source": [
    "# количество уникальных пользователей\n",
    "\n",
    "registered_users['user_id'].nunique()"
   ]
  },
  {
   "cell_type": "code",
   "execution_count": 131,
   "id": "7d00eda6",
   "metadata": {},
   "outputs": [
    {
     "data": {
      "text/html": [
       "<div>\n",
       "<style scoped>\n",
       "    .dataframe tbody tr th:only-of-type {\n",
       "        vertical-align: middle;\n",
       "    }\n",
       "\n",
       "    .dataframe tbody tr th {\n",
       "        vertical-align: top;\n",
       "    }\n",
       "\n",
       "    .dataframe thead th {\n",
       "        text-align: right;\n",
       "    }\n",
       "</style>\n",
       "<table border=\"1\" class=\"dataframe\">\n",
       "  <thead>\n",
       "    <tr style=\"text-align: right;\">\n",
       "      <th></th>\n",
       "      <th>user_id</th>\n",
       "      <th>first_date</th>\n",
       "      <th>region</th>\n",
       "      <th>device</th>\n",
       "    </tr>\n",
       "  </thead>\n",
       "  <tbody>\n",
       "    <tr>\n",
       "      <th>0</th>\n",
       "      <td>D72A72121175D8BE</td>\n",
       "      <td>2020-12-07</td>\n",
       "      <td>EU</td>\n",
       "      <td>PC</td>\n",
       "    </tr>\n",
       "    <tr>\n",
       "      <th>1</th>\n",
       "      <td>F1C668619DFE6E65</td>\n",
       "      <td>2020-12-07</td>\n",
       "      <td>N.America</td>\n",
       "      <td>Android</td>\n",
       "    </tr>\n",
       "    <tr>\n",
       "      <th>2</th>\n",
       "      <td>2E1BF1D4C37EA01F</td>\n",
       "      <td>2020-12-07</td>\n",
       "      <td>EU</td>\n",
       "      <td>PC</td>\n",
       "    </tr>\n",
       "    <tr>\n",
       "      <th>3</th>\n",
       "      <td>50734A22C0C63768</td>\n",
       "      <td>2020-12-07</td>\n",
       "      <td>EU</td>\n",
       "      <td>iPhone</td>\n",
       "    </tr>\n",
       "    <tr>\n",
       "      <th>4</th>\n",
       "      <td>E1BDDCE0DAFA2679</td>\n",
       "      <td>2020-12-07</td>\n",
       "      <td>N.America</td>\n",
       "      <td>iPhone</td>\n",
       "    </tr>\n",
       "  </tbody>\n",
       "</table>\n",
       "</div>"
      ],
      "text/plain": [
       "            user_id first_date     region   device\n",
       "0  D72A72121175D8BE 2020-12-07         EU       PC\n",
       "1  F1C668619DFE6E65 2020-12-07  N.America  Android\n",
       "2  2E1BF1D4C37EA01F 2020-12-07         EU       PC\n",
       "3  50734A22C0C63768 2020-12-07         EU   iPhone\n",
       "4  E1BDDCE0DAFA2679 2020-12-07  N.America   iPhone"
      ]
     },
     "execution_count": 131,
     "metadata": {},
     "output_type": "execute_result"
    }
   ],
   "source": [
    "# выведем первые 5 строк\n",
    "\n",
    "registered_users.head()"
   ]
  },
  {
   "cell_type": "markdown",
   "id": "29b9fb3e",
   "metadata": {},
   "source": [
    "**Выгрузим данные таблицы 'final_ab_events' - данные о действиях пользователей.**"
   ]
  },
  {
   "cell_type": "code",
   "execution_count": 132,
   "id": "68a72d0e",
   "metadata": {},
   "outputs": [
    {
     "data": {
      "text/html": [
       "<div>\n",
       "<style scoped>\n",
       "    .dataframe tbody tr th:only-of-type {\n",
       "        vertical-align: middle;\n",
       "    }\n",
       "\n",
       "    .dataframe tbody tr th {\n",
       "        vertical-align: top;\n",
       "    }\n",
       "\n",
       "    .dataframe thead th {\n",
       "        text-align: right;\n",
       "    }\n",
       "</style>\n",
       "<table border=\"1\" class=\"dataframe\">\n",
       "  <thead>\n",
       "    <tr style=\"text-align: right;\">\n",
       "      <th></th>\n",
       "      <th>user_id</th>\n",
       "      <th>event_dt</th>\n",
       "      <th>event_name</th>\n",
       "      <th>details</th>\n",
       "    </tr>\n",
       "  </thead>\n",
       "  <tbody>\n",
       "    <tr>\n",
       "      <th>0</th>\n",
       "      <td>E1BDDCE0DAFA2679</td>\n",
       "      <td>2020-12-07 20:22:03</td>\n",
       "      <td>purchase</td>\n",
       "      <td>99.99</td>\n",
       "    </tr>\n",
       "    <tr>\n",
       "      <th>1</th>\n",
       "      <td>7B6452F081F49504</td>\n",
       "      <td>2020-12-07 09:22:53</td>\n",
       "      <td>purchase</td>\n",
       "      <td>9.99</td>\n",
       "    </tr>\n",
       "    <tr>\n",
       "      <th>2</th>\n",
       "      <td>9CD9F34546DF254C</td>\n",
       "      <td>2020-12-07 12:59:29</td>\n",
       "      <td>purchase</td>\n",
       "      <td>4.99</td>\n",
       "    </tr>\n",
       "    <tr>\n",
       "      <th>3</th>\n",
       "      <td>96F27A054B191457</td>\n",
       "      <td>2020-12-07 04:02:40</td>\n",
       "      <td>purchase</td>\n",
       "      <td>4.99</td>\n",
       "    </tr>\n",
       "    <tr>\n",
       "      <th>4</th>\n",
       "      <td>1FD7660FDF94CA1F</td>\n",
       "      <td>2020-12-07 10:15:09</td>\n",
       "      <td>purchase</td>\n",
       "      <td>4.99</td>\n",
       "    </tr>\n",
       "  </tbody>\n",
       "</table>\n",
       "</div>"
      ],
      "text/plain": [
       "            user_id             event_dt event_name  details\n",
       "0  E1BDDCE0DAFA2679  2020-12-07 20:22:03   purchase    99.99\n",
       "1  7B6452F081F49504  2020-12-07 09:22:53   purchase     9.99\n",
       "2  9CD9F34546DF254C  2020-12-07 12:59:29   purchase     4.99\n",
       "3  96F27A054B191457  2020-12-07 04:02:40   purchase     4.99\n",
       "4  1FD7660FDF94CA1F  2020-12-07 10:15:09   purchase     4.99"
      ]
     },
     "execution_count": 132,
     "metadata": {},
     "output_type": "execute_result"
    }
   ],
   "source": [
    "# действия пользователей в период с 7 декабря 2020 по 30 декабря 2020 года.\n",
    "\n",
    "action_users = pd.read_csv('C:/Users/User/Desktop/Проекты курса/Проект №4/final_ab_events.csv')\n",
    "\n",
    "action_users.head()"
   ]
  },
  {
   "cell_type": "code",
   "execution_count": 133,
   "id": "b5927cec",
   "metadata": {},
   "outputs": [
    {
     "name": "stdout",
     "output_type": "stream",
     "text": [
      "<class 'pandas.core.frame.DataFrame'>\n",
      "RangeIndex: 440317 entries, 0 to 440316\n",
      "Data columns (total 4 columns):\n",
      " #   Column      Non-Null Count   Dtype  \n",
      "---  ------      --------------   -----  \n",
      " 0   user_id     440317 non-null  object \n",
      " 1   event_dt    440317 non-null  object \n",
      " 2   event_name  440317 non-null  object \n",
      " 3   details     62740 non-null   float64\n",
      "dtypes: float64(1), object(3)\n",
      "memory usage: 13.4+ MB\n"
     ]
    }
   ],
   "source": [
    "# отразим информацию по всему датафрейму\n",
    "\n",
    "action_users.info()"
   ]
  },
  {
   "cell_type": "markdown",
   "id": "05b0c652",
   "metadata": {},
   "source": [
    "Структура файла:\n",
    "\n",
    "- `user_id` — идентификатор пользователя;\n",
    "- `event_dt` — дата и время покупки;\n",
    "- `event_name` — тип события;\n",
    "- `details` — дополнительные данные о событии. Например, для покупок, `purchase,` в этом поле хранится стоимость покупки в долларах."
   ]
  },
  {
   "cell_type": "markdown",
   "id": "9f9aa3e4",
   "metadata": {},
   "source": [
    "В датафрейме 4 столбца, 440317 строк. Пропуски имеются в столбце 'details'."
   ]
  },
  {
   "cell_type": "code",
   "execution_count": 134,
   "id": "89ed7715",
   "metadata": {},
   "outputs": [
    {
     "data": {
      "text/plain": [
       "0        2020-12-07\n",
       "1        2020-12-07\n",
       "2        2020-12-07\n",
       "3        2020-12-07\n",
       "4        2020-12-07\n",
       "            ...    \n",
       "440312   2020-12-30\n",
       "440313   2020-12-30\n",
       "440314   2020-12-30\n",
       "440315   2020-12-30\n",
       "440316   2020-12-30\n",
       "Name: event_dt, Length: 440317, dtype: datetime64[ns]"
      ]
     },
     "execution_count": 134,
     "metadata": {},
     "output_type": "execute_result"
    }
   ],
   "source": [
    "# изменим тип данных в столбце с датой и временем\n",
    "\n",
    "action_users['event_dt_with_time'] = action_users['event_dt']\n",
    "action_users['event_dt'] = action_users['event_dt'].astype('datetime64[D]')\n",
    "action_users['event_dt']"
   ]
  },
  {
   "cell_type": "code",
   "execution_count": 135,
   "id": "969abd6b",
   "metadata": {},
   "outputs": [
    {
     "name": "stdout",
     "output_type": "stream",
     "text": [
      " Самая ранняя дата регистраций: 2020-12-07 00:00:00\n",
      " Самая поздняя дата регистраций: 2020-12-30 00:00:00\n"
     ]
    }
   ],
   "source": [
    "# определим диапазон дат в датафрейме\n",
    "\n",
    "\n",
    "print(f\" Самая ранняя дата регистраций: {action_users.event_dt.min()}\")\n",
    "\n",
    "print(f\" Самая поздняя дата регистраций: {action_users.event_dt.max()}\")"
   ]
  },
  {
   "cell_type": "markdown",
   "id": "a1e33586",
   "metadata": {},
   "source": [
    "Действия пользователей совершались с 07.12.20 по 30.12.20."
   ]
  },
  {
   "cell_type": "code",
   "execution_count": 136,
   "id": "f3e9132b",
   "metadata": {},
   "outputs": [
    {
     "data": {
      "text/plain": [
       "user_id                       object\n",
       "event_dt              datetime64[ns]\n",
       "event_name                    object\n",
       "details                      float64\n",
       "event_dt_with_time            object\n",
       "dtype: object"
      ]
     },
     "execution_count": 136,
     "metadata": {},
     "output_type": "execute_result"
    }
   ],
   "source": [
    "# проверим тип данных\n",
    "\n",
    "action_users.dtypes"
   ]
  },
  {
   "cell_type": "code",
   "execution_count": 137,
   "id": "2aa57934",
   "metadata": {},
   "outputs": [
    {
     "data": {
      "text/plain": [
       "0"
      ]
     },
     "execution_count": 137,
     "metadata": {},
     "output_type": "execute_result"
    }
   ],
   "source": [
    "# проверим на наличие явных дубликатов\n",
    "\n",
    "action_users.duplicated().sum()"
   ]
  },
  {
   "cell_type": "code",
   "execution_count": 138,
   "id": "88873d9b",
   "metadata": {},
   "outputs": [
    {
     "data": {
      "text/plain": [
       "0"
      ]
     },
     "execution_count": 138,
     "metadata": {},
     "output_type": "execute_result"
    }
   ],
   "source": [
    "# удалим дубликаты\n",
    "\n",
    "action_users = action_users.drop_duplicates()\n",
    "\n",
    "action_users.duplicated().sum()"
   ]
  },
  {
   "cell_type": "code",
   "execution_count": 139,
   "id": "5e936618",
   "metadata": {},
   "outputs": [
    {
     "data": {
      "text/plain": [
       "array(['purchase', 'product_cart', 'product_page', 'login'], dtype=object)"
      ]
     },
     "execution_count": 139,
     "metadata": {},
     "output_type": "execute_result"
    }
   ],
   "source": [
    "# проверим на наличие неявных дубликатов\n",
    "\n",
    "action_users.event_name.unique()"
   ]
  },
  {
   "cell_type": "code",
   "execution_count": 140,
   "id": "f08cd898",
   "metadata": {},
   "outputs": [
    {
     "data": {
      "text/plain": [
       "user_id                    0\n",
       "event_dt                   0\n",
       "event_name                 0\n",
       "details               377577\n",
       "event_dt_with_time         0\n",
       "dtype: int64"
      ]
     },
     "execution_count": 140,
     "metadata": {},
     "output_type": "execute_result"
    }
   ],
   "source": [
    "# посчитаем пропуски в столбце 'details'\n",
    "\n",
    "action_users.isna().sum()"
   ]
  },
  {
   "cell_type": "markdown",
   "id": "d8c8e99c",
   "metadata": {},
   "source": [
    "85,8 % пропусков содержит столбец 'details'."
   ]
  },
  {
   "cell_type": "code",
   "execution_count": 141,
   "id": "3a44931e",
   "metadata": {},
   "outputs": [
    {
     "data": {
      "text/plain": [
       "array(['product_cart', 'product_page', 'login'], dtype=object)"
      ]
     },
     "execution_count": 141,
     "metadata": {},
     "output_type": "execute_result"
    }
   ],
   "source": [
    "# проверим, какие события имеют пропуски в столбце 'details'\n",
    "\n",
    "action_users[action_users['details'].isna()]['event_name'].unique()"
   ]
  },
  {
   "cell_type": "markdown",
   "id": "2d48ab18",
   "metadata": {},
   "source": [
    "Пропуски есть только в тех столбцах, которые не связаны с покупкой. В столбце 'purchase' как раз отображется информация о покупке, в том числе о сумме. Поэтому пропуски можно заменить на заглушки."
   ]
  },
  {
   "cell_type": "code",
   "execution_count": 142,
   "id": "f115f2ed",
   "metadata": {},
   "outputs": [
    {
     "data": {
      "text/plain": [
       "user_id               0\n",
       "event_dt              0\n",
       "event_name            0\n",
       "details               0\n",
       "event_dt_with_time    0\n",
       "dtype: int64"
      ]
     },
     "execution_count": 142,
     "metadata": {},
     "output_type": "execute_result"
    }
   ],
   "source": [
    "# заменим пропуски\n",
    "\n",
    "action_users['details'] = action_users['details'].fillna(0)\n",
    "\n",
    "# проверим пропуски\n",
    "\n",
    "action_users.isna().sum()"
   ]
  },
  {
   "cell_type": "code",
   "execution_count": 143,
   "id": "b18c8831",
   "metadata": {},
   "outputs": [
    {
     "data": {
      "image/png": "[encoded data removed]",
      "text/plain": [
       "<Figure size 432x288 with 1 Axes>"
      ]
     },
     "metadata": {
      "needs_background": "light"
     },
     "output_type": "display_data"
    }
   ],
   "source": [
    "# построение гистограммы для отражения распределения данных по столбцу 'details'\n",
    "\n",
    "\n",
    "action_users.query('event_name == \"purchase\"')['details'].hist(bins=15);"
   ]
  },
  {
   "cell_type": "code",
   "execution_count": 144,
   "id": "5121f563",
   "metadata": {},
   "outputs": [
    {
     "data": {
      "text/plain": [
       "count    62740.000000\n",
       "mean        23.877631\n",
       "std         72.180465\n",
       "min          4.990000\n",
       "25%          4.990000\n",
       "50%          4.990000\n",
       "75%          9.990000\n",
       "max        499.990000\n",
       "Name: details, dtype: float64"
      ]
     },
     "execution_count": 144,
     "metadata": {},
     "output_type": "execute_result"
    }
   ],
   "source": [
    "# с помощью описательной статистики опишем данные в столбце 'details'\n",
    "\n",
    "action_users.query('event_name == \"purchase\"')['details'].describe()"
   ]
  },
  {
   "cell_type": "markdown",
   "id": "fea22a07",
   "metadata": {},
   "source": [
    "В основном пользователи делали заказы на сумму от 4,99 до 9,99 у.е."
   ]
  },
  {
   "cell_type": "code",
   "execution_count": 145,
   "id": "e31184bf",
   "metadata": {},
   "outputs": [
    {
     "data": {
      "text/plain": [
       "58703"
      ]
     },
     "execution_count": 145,
     "metadata": {},
     "output_type": "execute_result"
    }
   ],
   "source": [
    "# количество уникальных пользователей\n",
    "\n",
    "action_users['user_id'].nunique()"
   ]
  },
  {
   "cell_type": "markdown",
   "id": "646dbe86",
   "metadata": {},
   "source": [
    "В данном датафрейме 58703 уникальных пользователей."
   ]
  },
  {
   "cell_type": "markdown",
   "id": "bb9e3faf",
   "metadata": {},
   "source": [
    "**Выгрузим данные таблицы 'final_ab_participants' - данные об участниках тестов.**"
   ]
  },
  {
   "cell_type": "code",
   "execution_count": 146,
   "id": "9aab7d00",
   "metadata": {},
   "outputs": [
    {
     "data": {
      "text/html": [
       "<div>\n",
       "<style scoped>\n",
       "    .dataframe tbody tr th:only-of-type {\n",
       "        vertical-align: middle;\n",
       "    }\n",
       "\n",
       "    .dataframe tbody tr th {\n",
       "        vertical-align: top;\n",
       "    }\n",
       "\n",
       "    .dataframe thead th {\n",
       "        text-align: right;\n",
       "    }\n",
       "</style>\n",
       "<table border=\"1\" class=\"dataframe\">\n",
       "  <thead>\n",
       "    <tr style=\"text-align: right;\">\n",
       "      <th></th>\n",
       "      <th>user_id</th>\n",
       "      <th>group</th>\n",
       "      <th>ab_test</th>\n",
       "    </tr>\n",
       "  </thead>\n",
       "  <tbody>\n",
       "    <tr>\n",
       "      <th>0</th>\n",
       "      <td>D1ABA3E2887B6A73</td>\n",
       "      <td>A</td>\n",
       "      <td>recommender_system_test</td>\n",
       "    </tr>\n",
       "    <tr>\n",
       "      <th>1</th>\n",
       "      <td>A7A3664BD6242119</td>\n",
       "      <td>A</td>\n",
       "      <td>recommender_system_test</td>\n",
       "    </tr>\n",
       "    <tr>\n",
       "      <th>2</th>\n",
       "      <td>DABC14FDDFADD29E</td>\n",
       "      <td>A</td>\n",
       "      <td>recommender_system_test</td>\n",
       "    </tr>\n",
       "    <tr>\n",
       "      <th>3</th>\n",
       "      <td>04988C5DF189632E</td>\n",
       "      <td>A</td>\n",
       "      <td>recommender_system_test</td>\n",
       "    </tr>\n",
       "    <tr>\n",
       "      <th>4</th>\n",
       "      <td>482F14783456D21B</td>\n",
       "      <td>B</td>\n",
       "      <td>recommender_system_test</td>\n",
       "    </tr>\n",
       "    <tr>\n",
       "      <th>...</th>\n",
       "      <td>...</td>\n",
       "      <td>...</td>\n",
       "      <td>...</td>\n",
       "    </tr>\n",
       "    <tr>\n",
       "      <th>18263</th>\n",
       "      <td>1D302F8688B91781</td>\n",
       "      <td>B</td>\n",
       "      <td>interface_eu_test</td>\n",
       "    </tr>\n",
       "    <tr>\n",
       "      <th>18264</th>\n",
       "      <td>3DE51B726983B657</td>\n",
       "      <td>A</td>\n",
       "      <td>interface_eu_test</td>\n",
       "    </tr>\n",
       "    <tr>\n",
       "      <th>18265</th>\n",
       "      <td>F501F79D332BE86C</td>\n",
       "      <td>A</td>\n",
       "      <td>interface_eu_test</td>\n",
       "    </tr>\n",
       "    <tr>\n",
       "      <th>18266</th>\n",
       "      <td>63FBE257B05F2245</td>\n",
       "      <td>A</td>\n",
       "      <td>interface_eu_test</td>\n",
       "    </tr>\n",
       "    <tr>\n",
       "      <th>18267</th>\n",
       "      <td>79F9ABFB029CF724</td>\n",
       "      <td>B</td>\n",
       "      <td>interface_eu_test</td>\n",
       "    </tr>\n",
       "  </tbody>\n",
       "</table>\n",
       "<p>18268 rows × 3 columns</p>\n",
       "</div>"
      ],
      "text/plain": [
       "                user_id group                  ab_test\n",
       "0      D1ABA3E2887B6A73     A  recommender_system_test\n",
       "1      A7A3664BD6242119     A  recommender_system_test\n",
       "2      DABC14FDDFADD29E     A  recommender_system_test\n",
       "3      04988C5DF189632E     A  recommender_system_test\n",
       "4      482F14783456D21B     B  recommender_system_test\n",
       "...                 ...   ...                      ...\n",
       "18263  1D302F8688B91781     B        interface_eu_test\n",
       "18264  3DE51B726983B657     A        interface_eu_test\n",
       "18265  F501F79D332BE86C     A        interface_eu_test\n",
       "18266  63FBE257B05F2245     A        interface_eu_test\n",
       "18267  79F9ABFB029CF724     B        interface_eu_test\n",
       "\n",
       "[18268 rows x 3 columns]"
      ]
     },
     "execution_count": 146,
     "metadata": {},
     "output_type": "execute_result"
    }
   ],
   "source": [
    "# таблица участников тестов\n",
    "\n",
    "test_users = pd.read_csv('C:/Users/User/Desktop/Проекты курса/Проект №4/final_ab_participants.csv')\n",
    "\n",
    "test_users"
   ]
  },
  {
   "cell_type": "markdown",
   "id": "d3c22b68",
   "metadata": {},
   "source": [
    "Структура файла:\n",
    "\n",
    "- `user_id` — идентификатор пользователя;\n",
    "- `ab_test` — название теста;\n",
    "- `group` — группа пользователя."
   ]
  },
  {
   "cell_type": "code",
   "execution_count": 147,
   "id": "db59baa1",
   "metadata": {},
   "outputs": [
    {
     "name": "stdout",
     "output_type": "stream",
     "text": [
      "<class 'pandas.core.frame.DataFrame'>\n",
      "RangeIndex: 18268 entries, 0 to 18267\n",
      "Data columns (total 3 columns):\n",
      " #   Column   Non-Null Count  Dtype \n",
      "---  ------   --------------  ----- \n",
      " 0   user_id  18268 non-null  object\n",
      " 1   group    18268 non-null  object\n",
      " 2   ab_test  18268 non-null  object\n",
      "dtypes: object(3)\n",
      "memory usage: 428.3+ KB\n"
     ]
    }
   ],
   "source": [
    "# выведим общую информацию о датафрейме\n",
    "\n",
    "test_users.info()"
   ]
  },
  {
   "cell_type": "markdown",
   "id": "2f657a39",
   "metadata": {},
   "source": [
    "В датафрейме 3 столбца, 18268 строк. Пропусков нет."
   ]
  },
  {
   "cell_type": "code",
   "execution_count": 148,
   "id": "5729ae6d",
   "metadata": {},
   "outputs": [
    {
     "data": {
      "text/plain": [
       "0"
      ]
     },
     "execution_count": 148,
     "metadata": {},
     "output_type": "execute_result"
    }
   ],
   "source": [
    "# проверим на явные дубликаты\n",
    "\n",
    "test_users.duplicated().sum()"
   ]
  },
  {
   "cell_type": "code",
   "execution_count": 149,
   "id": "d321f11a",
   "metadata": {},
   "outputs": [
    {
     "data": {
      "text/plain": [
       "16666"
      ]
     },
     "execution_count": 149,
     "metadata": {},
     "output_type": "execute_result"
    }
   ],
   "source": [
    "# количество уникальных пользователей в датафрейме\n",
    "\n",
    "test_users.user_id.nunique()"
   ]
  },
  {
   "cell_type": "code",
   "execution_count": 150,
   "id": "b4e471d1",
   "metadata": {},
   "outputs": [
    {
     "data": {
      "text/plain": [
       "array(['A', 'B'], dtype=object)"
      ]
     },
     "execution_count": 150,
     "metadata": {},
     "output_type": "execute_result"
    }
   ],
   "source": [
    "# проверим, какие группы есть\n",
    "\n",
    "test_users.group.unique()"
   ]
  },
  {
   "cell_type": "code",
   "execution_count": 151,
   "id": "03f973d2",
   "metadata": {},
   "outputs": [
    {
     "data": {
      "text/plain": [
       "array(['recommender_system_test', 'interface_eu_test'], dtype=object)"
      ]
     },
     "execution_count": 151,
     "metadata": {},
     "output_type": "execute_result"
    }
   ],
   "source": [
    "# проверим описание групп\n",
    "\n",
    "test_users.ab_test.unique()"
   ]
  },
  {
   "cell_type": "markdown",
   "id": "14fec818",
   "metadata": {},
   "source": [
    "В данном датафрейме есть данные по 2-м тестах. Значит в дальнейшем необходимо будет проверить - пересекается ли тестовая аудитория с конкурирующим тестом."
   ]
  },
  {
   "cell_type": "code",
   "execution_count": 152,
   "id": "64ad64f8",
   "metadata": {},
   "outputs": [
    {
     "data": {
      "image/png": "[encoded data removed]",
      "text/plain": [
       "<Figure size 1008x360 with 1 Axes>"
      ]
     },
     "metadata": {
      "needs_background": "light"
     },
     "output_type": "display_data"
    }
   ],
   "source": [
    "# выведем, как распределяются пользователи в зависимости от теста и группы\n",
    "\n",
    "fig, ax = plt.subplots(figsize = (14,5))\n",
    "\n",
    "ax = sns.barplot(y='ab_test',\n",
    "            x='user_id',\n",
    "            hue=\"group\",\n",
    "            data=test_users.groupby(['ab_test','group'], as_index=False)[['user_id']].nunique(),\n",
    "            palette=['#93CACA', 'blue'])\n",
    "\n",
    "ax.set_title('Распределение пользователей по тестам и группам')\n",
    "ax.set(xlabel='число клиентов', ylabel='Название теста');"
   ]
  },
  {
   "cell_type": "markdown",
   "id": "5841cefe",
   "metadata": {},
   "source": [
    "Примерно одинаково пользователи были разделены на группы в тесте 'interface_eu_test'. \n",
    "\n",
    "Во втором тесте пользователи распределены между группами хуже, есть большая разница. \n",
    "\n",
    "Более детальный анализ групп проведем в следующем разделе."
   ]
  },
  {
   "cell_type": "markdown",
   "id": "7dbd9920",
   "metadata": {},
   "source": [
    "## Анализ данных ##"
   ]
  },
  {
   "cell_type": "markdown",
   "id": "37232b03",
   "metadata": {},
   "source": [
    "### Определение количества аудитории теста ###"
   ]
  },
  {
   "cell_type": "code",
   "execution_count": 153,
   "id": "8eb499f3",
   "metadata": {},
   "outputs": [],
   "source": [
    "# создадим одну общую таблицу путем объединения  таблицы с пользователями из А/Б теста с данными о регистрации и о событиях\n",
    "\n",
    "data_test_users = test_users.merge(registered_users, on='user_id', how='left')\\\n",
    ".merge(action_users,on='user_id', how='outer')"
   ]
  },
  {
   "cell_type": "code",
   "execution_count": 154,
   "id": "6dbfa4dd",
   "metadata": {},
   "outputs": [
    {
     "data": {
      "text/html": [
       "<div>\n",
       "<style scoped>\n",
       "    .dataframe tbody tr th:only-of-type {\n",
       "        vertical-align: middle;\n",
       "    }\n",
       "\n",
       "    .dataframe tbody tr th {\n",
       "        vertical-align: top;\n",
       "    }\n",
       "\n",
       "    .dataframe thead th {\n",
       "        text-align: right;\n",
       "    }\n",
       "</style>\n",
       "<table border=\"1\" class=\"dataframe\">\n",
       "  <thead>\n",
       "    <tr style=\"text-align: right;\">\n",
       "      <th></th>\n",
       "      <th>user_id</th>\n",
       "      <th>group</th>\n",
       "      <th>ab_test</th>\n",
       "      <th>first_date</th>\n",
       "      <th>region</th>\n",
       "      <th>device</th>\n",
       "      <th>event_dt</th>\n",
       "      <th>event_name</th>\n",
       "      <th>details</th>\n",
       "      <th>event_dt_with_time</th>\n",
       "    </tr>\n",
       "  </thead>\n",
       "  <tbody>\n",
       "    <tr>\n",
       "      <th>0</th>\n",
       "      <td>D1ABA3E2887B6A73</td>\n",
       "      <td>A</td>\n",
       "      <td>recommender_system_test</td>\n",
       "      <td>2020-12-07</td>\n",
       "      <td>EU</td>\n",
       "      <td>PC</td>\n",
       "      <td>2020-12-07</td>\n",
       "      <td>purchase</td>\n",
       "      <td>99.99</td>\n",
       "      <td>2020-12-07 14:43:27</td>\n",
       "    </tr>\n",
       "    <tr>\n",
       "      <th>1</th>\n",
       "      <td>D1ABA3E2887B6A73</td>\n",
       "      <td>A</td>\n",
       "      <td>recommender_system_test</td>\n",
       "      <td>2020-12-07</td>\n",
       "      <td>EU</td>\n",
       "      <td>PC</td>\n",
       "      <td>2020-12-25</td>\n",
       "      <td>purchase</td>\n",
       "      <td>4.99</td>\n",
       "      <td>2020-12-25 00:04:56</td>\n",
       "    </tr>\n",
       "    <tr>\n",
       "      <th>2</th>\n",
       "      <td>D1ABA3E2887B6A73</td>\n",
       "      <td>A</td>\n",
       "      <td>recommender_system_test</td>\n",
       "      <td>2020-12-07</td>\n",
       "      <td>EU</td>\n",
       "      <td>PC</td>\n",
       "      <td>2020-12-07</td>\n",
       "      <td>product_cart</td>\n",
       "      <td>0.00</td>\n",
       "      <td>2020-12-07 14:43:29</td>\n",
       "    </tr>\n",
       "    <tr>\n",
       "      <th>3</th>\n",
       "      <td>D1ABA3E2887B6A73</td>\n",
       "      <td>A</td>\n",
       "      <td>recommender_system_test</td>\n",
       "      <td>2020-12-07</td>\n",
       "      <td>EU</td>\n",
       "      <td>PC</td>\n",
       "      <td>2020-12-25</td>\n",
       "      <td>product_cart</td>\n",
       "      <td>0.00</td>\n",
       "      <td>2020-12-25 00:04:57</td>\n",
       "    </tr>\n",
       "    <tr>\n",
       "      <th>4</th>\n",
       "      <td>D1ABA3E2887B6A73</td>\n",
       "      <td>A</td>\n",
       "      <td>recommender_system_test</td>\n",
       "      <td>2020-12-07</td>\n",
       "      <td>EU</td>\n",
       "      <td>PC</td>\n",
       "      <td>2020-12-07</td>\n",
       "      <td>product_page</td>\n",
       "      <td>0.00</td>\n",
       "      <td>2020-12-07 14:43:27</td>\n",
       "    </tr>\n",
       "  </tbody>\n",
       "</table>\n",
       "</div>"
      ],
      "text/plain": [
       "            user_id group                  ab_test first_date region device  \\\n",
       "0  D1ABA3E2887B6A73     A  recommender_system_test 2020-12-07     EU     PC   \n",
       "1  D1ABA3E2887B6A73     A  recommender_system_test 2020-12-07     EU     PC   \n",
       "2  D1ABA3E2887B6A73     A  recommender_system_test 2020-12-07     EU     PC   \n",
       "3  D1ABA3E2887B6A73     A  recommender_system_test 2020-12-07     EU     PC   \n",
       "4  D1ABA3E2887B6A73     A  recommender_system_test 2020-12-07     EU     PC   \n",
       "\n",
       "    event_dt    event_name  details   event_dt_with_time  \n",
       "0 2020-12-07      purchase    99.99  2020-12-07 14:43:27  \n",
       "1 2020-12-25      purchase     4.99  2020-12-25 00:04:56  \n",
       "2 2020-12-07  product_cart     0.00  2020-12-07 14:43:29  \n",
       "3 2020-12-25  product_cart     0.00  2020-12-25 00:04:57  \n",
       "4 2020-12-07  product_page     0.00  2020-12-07 14:43:27  "
      ]
     },
     "execution_count": 154,
     "metadata": {},
     "output_type": "execute_result"
    }
   ],
   "source": [
    "data_test_users.head()"
   ]
  },
  {
   "cell_type": "code",
   "execution_count": 155,
   "id": "6e042fae",
   "metadata": {},
   "outputs": [],
   "source": [
    "# измененим название столбца\n",
    "\n",
    "data_test_users = data_test_users.rename(columns={'first_date':'date_registration'})\n"
   ]
  },
  {
   "cell_type": "code",
   "execution_count": 156,
   "id": "c8079228",
   "metadata": {},
   "outputs": [],
   "source": [
    "# оставим пользователей, которые зарегистрировались до 21.12.20 включительно\n",
    "\n",
    "data_test_users = data_test_users.query('date_registration <= \"2020-12-21\"')"
   ]
  },
  {
   "cell_type": "code",
   "execution_count": 157,
   "id": "64bd6eb4",
   "metadata": {},
   "outputs": [],
   "source": [
    "# сохраним в  отдельной переменной данные по пользователям для дальнейшего анализа по регионам\n",
    "\n",
    "data_regions_filter_users = data_test_users"
   ]
  },
  {
   "cell_type": "code",
   "execution_count": 158,
   "id": "1dc45a89",
   "metadata": {},
   "outputs": [
    {
     "data": {
      "text/plain": [
       "15314"
      ]
     },
     "execution_count": 158,
     "metadata": {},
     "output_type": "execute_result"
    }
   ],
   "source": [
    "# оставим пользователей только из Европы\n",
    "\n",
    "data_test_users = data_test_users.query('region == \"EU\"')\n",
    "\n",
    "# посчитаем общее количество уникальных пользователей по 2-м тестам\n",
    "\n",
    "data_test_users.user_id.nunique()"
   ]
  },
  {
   "cell_type": "code",
   "execution_count": 159,
   "id": "f46e27a0",
   "metadata": {},
   "outputs": [
    {
     "data": {
      "text/plain": [
       "1602"
      ]
     },
     "execution_count": 159,
     "metadata": {},
     "output_type": "execute_result"
    }
   ],
   "source": [
    "# определим пересекается ли аудитория тестов друг с другом\n",
    "\n",
    "id_users_actual_test = list(data_test_users.query('ab_test == \"recommender_system_test\"')['user_id'].unique())\n",
    "\n",
    "id_users_competitor_test = list(data_test_users.query('ab_test == \"interface_eu_test\"')['user_id'].unique())\n",
    "\n",
    "users_drop = []\n",
    "\n",
    "for users in id_users_actual_test:\n",
    "    if users in id_users_competitor_test:\n",
    "        users_drop.append(users)\n",
    "        \n",
    "len(users_drop)"
   ]
  },
  {
   "cell_type": "markdown",
   "id": "1ebf9749",
   "metadata": {},
   "source": [
    "1602 или 10 % пользователей одновременно участвуют в 2-х тестах. Такое пересечение может сказаться на общем результате, поскольку мы не будем уверены  - что именно пользователя подтолкнуло на покупку. В связи с этим, узнаем id таких пользователей и удалим их в тесте, который требует ТЗ."
   ]
  },
  {
   "cell_type": "code",
   "execution_count": 160,
   "id": "c09e8e33",
   "metadata": {},
   "outputs": [],
   "source": [
    "# уберем пользователей, которые встречаются одновременно в 2-х тестах\n",
    "\n",
    "data_test_users = data_test_users.query('~user_id.isin(@users_drop)')"
   ]
  },
  {
   "cell_type": "markdown",
   "id": "6ef326f2",
   "metadata": {},
   "source": [
    "Теперь посчитаем процент пользователей из Европы, которые принимают участие в тесте `'recommender_system_test'`. Для этого найдем количество всех пользователей из Европы, которые зарегистрировались до 21.12.20 включительно. В другой переменной определим количество пользователей из Европы, зарегистрированных так же до 21.12.20, но еще добавим фильтр по виду теста, и удалим тех, кто встречается в 2-х тестах одновременно."
   ]
  },
  {
   "cell_type": "code",
   "execution_count": 161,
   "id": "d6d7a8e0",
   "metadata": {},
   "outputs": [
    {
     "data": {
      "text/plain": [
       "2    42340\n",
       "Name: user_id, dtype: int64"
      ]
     },
     "execution_count": 161,
     "metadata": {},
     "output_type": "execute_result"
    }
   ],
   "source": [
    "# создадим переменную, в которой сохраним общее количество пользователей из Европы\n",
    "\n",
    "data_test_users_regions = registered_users.query('first_date <= \"2020-12-21\"')\\\n",
    ".groupby('region',as_index=False)['user_id'].nunique().query('region == \"EU\"')['user_id']\n",
    "\n",
    "data_test_users_regions"
   ]
  },
  {
   "cell_type": "code",
   "execution_count": 162,
   "id": "56223706",
   "metadata": {},
   "outputs": [
    {
     "data": {
      "text/plain": [
       "2    4749\n",
       "Name: user_id, dtype: int64"
      ]
     },
     "execution_count": 162,
     "metadata": {},
     "output_type": "execute_result"
    }
   ],
   "source": [
    "# сохраним в переменную данные, в которых нет пользователей, участвовавших в 2-х тестах,\n",
    "# также в которых есть данные пользователей по нужному нам тесту\n",
    "\n",
    "data_regions_filter_users = data_regions_filter_users\\\n",
    ".query('(~user_id.isin(@users_drop)) and ab_test == \"recommender_system_test\"')\n",
    "\n",
    "# сгруппируем по регионам, чтобы узнать число пользователей из Европы\n",
    "\n",
    "data_regions_filter_users = data_regions_filter_users\\\n",
    ".groupby('region',as_index=False)['user_id'].nunique()\\\n",
    ".query('region == \"EU\"')['user_id']\n",
    "\n",
    "data_regions_filter_users"
   ]
  },
  {
   "cell_type": "code",
   "execution_count": 163,
   "id": "b1d6db74",
   "metadata": {},
   "outputs": [
    {
     "data": {
      "text/plain": [
       "2    11.216344\n",
       "Name: user_id, dtype: float64"
      ]
     },
     "execution_count": 163,
     "metadata": {},
     "output_type": "execute_result"
    }
   ],
   "source": [
    "# найдем процент пользователей из Европы\n",
    "\n",
    "(data_regions_filter_users / data_test_users_regions) * 100"
   ]
  },
  {
   "cell_type": "markdown",
   "id": "6dc32e16",
   "metadata": {},
   "source": [
    "Пользователи в тесте из Европы составляют 11 %, а не 15 %, как заявлено в ТЗ."
   ]
  },
  {
   "cell_type": "code",
   "execution_count": 164,
   "id": "71e2dfa5",
   "metadata": {},
   "outputs": [],
   "source": [
    "# оставим пользователей только из теста 'recommender_system_test'\n",
    "\n",
    "recommender_system_test_data = data_test_users\\\n",
    ".query('ab_test == \"recommender_system_test\"')\n"
   ]
  },
  {
   "cell_type": "code",
   "execution_count": 165,
   "id": "c6d79e84",
   "metadata": {},
   "outputs": [
    {
     "data": {
      "text/plain": [
       "user_id                  0\n",
       "group                    0\n",
       "ab_test                  0\n",
       "date_registration        0\n",
       "region                   0\n",
       "device                   0\n",
       "event_dt              2155\n",
       "event_name            2155\n",
       "details               2155\n",
       "event_dt_with_time    2155\n",
       "dtype: int64"
      ]
     },
     "execution_count": 165,
     "metadata": {},
     "output_type": "execute_result"
    }
   ],
   "source": [
    "# проверим есть ли пропуски\n",
    "\n",
    "recommender_system_test_data.isna().sum()"
   ]
  },
  {
   "cell_type": "markdown",
   "id": "96fb38c6",
   "metadata": {},
   "source": [
    "Мы видим, что 2155 пользователей не имеют событий. Рассмотрим их более подробно."
   ]
  },
  {
   "cell_type": "code",
   "execution_count": 166,
   "id": "9f2cbbe5",
   "metadata": {},
   "outputs": [],
   "source": [
    "# отберем пользователей, которые не имеют событий\n",
    "\n",
    "not_events_users = recommender_system_test_data.query('event_name.isna()')"
   ]
  },
  {
   "cell_type": "code",
   "execution_count": 167,
   "id": "2c819af0",
   "metadata": {},
   "outputs": [
    {
     "data": {
      "image/png": "[encoded data removed]",
      "text/plain": [
       "<Figure size 1080x504 with 1 Axes>"
      ]
     },
     "metadata": {
      "needs_background": "light"
     },
     "output_type": "display_data"
    }
   ],
   "source": [
    "# посмотрим, в какие даты было максимальное количество регистраций пользователей без событий\n",
    "\n",
    "not_events_users['date_registration'].hist(figsize=(15,7),bins=20,edgecolor=\"black\");"
   ]
  },
  {
   "cell_type": "markdown",
   "id": "477bb6f4",
   "metadata": {},
   "source": [
    "13.12.20 пользователи активнее регистрировались,чем в остальные дни. Тем не менее, мы видим, что пользователи регистрировались каждый день до 21.12.20 включительно, но непонятно, почему больше не возвращались к ресурсу."
   ]
  },
  {
   "cell_type": "code",
   "execution_count": 168,
   "id": "83053a9e",
   "metadata": {},
   "outputs": [
    {
     "data": {
      "image/png": "[encoded data removed]",
      "text/plain": [
       "<Figure size 1080x504 with 1 Axes>"
      ]
     },
     "metadata": {
      "needs_background": "light"
     },
     "output_type": "display_data"
    }
   ],
   "source": [
    "# проверим с каких устройств регистрировались такие пользователи\n",
    "\n",
    "not_events_users['device'].hist(figsize=(15,7),bins=20,edgecolor=\"black\");"
   ]
  },
  {
   "cell_type": "markdown",
   "id": "62423255",
   "metadata": {},
   "source": [
    "Пользователи активно пользовались Android при регистрации."
   ]
  },
  {
   "cell_type": "markdown",
   "id": "f3b355e0",
   "metadata": {},
   "source": [
    "Построим линейный график распределения количества регистраций пользователей без событий по группам теста."
   ]
  },
  {
   "cell_type": "code",
   "execution_count": 169,
   "id": "473d3e42",
   "metadata": {},
   "outputs": [],
   "source": [
    "# сохраним в переменной группировку по дате и группе и посчитаем уникальных пользователей\n",
    "\n",
    "users_registr_date = not_events_users.groupby(['date_registration','group'], as_index=False)['user_id'].nunique()"
   ]
  },
  {
   "cell_type": "code",
   "execution_count": 170,
   "id": "ca322c6b",
   "metadata": {},
   "outputs": [
    {
     "data": {
      "image/png": "[encoded data removed]",
      "text/plain": [
       "<Figure size 864x288 with 1 Axes>"
      ]
     },
     "metadata": {
      "needs_background": "light"
     },
     "output_type": "display_data"
    }
   ],
   "source": [
    "# построим линейный график распределения количества регистраций пользователей без событий по группам теста\n",
    "\n",
    "plt.subplots(figsize = (12,4))\n",
    "\n",
    "plt.plot(users_registr_date.query('group == \"A\"')['date_registration'], \n",
    "        users_registr_date.query('group == \"A\"')['user_id'], \n",
    "         label='группа A')\n",
    "\n",
    "plt.plot(users_registr_date.query('group == \"B\"')['date_registration'], \n",
    "         users_registr_date.query('group == \"B\"')['user_id'], \n",
    "         label='группа B')\n",
    "\n",
    "plt.legend()\n",
    "\n",
    "plt.xlabel('Период регистраций пользователей', fontsize=12)\n",
    "\n",
    "plt.ylabel('Количество регистраций', fontsize=12)\n",
    "\n",
    "plt.title('Распределение количества регистраций пользователей без событий по группам',fontsize=14);"
   ]
  },
  {
   "cell_type": "markdown",
   "id": "0cd3c5e5",
   "metadata": {},
   "source": [
    "Мы видим, что график по группе А обрывается на дате 13.12.20, т.е. регистраций больше не было. Вероятно в системе сбора информации были технические неполадки. А что касается группы В, то график непрерывный, причем самая низкая активность зафиксирована 16.12.20. "
   ]
  },
  {
   "cell_type": "code",
   "execution_count": 171,
   "id": "cc5751fe",
   "metadata": {},
   "outputs": [
    {
     "data": {
      "text/html": [
       "<div>\n",
       "<style scoped>\n",
       "    .dataframe tbody tr th:only-of-type {\n",
       "        vertical-align: middle;\n",
       "    }\n",
       "\n",
       "    .dataframe tbody tr th {\n",
       "        vertical-align: top;\n",
       "    }\n",
       "\n",
       "    .dataframe thead th {\n",
       "        text-align: right;\n",
       "    }\n",
       "</style>\n",
       "<table border=\"1\" class=\"dataframe\">\n",
       "  <thead>\n",
       "    <tr style=\"text-align: right;\">\n",
       "      <th></th>\n",
       "      <th>user_id</th>\n",
       "      <th>group</th>\n",
       "      <th>ab_test</th>\n",
       "      <th>date_registration</th>\n",
       "      <th>region</th>\n",
       "      <th>device</th>\n",
       "      <th>event_dt</th>\n",
       "      <th>event_name</th>\n",
       "      <th>details</th>\n",
       "      <th>event_dt_with_time</th>\n",
       "    </tr>\n",
       "  </thead>\n",
       "  <tbody>\n",
       "    <tr>\n",
       "      <th>72280</th>\n",
       "      <td>4205CA68D53300E0</td>\n",
       "      <td>B</td>\n",
       "      <td>interface_eu_test</td>\n",
       "      <td>2020-12-07</td>\n",
       "      <td>EU</td>\n",
       "      <td>Android</td>\n",
       "      <td>NaT</td>\n",
       "      <td>NaN</td>\n",
       "      <td>NaN</td>\n",
       "      <td>NaN</td>\n",
       "    </tr>\n",
       "    <tr>\n",
       "      <th>105904</th>\n",
       "      <td>4AF24163EE3C7B84</td>\n",
       "      <td>A</td>\n",
       "      <td>interface_eu_test</td>\n",
       "      <td>2020-12-07</td>\n",
       "      <td>EU</td>\n",
       "      <td>iPhone</td>\n",
       "      <td>NaT</td>\n",
       "      <td>NaN</td>\n",
       "      <td>NaN</td>\n",
       "      <td>NaN</td>\n",
       "    </tr>\n",
       "  </tbody>\n",
       "</table>\n",
       "</div>"
      ],
      "text/plain": [
       "                 user_id group            ab_test date_registration region  \\\n",
       "72280   4205CA68D53300E0     B  interface_eu_test        2020-12-07     EU   \n",
       "105904  4AF24163EE3C7B84     A  interface_eu_test        2020-12-07     EU   \n",
       "\n",
       "         device event_dt event_name  details event_dt_with_time  \n",
       "72280   Android      NaT        NaN      NaN                NaN  \n",
       "105904   iPhone      NaT        NaN      NaN                NaN  "
      ]
     },
     "execution_count": 171,
     "metadata": {},
     "output_type": "execute_result"
    }
   ],
   "source": [
    "# проверим,  есть ли такая проблема в другом тесте\n",
    "\n",
    "data_test_users.query('(ab_test == \"interface_eu_test\") and (event_name.isna())')"
   ]
  },
  {
   "cell_type": "markdown",
   "id": "f1d9e079",
   "metadata": {},
   "source": [
    "В другом тесте всего 2 пропуска, это не критично. Можно сказать, что в конкурирующем тесте практически все пользователи имеют события."
   ]
  },
  {
   "cell_type": "markdown",
   "id": "9b7c8005",
   "metadata": {},
   "source": [
    "По итогу, в тесте `'recommender_system_test'` мы выяснили, что есть 2155 или 45 % пользователей, которые вероятно потеряли интерес к ресурсу и только смогли зарегистрироваться. Также, мы узнали, что бОльшая часть из них заходило через Android и пик регистраций был 13.12.20. Необходимо анализировать таких пользователей в дальнейшем и искать причины, почему такое количество не пользуется ресурсом, а также выяснять, почему произошло обрывание графика у группы А. Но в тесте 'recommender_system_test' мы вынуждены удалить таких пользователей, чтобы не искажать результат."
   ]
  },
  {
   "cell_type": "code",
   "execution_count": 172,
   "id": "37005272",
   "metadata": {},
   "outputs": [
    {
     "data": {
      "text/plain": [
       "user_id               0\n",
       "group                 0\n",
       "ab_test               0\n",
       "date_registration     0\n",
       "region                0\n",
       "device                0\n",
       "event_dt              0\n",
       "event_name            0\n",
       "details               0\n",
       "event_dt_with_time    0\n",
       "dtype: int64"
      ]
     },
     "execution_count": 172,
     "metadata": {},
     "output_type": "execute_result"
    }
   ],
   "source": [
    "# удалим пропуски в данных\n",
    "\n",
    "recommender_system_test_data = recommender_system_test_data.dropna()\n",
    "\n",
    "# проверим датафрейм на пропуски \n",
    "\n",
    "recommender_system_test_data.isna().sum()"
   ]
  },
  {
   "cell_type": "code",
   "execution_count": 173,
   "id": "8a0f4e6b",
   "metadata": {},
   "outputs": [
    {
     "data": {
      "text/plain": [
       "2594"
      ]
     },
     "execution_count": 173,
     "metadata": {},
     "output_type": "execute_result"
    }
   ],
   "source": [
    "# посчитаем количество уникальных пользователей после удаления пропусков\n",
    "\n",
    "recommender_system_test_data.user_id.nunique()"
   ]
  },
  {
   "cell_type": "markdown",
   "id": "9adc53e7",
   "metadata": {},
   "source": [
    "Итак, после удаления неподходящих нам пользователей, мы видим, что аудитория теста сократилась и состоит из 2594 людей вместо 6000, которое прописано в ТЗ. Т.е. условие по количеству участников теста не выполняется."
   ]
  },
  {
   "cell_type": "markdown",
   "id": "ef11363e",
   "metadata": {},
   "source": [
    "### Анализ пользователей в тесте 'recommender_system_test' ###"
   ]
  },
  {
   "cell_type": "markdown",
   "id": "7353e57f",
   "metadata": {},
   "source": [
    "Проверим, как распределены пользователи внутри теста."
   ]
  },
  {
   "cell_type": "code",
   "execution_count": 174,
   "id": "c4cd8615",
   "metadata": {},
   "outputs": [
    {
     "name": "stdout",
     "output_type": "stream",
     "text": [
      "0\n"
     ]
    }
   ],
   "source": [
    "# проверим есть ли пользователи, которые одновременно участвуют в 2-х группах\n",
    "\n",
    "count = 0\n",
    "for t in recommender_system_test_data['user_id'].unique():\n",
    "    a = recommender_system_test_data.query('user_id == @t')\n",
    "    if a['group'].nunique() > 1:\n",
    "        count+= 1\n",
    "print(count)"
   ]
  },
  {
   "cell_type": "markdown",
   "id": "3855d455",
   "metadata": {},
   "source": [
    "Нет пересечений между группами. Это хороший показатель, но необходимо также проверить, в каких пропорциях участники распределены между группами."
   ]
  },
  {
   "cell_type": "code",
   "execution_count": 175,
   "id": "a2b8945a",
   "metadata": {},
   "outputs": [
    {
     "data": {
      "image/png": "[encoded data removed]",
      "text/plain": [
       "<Figure size 432x288 with 1 Axes>"
      ]
     },
     "metadata": {},
     "output_type": "display_data"
    }
   ],
   "source": [
    "# посчитаем и сохраним в переменной количество пользователей в каждой группе\n",
    "\n",
    "share_group = recommender_system_test_data.groupby('group', as_index=False)[['user_id']].nunique()\n",
    "\n",
    "# построим круговую диаграмму, где отразим распределение посетителей по группам теста\n",
    "\n",
    "plt.pie(share_group['user_id'],\n",
    "        labels=share_group['group'],\n",
    "        autopct='%1.0f%%',\n",
    "        wedgeprops = { 'linewidth' : 3, 'edgecolor' : 'white' },\n",
    "        radius=1.1,\n",
    "        textprops={'fontsize': 12},\n",
    "        colors=['#DD7596','#B7C3F3']);\n",
    "  \n",
    "\n",
    "plt.title('Распределение участников теста между группами',loc='left',color='b',fontsize = 13);"
   ]
  },
  {
   "cell_type": "markdown",
   "id": "65592f50",
   "metadata": {},
   "source": [
    "Итак, мы видим, что участники распределены непропорционально - 75 % в группе А и 25 % в группе В, что является отрицательным моментов для дальнейшего проведения А/Б теста. Ведь, прежде всего, залог получения достоверных результатов теста зависит от того, на сколько точно и качественно отобраны участники теста."
   ]
  },
  {
   "cell_type": "code",
   "execution_count": 176,
   "id": "9af04754",
   "metadata": {},
   "outputs": [
    {
     "name": "stdout",
     "output_type": "stream",
     "text": [
      "Самая ранняя дата событий: 2020-12-07 00:00:00\n",
      "Самая поздняя дата событий: 2020-12-30 00:00:00\n"
     ]
    }
   ],
   "source": [
    "# определим диапазон дат в датафрейме\n",
    "\n",
    "\n",
    "print(f\"Самая ранняя дата событий: {recommender_system_test_data.event_dt.min()}\")\n",
    "\n",
    "print(f\"Самая поздняя дата событий: {recommender_system_test_data.event_dt.max()}\")"
   ]
  },
  {
   "cell_type": "markdown",
   "id": "7d98f7cd",
   "metadata": {},
   "source": [
    "Дата запуска и дата остановки набора новых пользователей совпадают с ТЗ. А вот дата остановки теста в ТЗ указана некорректно, в действительности дату остановки теста необходимо считать 30.12.20, так как после этой даты у нас нет данных о событиях."
   ]
  },
  {
   "cell_type": "markdown",
   "id": "6341afa3",
   "metadata": {},
   "source": [
    "В ТЗ указан горизонт событий - 14 дней с момента регистрации пользователей. В нашем же случае, дата остановки теста - 30.12.20 вместо 04.01.21. Соответственно, пользователи, зарегистрированные с 18.12.20 по 21.12.20 не имели полноценных двух недель для осуществления покупки. Но нам необходимо проверить, действительно ли нужно 2 недели для того, чтобы сформировалась воронка событий или же пользователи после регистрации могли в короткие сроки оплатить заказ."
   ]
  },
  {
   "cell_type": "markdown",
   "id": "aa8ed1de",
   "metadata": {},
   "source": [
    "Для начала рассчитаем лайфтайм по каждому пользователю,  чтобы определить, где с момента регистрации до выполнения какого-либо действия прошло больше 14 дней."
   ]
  },
  {
   "cell_type": "code",
   "execution_count": 177,
   "id": "833d99c3",
   "metadata": {},
   "outputs": [],
   "source": [
    "# добавим новый столбец с рассчитанным количеством дней с даты регистрации и датой события\n",
    "\n",
    "recommender_system_test_data['lifetime'] = (recommender_system_test_data['event_dt']\n",
    "                                            - recommender_system_test_data['date_registration'])\\\n",
    ".dt.days\n",
    "\n",
    "recommender_system_test_data['lifetime'] = recommender_system_test_data['lifetime'] + 1"
   ]
  },
  {
   "cell_type": "code",
   "execution_count": 178,
   "id": "cddd15e4",
   "metadata": {},
   "outputs": [
    {
     "data": {
      "text/plain": [
       "17526"
      ]
     },
     "execution_count": 178,
     "metadata": {},
     "output_type": "execute_result"
    }
   ],
   "source": [
    "# количество строк в датасете\n",
    "\n",
    "recommender_system_test_data.shape[0]"
   ]
  },
  {
   "cell_type": "code",
   "execution_count": 179,
   "id": "32e06929",
   "metadata": {},
   "outputs": [
    {
     "data": {
      "text/plain": [
       "608"
      ]
     },
     "execution_count": 179,
     "metadata": {},
     "output_type": "execute_result"
    }
   ],
   "source": [
    "# посчитаем, сколько действий выполняли пользователи больше 14 дней с момента регистрации\n",
    "\n",
    "recommender_system_test_data.query('lifetime > 14').shape[0]"
   ]
  },
  {
   "cell_type": "markdown",
   "id": "a518c7cf",
   "metadata": {},
   "source": [
    "3.5 % событий необходимо удалить из датафрейма, так как тест предполагает горизонт событий - 14 дней. "
   ]
  },
  {
   "cell_type": "code",
   "execution_count": 180,
   "id": "cd6aad69",
   "metadata": {},
   "outputs": [],
   "source": [
    "# удалим те строки, горизонт событий у которых превышает 14 дней\n",
    "\n",
    "recommender_system_test_data = recommender_system_test_data.query('lifetime <= 14')"
   ]
  },
  {
   "cell_type": "code",
   "execution_count": 181,
   "id": "bff0ded5",
   "metadata": {},
   "outputs": [
    {
     "data": {
      "text/plain": [
       "2594"
      ]
     },
     "execution_count": 181,
     "metadata": {},
     "output_type": "execute_result"
    }
   ],
   "source": [
    "# проверим количество уникальных пользователей\n",
    "\n",
    "recommender_system_test_data.user_id.nunique()"
   ]
  },
  {
   "cell_type": "markdown",
   "id": "2d4c78eb",
   "metadata": {},
   "source": [
    "Количество уникальных пользователей не изменилось после удаления строк."
   ]
  },
  {
   "cell_type": "code",
   "execution_count": 182,
   "id": "10393763",
   "metadata": {},
   "outputs": [
    {
     "data": {
      "text/html": [
       "<div>\n",
       "<style scoped>\n",
       "    .dataframe tbody tr th:only-of-type {\n",
       "        vertical-align: middle;\n",
       "    }\n",
       "\n",
       "    .dataframe tbody tr th {\n",
       "        vertical-align: top;\n",
       "    }\n",
       "\n",
       "    .dataframe thead th {\n",
       "        text-align: right;\n",
       "    }\n",
       "</style>\n",
       "<table border=\"1\" class=\"dataframe\">\n",
       "  <thead>\n",
       "    <tr style=\"text-align: right;\">\n",
       "      <th></th>\n",
       "      <th>user_id</th>\n",
       "      <th>group</th>\n",
       "      <th>ab_test</th>\n",
       "      <th>date_registration</th>\n",
       "      <th>region</th>\n",
       "      <th>device</th>\n",
       "      <th>event_dt</th>\n",
       "      <th>event_name</th>\n",
       "      <th>details</th>\n",
       "      <th>event_dt_with_time</th>\n",
       "      <th>lifetime</th>\n",
       "    </tr>\n",
       "  </thead>\n",
       "  <tbody>\n",
       "    <tr>\n",
       "      <th>6898</th>\n",
       "      <td>D02C5540559EC8AF</td>\n",
       "      <td>A</td>\n",
       "      <td>recommender_system_test</td>\n",
       "      <td>2020-12-18</td>\n",
       "      <td>EU</td>\n",
       "      <td>Android</td>\n",
       "      <td>2020-12-18</td>\n",
       "      <td>product_page</td>\n",
       "      <td>0.00</td>\n",
       "      <td>2020-12-18 00:04:35</td>\n",
       "      <td>1</td>\n",
       "    </tr>\n",
       "    <tr>\n",
       "      <th>6900</th>\n",
       "      <td>D02C5540559EC8AF</td>\n",
       "      <td>A</td>\n",
       "      <td>recommender_system_test</td>\n",
       "      <td>2020-12-18</td>\n",
       "      <td>EU</td>\n",
       "      <td>Android</td>\n",
       "      <td>2020-12-18</td>\n",
       "      <td>login</td>\n",
       "      <td>0.00</td>\n",
       "      <td>2020-12-18 00:04:35</td>\n",
       "      <td>1</td>\n",
       "    </tr>\n",
       "    <tr>\n",
       "      <th>29480</th>\n",
       "      <td>01157AAD4401952B</td>\n",
       "      <td>A</td>\n",
       "      <td>recommender_system_test</td>\n",
       "      <td>2020-12-18</td>\n",
       "      <td>EU</td>\n",
       "      <td>iPhone</td>\n",
       "      <td>2020-12-18</td>\n",
       "      <td>purchase</td>\n",
       "      <td>499.99</td>\n",
       "      <td>2020-12-18 00:07:20</td>\n",
       "      <td>1</td>\n",
       "    </tr>\n",
       "    <tr>\n",
       "      <th>29483</th>\n",
       "      <td>01157AAD4401952B</td>\n",
       "      <td>A</td>\n",
       "      <td>recommender_system_test</td>\n",
       "      <td>2020-12-18</td>\n",
       "      <td>EU</td>\n",
       "      <td>iPhone</td>\n",
       "      <td>2020-12-18</td>\n",
       "      <td>product_page</td>\n",
       "      <td>0.00</td>\n",
       "      <td>2020-12-18 00:07:20</td>\n",
       "      <td>1</td>\n",
       "    </tr>\n",
       "    <tr>\n",
       "      <th>29486</th>\n",
       "      <td>01157AAD4401952B</td>\n",
       "      <td>A</td>\n",
       "      <td>recommender_system_test</td>\n",
       "      <td>2020-12-18</td>\n",
       "      <td>EU</td>\n",
       "      <td>iPhone</td>\n",
       "      <td>2020-12-18</td>\n",
       "      <td>login</td>\n",
       "      <td>0.00</td>\n",
       "      <td>2020-12-18 00:07:20</td>\n",
       "      <td>1</td>\n",
       "    </tr>\n",
       "    <tr>\n",
       "      <th>...</th>\n",
       "      <td>...</td>\n",
       "      <td>...</td>\n",
       "      <td>...</td>\n",
       "      <td>...</td>\n",
       "      <td>...</td>\n",
       "      <td>...</td>\n",
       "      <td>...</td>\n",
       "      <td>...</td>\n",
       "      <td>...</td>\n",
       "      <td>...</td>\n",
       "      <td>...</td>\n",
       "    </tr>\n",
       "    <tr>\n",
       "      <th>23579</th>\n",
       "      <td>CBF4133918976020</td>\n",
       "      <td>A</td>\n",
       "      <td>recommender_system_test</td>\n",
       "      <td>2020-12-21</td>\n",
       "      <td>EU</td>\n",
       "      <td>Android</td>\n",
       "      <td>2020-12-29</td>\n",
       "      <td>login</td>\n",
       "      <td>0.00</td>\n",
       "      <td>2020-12-29 19:46:56</td>\n",
       "      <td>9</td>\n",
       "    </tr>\n",
       "    <tr>\n",
       "      <th>2519</th>\n",
       "      <td>4AEC1F638C2F1FC8</td>\n",
       "      <td>A</td>\n",
       "      <td>recommender_system_test</td>\n",
       "      <td>2020-12-21</td>\n",
       "      <td>EU</td>\n",
       "      <td>PC</td>\n",
       "      <td>2020-12-29</td>\n",
       "      <td>product_page</td>\n",
       "      <td>0.00</td>\n",
       "      <td>2020-12-29 21:29:15</td>\n",
       "      <td>9</td>\n",
       "    </tr>\n",
       "    <tr>\n",
       "      <th>2523</th>\n",
       "      <td>4AEC1F638C2F1FC8</td>\n",
       "      <td>A</td>\n",
       "      <td>recommender_system_test</td>\n",
       "      <td>2020-12-21</td>\n",
       "      <td>EU</td>\n",
       "      <td>PC</td>\n",
       "      <td>2020-12-29</td>\n",
       "      <td>login</td>\n",
       "      <td>0.00</td>\n",
       "      <td>2020-12-29 21:29:15</td>\n",
       "      <td>9</td>\n",
       "    </tr>\n",
       "    <tr>\n",
       "      <th>25747</th>\n",
       "      <td>817B7DE353CE7825</td>\n",
       "      <td>A</td>\n",
       "      <td>recommender_system_test</td>\n",
       "      <td>2020-12-21</td>\n",
       "      <td>EU</td>\n",
       "      <td>Android</td>\n",
       "      <td>2020-12-29</td>\n",
       "      <td>login</td>\n",
       "      <td>0.00</td>\n",
       "      <td>2020-12-29 23:38:09</td>\n",
       "      <td>9</td>\n",
       "    </tr>\n",
       "    <tr>\n",
       "      <th>25742</th>\n",
       "      <td>817B7DE353CE7825</td>\n",
       "      <td>A</td>\n",
       "      <td>recommender_system_test</td>\n",
       "      <td>2020-12-21</td>\n",
       "      <td>EU</td>\n",
       "      <td>Android</td>\n",
       "      <td>2020-12-29</td>\n",
       "      <td>product_page</td>\n",
       "      <td>0.00</td>\n",
       "      <td>2020-12-29 23:38:10</td>\n",
       "      <td>9</td>\n",
       "    </tr>\n",
       "  </tbody>\n",
       "</table>\n",
       "<p>6544 rows × 11 columns</p>\n",
       "</div>"
      ],
      "text/plain": [
       "                user_id group                  ab_test date_registration  \\\n",
       "6898   D02C5540559EC8AF     A  recommender_system_test        2020-12-18   \n",
       "6900   D02C5540559EC8AF     A  recommender_system_test        2020-12-18   \n",
       "29480  01157AAD4401952B     A  recommender_system_test        2020-12-18   \n",
       "29483  01157AAD4401952B     A  recommender_system_test        2020-12-18   \n",
       "29486  01157AAD4401952B     A  recommender_system_test        2020-12-18   \n",
       "...                 ...   ...                      ...               ...   \n",
       "23579  CBF4133918976020     A  recommender_system_test        2020-12-21   \n",
       "2519   4AEC1F638C2F1FC8     A  recommender_system_test        2020-12-21   \n",
       "2523   4AEC1F638C2F1FC8     A  recommender_system_test        2020-12-21   \n",
       "25747  817B7DE353CE7825     A  recommender_system_test        2020-12-21   \n",
       "25742  817B7DE353CE7825     A  recommender_system_test        2020-12-21   \n",
       "\n",
       "      region   device   event_dt    event_name  details   event_dt_with_time  \\\n",
       "6898      EU  Android 2020-12-18  product_page     0.00  2020-12-18 00:04:35   \n",
       "6900      EU  Android 2020-12-18         login     0.00  2020-12-18 00:04:35   \n",
       "29480     EU   iPhone 2020-12-18      purchase   499.99  2020-12-18 00:07:20   \n",
       "29483     EU   iPhone 2020-12-18  product_page     0.00  2020-12-18 00:07:20   \n",
       "29486     EU   iPhone 2020-12-18         login     0.00  2020-12-18 00:07:20   \n",
       "...      ...      ...        ...           ...      ...                  ...   \n",
       "23579     EU  Android 2020-12-29         login     0.00  2020-12-29 19:46:56   \n",
       "2519      EU       PC 2020-12-29  product_page     0.00  2020-12-29 21:29:15   \n",
       "2523      EU       PC 2020-12-29         login     0.00  2020-12-29 21:29:15   \n",
       "25747     EU  Android 2020-12-29         login     0.00  2020-12-29 23:38:09   \n",
       "25742     EU  Android 2020-12-29  product_page     0.00  2020-12-29 23:38:10   \n",
       "\n",
       "       lifetime  \n",
       "6898          1  \n",
       "6900          1  \n",
       "29480         1  \n",
       "29483         1  \n",
       "29486         1  \n",
       "...         ...  \n",
       "23579         9  \n",
       "2519          9  \n",
       "2523          9  \n",
       "25747         9  \n",
       "25742         9  \n",
       "\n",
       "[6544 rows x 11 columns]"
      ]
     },
     "execution_count": 182,
     "metadata": {},
     "output_type": "execute_result"
    }
   ],
   "source": [
    "# отсортируем данные по дате регистрации, по дате и времени события, \n",
    "# сделаем фильтрацию по датам регистрации - с 18.12.20 по 21.12.20\n",
    "\n",
    "test = recommender_system_test_data.sort_values(by=['date_registration','event_dt_with_time'])\\\n",
    ".query('date_registration >= \"2020-12-18\" and date_registration <= \"2020-12-21\"')\n",
    "test"
   ]
  },
  {
   "cell_type": "code",
   "execution_count": 183,
   "id": "a48a26df",
   "metadata": {},
   "outputs": [
    {
     "data": {
      "text/plain": [
       "956"
      ]
     },
     "execution_count": 183,
     "metadata": {},
     "output_type": "execute_result"
    }
   ],
   "source": [
    "# определим, сколько покупок было совершено всего\n",
    "\n",
    "test.query('event_name == \"purchase\"').user_id.count()"
   ]
  },
  {
   "cell_type": "code",
   "execution_count": 184,
   "id": "0bb92731",
   "metadata": {},
   "outputs": [
    {
     "data": {
      "text/plain": [
       "1003"
      ]
     },
     "execution_count": 184,
     "metadata": {},
     "output_type": "execute_result"
    }
   ],
   "source": [
    "# посчитаем сколько уникальных пользователей всего\n",
    "\n",
    "test.user_id.nunique()"
   ]
  },
  {
   "cell_type": "code",
   "execution_count": 185,
   "id": "773b32c3",
   "metadata": {},
   "outputs": [
    {
     "data": {
      "text/plain": [
       "339"
      ]
     },
     "execution_count": 185,
     "metadata": {},
     "output_type": "execute_result"
    }
   ],
   "source": [
    "# посчитаем сколько уникальных пользователей оплатили\n",
    "\n",
    "test.query('event_name == \"purchase\"').user_id.nunique()"
   ]
  },
  {
   "cell_type": "markdown",
   "id": "c9615f12",
   "metadata": {},
   "source": [
    "14 % покупок от общего количества событий было в период с 18.12.20 по 21.12.20 и 33 % пользователей оплатили заказ. \n",
    "\n",
    "Для сравнения определим количество покупок по тем пользователям, которые укладываются в 14 дней."
   ]
  },
  {
   "cell_type": "code",
   "execution_count": 186,
   "id": "f50b0918",
   "metadata": {},
   "outputs": [
    {
     "data": {
      "text/html": [
       "<div>\n",
       "<style scoped>\n",
       "    .dataframe tbody tr th:only-of-type {\n",
       "        vertical-align: middle;\n",
       "    }\n",
       "\n",
       "    .dataframe tbody tr th {\n",
       "        vertical-align: top;\n",
       "    }\n",
       "\n",
       "    .dataframe thead th {\n",
       "        text-align: right;\n",
       "    }\n",
       "</style>\n",
       "<table border=\"1\" class=\"dataframe\">\n",
       "  <thead>\n",
       "    <tr style=\"text-align: right;\">\n",
       "      <th></th>\n",
       "      <th>user_id</th>\n",
       "      <th>group</th>\n",
       "      <th>ab_test</th>\n",
       "      <th>date_registration</th>\n",
       "      <th>region</th>\n",
       "      <th>device</th>\n",
       "      <th>event_dt</th>\n",
       "      <th>event_name</th>\n",
       "      <th>details</th>\n",
       "      <th>event_dt_with_time</th>\n",
       "      <th>lifetime</th>\n",
       "    </tr>\n",
       "  </thead>\n",
       "  <tbody>\n",
       "    <tr>\n",
       "      <th>4420</th>\n",
       "      <td>20996AEF74602821</td>\n",
       "      <td>A</td>\n",
       "      <td>recommender_system_test</td>\n",
       "      <td>2020-12-07</td>\n",
       "      <td>EU</td>\n",
       "      <td>Android</td>\n",
       "      <td>2020-12-07</td>\n",
       "      <td>purchase</td>\n",
       "      <td>9.99</td>\n",
       "      <td>2020-12-07 00:16:00</td>\n",
       "      <td>1</td>\n",
       "    </tr>\n",
       "    <tr>\n",
       "      <th>4425</th>\n",
       "      <td>20996AEF74602821</td>\n",
       "      <td>A</td>\n",
       "      <td>recommender_system_test</td>\n",
       "      <td>2020-12-07</td>\n",
       "      <td>EU</td>\n",
       "      <td>Android</td>\n",
       "      <td>2020-12-07</td>\n",
       "      <td>product_page</td>\n",
       "      <td>0.00</td>\n",
       "      <td>2020-12-07 00:16:00</td>\n",
       "      <td>1</td>\n",
       "    </tr>\n",
       "    <tr>\n",
       "      <th>4430</th>\n",
       "      <td>20996AEF74602821</td>\n",
       "      <td>A</td>\n",
       "      <td>recommender_system_test</td>\n",
       "      <td>2020-12-07</td>\n",
       "      <td>EU</td>\n",
       "      <td>Android</td>\n",
       "      <td>2020-12-07</td>\n",
       "      <td>login</td>\n",
       "      <td>0.00</td>\n",
       "      <td>2020-12-07 00:16:00</td>\n",
       "      <td>1</td>\n",
       "    </tr>\n",
       "    <tr>\n",
       "      <th>29319</th>\n",
       "      <td>115EBC1CA027854A</td>\n",
       "      <td>B</td>\n",
       "      <td>recommender_system_test</td>\n",
       "      <td>2020-12-07</td>\n",
       "      <td>EU</td>\n",
       "      <td>Android</td>\n",
       "      <td>2020-12-07</td>\n",
       "      <td>product_page</td>\n",
       "      <td>0.00</td>\n",
       "      <td>2020-12-07 00:25:02</td>\n",
       "      <td>1</td>\n",
       "    </tr>\n",
       "    <tr>\n",
       "      <th>29328</th>\n",
       "      <td>115EBC1CA027854A</td>\n",
       "      <td>B</td>\n",
       "      <td>recommender_system_test</td>\n",
       "      <td>2020-12-07</td>\n",
       "      <td>EU</td>\n",
       "      <td>Android</td>\n",
       "      <td>2020-12-07</td>\n",
       "      <td>login</td>\n",
       "      <td>0.00</td>\n",
       "      <td>2020-12-07 00:25:02</td>\n",
       "      <td>1</td>\n",
       "    </tr>\n",
       "    <tr>\n",
       "      <th>...</th>\n",
       "      <td>...</td>\n",
       "      <td>...</td>\n",
       "      <td>...</td>\n",
       "      <td>...</td>\n",
       "      <td>...</td>\n",
       "      <td>...</td>\n",
       "      <td>...</td>\n",
       "      <td>...</td>\n",
       "      <td>...</td>\n",
       "      <td>...</td>\n",
       "      <td>...</td>\n",
       "    </tr>\n",
       "    <tr>\n",
       "      <th>8446</th>\n",
       "      <td>9F4F58990EAB3DFE</td>\n",
       "      <td>A</td>\n",
       "      <td>recommender_system_test</td>\n",
       "      <td>2020-12-17</td>\n",
       "      <td>EU</td>\n",
       "      <td>Android</td>\n",
       "      <td>2020-12-29</td>\n",
       "      <td>login</td>\n",
       "      <td>0.00</td>\n",
       "      <td>2020-12-29 17:39:13</td>\n",
       "      <td>13</td>\n",
       "    </tr>\n",
       "    <tr>\n",
       "      <th>27235</th>\n",
       "      <td>24834C656421236A</td>\n",
       "      <td>A</td>\n",
       "      <td>recommender_system_test</td>\n",
       "      <td>2020-12-17</td>\n",
       "      <td>EU</td>\n",
       "      <td>iPhone</td>\n",
       "      <td>2020-12-29</td>\n",
       "      <td>purchase</td>\n",
       "      <td>4.99</td>\n",
       "      <td>2020-12-29 21:14:34</td>\n",
       "      <td>13</td>\n",
       "    </tr>\n",
       "    <tr>\n",
       "      <th>27247</th>\n",
       "      <td>24834C656421236A</td>\n",
       "      <td>A</td>\n",
       "      <td>recommender_system_test</td>\n",
       "      <td>2020-12-17</td>\n",
       "      <td>EU</td>\n",
       "      <td>iPhone</td>\n",
       "      <td>2020-12-29</td>\n",
       "      <td>login</td>\n",
       "      <td>0.00</td>\n",
       "      <td>2020-12-29 21:14:34</td>\n",
       "      <td>13</td>\n",
       "    </tr>\n",
       "    <tr>\n",
       "      <th>27239</th>\n",
       "      <td>24834C656421236A</td>\n",
       "      <td>A</td>\n",
       "      <td>recommender_system_test</td>\n",
       "      <td>2020-12-17</td>\n",
       "      <td>EU</td>\n",
       "      <td>iPhone</td>\n",
       "      <td>2020-12-29</td>\n",
       "      <td>product_cart</td>\n",
       "      <td>0.00</td>\n",
       "      <td>2020-12-29 21:14:35</td>\n",
       "      <td>13</td>\n",
       "    </tr>\n",
       "    <tr>\n",
       "      <th>27243</th>\n",
       "      <td>24834C656421236A</td>\n",
       "      <td>A</td>\n",
       "      <td>recommender_system_test</td>\n",
       "      <td>2020-12-17</td>\n",
       "      <td>EU</td>\n",
       "      <td>iPhone</td>\n",
       "      <td>2020-12-29</td>\n",
       "      <td>product_page</td>\n",
       "      <td>0.00</td>\n",
       "      <td>2020-12-29 21:14:35</td>\n",
       "      <td>13</td>\n",
       "    </tr>\n",
       "  </tbody>\n",
       "</table>\n",
       "<p>10374 rows × 11 columns</p>\n",
       "</div>"
      ],
      "text/plain": [
       "                user_id group                  ab_test date_registration  \\\n",
       "4420   20996AEF74602821     A  recommender_system_test        2020-12-07   \n",
       "4425   20996AEF74602821     A  recommender_system_test        2020-12-07   \n",
       "4430   20996AEF74602821     A  recommender_system_test        2020-12-07   \n",
       "29319  115EBC1CA027854A     B  recommender_system_test        2020-12-07   \n",
       "29328  115EBC1CA027854A     B  recommender_system_test        2020-12-07   \n",
       "...                 ...   ...                      ...               ...   \n",
       "8446   9F4F58990EAB3DFE     A  recommender_system_test        2020-12-17   \n",
       "27235  24834C656421236A     A  recommender_system_test        2020-12-17   \n",
       "27247  24834C656421236A     A  recommender_system_test        2020-12-17   \n",
       "27239  24834C656421236A     A  recommender_system_test        2020-12-17   \n",
       "27243  24834C656421236A     A  recommender_system_test        2020-12-17   \n",
       "\n",
       "      region   device   event_dt    event_name  details   event_dt_with_time  \\\n",
       "4420      EU  Android 2020-12-07      purchase     9.99  2020-12-07 00:16:00   \n",
       "4425      EU  Android 2020-12-07  product_page     0.00  2020-12-07 00:16:00   \n",
       "4430      EU  Android 2020-12-07         login     0.00  2020-12-07 00:16:00   \n",
       "29319     EU  Android 2020-12-07  product_page     0.00  2020-12-07 00:25:02   \n",
       "29328     EU  Android 2020-12-07         login     0.00  2020-12-07 00:25:02   \n",
       "...      ...      ...        ...           ...      ...                  ...   \n",
       "8446      EU  Android 2020-12-29         login     0.00  2020-12-29 17:39:13   \n",
       "27235     EU   iPhone 2020-12-29      purchase     4.99  2020-12-29 21:14:34   \n",
       "27247     EU   iPhone 2020-12-29         login     0.00  2020-12-29 21:14:34   \n",
       "27239     EU   iPhone 2020-12-29  product_cart     0.00  2020-12-29 21:14:35   \n",
       "27243     EU   iPhone 2020-12-29  product_page     0.00  2020-12-29 21:14:35   \n",
       "\n",
       "       lifetime  \n",
       "4420          1  \n",
       "4425          1  \n",
       "4430          1  \n",
       "29319         1  \n",
       "29328         1  \n",
       "...         ...  \n",
       "8446         13  \n",
       "27235        13  \n",
       "27247        13  \n",
       "27239        13  \n",
       "27243        13  \n",
       "\n",
       "[10374 rows x 11 columns]"
      ]
     },
     "execution_count": 186,
     "metadata": {},
     "output_type": "execute_result"
    }
   ],
   "source": [
    "# отсортируем данные по дате регистрации и по дате и времени события, \n",
    "# оставим пользователей, которые зарегистрировались раньше 18.12.20\n",
    "\n",
    "test2 = recommender_system_test_data.sort_values(by=['date_registration','event_dt_with_time'])\\\n",
    ".query('date_registration < \"2020-12-18\"')\n",
    "\n",
    "test2"
   ]
  },
  {
   "cell_type": "code",
   "execution_count": 187,
   "id": "4a12af7e",
   "metadata": {},
   "outputs": [
    {
     "data": {
      "text/plain": [
       "1321"
      ]
     },
     "execution_count": 187,
     "metadata": {},
     "output_type": "execute_result"
    }
   ],
   "source": [
    "# определим, сколько покупок было совершено всего\n",
    "\n",
    "test2.query('event_name == \"purchase\"').user_id.count()"
   ]
  },
  {
   "cell_type": "code",
   "execution_count": 188,
   "id": "03739532",
   "metadata": {},
   "outputs": [
    {
     "data": {
      "text/plain": [
       "1591"
      ]
     },
     "execution_count": 188,
     "metadata": {},
     "output_type": "execute_result"
    }
   ],
   "source": [
    "# посчитаем сколько уникальных пользователей всего\n",
    "\n",
    "test2.user_id.nunique()"
   ]
  },
  {
   "cell_type": "code",
   "execution_count": 189,
   "id": "0272b541",
   "metadata": {},
   "outputs": [
    {
     "data": {
      "text/plain": [
       "465"
      ]
     },
     "execution_count": 189,
     "metadata": {},
     "output_type": "execute_result"
    }
   ],
   "source": [
    "# посчитаем сколько уникальных пользователей оплатили\n",
    "\n",
    "test2.query('event_name == \"purchase\"').user_id.nunique()"
   ]
  },
  {
   "cell_type": "markdown",
   "id": "52a91d4f",
   "metadata": {},
   "source": [
    "12 % покупок от общего количества событий и 29 % пользователей оплатили заказ. \n",
    "\n",
    "Из этого делаем вывод, что необязательно нужны 2 недели для формирования воронки. Зарегистрированные пользователи с 18.12 по 21.12 имеют больше конверсию, чем те, у которых есть 14 дней для совершения покупки."
   ]
  },
  {
   "cell_type": "markdown",
   "id": "867083f5",
   "metadata": {},
   "source": [
    "Теперь необходимо проверить, проводились ли маркетинговые события в период проведения теста."
   ]
  },
  {
   "cell_type": "code",
   "execution_count": 190,
   "id": "0f7ebe8e",
   "metadata": {},
   "outputs": [
    {
     "data": {
      "text/html": [
       "<div>\n",
       "<style scoped>\n",
       "    .dataframe tbody tr th:only-of-type {\n",
       "        vertical-align: middle;\n",
       "    }\n",
       "\n",
       "    .dataframe tbody tr th {\n",
       "        vertical-align: top;\n",
       "    }\n",
       "\n",
       "    .dataframe thead th {\n",
       "        text-align: right;\n",
       "    }\n",
       "</style>\n",
       "<table border=\"1\" class=\"dataframe\">\n",
       "  <thead>\n",
       "    <tr style=\"text-align: right;\">\n",
       "      <th></th>\n",
       "      <th>name</th>\n",
       "      <th>regions</th>\n",
       "      <th>start_dt</th>\n",
       "      <th>finish_dt</th>\n",
       "    </tr>\n",
       "  </thead>\n",
       "  <tbody>\n",
       "    <tr>\n",
       "      <th>0</th>\n",
       "      <td>Christmas&amp;New Year Promo</td>\n",
       "      <td>EU, N.America</td>\n",
       "      <td>2020-12-25</td>\n",
       "      <td>2021-01-03</td>\n",
       "    </tr>\n",
       "    <tr>\n",
       "      <th>1</th>\n",
       "      <td>St. Valentine's Day Giveaway</td>\n",
       "      <td>EU, CIS, APAC, N.America</td>\n",
       "      <td>2020-02-14</td>\n",
       "      <td>2020-02-16</td>\n",
       "    </tr>\n",
       "    <tr>\n",
       "      <th>2</th>\n",
       "      <td>St. Patric's Day Promo</td>\n",
       "      <td>EU, N.America</td>\n",
       "      <td>2020-03-17</td>\n",
       "      <td>2020-03-19</td>\n",
       "    </tr>\n",
       "    <tr>\n",
       "      <th>3</th>\n",
       "      <td>Easter Promo</td>\n",
       "      <td>EU, CIS, APAC, N.America</td>\n",
       "      <td>2020-04-12</td>\n",
       "      <td>2020-04-19</td>\n",
       "    </tr>\n",
       "    <tr>\n",
       "      <th>4</th>\n",
       "      <td>4th of July Promo</td>\n",
       "      <td>N.America</td>\n",
       "      <td>2020-07-04</td>\n",
       "      <td>2020-07-11</td>\n",
       "    </tr>\n",
       "    <tr>\n",
       "      <th>5</th>\n",
       "      <td>Black Friday Ads Campaign</td>\n",
       "      <td>EU, CIS, APAC, N.America</td>\n",
       "      <td>2020-11-26</td>\n",
       "      <td>2020-12-01</td>\n",
       "    </tr>\n",
       "    <tr>\n",
       "      <th>6</th>\n",
       "      <td>Chinese New Year Promo</td>\n",
       "      <td>APAC</td>\n",
       "      <td>2020-01-25</td>\n",
       "      <td>2020-02-07</td>\n",
       "    </tr>\n",
       "    <tr>\n",
       "      <th>7</th>\n",
       "      <td>Labor day (May 1st) Ads Campaign</td>\n",
       "      <td>EU, CIS, APAC</td>\n",
       "      <td>2020-05-01</td>\n",
       "      <td>2020-05-03</td>\n",
       "    </tr>\n",
       "    <tr>\n",
       "      <th>8</th>\n",
       "      <td>International Women's Day Promo</td>\n",
       "      <td>EU, CIS, APAC</td>\n",
       "      <td>2020-03-08</td>\n",
       "      <td>2020-03-10</td>\n",
       "    </tr>\n",
       "    <tr>\n",
       "      <th>9</th>\n",
       "      <td>Victory Day CIS (May 9th) Event</td>\n",
       "      <td>CIS</td>\n",
       "      <td>2020-05-09</td>\n",
       "      <td>2020-05-11</td>\n",
       "    </tr>\n",
       "    <tr>\n",
       "      <th>10</th>\n",
       "      <td>CIS New Year Gift Lottery</td>\n",
       "      <td>CIS</td>\n",
       "      <td>2020-12-30</td>\n",
       "      <td>2021-01-07</td>\n",
       "    </tr>\n",
       "    <tr>\n",
       "      <th>11</th>\n",
       "      <td>Dragon Boat Festival Giveaway</td>\n",
       "      <td>APAC</td>\n",
       "      <td>2020-06-25</td>\n",
       "      <td>2020-07-01</td>\n",
       "    </tr>\n",
       "    <tr>\n",
       "      <th>12</th>\n",
       "      <td>Single's Day Gift Promo</td>\n",
       "      <td>APAC</td>\n",
       "      <td>2020-11-11</td>\n",
       "      <td>2020-11-12</td>\n",
       "    </tr>\n",
       "    <tr>\n",
       "      <th>13</th>\n",
       "      <td>Chinese Moon Festival</td>\n",
       "      <td>APAC</td>\n",
       "      <td>2020-10-01</td>\n",
       "      <td>2020-10-07</td>\n",
       "    </tr>\n",
       "  </tbody>\n",
       "</table>\n",
       "</div>"
      ],
      "text/plain": [
       "                                name                   regions   start_dt  \\\n",
       "0           Christmas&New Year Promo             EU, N.America 2020-12-25   \n",
       "1       St. Valentine's Day Giveaway  EU, CIS, APAC, N.America 2020-02-14   \n",
       "2             St. Patric's Day Promo             EU, N.America 2020-03-17   \n",
       "3                       Easter Promo  EU, CIS, APAC, N.America 2020-04-12   \n",
       "4                  4th of July Promo                 N.America 2020-07-04   \n",
       "5          Black Friday Ads Campaign  EU, CIS, APAC, N.America 2020-11-26   \n",
       "6             Chinese New Year Promo                      APAC 2020-01-25   \n",
       "7   Labor day (May 1st) Ads Campaign             EU, CIS, APAC 2020-05-01   \n",
       "8    International Women's Day Promo             EU, CIS, APAC 2020-03-08   \n",
       "9    Victory Day CIS (May 9th) Event                       CIS 2020-05-09   \n",
       "10         CIS New Year Gift Lottery                       CIS 2020-12-30   \n",
       "11     Dragon Boat Festival Giveaway                      APAC 2020-06-25   \n",
       "12           Single's Day Gift Promo                      APAC 2020-11-11   \n",
       "13             Chinese Moon Festival                      APAC 2020-10-01   \n",
       "\n",
       "    finish_dt  \n",
       "0  2021-01-03  \n",
       "1  2020-02-16  \n",
       "2  2020-03-19  \n",
       "3  2020-04-19  \n",
       "4  2020-07-11  \n",
       "5  2020-12-01  \n",
       "6  2020-02-07  \n",
       "7  2020-05-03  \n",
       "8  2020-03-10  \n",
       "9  2020-05-11  \n",
       "10 2021-01-07  \n",
       "11 2020-07-01  \n",
       "12 2020-11-12  \n",
       "13 2020-10-07  "
      ]
     },
     "execution_count": 190,
     "metadata": {},
     "output_type": "execute_result"
    }
   ],
   "source": [
    "# выведем календарь маркетинговых событий\n",
    "\n",
    "marketing_events"
   ]
  },
  {
   "cell_type": "markdown",
   "id": "3b260ab0",
   "metadata": {},
   "source": [
    "Определим, какие события проходили в период теста."
   ]
  },
  {
   "cell_type": "code",
   "execution_count": 191,
   "id": "ca683274",
   "metadata": {},
   "outputs": [
    {
     "data": {
      "text/html": [
       "<div>\n",
       "<style scoped>\n",
       "    .dataframe tbody tr th:only-of-type {\n",
       "        vertical-align: middle;\n",
       "    }\n",
       "\n",
       "    .dataframe tbody tr th {\n",
       "        vertical-align: top;\n",
       "    }\n",
       "\n",
       "    .dataframe thead th {\n",
       "        text-align: right;\n",
       "    }\n",
       "</style>\n",
       "<table border=\"1\" class=\"dataframe\">\n",
       "  <thead>\n",
       "    <tr style=\"text-align: right;\">\n",
       "      <th></th>\n",
       "      <th>name</th>\n",
       "      <th>regions</th>\n",
       "      <th>start_dt</th>\n",
       "      <th>finish_dt</th>\n",
       "    </tr>\n",
       "  </thead>\n",
       "  <tbody>\n",
       "    <tr>\n",
       "      <th>0</th>\n",
       "      <td>Christmas&amp;New Year Promo</td>\n",
       "      <td>EU, N.America</td>\n",
       "      <td>2020-12-25</td>\n",
       "      <td>2021-01-03</td>\n",
       "    </tr>\n",
       "    <tr>\n",
       "      <th>10</th>\n",
       "      <td>CIS New Year Gift Lottery</td>\n",
       "      <td>CIS</td>\n",
       "      <td>2020-12-30</td>\n",
       "      <td>2021-01-07</td>\n",
       "    </tr>\n",
       "  </tbody>\n",
       "</table>\n",
       "</div>"
      ],
      "text/plain": [
       "                         name        regions   start_dt  finish_dt\n",
       "0    Christmas&New Year Promo  EU, N.America 2020-12-25 2021-01-03\n",
       "10  CIS New Year Gift Lottery            CIS 2020-12-30 2021-01-07"
      ]
     },
     "execution_count": 191,
     "metadata": {},
     "output_type": "execute_result"
    }
   ],
   "source": [
    "# проверим, какое маркетинговое событие проходило в период теста\n",
    "\n",
    "marketing_events.query('start_dt <= \"2021-01-04\" and finish_dt >= \"2020-12-07\"')"
   ]
  },
  {
   "cell_type": "markdown",
   "id": "98680946",
   "metadata": {},
   "source": [
    "Мы видим, что в нужном нам регионе и в период теста проводилось мероприятие 'Christmas&New Year Promo', период проведения с 25.12.20 по 03.01.21.\n",
    "\n",
    "Посмотрим на распределение событий по дням, чтобы проверить была ли повышенная активность именно в период рекламной кампании."
   ]
  },
  {
   "cell_type": "code",
   "execution_count": 192,
   "id": "6b466984",
   "metadata": {},
   "outputs": [
    {
     "data": {
      "image/png": "[encoded data removed]",
      "text/plain": [
       "<Figure size 864x288 with 1 Axes>"
      ]
     },
     "metadata": {
      "needs_background": "light"
     },
     "output_type": "display_data"
    }
   ],
   "source": [
    "# построим линейный график, отражающий общее количество событий по датам\n",
    "\n",
    "\n",
    "plt.subplots(figsize = (12,4))\n",
    "\n",
    "plt.plot(recommender_system_test_data.groupby('event_dt', as_index=False)['event_name'].count()['event_dt'], \n",
    "         recommender_system_test_data.groupby('event_dt', as_index=False)['event_name'].count()['event_name'])\n",
    "\n",
    "plt.xlabel('Период проведения А/Б теста', fontsize=12)\n",
    "\n",
    "plt.ylabel('Количество событий', fontsize=12)\n",
    "\n",
    "plt.title('Общее количество событий по дням',fontsize=14);"
   ]
  },
  {
   "cell_type": "markdown",
   "id": "34596bf9",
   "metadata": {},
   "source": [
    "Мы не видим увеличения активности 25.12.20, значит маркетинговое событие вряд ли могло повлиять на аудиторию теста. Пик активности был 21.12.20, и к 30.12.20 количество событий резко сократилось. Далее, проверим более детально события по каждой группе теста."
   ]
  },
  {
   "cell_type": "code",
   "execution_count": 193,
   "id": "37c8cb36",
   "metadata": {},
   "outputs": [],
   "source": [
    "# сохраним в отдельных переменных количество событий по каждой группе\n",
    "\n",
    "A_count_event = recommender_system_test_data.query('group ==\"A\"').groupby('event_dt', as_index=False)['event_name'].count()\n",
    "\n",
    "B_count_event = recommender_system_test_data.query('group ==\"B\"').groupby('event_dt', as_index=False)['event_name'].count()"
   ]
  },
  {
   "cell_type": "code",
   "execution_count": 194,
   "id": "fe371e1e",
   "metadata": {
    "scrolled": true
   },
   "outputs": [
    {
     "data": {
      "image/png": "[encoded data removed]",
      "text/plain": [
       "<Figure size 864x288 with 1 Axes>"
      ]
     },
     "metadata": {
      "needs_background": "light"
     },
     "output_type": "display_data"
    }
   ],
   "source": [
    "# построим линейный график распределения количества событий по каждой группе теста\n",
    "\n",
    "plt.subplots(figsize = (12,4))\n",
    "\n",
    "plt.plot(A_count_event['event_dt'], \n",
    "         A_count_event['event_name'], \n",
    "         label='группа A')\n",
    "\n",
    "plt.plot(B_count_event['event_dt'], \n",
    "         B_count_event['event_name'], \n",
    "         label='группа B')\n",
    "\n",
    "plt.legend()\n",
    "\n",
    "plt.xlabel('Период проведения А/Б теста', fontsize=12)\n",
    "\n",
    "plt.ylabel('Количество событий', fontsize=12)\n",
    "\n",
    "plt.title('Распределение количества событий по каждой группе теста',fontsize=14);"
   ]
  },
  {
   "cell_type": "markdown",
   "id": "c7ba1a56",
   "metadata": {},
   "source": [
    "Мы видим 2 резких увеличения количества событий у группы А - 14.12.20 и 21.12.20. Это может быть связано с сезонностью. В период с 14.12.20 по 21.12.20 количество событий выросло примерно в 1,7 раза, далее активность пользователей  стала постепенно уменьшаться до конца теста. Вероятно, в преддверии Нового года пользователи активнее пользовались ресурсом для поиска и покупки подарков. Также, причина в таком резком увеличении может быть связана с тем, что новые пользователи могли регистрироваться только до 21.12.20. Если бы набор продолжался, то,вероятно, высокая активность сохранялась из-за предстоящих праздников. Стоит также принять во внимание ошибки в сборе самой информации и технические ошибки, которые могли возникнуть на ресурсе, из-за чего пользователям пришлось несколько раз логиниться или перезаходить на страницу с товаром, например.\n",
    "\n",
    "Что касается группы B, то небольшой подъем активности мы наблюдаем так же с 14.12.20 по 21.12.20."
   ]
  },
  {
   "cell_type": "code",
   "execution_count": 195,
   "id": "a57a8909",
   "metadata": {},
   "outputs": [
    {
     "data": {
      "text/html": [
       "<div>\n",
       "<style scoped>\n",
       "    .dataframe tbody tr th:only-of-type {\n",
       "        vertical-align: middle;\n",
       "    }\n",
       "\n",
       "    .dataframe tbody tr th {\n",
       "        vertical-align: top;\n",
       "    }\n",
       "\n",
       "    .dataframe thead th {\n",
       "        text-align: right;\n",
       "    }\n",
       "</style>\n",
       "<table border=\"1\" class=\"dataframe\">\n",
       "  <thead>\n",
       "    <tr style=\"text-align: right;\">\n",
       "      <th></th>\n",
       "      <th>user_id</th>\n",
       "      <th>group</th>\n",
       "      <th>ab_test</th>\n",
       "      <th>date_registration</th>\n",
       "      <th>region</th>\n",
       "      <th>device</th>\n",
       "      <th>event_dt</th>\n",
       "      <th>event_name</th>\n",
       "      <th>details</th>\n",
       "      <th>event_dt_with_time</th>\n",
       "      <th>lifetime</th>\n",
       "    </tr>\n",
       "  </thead>\n",
       "  <tbody>\n",
       "    <tr>\n",
       "      <th>0</th>\n",
       "      <td>D1ABA3E2887B6A73</td>\n",
       "      <td>A</td>\n",
       "      <td>recommender_system_test</td>\n",
       "      <td>2020-12-07</td>\n",
       "      <td>EU</td>\n",
       "      <td>PC</td>\n",
       "      <td>2020-12-07</td>\n",
       "      <td>purchase</td>\n",
       "      <td>99.99</td>\n",
       "      <td>2020-12-07 14:43:27</td>\n",
       "      <td>1</td>\n",
       "    </tr>\n",
       "    <tr>\n",
       "      <th>2</th>\n",
       "      <td>D1ABA3E2887B6A73</td>\n",
       "      <td>A</td>\n",
       "      <td>recommender_system_test</td>\n",
       "      <td>2020-12-07</td>\n",
       "      <td>EU</td>\n",
       "      <td>PC</td>\n",
       "      <td>2020-12-07</td>\n",
       "      <td>product_cart</td>\n",
       "      <td>0.00</td>\n",
       "      <td>2020-12-07 14:43:29</td>\n",
       "      <td>1</td>\n",
       "    </tr>\n",
       "    <tr>\n",
       "      <th>4</th>\n",
       "      <td>D1ABA3E2887B6A73</td>\n",
       "      <td>A</td>\n",
       "      <td>recommender_system_test</td>\n",
       "      <td>2020-12-07</td>\n",
       "      <td>EU</td>\n",
       "      <td>PC</td>\n",
       "      <td>2020-12-07</td>\n",
       "      <td>product_page</td>\n",
       "      <td>0.00</td>\n",
       "      <td>2020-12-07 14:43:27</td>\n",
       "      <td>1</td>\n",
       "    </tr>\n",
       "    <tr>\n",
       "      <th>6</th>\n",
       "      <td>D1ABA3E2887B6A73</td>\n",
       "      <td>A</td>\n",
       "      <td>recommender_system_test</td>\n",
       "      <td>2020-12-07</td>\n",
       "      <td>EU</td>\n",
       "      <td>PC</td>\n",
       "      <td>2020-12-07</td>\n",
       "      <td>login</td>\n",
       "      <td>0.00</td>\n",
       "      <td>2020-12-07 14:43:27</td>\n",
       "      <td>1</td>\n",
       "    </tr>\n",
       "    <tr>\n",
       "      <th>8</th>\n",
       "      <td>A7A3664BD6242119</td>\n",
       "      <td>A</td>\n",
       "      <td>recommender_system_test</td>\n",
       "      <td>2020-12-20</td>\n",
       "      <td>EU</td>\n",
       "      <td>iPhone</td>\n",
       "      <td>2020-12-20</td>\n",
       "      <td>product_page</td>\n",
       "      <td>0.00</td>\n",
       "      <td>2020-12-20 15:46:06</td>\n",
       "      <td>1</td>\n",
       "    </tr>\n",
       "  </tbody>\n",
       "</table>\n",
       "</div>"
      ],
      "text/plain": [
       "            user_id group                  ab_test date_registration region  \\\n",
       "0  D1ABA3E2887B6A73     A  recommender_system_test        2020-12-07     EU   \n",
       "2  D1ABA3E2887B6A73     A  recommender_system_test        2020-12-07     EU   \n",
       "4  D1ABA3E2887B6A73     A  recommender_system_test        2020-12-07     EU   \n",
       "6  D1ABA3E2887B6A73     A  recommender_system_test        2020-12-07     EU   \n",
       "8  A7A3664BD6242119     A  recommender_system_test        2020-12-20     EU   \n",
       "\n",
       "   device   event_dt    event_name  details   event_dt_with_time  lifetime  \n",
       "0      PC 2020-12-07      purchase    99.99  2020-12-07 14:43:27         1  \n",
       "2      PC 2020-12-07  product_cart     0.00  2020-12-07 14:43:29         1  \n",
       "4      PC 2020-12-07  product_page     0.00  2020-12-07 14:43:27         1  \n",
       "6      PC 2020-12-07         login     0.00  2020-12-07 14:43:27         1  \n",
       "8  iPhone 2020-12-20  product_page     0.00  2020-12-20 15:46:06         1  "
      ]
     },
     "execution_count": 195,
     "metadata": {},
     "output_type": "execute_result"
    }
   ],
   "source": [
    "# выведем первые 5 строк\n",
    "\n",
    "recommender_system_test_data.head()"
   ]
  },
  {
   "cell_type": "code",
   "execution_count": 196,
   "id": "e9f1c995",
   "metadata": {},
   "outputs": [
    {
     "data": {
      "text/html": [
       "<div>\n",
       "<style scoped>\n",
       "    .dataframe tbody tr th:only-of-type {\n",
       "        vertical-align: middle;\n",
       "    }\n",
       "\n",
       "    .dataframe tbody tr th {\n",
       "        vertical-align: top;\n",
       "    }\n",
       "\n",
       "    .dataframe thead th {\n",
       "        text-align: right;\n",
       "    }\n",
       "</style>\n",
       "<table border=\"1\" class=\"dataframe\">\n",
       "  <thead>\n",
       "    <tr style=\"text-align: right;\">\n",
       "      <th></th>\n",
       "      <th>event_dt</th>\n",
       "      <th>event_name</th>\n",
       "      <th>user_id</th>\n",
       "    </tr>\n",
       "    <tr>\n",
       "      <th>event_dt</th>\n",
       "      <th></th>\n",
       "      <th></th>\n",
       "      <th></th>\n",
       "    </tr>\n",
       "  </thead>\n",
       "  <tbody>\n",
       "    <tr>\n",
       "      <th>2020-12-07</th>\n",
       "      <td>2020-12-07</td>\n",
       "      <td>login</td>\n",
       "      <td>217</td>\n",
       "    </tr>\n",
       "    <tr>\n",
       "      <th>2020-12-07</th>\n",
       "      <td>2020-12-07</td>\n",
       "      <td>product_page</td>\n",
       "      <td>142</td>\n",
       "    </tr>\n",
       "    <tr>\n",
       "      <th>2020-12-07</th>\n",
       "      <td>2020-12-07</td>\n",
       "      <td>purchase</td>\n",
       "      <td>74</td>\n",
       "    </tr>\n",
       "    <tr>\n",
       "      <th>2020-12-07</th>\n",
       "      <td>2020-12-07</td>\n",
       "      <td>product_cart</td>\n",
       "      <td>56</td>\n",
       "    </tr>\n",
       "    <tr>\n",
       "      <th>2020-12-08</th>\n",
       "      <td>2020-12-08</td>\n",
       "      <td>login</td>\n",
       "      <td>189</td>\n",
       "    </tr>\n",
       "    <tr>\n",
       "      <th>...</th>\n",
       "      <td>...</td>\n",
       "      <td>...</td>\n",
       "      <td>...</td>\n",
       "    </tr>\n",
       "    <tr>\n",
       "      <th>2020-12-28</th>\n",
       "      <td>2020-12-28</td>\n",
       "      <td>purchase</td>\n",
       "      <td>35</td>\n",
       "    </tr>\n",
       "    <tr>\n",
       "      <th>2020-12-29</th>\n",
       "      <td>2020-12-29</td>\n",
       "      <td>login</td>\n",
       "      <td>108</td>\n",
       "    </tr>\n",
       "    <tr>\n",
       "      <th>2020-12-29</th>\n",
       "      <td>2020-12-29</td>\n",
       "      <td>product_page</td>\n",
       "      <td>68</td>\n",
       "    </tr>\n",
       "    <tr>\n",
       "      <th>2020-12-29</th>\n",
       "      <td>2020-12-29</td>\n",
       "      <td>product_cart</td>\n",
       "      <td>33</td>\n",
       "    </tr>\n",
       "    <tr>\n",
       "      <th>2020-12-29</th>\n",
       "      <td>2020-12-29</td>\n",
       "      <td>purchase</td>\n",
       "      <td>33</td>\n",
       "    </tr>\n",
       "  </tbody>\n",
       "</table>\n",
       "<p>92 rows × 3 columns</p>\n",
       "</div>"
      ],
      "text/plain": [
       "             event_dt    event_name  user_id\n",
       "event_dt                                    \n",
       "2020-12-07 2020-12-07         login      217\n",
       "2020-12-07 2020-12-07  product_page      142\n",
       "2020-12-07 2020-12-07      purchase       74\n",
       "2020-12-07 2020-12-07  product_cart       56\n",
       "2020-12-08 2020-12-08         login      189\n",
       "...               ...           ...      ...\n",
       "2020-12-28 2020-12-28      purchase       35\n",
       "2020-12-29 2020-12-29         login      108\n",
       "2020-12-29 2020-12-29  product_page       68\n",
       "2020-12-29 2020-12-29  product_cart       33\n",
       "2020-12-29 2020-12-29      purchase       33\n",
       "\n",
       "[92 rows x 3 columns]"
      ]
     },
     "execution_count": 196,
     "metadata": {},
     "output_type": "execute_result"
    }
   ],
   "source": [
    "# сгруппируем события по дате и посмотрим, какое событие лидирует\n",
    "\n",
    "count_event_date = recommender_system_test_data.groupby(['event_dt','event_name'], as_index=False)['user_id']\\\n",
    ".count()\\\n",
    ".sort_values(by=['event_dt','user_id'], ascending=[True,False])\n",
    "\n",
    "count_event_date.index = count_event_date.event_dt\n",
    "\n",
    "count_event_date"
   ]
  },
  {
   "cell_type": "code",
   "execution_count": 197,
   "id": "f3d2fec2",
   "metadata": {},
   "outputs": [
    {
     "data": {
      "image/png": "[encoded data removed]",
      "text/plain": [
       "<Figure size 1584x864 with 1 Axes>"
      ]
     },
     "metadata": {
      "needs_background": "light"
     },
     "output_type": "display_data"
    }
   ],
   "source": [
    "# построим барплот\n",
    "\n",
    "fig, ax = plt.subplots(figsize = (22,12))\n",
    "\n",
    "ax = sns.barplot(y='user_id',\n",
    "            x=count_event_date.index.strftime('%d.%m.%y'),\n",
    "            hue=\"event_name\",\n",
    "            data=count_event_date)\n",
    "\n",
    "ax.set_title('Распределение событий в период проведения теста', fontsize=14)\n",
    "ax.set(xlabel='Период проведения теста', ylabel='Количество событий')\n",
    "ax.xaxis.label.set_fontsize(12)\n",
    "ax.yaxis.label.set_fontsize(12);"
   ]
  },
  {
   "cell_type": "markdown",
   "id": "38696133",
   "metadata": {},
   "source": [
    "Данная диаграмма подтверждает, что 21.12.20 пользователи активнее всего логинились, просматривали товары, добавляли их в корзину и оплачивали заказ. А начиная с 14.12.20 и до 21.12.20 вкл. мы видим в целом повышенную активность пользователей в пользовании ресурсом. \n",
    "\n",
    "Сезонность, как и маркетинговые мероприятия, также могут неблагоприятно повлиять на результат теста. Но очень много данных о пользователях мы потеряем, если будем убирать активность на фоне предстоящих праздников. В связи с этим, было принято решение не исключать данные из теста."
   ]
  },
  {
   "cell_type": "code",
   "execution_count": 198,
   "id": "28ac66f5",
   "metadata": {},
   "outputs": [
    {
     "data": {
      "text/plain": [
       "event_name\n",
       "login           2\n",
       "product_cart    2\n",
       "product_page    2\n",
       "purchase        2\n",
       "Name: group, dtype: int64"
      ]
     },
     "execution_count": 198,
     "metadata": {},
     "output_type": "execute_result"
    }
   ],
   "source": [
    "# проверим все ли группы теста фигурируют в событиях\n",
    "\n",
    "recommender_system_test_data.groupby('event_name')['group'].nunique()"
   ]
  },
  {
   "cell_type": "markdown",
   "id": "a24c69d4",
   "metadata": {},
   "source": [
    "Пользователи обеих групп теста совершали все виды событий."
   ]
  },
  {
   "cell_type": "code",
   "execution_count": 199,
   "id": "5159cb7f",
   "metadata": {},
   "outputs": [
    {
     "data": {
      "text/html": [
       "<div>\n",
       "<style scoped>\n",
       "    .dataframe tbody tr th:only-of-type {\n",
       "        vertical-align: middle;\n",
       "    }\n",
       "\n",
       "    .dataframe tbody tr th {\n",
       "        vertical-align: top;\n",
       "    }\n",
       "\n",
       "    .dataframe thead th {\n",
       "        text-align: right;\n",
       "    }\n",
       "</style>\n",
       "<table border=\"1\" class=\"dataframe\">\n",
       "  <thead>\n",
       "    <tr style=\"text-align: right;\">\n",
       "      <th></th>\n",
       "      <th>user_id</th>\n",
       "      <th>event_name</th>\n",
       "    </tr>\n",
       "  </thead>\n",
       "  <tbody>\n",
       "    <tr>\n",
       "      <th>0</th>\n",
       "      <td>0010A1C096941592</td>\n",
       "      <td>12</td>\n",
       "    </tr>\n",
       "    <tr>\n",
       "      <th>1</th>\n",
       "      <td>003DF44D7589BBD4</td>\n",
       "      <td>15</td>\n",
       "    </tr>\n",
       "    <tr>\n",
       "      <th>2</th>\n",
       "      <td>00505E15A9D81546</td>\n",
       "      <td>5</td>\n",
       "    </tr>\n",
       "    <tr>\n",
       "      <th>3</th>\n",
       "      <td>005E096DBD379BCF</td>\n",
       "      <td>4</td>\n",
       "    </tr>\n",
       "    <tr>\n",
       "      <th>4</th>\n",
       "      <td>006E3E4E232CE760</td>\n",
       "      <td>6</td>\n",
       "    </tr>\n",
       "    <tr>\n",
       "      <th>...</th>\n",
       "      <td>...</td>\n",
       "      <td>...</td>\n",
       "    </tr>\n",
       "    <tr>\n",
       "      <th>2589</th>\n",
       "      <td>FF5A1CD38F5DD996</td>\n",
       "      <td>10</td>\n",
       "    </tr>\n",
       "    <tr>\n",
       "      <th>2590</th>\n",
       "      <td>FF5B24BCE4387F86</td>\n",
       "      <td>9</td>\n",
       "    </tr>\n",
       "    <tr>\n",
       "      <th>2591</th>\n",
       "      <td>FF825C1D791989B5</td>\n",
       "      <td>8</td>\n",
       "    </tr>\n",
       "    <tr>\n",
       "      <th>2592</th>\n",
       "      <td>FF8CF7057415EB29</td>\n",
       "      <td>4</td>\n",
       "    </tr>\n",
       "    <tr>\n",
       "      <th>2593</th>\n",
       "      <td>FFAE9489C76F352B</td>\n",
       "      <td>6</td>\n",
       "    </tr>\n",
       "  </tbody>\n",
       "</table>\n",
       "<p>2594 rows × 2 columns</p>\n",
       "</div>"
      ],
      "text/plain": [
       "               user_id  event_name\n",
       "0     0010A1C096941592          12\n",
       "1     003DF44D7589BBD4          15\n",
       "2     00505E15A9D81546           5\n",
       "3     005E096DBD379BCF           4\n",
       "4     006E3E4E232CE760           6\n",
       "...                ...         ...\n",
       "2589  FF5A1CD38F5DD996          10\n",
       "2590  FF5B24BCE4387F86           9\n",
       "2591  FF825C1D791989B5           8\n",
       "2592  FF8CF7057415EB29           4\n",
       "2593  FFAE9489C76F352B           6\n",
       "\n",
       "[2594 rows x 2 columns]"
      ]
     },
     "execution_count": 199,
     "metadata": {},
     "output_type": "execute_result"
    }
   ],
   "source": [
    "# Определим, сколько в среднем событий приходится на 1 пользователя\n",
    "\n",
    "count_event_per_user = recommender_system_test_data.groupby('user_id',as_index=False)['event_name'].count()\n",
    "\n",
    "count_event_per_user"
   ]
  },
  {
   "cell_type": "code",
   "execution_count": 200,
   "id": "c16bcd38",
   "metadata": {
    "scrolled": true
   },
   "outputs": [
    {
     "data": {
      "text/html": [
       "<div>\n",
       "<style scoped>\n",
       "    .dataframe tbody tr th:only-of-type {\n",
       "        vertical-align: middle;\n",
       "    }\n",
       "\n",
       "    .dataframe tbody tr th {\n",
       "        vertical-align: top;\n",
       "    }\n",
       "\n",
       "    .dataframe thead th {\n",
       "        text-align: right;\n",
       "    }\n",
       "</style>\n",
       "<table border=\"1\" class=\"dataframe\">\n",
       "  <thead>\n",
       "    <tr style=\"text-align: right;\">\n",
       "      <th></th>\n",
       "      <th>event_name</th>\n",
       "    </tr>\n",
       "  </thead>\n",
       "  <tbody>\n",
       "    <tr>\n",
       "      <th>count</th>\n",
       "      <td>2594.000000</td>\n",
       "    </tr>\n",
       "    <tr>\n",
       "      <th>mean</th>\n",
       "      <td>6.521974</td>\n",
       "    </tr>\n",
       "    <tr>\n",
       "      <th>std</th>\n",
       "      <td>3.752220</td>\n",
       "    </tr>\n",
       "    <tr>\n",
       "      <th>min</th>\n",
       "      <td>1.000000</td>\n",
       "    </tr>\n",
       "    <tr>\n",
       "      <th>25%</th>\n",
       "      <td>4.000000</td>\n",
       "    </tr>\n",
       "    <tr>\n",
       "      <th>50%</th>\n",
       "      <td>6.000000</td>\n",
       "    </tr>\n",
       "    <tr>\n",
       "      <th>75%</th>\n",
       "      <td>9.000000</td>\n",
       "    </tr>\n",
       "    <tr>\n",
       "      <th>max</th>\n",
       "      <td>24.000000</td>\n",
       "    </tr>\n",
       "  </tbody>\n",
       "</table>\n",
       "</div>"
      ],
      "text/plain": [
       "        event_name\n",
       "count  2594.000000\n",
       "mean      6.521974\n",
       "std       3.752220\n",
       "min       1.000000\n",
       "25%       4.000000\n",
       "50%       6.000000\n",
       "75%       9.000000\n",
       "max      24.000000"
      ]
     },
     "execution_count": 200,
     "metadata": {},
     "output_type": "execute_result"
    }
   ],
   "source": [
    "# опишем данные в датафрейме\n",
    "\n",
    "count_event_per_user.describe()"
   ]
  },
  {
   "cell_type": "markdown",
   "id": "d93447b1",
   "metadata": {},
   "source": [
    "50 % пользователей имеют 6 событий. Среди пользователей есть те, кто совершили 24 события в период теста."
   ]
  },
  {
   "cell_type": "code",
   "execution_count": 201,
   "id": "02eb41e7",
   "metadata": {},
   "outputs": [
    {
     "data": {
      "text/plain": [
       "count    1939.000000\n",
       "mean        6.897370\n",
       "std         3.830825\n",
       "min         1.000000\n",
       "25%         4.000000\n",
       "50%         6.000000\n",
       "75%         9.000000\n",
       "max        24.000000\n",
       "Name: event_name, dtype: float64"
      ]
     },
     "execution_count": 201,
     "metadata": {},
     "output_type": "execute_result"
    }
   ],
   "source": [
    "# Сгруппируем данные по пользователям, по группам и посчитаем количество событий\n",
    "\n",
    "count_event_per_user_group = recommender_system_test_data.groupby(['group','user_id'],as_index=False)['event_name'].count()\n",
    "\n",
    "# опишем с помощью описательной статистики количество событий по группе A\n",
    "\n",
    "count_event_per_user_group.query('group == \"A\"')['event_name'].describe()\n"
   ]
  },
  {
   "cell_type": "code",
   "execution_count": 202,
   "id": "b6f7a53c",
   "metadata": {},
   "outputs": [
    {
     "data": {
      "text/plain": [
       "count    655.000000\n",
       "mean       5.410687\n",
       "std        3.267981\n",
       "min        1.000000\n",
       "25%        3.000000\n",
       "50%        4.000000\n",
       "75%        6.500000\n",
       "max       24.000000\n",
       "Name: event_name, dtype: float64"
      ]
     },
     "execution_count": 202,
     "metadata": {},
     "output_type": "execute_result"
    }
   ],
   "source": [
    "# опишем с помощью описательной статистики количество событий по группе B\n",
    "\n",
    "count_event_per_user_group.query('group == \"B\"')['event_name'].describe()"
   ]
  },
  {
   "cell_type": "markdown",
   "id": "eaa6670b",
   "metadata": {},
   "source": [
    "В группе А 50 % пользователей имеют 6 событий. В группе B половина пользователей имеют чуть меньше событий по сравнению с группой А, медианное значение составляет 4. Максимальное количество в обеих группах одинаковое и составляет 24."
   ]
  },
  {
   "cell_type": "markdown",
   "id": "431ee1e7",
   "metadata": {},
   "source": [
    "### Формирование и анализ воронки событий ###"
   ]
  },
  {
   "cell_type": "markdown",
   "id": "97422edb",
   "metadata": {},
   "source": [
    "**Проанализируем воронку событий.**"
   ]
  },
  {
   "cell_type": "code",
   "execution_count": 203,
   "id": "42a2e7bf",
   "metadata": {},
   "outputs": [
    {
     "data": {
      "text/html": [
       "<div>\n",
       "<style scoped>\n",
       "    .dataframe tbody tr th:only-of-type {\n",
       "        vertical-align: middle;\n",
       "    }\n",
       "\n",
       "    .dataframe tbody tr th {\n",
       "        vertical-align: top;\n",
       "    }\n",
       "\n",
       "    .dataframe thead th {\n",
       "        text-align: right;\n",
       "    }\n",
       "</style>\n",
       "<table border=\"1\" class=\"dataframe\">\n",
       "  <thead>\n",
       "    <tr style=\"text-align: right;\">\n",
       "      <th></th>\n",
       "      <th>event_name</th>\n",
       "      <th>user_id</th>\n",
       "      <th>share</th>\n",
       "    </tr>\n",
       "  </thead>\n",
       "  <tbody>\n",
       "    <tr>\n",
       "      <th>0</th>\n",
       "      <td>login</td>\n",
       "      <td>2593</td>\n",
       "      <td>100.0</td>\n",
       "    </tr>\n",
       "    <tr>\n",
       "      <th>1</th>\n",
       "      <td>product_page</td>\n",
       "      <td>1632</td>\n",
       "      <td>62.9</td>\n",
       "    </tr>\n",
       "    <tr>\n",
       "      <th>2</th>\n",
       "      <td>product_cart</td>\n",
       "      <td>773</td>\n",
       "      <td>29.8</td>\n",
       "    </tr>\n",
       "    <tr>\n",
       "      <th>3</th>\n",
       "      <td>purchase</td>\n",
       "      <td>804</td>\n",
       "      <td>31.0</td>\n",
       "    </tr>\n",
       "  </tbody>\n",
       "</table>\n",
       "</div>"
      ],
      "text/plain": [
       "     event_name  user_id  share\n",
       "0         login     2593  100.0\n",
       "1  product_page     1632   62.9\n",
       "2  product_cart      773   29.8\n",
       "3      purchase      804   31.0"
      ]
     },
     "execution_count": 203,
     "metadata": {},
     "output_type": "execute_result"
    }
   ],
   "source": [
    "# Посчитаем количество уникальных пользователей по каждому логу\n",
    "\n",
    "event_funnel_total = recommender_system_test_data.pivot_table(index='event_name', values='user_id', aggfunc='nunique')\n",
    "\n",
    "event_funnel_total['share'] = round( ( event_funnel_total.user_id / recommender_system_test_data.user_id.nunique()) * 100,1)\n",
    "\n",
    "event_funnel_total = event_funnel_total.reindex(['login', 'product_page', 'product_cart', 'purchase'])\n",
    "\n",
    "event_funnel_total = event_funnel_total.reset_index()\n",
    "\n",
    "event_funnel_total"
   ]
  },
  {
   "cell_type": "code",
   "execution_count": 204,
   "id": "3a992499",
   "metadata": {},
   "outputs": [
    {
     "data": {
      "application/vnd.plotly.v1+json": {
       "config": {
        "plotlyServerURL": "https://plot.ly"
       },
       "data": [
        {
         "type": "funnel",
         "x": [
          2593,
          1632,
          773,
          804
         ],
         "y": [
          "login",
          "product_page",
          "product_cart",
          "purchase"
         ]
        }
       ],
       "layout": {
        "template": {
         "data": {
          "bar": [
           {
            "error_x": {
             "color": "#2a3f5f"
            },
            "error_y": {
             "color": "#2a3f5f"
            },
            "marker": {
             "line": {
              "color": "#E5ECF6",
              "width": 0.5
             },
             "pattern": {
              "fillmode": "overlay",
              "size": 10,
              "solidity": 0.2
             }
            },
            "type": "bar"
           }
          ],
          "barpolar": [
           {
            "marker": {
             "line": {
              "color": "#E5ECF6",
              "width": 0.5
             },
             "pattern": {
              "fillmode": "overlay",
              "size": 10,
              "solidity": 0.2
             }
            },
            "type": "barpolar"
           }
          ],
          "carpet": [
           {
            "aaxis": {
             "endlinecolor": "#2a3f5f",
             "gridcolor": "white",
             "linecolor": "white",
             "minorgridcolor": "white",
             "startlinecolor": "#2a3f5f"
            },
            "baxis": {
             "endlinecolor": "#2a3f5f",
             "gridcolor": "white",
             "linecolor": "white",
             "minorgridcolor": "white",
             "startlinecolor": "#2a3f5f"
            },
            "type": "carpet"
           }
          ],
          "choropleth": [
           {
            "colorbar": {
             "outlinewidth": 0,
             "ticks": ""
            },
            "type": "choropleth"
           }
          ],
          "contour": [
           {
            "colorbar": {
             "outlinewidth": 0,
             "ticks": ""
            },
            "colorscale": [
             [
              0,
              "#0d0887"
             ],
             [
              0.1111111111111111,
              "#46039f"
             ],
             [
              0.2222222222222222,
              "#7201a8"
             ],
             [
              0.3333333333333333,
              "#9c179e"
             ],
             [
              0.4444444444444444,
              "#bd3786"
             ],
             [
              0.5555555555555556,
              "#d8576b"
             ],
             [
              0.6666666666666666,
              "#ed7953"
             ],
             [
              0.7777777777777778,
              "#fb9f3a"
             ],
             [
              0.8888888888888888,
              "#fdca26"
             ],
             [
              1,
              "#f0f921"
             ]
            ],
            "type": "contour"
           }
          ],
          "contourcarpet": [
           {
            "colorbar": {
             "outlinewidth": 0,
             "ticks": ""
            },
            "type": "contourcarpet"
           }
          ],
          "heatmap": [
           {
            "colorbar": {
             "outlinewidth": 0,
             "ticks": ""
            },
            "colorscale": [
             [
              0,
              "#0d0887"
             ],
             [
              0.1111111111111111,
              "#46039f"
             ],
             [
              0.2222222222222222,
              "#7201a8"
             ],
             [
              0.3333333333333333,
              "#9c179e"
             ],
             [
              0.4444444444444444,
              "#bd3786"
             ],
             [
              0.5555555555555556,
              "#d8576b"
             ],
             [
              0.6666666666666666,
              "#ed7953"
             ],
             [
              0.7777777777777778,
              "#fb9f3a"
             ],
             [
              0.8888888888888888,
              "#fdca26"
             ],
             [
              1,
              "#f0f921"
             ]
            ],
            "type": "heatmap"
           }
          ],
          "heatmapgl": [
           {
            "colorbar": {
             "outlinewidth": 0,
             "ticks": ""
            },
            "colorscale": [
             [
              0,
              "#0d0887"
             ],
             [
              0.1111111111111111,
              "#46039f"
             ],
             [
              0.2222222222222222,
              "#7201a8"
             ],
             [
              0.3333333333333333,
              "#9c179e"
             ],
             [
              0.4444444444444444,
              "#bd3786"
             ],
             [
              0.5555555555555556,
              "#d8576b"
             ],
             [
              0.6666666666666666,
              "#ed7953"
             ],
             [
              0.7777777777777778,
              "#fb9f3a"
             ],
             [
              0.8888888888888888,
              "#fdca26"
             ],
             [
              1,
              "#f0f921"
             ]
            ],
            "type": "heatmapgl"
           }
          ],
          "histogram": [
           {
            "marker": {
             "pattern": {
              "fillmode": "overlay",
              "size": 10,
              "solidity": 0.2
             }
            },
            "type": "histogram"
           }
          ],
          "histogram2d": [
           {
            "colorbar": {
             "outlinewidth": 0,
             "ticks": ""
            },
            "colorscale": [
             [
              0,
              "#0d0887"
             ],
             [
              0.1111111111111111,
              "#46039f"
             ],
             [
              0.2222222222222222,
              "#7201a8"
             ],
             [
              0.3333333333333333,
              "#9c179e"
             ],
             [
              0.4444444444444444,
              "#bd3786"
             ],
             [
              0.5555555555555556,
              "#d8576b"
             ],
             [
              0.6666666666666666,
              "#ed7953"
             ],
             [
              0.7777777777777778,
              "#fb9f3a"
             ],
             [
              0.8888888888888888,
              "#fdca26"
             ],
             [
              1,
              "#f0f921"
             ]
            ],
            "type": "histogram2d"
           }
          ],
          "histogram2dcontour": [
           {
            "colorbar": {
             "outlinewidth": 0,
             "ticks": ""
            },
            "colorscale": [
             [
              0,
              "#0d0887"
             ],
             [
              0.1111111111111111,
              "#46039f"
             ],
             [
              0.2222222222222222,
              "#7201a8"
             ],
             [
              0.3333333333333333,
              "#9c179e"
             ],
             [
              0.4444444444444444,
              "#bd3786"
             ],
             [
              0.5555555555555556,
              "#d8576b"
             ],
             [
              0.6666666666666666,
              "#ed7953"
             ],
             [
              0.7777777777777778,
              "#fb9f3a"
             ],
             [
              0.8888888888888888,
              "#fdca26"
             ],
             [
              1,
              "#f0f921"
             ]
            ],
            "type": "histogram2dcontour"
           }
          ],
          "mesh3d": [
           {
            "colorbar": {
             "outlinewidth": 0,
             "ticks": ""
            },
            "type": "mesh3d"
           }
          ],
          "parcoords": [
           {
            "line": {
             "colorbar": {
              "outlinewidth": 0,
              "ticks": ""
             }
            },
            "type": "parcoords"
           }
          ],
          "pie": [
           {
            "automargin": true,
            "type": "pie"
           }
          ],
          "scatter": [
           {
            "marker": {
             "colorbar": {
              "outlinewidth": 0,
              "ticks": ""
             }
            },
            "type": "scatter"
           }
          ],
          "scatter3d": [
           {
            "line": {
             "colorbar": {
              "outlinewidth": 0,
              "ticks": ""
             }
            },
            "marker": {
             "colorbar": {
              "outlinewidth": 0,
              "ticks": ""
             }
            },
            "type": "scatter3d"
           }
          ],
          "scattercarpet": [
           {
            "marker": {
             "colorbar": {
              "outlinewidth": 0,
              "ticks": ""
             }
            },
            "type": "scattercarpet"
           }
          ],
          "scattergeo": [
           {
            "marker": {
             "colorbar": {
              "outlinewidth": 0,
              "ticks": ""
             }
            },
            "type": "scattergeo"
           }
          ],
          "scattergl": [
           {
            "marker": {
             "colorbar": {
              "outlinewidth": 0,
              "ticks": ""
             }
            },
            "type": "scattergl"
           }
          ],
          "scattermapbox": [
           {
            "marker": {
             "colorbar": {
              "outlinewidth": 0,
              "ticks": ""
             }
            },
            "type": "scattermapbox"
           }
          ],
          "scatterpolar": [
           {
            "marker": {
             "colorbar": {
              "outlinewidth": 0,
              "ticks": ""
             }
            },
            "type": "scatterpolar"
           }
          ],
          "scatterpolargl": [
           {
            "marker": {
             "colorbar": {
              "outlinewidth": 0,
              "ticks": ""
             }
            },
            "type": "scatterpolargl"
           }
          ],
          "scatterternary": [
           {
            "marker": {
             "colorbar": {
              "outlinewidth": 0,
              "ticks": ""
             }
            },
            "type": "scatterternary"
           }
          ],
          "surface": [
           {
            "colorbar": {
             "outlinewidth": 0,
             "ticks": ""
            },
            "colorscale": [
             [
              0,
              "#0d0887"
             ],
             [
              0.1111111111111111,
              "#46039f"
             ],
             [
              0.2222222222222222,
              "#7201a8"
             ],
             [
              0.3333333333333333,
              "#9c179e"
             ],
             [
              0.4444444444444444,
              "#bd3786"
             ],
             [
              0.5555555555555556,
              "#d8576b"
             ],
             [
              0.6666666666666666,
              "#ed7953"
             ],
             [
              0.7777777777777778,
              "#fb9f3a"
             ],
             [
              0.8888888888888888,
              "#fdca26"
             ],
             [
              1,
              "#f0f921"
             ]
            ],
            "type": "surface"
           }
          ],
          "table": [
           {
            "cells": {
             "fill": {
              "color": "#EBF0F8"
             },
             "line": {
              "color": "white"
             }
            },
            "header": {
             "fill": {
              "color": "#C8D4E3"
             },
             "line": {
              "color": "white"
             }
            },
            "type": "table"
           }
          ]
         },
         "layout": {
          "annotationdefaults": {
           "arrowcolor": "#2a3f5f",
           "arrowhead": 0,
           "arrowwidth": 1
          },
          "autotypenumbers": "strict",
          "coloraxis": {
           "colorbar": {
            "outlinewidth": 0,
            "ticks": ""
           }
          },
          "colorscale": {
           "diverging": [
            [
             0,
             "#8e0152"
            ],
            [
             0.1,
             "#c51b7d"
            ],
            [
             0.2,
             "#de77ae"
            ],
            [
             0.3,
             "#f1b6da"
            ],
            [
             0.4,
             "#fde0ef"
            ],
            [
             0.5,
             "#f7f7f7"
            ],
            [
             0.6,
             "#e6f5d0"
            ],
            [
             0.7,
             "#b8e186"
            ],
            [
             0.8,
             "#7fbc41"
            ],
            [
             0.9,
             "#4d9221"
            ],
            [
             1,
             "#276419"
            ]
           ],
           "sequential": [
            [
             0,
             "#0d0887"
            ],
            [
             0.1111111111111111,
             "#46039f"
            ],
            [
             0.2222222222222222,
             "#7201a8"
            ],
            [
             0.3333333333333333,
             "#9c179e"
            ],
            [
             0.4444444444444444,
             "#bd3786"
            ],
            [
             0.5555555555555556,
             "#d8576b"
            ],
            [
             0.6666666666666666,
             "#ed7953"
            ],
            [
             0.7777777777777778,
             "#fb9f3a"
            ],
            [
             0.8888888888888888,
             "#fdca26"
            ],
            [
             1,
             "#f0f921"
            ]
           ],
           "sequentialminus": [
            [
             0,
             "#0d0887"
            ],
            [
             0.1111111111111111,
             "#46039f"
            ],
            [
             0.2222222222222222,
             "#7201a8"
            ],
            [
             0.3333333333333333,
             "#9c179e"
            ],
            [
             0.4444444444444444,
             "#bd3786"
            ],
            [
             0.5555555555555556,
             "#d8576b"
            ],
            [
             0.6666666666666666,
             "#ed7953"
            ],
            [
             0.7777777777777778,
             "#fb9f3a"
            ],
            [
             0.8888888888888888,
             "#fdca26"
            ],
            [
             1,
             "#f0f921"
            ]
           ]
          },
          "colorway": [
           "#636efa",
           "#EF553B",
           "#00cc96",
           "#ab63fa",
           "#FFA15A",
           "#19d3f3",
           "#FF6692",
           "#B6E880",
           "#FF97FF",
           "#FECB52"
          ],
          "font": {
           "color": "#2a3f5f"
          },
          "geo": {
           "bgcolor": "white",
           "lakecolor": "white",
           "landcolor": "#E5ECF6",
           "showlakes": true,
           "showland": true,
           "subunitcolor": "white"
          },
          "hoverlabel": {
           "align": "left"
          },
          "hovermode": "closest",
          "mapbox": {
           "style": "light"
          },
          "paper_bgcolor": "white",
          "plot_bgcolor": "#E5ECF6",
          "polar": {
           "angularaxis": {
            "gridcolor": "white",
            "linecolor": "white",
            "ticks": ""
           },
           "bgcolor": "#E5ECF6",
           "radialaxis": {
            "gridcolor": "white",
            "linecolor": "white",
            "ticks": ""
           }
          },
          "scene": {
           "xaxis": {
            "backgroundcolor": "#E5ECF6",
            "gridcolor": "white",
            "gridwidth": 2,
            "linecolor": "white",
            "showbackground": true,
            "ticks": "",
            "zerolinecolor": "white"
           },
           "yaxis": {
            "backgroundcolor": "#E5ECF6",
            "gridcolor": "white",
            "gridwidth": 2,
            "linecolor": "white",
            "showbackground": true,
            "ticks": "",
            "zerolinecolor": "white"
           },
           "zaxis": {
            "backgroundcolor": "#E5ECF6",
            "gridcolor": "white",
            "gridwidth": 2,
            "linecolor": "white",
            "showbackground": true,
            "ticks": "",
            "zerolinecolor": "white"
           }
          },
          "shapedefaults": {
           "line": {
            "color": "#2a3f5f"
           }
          },
          "ternary": {
           "aaxis": {
            "gridcolor": "white",
            "linecolor": "white",
            "ticks": ""
           },
           "baxis": {
            "gridcolor": "white",
            "linecolor": "white",
            "ticks": ""
           },
           "bgcolor": "#E5ECF6",
           "caxis": {
            "gridcolor": "white",
            "linecolor": "white",
            "ticks": ""
           }
          },
          "title": {
           "x": 0.05
          },
          "xaxis": {
           "automargin": true,
           "gridcolor": "white",
           "linecolor": "white",
           "ticks": "",
           "title": {
            "standoff": 15
           },
           "zerolinecolor": "white",
           "zerolinewidth": 2
          },
          "yaxis": {
           "automargin": true,
           "gridcolor": "white",
           "linecolor": "white",
           "ticks": "",
           "title": {
            "standoff": 15
           },
           "zerolinecolor": "white",
           "zerolinewidth": 2
          }
         }
        }
       }
      },
      "text/html": [
       "<div>                            <div id=\"e746abbf-472a-4a8d-9937-6cf1cff81829\" class=\"plotly-graph-div\" style=\"height:525px; width:100%;\"></div>            <script type=\"text/javascript\">                require([\"plotly\"], function(Plotly) {                    window.PLOTLYENV=window.PLOTLYENV || {};                                    if (document.getElementById(\"e746abbf-472a-4a8d-9937-6cf1cff81829\")) {                    Plotly.newPlot(                        \"e746abbf-472a-4a8d-9937-6cf1cff81829\",                        [{\"x\":[2593,1632,773,804],\"y\":[\"login\",\"product_page\",\"product_cart\",\"purchase\"],\"type\":\"funnel\"}],                        {\"template\":{\"data\":{\"bar\":[{\"error_x\":{\"color\":\"#2a3f5f\"},\"error_y\":{\"color\":\"#2a3f5f\"},\"marker\":{\"line\":{\"color\":\"#E5ECF6\",\"width\":0.5},\"pattern\":{\"fillmode\":\"overlay\",\"size\":10,\"solidity\":0.2}},\"type\":\"bar\"}],\"barpolar\":[{\"marker\":{\"line\":{\"color\":\"#E5ECF6\",\"width\":0.5},\"pattern\":{\"fillmode\":\"overlay\",\"size\":10,\"solidity\":0.2}},\"type\":\"barpolar\"}],\"carpet\":[{\"aaxis\":{\"endlinecolor\":\"#2a3f5f\",\"gridcolor\":\"white\",\"linecolor\":\"white\",\"minorgridcolor\":\"white\",\"startlinecolor\":\"#2a3f5f\"},\"baxis\":{\"endlinecolor\":\"#2a3f5f\",\"gridcolor\":\"white\",\"linecolor\":\"white\",\"minorgridcolor\":\"white\",\"startlinecolor\":\"#2a3f5f\"},\"type\":\"carpet\"}],\"choropleth\":[{\"colorbar\":{\"outlinewidth\":0,\"ticks\":\"\"},\"type\":\"choropleth\"}],\"contour\":[{\"colorbar\":{\"outlinewidth\":0,\"ticks\":\"\"},\"colorscale\":[[0.0,\"#0d0887\"],[0.1111111111111111,\"#46039f\"],[0.2222222222222222,\"#7201a8\"],[0.3333333333333333,\"#9c179e\"],[0.4444444444444444,\"#bd3786\"],[0.5555555555555556,\"#d8576b\"],[0.6666666666666666,\"#ed7953\"],[0.7777777777777778,\"#fb9f3a\"],[0.8888888888888888,\"#fdca26\"],[1.0,\"#f0f921\"]],\"type\":\"contour\"}],\"contourcarpet\":[{\"colorbar\":{\"outlinewidth\":0,\"ticks\":\"\"},\"type\":\"contourcarpet\"}],\"heatmap\":[{\"colorbar\":{\"outlinewidth\":0,\"ticks\":\"\"},\"colorscale\":[[0.0,\"#0d0887\"],[0.1111111111111111,\"#46039f\"],[0.2222222222222222,\"#7201a8\"],[0.3333333333333333,\"#9c179e\"],[0.4444444444444444,\"#bd3786\"],[0.5555555555555556,\"#d8576b\"],[0.6666666666666666,\"#ed7953\"],[0.7777777777777778,\"#fb9f3a\"],[0.8888888888888888,\"#fdca26\"],[1.0,\"#f0f921\"]],\"type\":\"heatmap\"}],\"heatmapgl\":[{\"colorbar\":{\"outlinewidth\":0,\"ticks\":\"\"},\"colorscale\":[[0.0,\"#0d0887\"],[0.1111111111111111,\"#46039f\"],[0.2222222222222222,\"#7201a8\"],[0.3333333333333333,\"#9c179e\"],[0.4444444444444444,\"#bd3786\"],[0.5555555555555556,\"#d8576b\"],[0.6666666666666666,\"#ed7953\"],[0.7777777777777778,\"#fb9f3a\"],[0.8888888888888888,\"#fdca26\"],[1.0,\"#f0f921\"]],\"type\":\"heatmapgl\"}],\"histogram\":[{\"marker\":{\"pattern\":{\"fillmode\":\"overlay\",\"size\":10,\"solidity\":0.2}},\"type\":\"histogram\"}],\"histogram2d\":[{\"colorbar\":{\"outlinewidth\":0,\"ticks\":\"\"},\"colorscale\":[[0.0,\"#0d0887\"],[0.1111111111111111,\"#46039f\"],[0.2222222222222222,\"#7201a8\"],[0.3333333333333333,\"#9c179e\"],[0.4444444444444444,\"#bd3786\"],[0.5555555555555556,\"#d8576b\"],[0.6666666666666666,\"#ed7953\"],[0.7777777777777778,\"#fb9f3a\"],[0.8888888888888888,\"#fdca26\"],[1.0,\"#f0f921\"]],\"type\":\"histogram2d\"}],\"histogram2dcontour\":[{\"colorbar\":{\"outlinewidth\":0,\"ticks\":\"\"},\"colorscale\":[[0.0,\"#0d0887\"],[0.1111111111111111,\"#46039f\"],[0.2222222222222222,\"#7201a8\"],[0.3333333333333333,\"#9c179e\"],[0.4444444444444444,\"#bd3786\"],[0.5555555555555556,\"#d8576b\"],[0.6666666666666666,\"#ed7953\"],[0.7777777777777778,\"#fb9f3a\"],[0.8888888888888888,\"#fdca26\"],[1.0,\"#f0f921\"]],\"type\":\"histogram2dcontour\"}],\"mesh3d\":[{\"colorbar\":{\"outlinewidth\":0,\"ticks\":\"\"},\"type\":\"mesh3d\"}],\"parcoords\":[{\"line\":{\"colorbar\":{\"outlinewidth\":0,\"ticks\":\"\"}},\"type\":\"parcoords\"}],\"pie\":[{\"automargin\":true,\"type\":\"pie\"}],\"scatter\":[{\"marker\":{\"colorbar\":{\"outlinewidth\":0,\"ticks\":\"\"}},\"type\":\"scatter\"}],\"scatter3d\":[{\"line\":{\"colorbar\":{\"outlinewidth\":0,\"ticks\":\"\"}},\"marker\":{\"colorbar\":{\"outlinewidth\":0,\"ticks\":\"\"}},\"type\":\"scatter3d\"}],\"scattercarpet\":[{\"marker\":{\"colorbar\":{\"outlinewidth\":0,\"ticks\":\"\"}},\"type\":\"scattercarpet\"}],\"scattergeo\":[{\"marker\":{\"colorbar\":{\"outlinewidth\":0,\"ticks\":\"\"}},\"type\":\"scattergeo\"}],\"scattergl\":[{\"marker\":{\"colorbar\":{\"outlinewidth\":0,\"ticks\":\"\"}},\"type\":\"scattergl\"}],\"scattermapbox\":[{\"marker\":{\"colorbar\":{\"outlinewidth\":0,\"ticks\":\"\"}},\"type\":\"scattermapbox\"}],\"scatterpolar\":[{\"marker\":{\"colorbar\":{\"outlinewidth\":0,\"ticks\":\"\"}},\"type\":\"scatterpolar\"}],\"scatterpolargl\":[{\"marker\":{\"colorbar\":{\"outlinewidth\":0,\"ticks\":\"\"}},\"type\":\"scatterpolargl\"}],\"scatterternary\":[{\"marker\":{\"colorbar\":{\"outlinewidth\":0,\"ticks\":\"\"}},\"type\":\"scatterternary\"}],\"surface\":[{\"colorbar\":{\"outlinewidth\":0,\"ticks\":\"\"},\"colorscale\":[[0.0,\"#0d0887\"],[0.1111111111111111,\"#46039f\"],[0.2222222222222222,\"#7201a8\"],[0.3333333333333333,\"#9c179e\"],[0.4444444444444444,\"#bd3786\"],[0.5555555555555556,\"#d8576b\"],[0.6666666666666666,\"#ed7953\"],[0.7777777777777778,\"#fb9f3a\"],[0.8888888888888888,\"#fdca26\"],[1.0,\"#f0f921\"]],\"type\":\"surface\"}],\"table\":[{\"cells\":{\"fill\":{\"color\":\"#EBF0F8\"},\"line\":{\"color\":\"white\"}},\"header\":{\"fill\":{\"color\":\"#C8D4E3\"},\"line\":{\"color\":\"white\"}},\"type\":\"table\"}]},\"layout\":{\"annotationdefaults\":{\"arrowcolor\":\"#2a3f5f\",\"arrowhead\":0,\"arrowwidth\":1},\"autotypenumbers\":\"strict\",\"coloraxis\":{\"colorbar\":{\"outlinewidth\":0,\"ticks\":\"\"}},\"colorscale\":{\"diverging\":[[0,\"#8e0152\"],[0.1,\"#c51b7d\"],[0.2,\"#de77ae\"],[0.3,\"#f1b6da\"],[0.4,\"#fde0ef\"],[0.5,\"#f7f7f7\"],[0.6,\"#e6f5d0\"],[0.7,\"#b8e186\"],[0.8,\"#7fbc41\"],[0.9,\"#4d9221\"],[1,\"#276419\"]],\"sequential\":[[0.0,\"#0d0887\"],[0.1111111111111111,\"#46039f\"],[0.2222222222222222,\"#7201a8\"],[0.3333333333333333,\"#9c179e\"],[0.4444444444444444,\"#bd3786\"],[0.5555555555555556,\"#d8576b\"],[0.6666666666666666,\"#ed7953\"],[0.7777777777777778,\"#fb9f3a\"],[0.8888888888888888,\"#fdca26\"],[1.0,\"#f0f921\"]],\"sequentialminus\":[[0.0,\"#0d0887\"],[0.1111111111111111,\"#46039f\"],[0.2222222222222222,\"#7201a8\"],[0.3333333333333333,\"#9c179e\"],[0.4444444444444444,\"#bd3786\"],[0.5555555555555556,\"#d8576b\"],[0.6666666666666666,\"#ed7953\"],[0.7777777777777778,\"#fb9f3a\"],[0.8888888888888888,\"#fdca26\"],[1.0,\"#f0f921\"]]},\"colorway\":[\"#636efa\",\"#EF553B\",\"#00cc96\",\"#ab63fa\",\"#FFA15A\",\"#19d3f3\",\"#FF6692\",\"#B6E880\",\"#FF97FF\",\"#FECB52\"],\"font\":{\"color\":\"#2a3f5f\"},\"geo\":{\"bgcolor\":\"white\",\"lakecolor\":\"white\",\"landcolor\":\"#E5ECF6\",\"showlakes\":true,\"showland\":true,\"subunitcolor\":\"white\"},\"hoverlabel\":{\"align\":\"left\"},\"hovermode\":\"closest\",\"mapbox\":{\"style\":\"light\"},\"paper_bgcolor\":\"white\",\"plot_bgcolor\":\"#E5ECF6\",\"polar\":{\"angularaxis\":{\"gridcolor\":\"white\",\"linecolor\":\"white\",\"ticks\":\"\"},\"bgcolor\":\"#E5ECF6\",\"radialaxis\":{\"gridcolor\":\"white\",\"linecolor\":\"white\",\"ticks\":\"\"}},\"scene\":{\"xaxis\":{\"backgroundcolor\":\"#E5ECF6\",\"gridcolor\":\"white\",\"gridwidth\":2,\"linecolor\":\"white\",\"showbackground\":true,\"ticks\":\"\",\"zerolinecolor\":\"white\"},\"yaxis\":{\"backgroundcolor\":\"#E5ECF6\",\"gridcolor\":\"white\",\"gridwidth\":2,\"linecolor\":\"white\",\"showbackground\":true,\"ticks\":\"\",\"zerolinecolor\":\"white\"},\"zaxis\":{\"backgroundcolor\":\"#E5ECF6\",\"gridcolor\":\"white\",\"gridwidth\":2,\"linecolor\":\"white\",\"showbackground\":true,\"ticks\":\"\",\"zerolinecolor\":\"white\"}},\"shapedefaults\":{\"line\":{\"color\":\"#2a3f5f\"}},\"ternary\":{\"aaxis\":{\"gridcolor\":\"white\",\"linecolor\":\"white\",\"ticks\":\"\"},\"baxis\":{\"gridcolor\":\"white\",\"linecolor\":\"white\",\"ticks\":\"\"},\"bgcolor\":\"#E5ECF6\",\"caxis\":{\"gridcolor\":\"white\",\"linecolor\":\"white\",\"ticks\":\"\"}},\"title\":{\"x\":0.05},\"xaxis\":{\"automargin\":true,\"gridcolor\":\"white\",\"linecolor\":\"white\",\"ticks\":\"\",\"title\":{\"standoff\":15},\"zerolinecolor\":\"white\",\"zerolinewidth\":2},\"yaxis\":{\"automargin\":true,\"gridcolor\":\"white\",\"linecolor\":\"white\",\"ticks\":\"\",\"title\":{\"standoff\":15},\"zerolinecolor\":\"white\",\"zerolinewidth\":2}}}},                        {\"responsive\": true}                    ).then(function(){\n",
       "                            \n",
       "var gd = document.getElementById('e746abbf-472a-4a8d-9937-6cf1cff81829');\n",
       "var x = new MutationObserver(function (mutations, observer) {{\n",
       "        var display = window.getComputedStyle(gd).display;\n",
       "        if (!display || display === 'none') {{\n",
       "            console.log([gd, 'removed!']);\n",
       "            Plotly.purge(gd);\n",
       "            observer.disconnect();\n",
       "        }}\n",
       "}});\n",
       "\n",
       "// Listen for the removal of the full notebook cells\n",
       "var notebookContainer = gd.closest('#notebook-container');\n",
       "if (notebookContainer) {{\n",
       "    x.observe(notebookContainer, {childList: true});\n",
       "}}\n",
       "\n",
       "// Listen for the clearing of the current output cell\n",
       "var outputEl = gd.closest('.output');\n",
       "if (outputEl) {{\n",
       "    x.observe(outputEl, {childList: true});\n",
       "}}\n",
       "\n",
       "                        })                };                });            </script>        </div>"
      ]
     },
     "metadata": {},
     "output_type": "display_data"
    }
   ],
   "source": [
    "# Построим воронку событий без разбивки на группы теста\n",
    "\n",
    "fig = go.Figure(go.Funnel(\n",
    "    y = list(event_funnel_total['event_name']),\n",
    "    x = list(event_funnel_total['user_id'])))\n",
    "fig.show()"
   ]
  },
  {
   "cell_type": "markdown",
   "id": "7fa62f3b",
   "metadata": {},
   "source": [
    "`Воронка событий следующая:`\n",
    "\n",
    "1. Вход в личный кабинет.\n",
    "\n",
    "\n",
    "2. Страница продукта.\n",
    "\n",
    "\n",
    "3. Корзина.\n",
    "\n",
    "\n",
    "4. Покупка.\n",
    "\n",
    "`ИЛИ` другой ее вариант, если пользователь будет оформлять заказ не через корзину:\n",
    "\n",
    "1. Вход в личный кабинет.\n",
    "\n",
    "\n",
    "2. Страница продукта.\n",
    "\n",
    "\n",
    "\n",
    "3. Покупка."
   ]
  },
  {
   "cell_type": "markdown",
   "id": "35f92d3c",
   "metadata": {},
   "source": [
    "На данной воронке мы видим, что все пользователи из теста логинились. Также, можно отметить, что пользователей, совершивших покупку, больше, чем пользователей, которые посещали корзину. Получается, что пользователи в обход корзины делали заказ. Можно предположить, что клиенты воспользовались 'покупкой в 1 клик' и поэтому миновали корзину. \n",
    "\n",
    "**Теперь рассчитаем конверсию в воронке по каждой отдельной группе теста.**"
   ]
  },
  {
   "cell_type": "code",
   "execution_count": 205,
   "id": "80cbf6a7",
   "metadata": {},
   "outputs": [
    {
     "data": {
      "text/html": [
       "<div>\n",
       "<style scoped>\n",
       "    .dataframe tbody tr th:only-of-type {\n",
       "        vertical-align: middle;\n",
       "    }\n",
       "\n",
       "    .dataframe tbody tr th {\n",
       "        vertical-align: top;\n",
       "    }\n",
       "\n",
       "    .dataframe thead th {\n",
       "        text-align: right;\n",
       "    }\n",
       "</style>\n",
       "<table border=\"1\" class=\"dataframe\">\n",
       "  <thead>\n",
       "    <tr style=\"text-align: right;\">\n",
       "      <th>group</th>\n",
       "      <th>event_name</th>\n",
       "      <th>A</th>\n",
       "      <th>B</th>\n",
       "    </tr>\n",
       "  </thead>\n",
       "  <tbody>\n",
       "    <tr>\n",
       "      <th>0</th>\n",
       "      <td>login</td>\n",
       "      <td>1939</td>\n",
       "      <td>654</td>\n",
       "    </tr>\n",
       "    <tr>\n",
       "      <th>1</th>\n",
       "      <td>product_page</td>\n",
       "      <td>1265</td>\n",
       "      <td>367</td>\n",
       "    </tr>\n",
       "    <tr>\n",
       "      <th>2</th>\n",
       "      <td>product_cart</td>\n",
       "      <td>589</td>\n",
       "      <td>184</td>\n",
       "    </tr>\n",
       "    <tr>\n",
       "      <th>3</th>\n",
       "      <td>purchase</td>\n",
       "      <td>613</td>\n",
       "      <td>191</td>\n",
       "    </tr>\n",
       "  </tbody>\n",
       "</table>\n",
       "</div>"
      ],
      "text/plain": [
       "group    event_name     A    B\n",
       "0             login  1939  654\n",
       "1      product_page  1265  367\n",
       "2      product_cart   589  184\n",
       "3          purchase   613  191"
      ]
     },
     "execution_count": 205,
     "metadata": {},
     "output_type": "execute_result"
    }
   ],
   "source": [
    "# сформируем воронки событий по каждой группе теста\n",
    "\n",
    "event_funnel_group = recommender_system_test_data.pivot_table(\n",
    "    index='event_name',\n",
    "    columns='group',\n",
    "    values='user_id',\n",
    "    aggfunc='nunique')\n",
    "\n",
    "# поменяем местами корзину с покупкой\n",
    "\n",
    "event_funnel_group = event_funnel_group.reindex(['login', 'product_page', 'product_cart', 'purchase'])\n",
    "\n",
    "event_funnel_group = event_funnel_group.reset_index()\n",
    "\n",
    "event_funnel_group"
   ]
  },
  {
   "cell_type": "code",
   "execution_count": 206,
   "id": "5fde3f4a",
   "metadata": {
    "scrolled": true
   },
   "outputs": [
    {
     "data": {
      "text/html": [
       "<div>\n",
       "<style scoped>\n",
       "    .dataframe tbody tr th:only-of-type {\n",
       "        vertical-align: middle;\n",
       "    }\n",
       "\n",
       "    .dataframe tbody tr th {\n",
       "        vertical-align: top;\n",
       "    }\n",
       "\n",
       "    .dataframe thead th {\n",
       "        text-align: right;\n",
       "    }\n",
       "</style>\n",
       "<table border=\"1\" class=\"dataframe\">\n",
       "  <thead>\n",
       "    <tr style=\"text-align: right;\">\n",
       "      <th>group</th>\n",
       "      <th>event_name</th>\n",
       "      <th>A</th>\n",
       "      <th>B</th>\n",
       "      <th>total_users_A</th>\n",
       "      <th>total_users_B</th>\n",
       "    </tr>\n",
       "  </thead>\n",
       "  <tbody>\n",
       "    <tr>\n",
       "      <th>0</th>\n",
       "      <td>login</td>\n",
       "      <td>1939</td>\n",
       "      <td>654</td>\n",
       "      <td>1939</td>\n",
       "      <td>655</td>\n",
       "    </tr>\n",
       "    <tr>\n",
       "      <th>1</th>\n",
       "      <td>product_page</td>\n",
       "      <td>1265</td>\n",
       "      <td>367</td>\n",
       "      <td>1939</td>\n",
       "      <td>655</td>\n",
       "    </tr>\n",
       "    <tr>\n",
       "      <th>2</th>\n",
       "      <td>product_cart</td>\n",
       "      <td>589</td>\n",
       "      <td>184</td>\n",
       "      <td>1939</td>\n",
       "      <td>655</td>\n",
       "    </tr>\n",
       "    <tr>\n",
       "      <th>3</th>\n",
       "      <td>purchase</td>\n",
       "      <td>613</td>\n",
       "      <td>191</td>\n",
       "      <td>1939</td>\n",
       "      <td>655</td>\n",
       "    </tr>\n",
       "  </tbody>\n",
       "</table>\n",
       "</div>"
      ],
      "text/plain": [
       "group    event_name     A    B  total_users_A  total_users_B\n",
       "0             login  1939  654           1939            655\n",
       "1      product_page  1265  367           1939            655\n",
       "2      product_cart   589  184           1939            655\n",
       "3          purchase   613  191           1939            655"
      ]
     },
     "execution_count": 206,
     "metadata": {},
     "output_type": "execute_result"
    }
   ],
   "source": [
    "# Создадим столбцы в таблице с общим количеством уникальных пользователей в каждой группе\n",
    "\n",
    "event_funnel_group['total_users_A'] = share_group.loc[0,'user_id']\n",
    "\n",
    "event_funnel_group['total_users_B'] = share_group.loc[1,'user_id']\n",
    "\n",
    "event_funnel_group"
   ]
  },
  {
   "cell_type": "code",
   "execution_count": 207,
   "id": "4eda2154",
   "metadata": {},
   "outputs": [
    {
     "data": {
      "text/html": [
       "<div>\n",
       "<style scoped>\n",
       "    .dataframe tbody tr th:only-of-type {\n",
       "        vertical-align: middle;\n",
       "    }\n",
       "\n",
       "    .dataframe tbody tr th {\n",
       "        vertical-align: top;\n",
       "    }\n",
       "\n",
       "    .dataframe thead th {\n",
       "        text-align: right;\n",
       "    }\n",
       "</style>\n",
       "<table border=\"1\" class=\"dataframe\">\n",
       "  <thead>\n",
       "    <tr style=\"text-align: right;\">\n",
       "      <th>group</th>\n",
       "      <th>event_name</th>\n",
       "      <th>A</th>\n",
       "      <th>B</th>\n",
       "      <th>total_users_A</th>\n",
       "      <th>total_users_B</th>\n",
       "      <th>conversion_from_1st_event_A</th>\n",
       "      <th>conversion_from_1st_event_B</th>\n",
       "    </tr>\n",
       "  </thead>\n",
       "  <tbody>\n",
       "    <tr>\n",
       "      <th>0</th>\n",
       "      <td>login</td>\n",
       "      <td>1939</td>\n",
       "      <td>654</td>\n",
       "      <td>1939</td>\n",
       "      <td>655</td>\n",
       "      <td>1.00</td>\n",
       "      <td>1.00</td>\n",
       "    </tr>\n",
       "    <tr>\n",
       "      <th>1</th>\n",
       "      <td>product_page</td>\n",
       "      <td>1265</td>\n",
       "      <td>367</td>\n",
       "      <td>1939</td>\n",
       "      <td>655</td>\n",
       "      <td>0.65</td>\n",
       "      <td>0.56</td>\n",
       "    </tr>\n",
       "    <tr>\n",
       "      <th>2</th>\n",
       "      <td>product_cart</td>\n",
       "      <td>589</td>\n",
       "      <td>184</td>\n",
       "      <td>1939</td>\n",
       "      <td>655</td>\n",
       "      <td>0.30</td>\n",
       "      <td>0.28</td>\n",
       "    </tr>\n",
       "    <tr>\n",
       "      <th>3</th>\n",
       "      <td>purchase</td>\n",
       "      <td>613</td>\n",
       "      <td>191</td>\n",
       "      <td>1939</td>\n",
       "      <td>655</td>\n",
       "      <td>0.32</td>\n",
       "      <td>0.29</td>\n",
       "    </tr>\n",
       "  </tbody>\n",
       "</table>\n",
       "</div>"
      ],
      "text/plain": [
       "group    event_name     A    B  total_users_A  total_users_B  \\\n",
       "0             login  1939  654           1939            655   \n",
       "1      product_page  1265  367           1939            655   \n",
       "2      product_cart   589  184           1939            655   \n",
       "3          purchase   613  191           1939            655   \n",
       "\n",
       "group  conversion_from_1st_event_A  conversion_from_1st_event_B  \n",
       "0                             1.00                         1.00  \n",
       "1                             0.65                         0.56  \n",
       "2                             0.30                         0.28  \n",
       "3                             0.32                         0.29  "
      ]
     },
     "execution_count": 207,
     "metadata": {},
     "output_type": "execute_result"
    }
   ],
   "source": [
    "# посчитаем конверсию относительно первого события\n",
    "\n",
    "event_funnel_group['conversion_from_1st_event_A'] = round( (event_funnel_group.A / event_funnel_group.total_users_A), 2)\n",
    "\n",
    "event_funnel_group['conversion_from_1st_event_B'] = round( (event_funnel_group.B / event_funnel_group.total_users_B), 2)\n",
    "\n",
    "\n",
    "event_funnel_group"
   ]
  },
  {
   "cell_type": "code",
   "execution_count": 208,
   "id": "98dec504",
   "metadata": {},
   "outputs": [
    {
     "data": {
      "image/png": "[encoded data removed]",
      "text/plain": [
       "<Figure size 1440x720 with 2 Axes>"
      ]
     },
     "metadata": {
      "needs_background": "light"
     },
     "output_type": "display_data"
    }
   ],
   "source": [
    "# построим барплот\n",
    "\n",
    "fig, (ax0,ax1) = plt.subplots(nrows=1,ncols=2, figsize=(20,10))\n",
    "event_funnel_group.\\\n",
    "plot(kind='bar', ax=ax0, legend=False, x='event_name',y='conversion_from_1st_event_A', color='#64B3B3')\n",
    "ax0.set_title('Рассчитанная конверсия по событиям по группе А',fontsize= 14)\n",
    "ax0.set_ylabel('Рассчитанная конверсия',fontsize= 12)\n",
    "ax0.set_xlabel('Название событий',fontsize= 12)\n",
    "\n",
    "event_funnel_group.\\\n",
    "plot(kind='bar',ax=ax1,legend=False, x='event_name',y='conversion_from_1st_event_B', color='#64B3B3')\n",
    "ax1.set_title('Рассчитанная конверсия по событиям по группе Б',fontsize= 14)\n",
    "ax1.set_ylabel('Рассчитанная конверсия',fontsize= 12)\n",
    "ax1.set_xlabel('Название событий',fontsize= 12)\n",
    "\n",
    "plt.setp(ax0.get_xticklabels() + ax1.get_xticklabels(), rotation=360, ha='right');"
   ]
  },
  {
   "cell_type": "markdown",
   "id": "10806ae1",
   "metadata": {},
   "source": [
    "Мы видим, что у обеих групп конверсия в 'product_cart' и 'purchase' примерно на одном уровне.\n",
    "\n",
    "Около 30 % в каждой группе пользователей завершили воронку событий."
   ]
  },
  {
   "cell_type": "markdown",
   "id": "ff653425",
   "metadata": {},
   "source": [
    "## Изучение результатов эксперимента ##"
   ]
  },
  {
   "cell_type": "markdown",
   "id": "1bd9b088",
   "metadata": {},
   "source": [
    "Сформулируем нулевую и альтернативную гипотезы и с помощью z-теста проверим, если ли статистически значимая разница между конверсиями таких событий, как 'product_page', ' product_cart', ' purchase'."
   ]
  },
  {
   "cell_type": "markdown",
   "id": "822937ab",
   "metadata": {},
   "source": [
    "Сравним контрольную группу А с экспериментальной группой В по 3-ем событиям - 'product_page', ' product_cart', ' purchase'.\n",
    "\n",
    "`Проверим гипотезу о том, что между конверсиями обеих групп теста есть различия.\n",
    "\n",
    "**Сформулируем гипотезы:**\n",
    "\n",
    "`Нулевая гипотеза:` между долями групп А и В нет разницы.\n",
    "\n",
    "`Альтернативная гипотеза:`  между долями групп А и В есть разница."
   ]
  },
  {
   "cell_type": "code",
   "execution_count": 209,
   "id": "46396019",
   "metadata": {
    "scrolled": true
   },
   "outputs": [
    {
     "data": {
      "text/html": [
       "<div>\n",
       "<style scoped>\n",
       "    .dataframe tbody tr th:only-of-type {\n",
       "        vertical-align: middle;\n",
       "    }\n",
       "\n",
       "    .dataframe tbody tr th {\n",
       "        vertical-align: top;\n",
       "    }\n",
       "\n",
       "    .dataframe thead th {\n",
       "        text-align: right;\n",
       "    }\n",
       "</style>\n",
       "<table border=\"1\" class=\"dataframe\">\n",
       "  <thead>\n",
       "    <tr style=\"text-align: right;\">\n",
       "      <th>group</th>\n",
       "      <th>event_name</th>\n",
       "      <th>A</th>\n",
       "      <th>B</th>\n",
       "      <th>total_users_A</th>\n",
       "      <th>total_users_B</th>\n",
       "      <th>conversion_from_1st_event_A</th>\n",
       "      <th>conversion_from_1st_event_B</th>\n",
       "    </tr>\n",
       "  </thead>\n",
       "  <tbody>\n",
       "    <tr>\n",
       "      <th>0</th>\n",
       "      <td>login</td>\n",
       "      <td>1939</td>\n",
       "      <td>654</td>\n",
       "      <td>1939</td>\n",
       "      <td>655</td>\n",
       "      <td>1.00</td>\n",
       "      <td>1.00</td>\n",
       "    </tr>\n",
       "    <tr>\n",
       "      <th>1</th>\n",
       "      <td>product_page</td>\n",
       "      <td>1265</td>\n",
       "      <td>367</td>\n",
       "      <td>1939</td>\n",
       "      <td>655</td>\n",
       "      <td>0.65</td>\n",
       "      <td>0.56</td>\n",
       "    </tr>\n",
       "    <tr>\n",
       "      <th>2</th>\n",
       "      <td>product_cart</td>\n",
       "      <td>589</td>\n",
       "      <td>184</td>\n",
       "      <td>1939</td>\n",
       "      <td>655</td>\n",
       "      <td>0.30</td>\n",
       "      <td>0.28</td>\n",
       "    </tr>\n",
       "    <tr>\n",
       "      <th>3</th>\n",
       "      <td>purchase</td>\n",
       "      <td>613</td>\n",
       "      <td>191</td>\n",
       "      <td>1939</td>\n",
       "      <td>655</td>\n",
       "      <td>0.32</td>\n",
       "      <td>0.29</td>\n",
       "    </tr>\n",
       "  </tbody>\n",
       "</table>\n",
       "</div>"
      ],
      "text/plain": [
       "group    event_name     A    B  total_users_A  total_users_B  \\\n",
       "0             login  1939  654           1939            655   \n",
       "1      product_page  1265  367           1939            655   \n",
       "2      product_cart   589  184           1939            655   \n",
       "3          purchase   613  191           1939            655   \n",
       "\n",
       "group  conversion_from_1st_event_A  conversion_from_1st_event_B  \n",
       "0                             1.00                         1.00  \n",
       "1                             0.65                         0.56  \n",
       "2                             0.30                         0.28  \n",
       "3                             0.32                         0.29  "
      ]
     },
     "execution_count": 209,
     "metadata": {},
     "output_type": "execute_result"
    }
   ],
   "source": [
    "# выведем таблицу, которую будем использовать для тестирования\n",
    "\n",
    "event_funnel_group"
   ]
  },
  {
   "cell_type": "markdown",
   "id": "72c56760",
   "metadata": {},
   "source": [
    "Первый этап воронки удалим, так как все пользователи из обеих групп заходили в свой личный кабинет."
   ]
  },
  {
   "cell_type": "code",
   "execution_count": 210,
   "id": "629ae8fb",
   "metadata": {},
   "outputs": [
    {
     "data": {
      "text/html": [
       "<div>\n",
       "<style scoped>\n",
       "    .dataframe tbody tr th:only-of-type {\n",
       "        vertical-align: middle;\n",
       "    }\n",
       "\n",
       "    .dataframe tbody tr th {\n",
       "        vertical-align: top;\n",
       "    }\n",
       "\n",
       "    .dataframe thead th {\n",
       "        text-align: right;\n",
       "    }\n",
       "</style>\n",
       "<table border=\"1\" class=\"dataframe\">\n",
       "  <thead>\n",
       "    <tr style=\"text-align: right;\">\n",
       "      <th>group</th>\n",
       "      <th>event_name</th>\n",
       "      <th>A</th>\n",
       "      <th>B</th>\n",
       "      <th>total_users_A</th>\n",
       "      <th>total_users_B</th>\n",
       "      <th>conversion_from_1st_event_A</th>\n",
       "      <th>conversion_from_1st_event_B</th>\n",
       "    </tr>\n",
       "  </thead>\n",
       "  <tbody>\n",
       "    <tr>\n",
       "      <th>1</th>\n",
       "      <td>product_page</td>\n",
       "      <td>1265</td>\n",
       "      <td>367</td>\n",
       "      <td>1939</td>\n",
       "      <td>655</td>\n",
       "      <td>0.65</td>\n",
       "      <td>0.56</td>\n",
       "    </tr>\n",
       "    <tr>\n",
       "      <th>2</th>\n",
       "      <td>product_cart</td>\n",
       "      <td>589</td>\n",
       "      <td>184</td>\n",
       "      <td>1939</td>\n",
       "      <td>655</td>\n",
       "      <td>0.30</td>\n",
       "      <td>0.28</td>\n",
       "    </tr>\n",
       "    <tr>\n",
       "      <th>3</th>\n",
       "      <td>purchase</td>\n",
       "      <td>613</td>\n",
       "      <td>191</td>\n",
       "      <td>1939</td>\n",
       "      <td>655</td>\n",
       "      <td>0.32</td>\n",
       "      <td>0.29</td>\n",
       "    </tr>\n",
       "  </tbody>\n",
       "</table>\n",
       "</div>"
      ],
      "text/plain": [
       "group    event_name     A    B  total_users_A  total_users_B  \\\n",
       "1      product_page  1265  367           1939            655   \n",
       "2      product_cart   589  184           1939            655   \n",
       "3          purchase   613  191           1939            655   \n",
       "\n",
       "group  conversion_from_1st_event_A  conversion_from_1st_event_B  \n",
       "1                             0.65                         0.56  \n",
       "2                             0.30                         0.28  \n",
       "3                             0.32                         0.29  "
      ]
     },
     "execution_count": 210,
     "metadata": {},
     "output_type": "execute_result"
    }
   ],
   "source": [
    "# удалим самый первый этап воронки - 'login'\n",
    "\n",
    "event_funnel_group = event_funnel_group.drop([0])\n",
    "\n",
    "event_funnel_group"
   ]
  },
  {
   "cell_type": "code",
   "execution_count": 211,
   "id": "585b2f56",
   "metadata": {},
   "outputs": [],
   "source": [
    "# Напишем функцию, которая позволит рассчитать статистическую значимость между долями 2-х групп\n",
    "\n",
    "def z_test_groups(group_1,group_2,total_users_1, total_users_2, alpha):\n",
    "    for index in event_funnel_group.index:\n",
    "    \n",
    "        count = np.array( [ event_funnel_group.loc[index, group_1], event_funnel_group.loc[index, group_2] ] )\n",
    "    \n",
    "        nobs = np.array( [ event_funnel_group.loc[index, total_users_1], event_funnel_group.loc[index, total_users_2] ] )\n",
    "    \n",
    "        stat, pval = proportions_ztest(count, nobs)\n",
    "        \n",
    "        pval = round(pval,6)\n",
    "        \n",
    "        print('p-значение:', pval)\n",
    "        \n",
    "        if pval < alpha:\n",
    "            print(f\"Отвергаем нулевую гипотезу: между долями есть значимая разница по событию {event_funnel_group.loc[index,'event_name']}\")\n",
    "        \n",
    "        else:\n",
    "            print(f\"Не получилось отвергнуть нулевую гипотезу, нет оснований считать доли разными по событию {event_funnel_group.loc[index,'event_name']}\")\n"
   ]
  },
  {
   "cell_type": "markdown",
   "id": "f59e8c23",
   "metadata": {},
   "source": [
    "Уровень статистической значимости определим в 5 %."
   ]
  },
  {
   "cell_type": "code",
   "execution_count": 212,
   "id": "eccbc2eb",
   "metadata": {},
   "outputs": [
    {
     "name": "stdout",
     "output_type": "stream",
     "text": [
      "p-значение: 2.5e-05\n",
      "Отвергаем нулевую гипотезу: между долями есть значимая разница по событию product_page\n",
      "p-значение: 0.268993\n",
      "Не получилось отвергнуть нулевую гипотезу, нет оснований считать доли разными по событию product_cart\n",
      "p-значение: 0.240358\n",
      "Не получилось отвергнуть нулевую гипотезу, нет оснований считать доли разными по событию purchase\n"
     ]
    }
   ],
   "source": [
    "# применим функцию и выясним есть ли между двумя выборками А и Б статистическая значимая разница по каждому событию\n",
    "\n",
    "z_test_groups('A','B','total_users_A','total_users_B', 0.05)"
   ]
  },
  {
   "cell_type": "markdown",
   "id": "c92bf7f4",
   "metadata": {},
   "source": [
    "Мы получили статистически значимую разницу конверсий по событию 'product_cart'. По всем остальным событиям значимых различий между долями не обнаружено.\n",
    "\n",
    "Для того, чтобы снизить групповую вероятность ошибки первого рода, а также проверить верны ли наши результаты, можно применить метод Шидака для корректировки уровня значимости.\n",
    "\n",
    "**Формула расчета следующая:**\n",
    "\n",
    "shidak_alpha = 1 - (1 - alpha)^(1/m),\n",
    "\n",
    "где m - количество сравнений"
   ]
  },
  {
   "cell_type": "markdown",
   "id": "5833bd4b",
   "metadata": {},
   "source": [
    "В нашем тесте было три сравнения, поэтому m = 3."
   ]
  },
  {
   "cell_type": "code",
   "execution_count": 213,
   "id": "c9d97702",
   "metadata": {},
   "outputs": [
    {
     "data": {
      "text/plain": [
       "0.017"
      ]
     },
     "execution_count": 213,
     "metadata": {},
     "output_type": "execute_result"
    }
   ],
   "source": [
    "# В качестве значения m в формуле будем использовать  общее количество проверяемых гипотез, значение alpha зададим 5 %\n",
    "\n",
    "shidak_alpha = round(1 - (1 - 0.05)**(1 / 3),4)\n",
    "\n",
    "shidak_alpha"
   ]
  },
  {
   "cell_type": "markdown",
   "id": "d0bcd8f0",
   "metadata": {},
   "source": [
    "По данной формуле уровень статистической значимости определился в 1,7%. Для того, чтобы сравнить результаты, применим его к нашей функции."
   ]
  },
  {
   "cell_type": "code",
   "execution_count": 214,
   "id": "0cda712f",
   "metadata": {},
   "outputs": [
    {
     "name": "stdout",
     "output_type": "stream",
     "text": [
      "p-значение: 2.5e-05\n",
      "Отвергаем нулевую гипотезу: между долями есть значимая разница по событию product_page\n",
      "p-значение: 0.268993\n",
      "Не получилось отвергнуть нулевую гипотезу, нет оснований считать доли разными по событию product_cart\n",
      "p-значение: 0.240358\n",
      "Не получилось отвергнуть нулевую гипотезу, нет оснований считать доли разными по событию purchase\n"
     ]
    }
   ],
   "source": [
    "# применим рассчитанный уровень статистической значимости к нашей функции и сверим результаты\n",
    "\n",
    "z_test_groups('A','B','total_users_A','total_users_B', shidak_alpha)"
   ]
  },
  {
   "cell_type": "markdown",
   "id": "69be92ca",
   "metadata": {},
   "source": [
    "При уровне значимости в 1,7 % мы получили идентичные результаты, что при использовании уровня значимости равному 5 %.Из этого делаем вывод о получении достоверных результатов."
   ]
  },
  {
   "cell_type": "markdown",
   "id": "4417bc50",
   "metadata": {},
   "source": [
    "## Выводы ##"
   ]
  },
  {
   "cell_type": "markdown",
   "id": "e41404e6",
   "metadata": {},
   "source": [
    "Обобщим полученные результаты в ходе анализа пользователей теста 'recommender_system_test_data', а также отметим, какие условия из ТЗ не выполняются."
   ]
  },
  {
   "cell_type": "markdown",
   "id": "4851f7ed",
   "metadata": {},
   "source": [
    "Продублируем Техническое задание, чтобы было наглядно видно, какие условия были нарушены.\n",
    "\n",
    "- Название теста: `recommender_system_test`;\n",
    "- группы: А — контрольная, B — новая платёжная воронка;\n",
    "- дата запуска: 2020-12-07;\n",
    "- дата остановки набора новых пользователей: 2020-12-21;\n",
    "- дата остановки: 2021-01-04;\n",
    "- аудитория: 15% новых пользователей из региона EU;\n",
    "- назначение теста: тестирование изменений, связанных с внедрением улучшенной рекомендательной системы;\n",
    "- ожидаемое количество участников теста: 6000.\n",
    "- ожидаемый эффект: за 14 дней с момента регистрации пользователи покажут улучшение каждой метрики не менее, чем на 10%:\n",
    "    - конверсии в просмотр карточек товаров — событие `product_page`,\n",
    "    - просмотры корзины — `product_cart`,\n",
    "    - покупки — `purchase`."
   ]
  },
  {
   "cell_type": "markdown",
   "id": "8186caaf",
   "metadata": {},
   "source": [
    "Для начала оценим условия, прописанные в ТЗ.\n",
    "\n",
    "- даты запуска теста и остановки набора новых пользователей  соответствуют;\n",
    "\n",
    "\n",
    "- дата остановки теста неверно определена. В действительности дату остановки теста необходимо считать 30.12.20, так как после этой даты у нас нет данных о событиях пользователей;\n",
    "\n",
    "\n",
    "- пользователи из Европы составляют 11 % вместо 15 %;\n",
    "\n",
    "\n",
    "- ожидаемое количество участников теста не оправдалось. По факту участововало 2594 человека;\n",
    "\n",
    "\n",
    "- Так как, дата остановки теста была изменена, соответственно, пользователи, зарегистрированные с 18.12.20 по 21.12.20 не имели полноценных двух недель для осуществления покупки. \n",
    "  Но, как мы выяснили, среди пользователей, зарегистрированных с 18.12.20 по 21.12.20, 33 % совершили покупки. Для сравнения из всех пользователей, которые зарегистрировалась до 17.12.20 включительно,  30 %  оплатили заказ. Т.е. в данном случае дней хватило, но неверное определение границ теста все равно повышает вероятность получить некорректные результаты.\n",
    "\n",
    "\n",
    "- Ожидаемый эффект в 10 % не оправдался:\n",
    "    - в относительном выражении конверсия в просмотр карточек товара ('product_page') группы В по отношению к группе А уменьшилась на 14 %;\n",
    "    - в относительном выражении конверсия в просмотр корзины ('product_cart') группы В по отношению к группе А уменьшилась на 7 %;\n",
    "    - в относительном выражении конверсия в покупки ('purchase') группы В по отношению к группе А уменьшилась на 9 %;.\n"
   ]
  },
  {
   "cell_type": "markdown",
   "id": "00c871ba",
   "metadata": {},
   "source": [
    "При проведении теста многие факторы были не учтены. Так, например, было выявлено пересечение между двумя тестами. Количество таких пользователей составило 1602 человека или 10 % от общего числа. \n",
    "\n",
    "Также, были обнаружены пользователи, которые не имели событий вовсе. Их количество составляет 2155 или 45 % пользователей, которые вероятно потеряли интерес к ресурсу. \n",
    "\n",
    "Что касается групп теста, то несмотря на то, что пересечений между пользователей нет, пропорции между группами нарушены. В группе А - 75 % пользователей, а в группе В - 25 %. \n",
    "\n",
    "Мы выяснили, что в период проведения теста, 25.12.20 проводилось маркетинговое событие. При анализе пользователей, мы определили, что повышенной активности не было в этот день. \n",
    "\n",
    "Также, помимо рекламной кампании, играет роль и сезонность. Активность пользователей прослеживается в период с 14.12.20 по 21.12.20. Вероятно, в преддверии Нового года пользователи активнее пользовались ресурсом для поиска и покупки подарков. Устранять из теста такие периоды мы не стали, поскольку это уменьшит выборку, что скажется на мощности теста.\n",
    "\n",
    "Воронка событий на данном ресурсе может формироваться двумя способами - либо пользователь может после просмотра страницы товара сразу перейти и оплатить заказ, либо оформить и оплатить заказ через корзину.\n",
    "\n",
    "Для оценки теста мы провели проверку гипотезы о том, что существует различия между конверсиями групп теста. Результаты z-теста показали, что существует статистически значимая разница между конверсиями в 'product_page'. Это говорит о том, что улучшенная рекомендательная система не работает. \n",
    "\n",
    "А вот не получили статистически значимых различий между конверсиями в 'product_cart' и 'purchase'.Т.е. результат о разнице между группами мог быть получен случайным образом."
   ]
  },
  {
   "cell_type": "markdown",
   "id": "e3a59982",
   "metadata": {},
   "source": [
    "В целом, если обобщить выводы, то согласно ТЗ наш тест был некорректно проведен, поскольку основные условия были не соблюдены. Помимо этого, были обнаружены недочеты такие, как пересечение пользователей между тестами,непропорциональное разделение аудитории между группами, сезонность, отсутствие событий. \n",
    "\n",
    "Для того, чтобы в дальнейшем мы были уверены в результатах теста, необходимо придерживаться следующих рекомендаций:"
   ]
  },
  {
   "cell_type": "markdown",
   "id": "d273b988",
   "metadata": {},
   "source": [
    "\n",
    "1. Формировать правильно выборку. Т.е. следить за тем, чтобы пользователи не пересекались между тестами. Также, чтобы пользователи были пропорционально распределены между группами.\n",
    "\n",
    "\n",
    "2. Не проводить тест в преддверии больших праздников.\n",
    "\n",
    "\n",
    "3. Следить за тем, чтобы все пользователи имели события, чтобы не пришлось сокращать выборку. Необходимо также провести детальный анализ, почему так много пользователей только зарегистрировались.\n",
    "\n",
    "\n",
    "4. Для получения более точных и корректных результатов, через несколько месяцев повторно провести тестирование и сравнить результаты с показателями, полученными впервые. Это поможет исключить ошибки первого рода.\n",
    "\n",
    "\n",
    "5. Грамотно определять границы теста."
   ]
  }
 ],
 "metadata": {
  "ExecuteTimeLog": [
   {
    "duration": 1491,
    "start_time": "2022-12-17T15:27:59.868Z"
   },
   {
    "duration": 152,
    "start_time": "2022-12-17T15:28:01.362Z"
   },
   {
    "duration": 0,
    "start_time": "2022-12-17T15:28:01.518Z"
   },
   {
    "duration": 0,
    "start_time": "2022-12-17T15:28:01.520Z"
   },
   {
    "duration": 0,
    "start_time": "2022-12-17T15:28:01.522Z"
   },
   {
    "duration": 0,
    "start_time": "2022-12-17T15:28:01.523Z"
   },
   {
    "duration": 0,
    "start_time": "2022-12-17T15:28:01.525Z"
   },
   {
    "duration": 0,
    "start_time": "2022-12-17T15:28:01.526Z"
   },
   {
    "duration": 0,
    "start_time": "2022-12-17T15:28:01.528Z"
   },
   {
    "duration": 0,
    "start_time": "2022-12-17T15:28:01.529Z"
   },
   {
    "duration": 0,
    "start_time": "2022-12-17T15:28:01.530Z"
   },
   {
    "duration": 0,
    "start_time": "2022-12-17T15:28:01.552Z"
   },
   {
    "duration": 0,
    "start_time": "2022-12-17T15:28:01.552Z"
   },
   {
    "duration": 0,
    "start_time": "2022-12-17T15:28:01.554Z"
   },
   {
    "duration": 0,
    "start_time": "2022-12-17T15:28:01.555Z"
   },
   {
    "duration": 0,
    "start_time": "2022-12-17T15:28:01.557Z"
   },
   {
    "duration": 0,
    "start_time": "2022-12-17T15:28:01.558Z"
   },
   {
    "duration": 0,
    "start_time": "2022-12-17T15:28:01.559Z"
   },
   {
    "duration": 0,
    "start_time": "2022-12-17T15:28:01.560Z"
   },
   {
    "duration": 0,
    "start_time": "2022-12-17T15:28:01.561Z"
   },
   {
    "duration": 0,
    "start_time": "2022-12-17T15:28:01.562Z"
   },
   {
    "duration": 0,
    "start_time": "2022-12-17T15:28:01.564Z"
   },
   {
    "duration": 0,
    "start_time": "2022-12-17T15:28:01.565Z"
   },
   {
    "duration": 0,
    "start_time": "2022-12-17T15:28:01.566Z"
   },
   {
    "duration": 0,
    "start_time": "2022-12-17T15:28:01.567Z"
   },
   {
    "duration": 0,
    "start_time": "2022-12-17T15:28:01.569Z"
   },
   {
    "duration": 0,
    "start_time": "2022-12-17T15:28:01.570Z"
   },
   {
    "duration": 0,
    "start_time": "2022-12-17T15:28:01.572Z"
   },
   {
    "duration": 0,
    "start_time": "2022-12-17T15:28:01.573Z"
   },
   {
    "duration": 0,
    "start_time": "2022-12-17T15:28:01.574Z"
   },
   {
    "duration": 0,
    "start_time": "2022-12-17T15:28:01.575Z"
   },
   {
    "duration": 0,
    "start_time": "2022-12-17T15:28:01.576Z"
   },
   {
    "duration": 0,
    "start_time": "2022-12-17T15:28:01.578Z"
   },
   {
    "duration": 0,
    "start_time": "2022-12-17T15:28:01.579Z"
   },
   {
    "duration": 0,
    "start_time": "2022-12-17T15:28:01.580Z"
   },
   {
    "duration": 0,
    "start_time": "2022-12-17T15:28:01.582Z"
   },
   {
    "duration": 0,
    "start_time": "2022-12-17T15:28:01.583Z"
   },
   {
    "duration": 0,
    "start_time": "2022-12-17T15:28:01.585Z"
   },
   {
    "duration": 0,
    "start_time": "2022-12-17T15:28:01.586Z"
   },
   {
    "duration": 0,
    "start_time": "2022-12-17T15:28:01.588Z"
   },
   {
    "duration": 0,
    "start_time": "2022-12-17T15:28:01.589Z"
   },
   {
    "duration": 0,
    "start_time": "2022-12-17T15:28:01.590Z"
   },
   {
    "duration": 0,
    "start_time": "2022-12-17T15:28:01.651Z"
   },
   {
    "duration": 0,
    "start_time": "2022-12-17T15:28:01.653Z"
   },
   {
    "duration": 0,
    "start_time": "2022-12-17T15:28:01.654Z"
   },
   {
    "duration": 0,
    "start_time": "2022-12-17T15:28:01.656Z"
   },
   {
    "duration": 0,
    "start_time": "2022-12-17T15:28:01.657Z"
   },
   {
    "duration": 0,
    "start_time": "2022-12-17T15:28:01.659Z"
   },
   {
    "duration": 0,
    "start_time": "2022-12-17T15:28:01.661Z"
   },
   {
    "duration": 0,
    "start_time": "2022-12-17T15:28:01.662Z"
   },
   {
    "duration": 1,
    "start_time": "2022-12-17T15:28:01.663Z"
   },
   {
    "duration": 0,
    "start_time": "2022-12-17T15:28:01.665Z"
   },
   {
    "duration": 1,
    "start_time": "2022-12-17T15:28:01.666Z"
   },
   {
    "duration": 0,
    "start_time": "2022-12-17T15:28:01.669Z"
   },
   {
    "duration": 0,
    "start_time": "2022-12-17T15:28:01.670Z"
   },
   {
    "duration": 0,
    "start_time": "2022-12-17T15:28:01.672Z"
   },
   {
    "duration": 0,
    "start_time": "2022-12-17T15:28:01.673Z"
   },
   {
    "duration": 0,
    "start_time": "2022-12-17T15:28:01.674Z"
   },
   {
    "duration": 0,
    "start_time": "2022-12-17T15:28:01.675Z"
   },
   {
    "duration": 0,
    "start_time": "2022-12-17T15:28:01.677Z"
   },
   {
    "duration": 0,
    "start_time": "2022-12-17T15:28:01.678Z"
   },
   {
    "duration": 0,
    "start_time": "2022-12-17T15:28:01.679Z"
   },
   {
    "duration": 0,
    "start_time": "2022-12-17T15:28:01.680Z"
   },
   {
    "duration": 0,
    "start_time": "2022-12-17T15:28:01.681Z"
   },
   {
    "duration": 0,
    "start_time": "2022-12-17T15:28:01.682Z"
   },
   {
    "duration": 0,
    "start_time": "2022-12-17T15:28:01.683Z"
   },
   {
    "duration": 0,
    "start_time": "2022-12-17T15:28:01.684Z"
   },
   {
    "duration": 0,
    "start_time": "2022-12-17T15:28:01.685Z"
   },
   {
    "duration": 0,
    "start_time": "2022-12-17T15:28:01.686Z"
   },
   {
    "duration": 0,
    "start_time": "2022-12-17T15:28:01.688Z"
   },
   {
    "duration": 0,
    "start_time": "2022-12-17T15:28:01.751Z"
   },
   {
    "duration": 0,
    "start_time": "2022-12-17T15:28:01.752Z"
   },
   {
    "duration": 0,
    "start_time": "2022-12-17T15:28:01.753Z"
   },
   {
    "duration": 0,
    "start_time": "2022-12-17T15:28:01.754Z"
   },
   {
    "duration": 0,
    "start_time": "2022-12-17T15:28:01.756Z"
   },
   {
    "duration": 0,
    "start_time": "2022-12-17T15:28:01.757Z"
   },
   {
    "duration": 0,
    "start_time": "2022-12-17T15:28:01.758Z"
   },
   {
    "duration": 0,
    "start_time": "2022-12-17T15:28:01.759Z"
   },
   {
    "duration": 0,
    "start_time": "2022-12-17T15:28:01.760Z"
   },
   {
    "duration": 0,
    "start_time": "2022-12-17T15:28:01.761Z"
   },
   {
    "duration": 0,
    "start_time": "2022-12-17T15:28:01.763Z"
   },
   {
    "duration": 0,
    "start_time": "2022-12-17T15:28:01.764Z"
   },
   {
    "duration": 0,
    "start_time": "2022-12-17T15:28:01.765Z"
   },
   {
    "duration": 0,
    "start_time": "2022-12-17T15:28:01.766Z"
   },
   {
    "duration": 0,
    "start_time": "2022-12-17T15:28:01.768Z"
   },
   {
    "duration": 0,
    "start_time": "2022-12-17T15:28:01.769Z"
   },
   {
    "duration": 0,
    "start_time": "2022-12-17T15:28:01.770Z"
   },
   {
    "duration": 0,
    "start_time": "2022-12-17T15:28:01.771Z"
   },
   {
    "duration": 0,
    "start_time": "2022-12-17T15:28:01.772Z"
   },
   {
    "duration": 0,
    "start_time": "2022-12-17T15:28:01.774Z"
   },
   {
    "duration": 0,
    "start_time": "2022-12-17T15:28:01.775Z"
   },
   {
    "duration": 0,
    "start_time": "2022-12-17T15:28:01.776Z"
   },
   {
    "duration": 0,
    "start_time": "2022-12-17T15:28:01.777Z"
   },
   {
    "duration": 48,
    "start_time": "2022-12-17T19:31:00.679Z"
   },
   {
    "duration": 1279,
    "start_time": "2022-12-17T19:31:09.179Z"
   },
   {
    "duration": 89,
    "start_time": "2022-12-17T19:31:14.571Z"
   },
   {
    "duration": 85,
    "start_time": "2022-12-17T19:32:02.874Z"
   },
   {
    "duration": 34,
    "start_time": "2022-12-17T19:32:16.634Z"
   },
   {
    "duration": 138,
    "start_time": "2022-12-17T19:33:02.390Z"
   },
   {
    "duration": 68,
    "start_time": "2022-12-18T09:15:41.386Z"
   },
   {
    "duration": 1265,
    "start_time": "2022-12-18T09:15:52.946Z"
   },
   {
    "duration": 79,
    "start_time": "2022-12-18T09:15:54.213Z"
   },
   {
    "duration": 10,
    "start_time": "2022-12-18T09:15:54.293Z"
   },
   {
    "duration": 9,
    "start_time": "2022-12-18T09:15:54.305Z"
   },
   {
    "duration": 15,
    "start_time": "2022-12-18T09:15:54.315Z"
   },
   {
    "duration": 9,
    "start_time": "2022-12-18T09:15:54.331Z"
   },
   {
    "duration": 6,
    "start_time": "2022-12-18T09:15:54.341Z"
   },
   {
    "duration": 141,
    "start_time": "2022-12-18T09:15:54.349Z"
   },
   {
    "duration": 17,
    "start_time": "2022-12-18T09:15:54.492Z"
   },
   {
    "duration": 17,
    "start_time": "2022-12-18T09:15:54.511Z"
   },
   {
    "duration": 4,
    "start_time": "2022-12-18T09:15:54.529Z"
   },
   {
    "duration": 7,
    "start_time": "2022-12-18T09:15:54.534Z"
   },
   {
    "duration": 9,
    "start_time": "2022-12-18T09:15:54.542Z"
   },
   {
    "duration": 12,
    "start_time": "2022-12-18T09:15:54.552Z"
   },
   {
    "duration": 59,
    "start_time": "2022-12-18T09:15:54.565Z"
   },
   {
    "duration": 22,
    "start_time": "2022-12-18T09:15:54.625Z"
   },
   {
    "duration": 10,
    "start_time": "2022-12-18T09:15:54.649Z"
   },
   {
    "duration": 104,
    "start_time": "2022-12-18T09:15:54.661Z"
   },
   {
    "duration": 0,
    "start_time": "2022-12-18T09:15:54.769Z"
   },
   {
    "duration": 0,
    "start_time": "2022-12-18T09:15:54.770Z"
   },
   {
    "duration": 0,
    "start_time": "2022-12-18T09:15:54.772Z"
   },
   {
    "duration": 0,
    "start_time": "2022-12-18T09:15:54.773Z"
   },
   {
    "duration": 0,
    "start_time": "2022-12-18T09:15:54.774Z"
   },
   {
    "duration": 0,
    "start_time": "2022-12-18T09:15:54.775Z"
   },
   {
    "duration": 0,
    "start_time": "2022-12-18T09:15:54.776Z"
   },
   {
    "duration": 0,
    "start_time": "2022-12-18T09:15:54.777Z"
   },
   {
    "duration": 0,
    "start_time": "2022-12-18T09:15:54.798Z"
   },
   {
    "duration": 0,
    "start_time": "2022-12-18T09:15:54.799Z"
   },
   {
    "duration": 0,
    "start_time": "2022-12-18T09:15:54.801Z"
   },
   {
    "duration": 0,
    "start_time": "2022-12-18T09:15:54.802Z"
   },
   {
    "duration": 0,
    "start_time": "2022-12-18T09:15:54.805Z"
   },
   {
    "duration": 0,
    "start_time": "2022-12-18T09:15:54.805Z"
   },
   {
    "duration": 0,
    "start_time": "2022-12-18T09:15:54.807Z"
   },
   {
    "duration": 0,
    "start_time": "2022-12-18T09:15:54.808Z"
   },
   {
    "duration": 0,
    "start_time": "2022-12-18T09:15:54.809Z"
   },
   {
    "duration": 0,
    "start_time": "2022-12-18T09:15:54.810Z"
   },
   {
    "duration": 0,
    "start_time": "2022-12-18T09:15:54.811Z"
   },
   {
    "duration": 0,
    "start_time": "2022-12-18T09:15:54.812Z"
   },
   {
    "duration": 0,
    "start_time": "2022-12-18T09:15:54.813Z"
   },
   {
    "duration": 1,
    "start_time": "2022-12-18T09:15:54.814Z"
   },
   {
    "duration": 0,
    "start_time": "2022-12-18T09:15:54.816Z"
   },
   {
    "duration": 0,
    "start_time": "2022-12-18T09:15:54.817Z"
   },
   {
    "duration": 0,
    "start_time": "2022-12-18T09:15:54.819Z"
   },
   {
    "duration": 0,
    "start_time": "2022-12-18T09:15:54.820Z"
   },
   {
    "duration": 0,
    "start_time": "2022-12-18T09:15:54.822Z"
   },
   {
    "duration": 0,
    "start_time": "2022-12-18T09:15:54.823Z"
   },
   {
    "duration": 0,
    "start_time": "2022-12-18T09:15:54.825Z"
   },
   {
    "duration": 0,
    "start_time": "2022-12-18T09:15:54.826Z"
   },
   {
    "duration": 0,
    "start_time": "2022-12-18T09:15:54.828Z"
   },
   {
    "duration": 0,
    "start_time": "2022-12-18T09:15:54.830Z"
   },
   {
    "duration": 0,
    "start_time": "2022-12-18T09:15:54.831Z"
   },
   {
    "duration": 0,
    "start_time": "2022-12-18T09:15:54.832Z"
   },
   {
    "duration": 0,
    "start_time": "2022-12-18T09:15:54.833Z"
   },
   {
    "duration": 0,
    "start_time": "2022-12-18T09:15:54.834Z"
   },
   {
    "duration": 0,
    "start_time": "2022-12-18T09:15:54.836Z"
   },
   {
    "duration": 0,
    "start_time": "2022-12-18T09:15:54.837Z"
   },
   {
    "duration": 0,
    "start_time": "2022-12-18T09:15:54.898Z"
   },
   {
    "duration": 0,
    "start_time": "2022-12-18T09:15:54.899Z"
   },
   {
    "duration": 0,
    "start_time": "2022-12-18T09:15:54.900Z"
   },
   {
    "duration": 0,
    "start_time": "2022-12-18T09:15:54.901Z"
   },
   {
    "duration": 0,
    "start_time": "2022-12-18T09:15:54.902Z"
   },
   {
    "duration": 0,
    "start_time": "2022-12-18T09:15:54.903Z"
   },
   {
    "duration": 0,
    "start_time": "2022-12-18T09:15:54.904Z"
   },
   {
    "duration": 0,
    "start_time": "2022-12-18T09:15:54.905Z"
   },
   {
    "duration": 0,
    "start_time": "2022-12-18T09:15:54.906Z"
   },
   {
    "duration": 0,
    "start_time": "2022-12-18T09:15:54.907Z"
   },
   {
    "duration": 0,
    "start_time": "2022-12-18T09:15:54.907Z"
   },
   {
    "duration": 0,
    "start_time": "2022-12-18T09:15:54.909Z"
   },
   {
    "duration": 0,
    "start_time": "2022-12-18T09:15:54.910Z"
   },
   {
    "duration": 0,
    "start_time": "2022-12-18T09:15:54.910Z"
   },
   {
    "duration": 0,
    "start_time": "2022-12-18T09:15:54.911Z"
   },
   {
    "duration": 0,
    "start_time": "2022-12-18T09:15:54.912Z"
   },
   {
    "duration": 0,
    "start_time": "2022-12-18T09:15:54.913Z"
   },
   {
    "duration": 0,
    "start_time": "2022-12-18T09:15:54.914Z"
   },
   {
    "duration": 0,
    "start_time": "2022-12-18T09:15:54.915Z"
   },
   {
    "duration": 0,
    "start_time": "2022-12-18T09:15:54.916Z"
   },
   {
    "duration": 0,
    "start_time": "2022-12-18T09:15:54.917Z"
   },
   {
    "duration": 0,
    "start_time": "2022-12-18T09:15:54.918Z"
   },
   {
    "duration": 0,
    "start_time": "2022-12-18T09:15:54.919Z"
   },
   {
    "duration": 0,
    "start_time": "2022-12-18T09:15:54.920Z"
   },
   {
    "duration": 0,
    "start_time": "2022-12-18T09:15:54.921Z"
   },
   {
    "duration": 0,
    "start_time": "2022-12-18T09:15:54.922Z"
   },
   {
    "duration": 0,
    "start_time": "2022-12-18T09:15:54.923Z"
   },
   {
    "duration": 0,
    "start_time": "2022-12-18T09:15:54.924Z"
   },
   {
    "duration": 0,
    "start_time": "2022-12-18T09:15:54.925Z"
   },
   {
    "duration": 0,
    "start_time": "2022-12-18T09:15:54.926Z"
   },
   {
    "duration": 0,
    "start_time": "2022-12-18T09:15:54.927Z"
   },
   {
    "duration": 0,
    "start_time": "2022-12-18T09:15:54.927Z"
   },
   {
    "duration": 0,
    "start_time": "2022-12-18T09:15:54.928Z"
   },
   {
    "duration": 0,
    "start_time": "2022-12-18T09:15:54.929Z"
   },
   {
    "duration": 0,
    "start_time": "2022-12-18T09:15:54.930Z"
   },
   {
    "duration": 0,
    "start_time": "2022-12-18T09:15:54.931Z"
   },
   {
    "duration": 0,
    "start_time": "2022-12-18T09:15:54.932Z"
   },
   {
    "duration": 600,
    "start_time": "2022-12-18T09:16:51.909Z"
   },
   {
    "duration": 44,
    "start_time": "2022-12-18T09:17:48.526Z"
   },
   {
    "duration": 92,
    "start_time": "2022-12-18T09:17:53.922Z"
   },
   {
    "duration": 4,
    "start_time": "2022-12-18T09:17:57.357Z"
   },
   {
    "duration": 40,
    "start_time": "2022-12-18T09:17:57.363Z"
   },
   {
    "duration": 8,
    "start_time": "2022-12-18T09:17:57.405Z"
   },
   {
    "duration": 8,
    "start_time": "2022-12-18T09:17:57.414Z"
   },
   {
    "duration": 7,
    "start_time": "2022-12-18T09:17:57.424Z"
   },
   {
    "duration": 8,
    "start_time": "2022-12-18T09:17:57.432Z"
   },
   {
    "duration": 5,
    "start_time": "2022-12-18T09:17:57.442Z"
   },
   {
    "duration": 87,
    "start_time": "2022-12-18T09:17:57.449Z"
   },
   {
    "duration": 17,
    "start_time": "2022-12-18T09:17:57.538Z"
   },
   {
    "duration": 18,
    "start_time": "2022-12-18T09:17:57.557Z"
   },
   {
    "duration": 21,
    "start_time": "2022-12-18T09:17:57.578Z"
   },
   {
    "duration": 6,
    "start_time": "2022-12-18T09:17:57.600Z"
   },
   {
    "duration": 10,
    "start_time": "2022-12-18T09:17:57.608Z"
   },
   {
    "duration": 9,
    "start_time": "2022-12-18T09:17:57.619Z"
   },
   {
    "duration": 33,
    "start_time": "2022-12-18T09:17:57.629Z"
   },
   {
    "duration": 50,
    "start_time": "2022-12-18T09:17:57.664Z"
   },
   {
    "duration": 8,
    "start_time": "2022-12-18T09:17:57.716Z"
   },
   {
    "duration": 431,
    "start_time": "2022-12-18T09:17:57.725Z"
   },
   {
    "duration": 78,
    "start_time": "2022-12-18T09:17:58.157Z"
   },
   {
    "duration": 126,
    "start_time": "2022-12-18T09:17:58.236Z"
   },
   {
    "duration": 5,
    "start_time": "2022-12-18T09:17:58.364Z"
   },
   {
    "duration": 10,
    "start_time": "2022-12-18T09:17:58.371Z"
   },
   {
    "duration": 254,
    "start_time": "2022-12-18T09:17:58.382Z"
   },
   {
    "duration": 567,
    "start_time": "2022-12-18T09:17:58.637Z"
   },
   {
    "duration": 23,
    "start_time": "2022-12-18T09:17:59.205Z"
   },
   {
    "duration": 72,
    "start_time": "2022-12-18T09:17:59.229Z"
   },
   {
    "duration": 42,
    "start_time": "2022-12-18T09:17:59.302Z"
   },
   {
    "duration": 70,
    "start_time": "2022-12-18T09:17:59.345Z"
   },
   {
    "duration": 140,
    "start_time": "2022-12-18T09:17:59.419Z"
   },
   {
    "duration": 24,
    "start_time": "2022-12-18T09:17:59.560Z"
   },
   {
    "duration": 79,
    "start_time": "2022-12-18T09:17:59.585Z"
   },
   {
    "duration": 45,
    "start_time": "2022-12-18T09:17:59.666Z"
   },
   {
    "duration": 10,
    "start_time": "2022-12-18T09:17:59.712Z"
   },
   {
    "duration": 12,
    "start_time": "2022-12-18T09:17:59.724Z"
   },
   {
    "duration": 6,
    "start_time": "2022-12-18T09:17:59.737Z"
   },
   {
    "duration": 6,
    "start_time": "2022-12-18T09:17:59.745Z"
   },
   {
    "duration": 6,
    "start_time": "2022-12-18T09:17:59.752Z"
   },
   {
    "duration": 186,
    "start_time": "2022-12-18T09:17:59.759Z"
   },
   {
    "duration": 384,
    "start_time": "2022-12-18T09:17:59.947Z"
   },
   {
    "duration": 13,
    "start_time": "2022-12-18T09:18:00.333Z"
   },
   {
    "duration": 47,
    "start_time": "2022-12-18T09:18:00.348Z"
   },
   {
    "duration": 154,
    "start_time": "2022-12-18T09:18:00.397Z"
   },
   {
    "duration": 3,
    "start_time": "2022-12-18T09:18:00.553Z"
   },
   {
    "duration": 39,
    "start_time": "2022-12-18T09:18:00.558Z"
   },
   {
    "duration": 749,
    "start_time": "2022-12-18T09:18:00.600Z"
   },
   {
    "duration": 20,
    "start_time": "2022-12-18T09:18:01.351Z"
   },
   {
    "duration": 45,
    "start_time": "2022-12-18T09:18:01.373Z"
   },
   {
    "duration": 26,
    "start_time": "2022-12-18T09:18:01.419Z"
   },
   {
    "duration": 5,
    "start_time": "2022-12-18T09:18:01.446Z"
   },
   {
    "duration": 16,
    "start_time": "2022-12-18T09:18:01.453Z"
   },
   {
    "duration": 23,
    "start_time": "2022-12-18T09:18:01.470Z"
   },
   {
    "duration": 8,
    "start_time": "2022-12-18T09:18:01.498Z"
   },
   {
    "duration": 267,
    "start_time": "2022-12-18T09:18:01.507Z"
   },
   {
    "duration": 144,
    "start_time": "2022-12-18T09:18:01.776Z"
   },
   {
    "duration": 9,
    "start_time": "2022-12-18T09:18:01.921Z"
   },
   {
    "duration": 209,
    "start_time": "2022-12-18T09:18:01.932Z"
   },
   {
    "duration": 18,
    "start_time": "2022-12-18T09:18:02.142Z"
   },
   {
    "duration": 36,
    "start_time": "2022-12-18T09:18:02.161Z"
   },
   {
    "duration": 5,
    "start_time": "2022-12-18T09:18:02.199Z"
   },
   {
    "duration": 4424,
    "start_time": "2022-12-18T09:18:02.206Z"
   },
   {
    "duration": 78,
    "start_time": "2022-12-18T09:18:06.632Z"
   },
   {
    "duration": 4,
    "start_time": "2022-12-18T09:18:06.712Z"
   },
   {
    "duration": 40,
    "start_time": "2022-12-18T09:18:06.718Z"
   },
   {
    "duration": 6,
    "start_time": "2022-12-18T09:18:06.759Z"
   },
   {
    "duration": 5,
    "start_time": "2022-12-18T09:18:06.767Z"
   },
   {
    "duration": 7,
    "start_time": "2022-12-18T09:18:06.798Z"
   },
   {
    "duration": 38,
    "start_time": "2022-12-18T09:18:06.806Z"
   },
   {
    "duration": 86,
    "start_time": "2022-12-18T09:18:06.845Z"
   },
   {
    "duration": 7,
    "start_time": "2022-12-18T09:18:06.932Z"
   },
   {
    "duration": 8,
    "start_time": "2022-12-18T09:18:06.940Z"
   },
   {
    "duration": 8,
    "start_time": "2022-12-18T09:18:06.950Z"
   },
   {
    "duration": 11,
    "start_time": "2022-12-18T09:18:06.960Z"
   },
   {
    "duration": 158,
    "start_time": "2022-12-18T09:18:06.997Z"
   },
   {
    "duration": 14,
    "start_time": "2022-12-18T09:18:07.157Z"
   },
   {
    "duration": 184,
    "start_time": "2022-12-18T09:18:07.173Z"
   },
   {
    "duration": 26,
    "start_time": "2022-12-18T09:18:07.359Z"
   },
   {
    "duration": 19,
    "start_time": "2022-12-18T09:18:07.387Z"
   },
   {
    "duration": 621,
    "start_time": "2022-12-18T09:18:07.408Z"
   },
   {
    "duration": 8,
    "start_time": "2022-12-18T09:18:08.030Z"
   },
   {
    "duration": 17,
    "start_time": "2022-12-18T09:18:08.039Z"
   },
   {
    "duration": 9,
    "start_time": "2022-12-18T09:18:08.057Z"
   },
   {
    "duration": 36,
    "start_time": "2022-12-18T09:18:08.068Z"
   },
   {
    "duration": 140,
    "start_time": "2022-12-18T09:18:08.109Z"
   },
   {
    "duration": 22,
    "start_time": "2022-12-18T09:18:08.250Z"
   },
   {
    "duration": 25,
    "start_time": "2022-12-18T09:18:08.274Z"
   },
   {
    "duration": 15,
    "start_time": "2022-12-18T09:18:08.300Z"
   },
   {
    "duration": 314,
    "start_time": "2022-12-18T09:18:08.317Z"
   },
   {
    "duration": 8,
    "start_time": "2022-12-18T09:18:08.632Z"
   },
   {
    "duration": 11,
    "start_time": "2022-12-18T09:18:08.642Z"
   },
   {
    "duration": 6,
    "start_time": "2022-12-18T09:18:08.655Z"
   },
   {
    "duration": 10,
    "start_time": "2022-12-18T09:18:08.662Z"
   },
   {
    "duration": 24,
    "start_time": "2022-12-18T09:18:08.674Z"
   },
   {
    "duration": 5,
    "start_time": "2022-12-18T09:18:08.700Z"
   },
   {
    "duration": 4,
    "start_time": "2022-12-18T09:21:48.093Z"
   },
   {
    "duration": 43,
    "start_time": "2022-12-18T09:21:48.100Z"
   },
   {
    "duration": 8,
    "start_time": "2022-12-18T09:21:48.145Z"
   },
   {
    "duration": 10,
    "start_time": "2022-12-18T09:21:48.154Z"
   },
   {
    "duration": 7,
    "start_time": "2022-12-18T09:21:48.166Z"
   },
   {
    "duration": 9,
    "start_time": "2022-12-18T09:21:48.174Z"
   },
   {
    "duration": 7,
    "start_time": "2022-12-18T09:21:48.184Z"
   },
   {
    "duration": 61,
    "start_time": "2022-12-18T09:21:48.192Z"
   },
   {
    "duration": 16,
    "start_time": "2022-12-18T09:21:48.254Z"
   },
   {
    "duration": 27,
    "start_time": "2022-12-18T09:21:48.272Z"
   },
   {
    "duration": 4,
    "start_time": "2022-12-18T09:21:48.301Z"
   },
   {
    "duration": 5,
    "start_time": "2022-12-18T09:21:48.307Z"
   },
   {
    "duration": 14,
    "start_time": "2022-12-18T09:21:48.313Z"
   },
   {
    "duration": 6,
    "start_time": "2022-12-18T09:21:48.329Z"
   },
   {
    "duration": 24,
    "start_time": "2022-12-18T09:21:48.336Z"
   },
   {
    "duration": 44,
    "start_time": "2022-12-18T09:21:48.362Z"
   },
   {
    "duration": 8,
    "start_time": "2022-12-18T09:21:48.407Z"
   },
   {
    "duration": 408,
    "start_time": "2022-12-18T09:21:48.416Z"
   },
   {
    "duration": 72,
    "start_time": "2022-12-18T09:21:48.825Z"
   },
   {
    "duration": 101,
    "start_time": "2022-12-18T09:21:48.899Z"
   },
   {
    "duration": 6,
    "start_time": "2022-12-18T09:21:49.001Z"
   },
   {
    "duration": 24,
    "start_time": "2022-12-18T09:21:49.008Z"
   },
   {
    "duration": 246,
    "start_time": "2022-12-18T09:21:49.033Z"
   },
   {
    "duration": 487,
    "start_time": "2022-12-18T09:21:49.280Z"
   },
   {
    "duration": 31,
    "start_time": "2022-12-18T09:21:49.768Z"
   },
   {
    "duration": 55,
    "start_time": "2022-12-18T09:21:49.800Z"
   },
   {
    "duration": 58,
    "start_time": "2022-12-18T09:21:49.858Z"
   },
   {
    "duration": 69,
    "start_time": "2022-12-18T09:21:49.918Z"
   },
   {
    "duration": 162,
    "start_time": "2022-12-18T09:21:49.996Z"
   },
   {
    "duration": 23,
    "start_time": "2022-12-18T09:21:50.160Z"
   },
   {
    "duration": 77,
    "start_time": "2022-12-18T09:21:50.184Z"
   },
   {
    "duration": 41,
    "start_time": "2022-12-18T09:21:50.263Z"
   },
   {
    "duration": 10,
    "start_time": "2022-12-18T09:21:50.305Z"
   },
   {
    "duration": 15,
    "start_time": "2022-12-18T09:21:50.316Z"
   },
   {
    "duration": 6,
    "start_time": "2022-12-18T09:21:50.332Z"
   },
   {
    "duration": 4,
    "start_time": "2022-12-18T09:21:50.339Z"
   },
   {
    "duration": 7,
    "start_time": "2022-12-18T09:21:50.344Z"
   },
   {
    "duration": 179,
    "start_time": "2022-12-18T09:21:50.352Z"
   },
   {
    "duration": 313,
    "start_time": "2022-12-18T09:21:50.532Z"
   },
   {
    "duration": 12,
    "start_time": "2022-12-18T09:21:50.846Z"
   },
   {
    "duration": 37,
    "start_time": "2022-12-18T09:21:50.860Z"
   },
   {
    "duration": 148,
    "start_time": "2022-12-18T09:21:50.898Z"
   },
   {
    "duration": 2,
    "start_time": "2022-12-18T09:21:51.048Z"
   },
   {
    "duration": 30,
    "start_time": "2022-12-18T09:21:51.051Z"
   },
   {
    "duration": 804,
    "start_time": "2022-12-18T09:21:51.082Z"
   },
   {
    "duration": 22,
    "start_time": "2022-12-18T09:21:51.888Z"
   },
   {
    "duration": 30,
    "start_time": "2022-12-18T09:21:51.911Z"
   },
   {
    "duration": 23,
    "start_time": "2022-12-18T09:21:51.943Z"
   },
   {
    "duration": 4,
    "start_time": "2022-12-18T09:21:51.968Z"
   },
   {
    "duration": 7,
    "start_time": "2022-12-18T09:21:51.997Z"
   },
   {
    "duration": 18,
    "start_time": "2022-12-18T09:21:52.006Z"
   },
   {
    "duration": 6,
    "start_time": "2022-12-18T09:21:52.025Z"
   },
   {
    "duration": 192,
    "start_time": "2022-12-18T09:21:52.033Z"
   },
   {
    "duration": 141,
    "start_time": "2022-12-18T09:21:52.226Z"
   },
   {
    "duration": 9,
    "start_time": "2022-12-18T09:21:52.368Z"
   },
   {
    "duration": 199,
    "start_time": "2022-12-18T09:21:52.378Z"
   },
   {
    "duration": 29,
    "start_time": "2022-12-18T09:21:52.578Z"
   },
   {
    "duration": 21,
    "start_time": "2022-12-18T09:21:52.609Z"
   },
   {
    "duration": 6,
    "start_time": "2022-12-18T09:21:52.631Z"
   },
   {
    "duration": 4453,
    "start_time": "2022-12-18T09:21:52.638Z"
   },
   {
    "duration": 70,
    "start_time": "2022-12-18T09:21:57.093Z"
   },
   {
    "duration": 4,
    "start_time": "2022-12-18T09:21:57.165Z"
   },
   {
    "duration": 57,
    "start_time": "2022-12-18T09:21:57.170Z"
   },
   {
    "duration": 6,
    "start_time": "2022-12-18T09:21:57.228Z"
   },
   {
    "duration": 8,
    "start_time": "2022-12-18T09:21:57.235Z"
   },
   {
    "duration": 7,
    "start_time": "2022-12-18T09:21:57.244Z"
   },
   {
    "duration": 54,
    "start_time": "2022-12-18T09:21:57.253Z"
   },
   {
    "duration": 7,
    "start_time": "2022-12-18T09:21:57.310Z"
   },
   {
    "duration": 11,
    "start_time": "2022-12-18T09:21:57.318Z"
   },
   {
    "duration": 10,
    "start_time": "2022-12-18T09:21:57.330Z"
   },
   {
    "duration": 8,
    "start_time": "2022-12-18T09:21:57.341Z"
   },
   {
    "duration": 14,
    "start_time": "2022-12-18T09:21:57.350Z"
   },
   {
    "duration": 167,
    "start_time": "2022-12-18T09:21:57.365Z"
   },
   {
    "duration": 13,
    "start_time": "2022-12-18T09:21:57.534Z"
   },
   {
    "duration": 167,
    "start_time": "2022-12-18T09:21:57.548Z"
   },
   {
    "duration": 11,
    "start_time": "2022-12-18T09:21:57.716Z"
   },
   {
    "duration": 18,
    "start_time": "2022-12-18T09:21:57.729Z"
   },
   {
    "duration": 609,
    "start_time": "2022-12-18T09:21:57.749Z"
   },
   {
    "duration": 7,
    "start_time": "2022-12-18T09:21:58.360Z"
   },
   {
    "duration": 16,
    "start_time": "2022-12-18T09:21:58.368Z"
   },
   {
    "duration": 9,
    "start_time": "2022-12-18T09:21:58.397Z"
   },
   {
    "duration": 20,
    "start_time": "2022-12-18T09:21:58.407Z"
   },
   {
    "duration": 7,
    "start_time": "2022-12-18T09:21:58.432Z"
   },
   {
    "duration": 20,
    "start_time": "2022-12-18T09:21:58.440Z"
   },
   {
    "duration": 7,
    "start_time": "2022-12-18T09:21:58.461Z"
   },
   {
    "duration": 10,
    "start_time": "2022-12-18T09:21:58.497Z"
   },
   {
    "duration": 248,
    "start_time": "2022-12-18T09:21:58.509Z"
   },
   {
    "duration": 9,
    "start_time": "2022-12-18T09:21:58.758Z"
   },
   {
    "duration": 11,
    "start_time": "2022-12-18T09:21:58.768Z"
   },
   {
    "duration": 16,
    "start_time": "2022-12-18T09:21:58.781Z"
   },
   {
    "duration": 10,
    "start_time": "2022-12-18T09:21:58.799Z"
   },
   {
    "duration": 5,
    "start_time": "2022-12-18T09:21:58.810Z"
   },
   {
    "duration": 8,
    "start_time": "2022-12-18T09:21:58.816Z"
   },
   {
    "duration": 3,
    "start_time": "2022-12-18T09:22:55.813Z"
   },
   {
    "duration": 38,
    "start_time": "2022-12-18T09:22:55.818Z"
   },
   {
    "duration": 8,
    "start_time": "2022-12-18T09:22:55.858Z"
   },
   {
    "duration": 9,
    "start_time": "2022-12-18T09:22:55.867Z"
   },
   {
    "duration": 20,
    "start_time": "2022-12-18T09:22:55.877Z"
   },
   {
    "duration": 7,
    "start_time": "2022-12-18T09:22:55.898Z"
   },
   {
    "duration": 18,
    "start_time": "2022-12-18T09:22:55.907Z"
   },
   {
    "duration": 68,
    "start_time": "2022-12-18T09:22:55.927Z"
   },
   {
    "duration": 16,
    "start_time": "2022-12-18T09:22:55.996Z"
   },
   {
    "duration": 18,
    "start_time": "2022-12-18T09:22:56.014Z"
   },
   {
    "duration": 5,
    "start_time": "2022-12-18T09:22:56.034Z"
   },
   {
    "duration": 8,
    "start_time": "2022-12-18T09:22:56.040Z"
   },
   {
    "duration": 116,
    "start_time": "2022-12-18T09:22:56.049Z"
   },
   {
    "duration": 7,
    "start_time": "2022-12-18T09:22:56.166Z"
   },
   {
    "duration": 25,
    "start_time": "2022-12-18T09:22:56.197Z"
   },
   {
    "duration": 15,
    "start_time": "2022-12-18T09:22:56.223Z"
   },
   {
    "duration": 8,
    "start_time": "2022-12-18T09:22:56.239Z"
   },
   {
    "duration": 396,
    "start_time": "2022-12-18T09:22:56.248Z"
   },
   {
    "duration": 63,
    "start_time": "2022-12-18T09:22:56.645Z"
   },
   {
    "duration": 113,
    "start_time": "2022-12-18T09:22:56.710Z"
   },
   {
    "duration": 5,
    "start_time": "2022-12-18T09:22:56.825Z"
   },
   {
    "duration": 25,
    "start_time": "2022-12-18T09:22:56.832Z"
   },
   {
    "duration": 235,
    "start_time": "2022-12-18T09:22:56.859Z"
   },
   {
    "duration": 495,
    "start_time": "2022-12-18T09:22:57.097Z"
   },
   {
    "duration": 23,
    "start_time": "2022-12-18T09:22:57.594Z"
   },
   {
    "duration": 56,
    "start_time": "2022-12-18T09:22:57.618Z"
   },
   {
    "duration": 58,
    "start_time": "2022-12-18T09:22:57.675Z"
   },
   {
    "duration": 64,
    "start_time": "2022-12-18T09:22:57.735Z"
   },
   {
    "duration": 127,
    "start_time": "2022-12-18T09:22:57.803Z"
   },
   {
    "duration": 29,
    "start_time": "2022-12-18T09:22:57.932Z"
   },
   {
    "duration": 88,
    "start_time": "2022-12-18T09:22:57.962Z"
   },
   {
    "duration": 41,
    "start_time": "2022-12-18T09:22:58.052Z"
   },
   {
    "duration": 10,
    "start_time": "2022-12-18T09:22:58.095Z"
   },
   {
    "duration": 28,
    "start_time": "2022-12-18T09:22:58.106Z"
   },
   {
    "duration": 14,
    "start_time": "2022-12-18T09:22:58.136Z"
   },
   {
    "duration": 14,
    "start_time": "2022-12-18T09:22:58.151Z"
   },
   {
    "duration": 14,
    "start_time": "2022-12-18T09:22:58.167Z"
   },
   {
    "duration": 159,
    "start_time": "2022-12-18T09:22:58.183Z"
   },
   {
    "duration": 300,
    "start_time": "2022-12-18T09:22:58.344Z"
   },
   {
    "duration": 12,
    "start_time": "2022-12-18T09:22:58.646Z"
   },
   {
    "duration": 46,
    "start_time": "2022-12-18T09:22:58.659Z"
   },
   {
    "duration": 150,
    "start_time": "2022-12-18T09:22:58.706Z"
   },
   {
    "duration": 2,
    "start_time": "2022-12-18T09:22:58.858Z"
   },
   {
    "duration": 48,
    "start_time": "2022-12-18T09:22:58.861Z"
   },
   {
    "duration": 712,
    "start_time": "2022-12-18T09:22:58.910Z"
   },
   {
    "duration": 18,
    "start_time": "2022-12-18T09:22:59.623Z"
   },
   {
    "duration": 37,
    "start_time": "2022-12-18T09:22:59.643Z"
   },
   {
    "duration": 31,
    "start_time": "2022-12-18T09:22:59.682Z"
   },
   {
    "duration": 15,
    "start_time": "2022-12-18T09:22:59.714Z"
   },
   {
    "duration": 29,
    "start_time": "2022-12-18T09:22:59.731Z"
   },
   {
    "duration": 28,
    "start_time": "2022-12-18T09:22:59.762Z"
   },
   {
    "duration": 10,
    "start_time": "2022-12-18T09:22:59.792Z"
   },
   {
    "duration": 184,
    "start_time": "2022-12-18T09:22:59.803Z"
   },
   {
    "duration": 154,
    "start_time": "2022-12-18T09:22:59.988Z"
   },
   {
    "duration": 8,
    "start_time": "2022-12-18T09:23:00.144Z"
   },
   {
    "duration": 195,
    "start_time": "2022-12-18T09:23:00.153Z"
   },
   {
    "duration": 21,
    "start_time": "2022-12-18T09:23:00.349Z"
   },
   {
    "duration": 33,
    "start_time": "2022-12-18T09:23:00.372Z"
   },
   {
    "duration": 11,
    "start_time": "2022-12-18T09:23:00.407Z"
   },
   {
    "duration": 4600,
    "start_time": "2022-12-18T09:23:00.420Z"
   },
   {
    "duration": 83,
    "start_time": "2022-12-18T09:23:05.022Z"
   },
   {
    "duration": 4,
    "start_time": "2022-12-18T09:23:05.106Z"
   },
   {
    "duration": 43,
    "start_time": "2022-12-18T09:23:05.112Z"
   },
   {
    "duration": 6,
    "start_time": "2022-12-18T09:23:05.156Z"
   },
   {
    "duration": 7,
    "start_time": "2022-12-18T09:23:05.164Z"
   },
   {
    "duration": 27,
    "start_time": "2022-12-18T09:23:05.173Z"
   },
   {
    "duration": 45,
    "start_time": "2022-12-18T09:23:05.201Z"
   },
   {
    "duration": 6,
    "start_time": "2022-12-18T09:23:05.248Z"
   },
   {
    "duration": 9,
    "start_time": "2022-12-18T09:23:05.256Z"
   },
   {
    "duration": 7,
    "start_time": "2022-12-18T09:23:05.266Z"
   },
   {
    "duration": 25,
    "start_time": "2022-12-18T09:23:05.274Z"
   },
   {
    "duration": 12,
    "start_time": "2022-12-18T09:23:05.300Z"
   },
   {
    "duration": 150,
    "start_time": "2022-12-18T09:23:05.314Z"
   },
   {
    "duration": 13,
    "start_time": "2022-12-18T09:23:05.466Z"
   },
   {
    "duration": 180,
    "start_time": "2022-12-18T09:23:05.480Z"
   },
   {
    "duration": 13,
    "start_time": "2022-12-18T09:23:05.662Z"
   },
   {
    "duration": 33,
    "start_time": "2022-12-18T09:23:05.676Z"
   },
   {
    "duration": 690,
    "start_time": "2022-12-18T09:23:05.710Z"
   },
   {
    "duration": 8,
    "start_time": "2022-12-18T09:23:06.402Z"
   },
   {
    "duration": 15,
    "start_time": "2022-12-18T09:23:06.412Z"
   },
   {
    "duration": 9,
    "start_time": "2022-12-18T09:23:06.429Z"
   },
   {
    "duration": 17,
    "start_time": "2022-12-18T09:23:06.439Z"
   },
   {
    "duration": 36,
    "start_time": "2022-12-18T09:23:06.461Z"
   },
   {
    "duration": 20,
    "start_time": "2022-12-18T09:23:06.500Z"
   },
   {
    "duration": 8,
    "start_time": "2022-12-18T09:23:06.521Z"
   },
   {
    "duration": 15,
    "start_time": "2022-12-18T09:23:06.530Z"
   },
   {
    "duration": 278,
    "start_time": "2022-12-18T09:23:06.547Z"
   },
   {
    "duration": 9,
    "start_time": "2022-12-18T09:23:06.827Z"
   },
   {
    "duration": 11,
    "start_time": "2022-12-18T09:23:06.837Z"
   },
   {
    "duration": 5,
    "start_time": "2022-12-18T09:23:06.849Z"
   },
   {
    "duration": 10,
    "start_time": "2022-12-18T09:23:06.855Z"
   },
   {
    "duration": 4,
    "start_time": "2022-12-18T09:23:06.866Z"
   },
   {
    "duration": 29,
    "start_time": "2022-12-18T09:23:06.871Z"
   },
   {
    "duration": 1257,
    "start_time": "2022-12-19T03:02:25.378Z"
   },
   {
    "duration": 82,
    "start_time": "2022-12-19T03:02:26.637Z"
   },
   {
    "duration": 14,
    "start_time": "2022-12-19T03:02:26.721Z"
   },
   {
    "duration": 37,
    "start_time": "2022-12-19T03:02:26.738Z"
   },
   {
    "duration": 7,
    "start_time": "2022-12-19T03:02:26.777Z"
   },
   {
    "duration": 17,
    "start_time": "2022-12-19T03:02:26.786Z"
   },
   {
    "duration": 35,
    "start_time": "2022-12-19T03:02:26.804Z"
   },
   {
    "duration": 136,
    "start_time": "2022-12-19T03:02:26.840Z"
   },
   {
    "duration": 18,
    "start_time": "2022-12-19T03:02:26.978Z"
   },
   {
    "duration": 18,
    "start_time": "2022-12-19T03:02:26.999Z"
   },
   {
    "duration": 4,
    "start_time": "2022-12-19T03:02:27.019Z"
   },
   {
    "duration": 5,
    "start_time": "2022-12-19T03:02:27.035Z"
   },
   {
    "duration": 24,
    "start_time": "2022-12-19T03:02:27.042Z"
   },
   {
    "duration": 7,
    "start_time": "2022-12-19T03:02:27.068Z"
   },
   {
    "duration": 34,
    "start_time": "2022-12-19T03:02:27.077Z"
   },
   {
    "duration": 29,
    "start_time": "2022-12-19T03:02:27.112Z"
   },
   {
    "duration": 9,
    "start_time": "2022-12-19T03:02:27.143Z"
   },
   {
    "duration": 621,
    "start_time": "2022-12-19T03:02:27.153Z"
   },
   {
    "duration": 61,
    "start_time": "2022-12-19T03:02:27.776Z"
   },
   {
    "duration": 127,
    "start_time": "2022-12-19T03:02:27.839Z"
   },
   {
    "duration": 5,
    "start_time": "2022-12-19T03:02:27.968Z"
   },
   {
    "duration": 7,
    "start_time": "2022-12-19T03:02:27.975Z"
   },
   {
    "duration": 281,
    "start_time": "2022-12-19T03:02:27.984Z"
   },
   {
    "duration": 611,
    "start_time": "2022-12-19T03:02:28.267Z"
   },
   {
    "duration": 24,
    "start_time": "2022-12-19T03:02:28.880Z"
   },
   {
    "duration": 70,
    "start_time": "2022-12-19T03:02:28.905Z"
   },
   {
    "duration": 60,
    "start_time": "2022-12-19T03:02:28.977Z"
   },
   {
    "duration": 62,
    "start_time": "2022-12-19T03:02:29.042Z"
   },
   {
    "duration": 166,
    "start_time": "2022-12-19T03:02:29.106Z"
   },
   {
    "duration": 22,
    "start_time": "2022-12-19T03:02:29.274Z"
   },
   {
    "duration": 97,
    "start_time": "2022-12-19T03:02:29.298Z"
   },
   {
    "duration": 90,
    "start_time": "2022-12-19T03:02:29.397Z"
   },
   {
    "duration": 11,
    "start_time": "2022-12-19T03:02:29.488Z"
   },
   {
    "duration": 15,
    "start_time": "2022-12-19T03:02:29.501Z"
   },
   {
    "duration": 7,
    "start_time": "2022-12-19T03:02:29.517Z"
   },
   {
    "duration": 9,
    "start_time": "2022-12-19T03:02:29.525Z"
   },
   {
    "duration": 17,
    "start_time": "2022-12-19T03:02:29.535Z"
   },
   {
    "duration": 177,
    "start_time": "2022-12-19T03:02:29.554Z"
   },
   {
    "duration": 373,
    "start_time": "2022-12-19T03:02:29.733Z"
   },
   {
    "duration": 13,
    "start_time": "2022-12-19T03:02:30.108Z"
   },
   {
    "duration": 30,
    "start_time": "2022-12-19T03:02:30.123Z"
   },
   {
    "duration": 168,
    "start_time": "2022-12-19T03:02:30.155Z"
   },
   {
    "duration": 2,
    "start_time": "2022-12-19T03:02:30.325Z"
   },
   {
    "duration": 45,
    "start_time": "2022-12-19T03:02:30.334Z"
   },
   {
    "duration": 771,
    "start_time": "2022-12-19T03:02:30.381Z"
   },
   {
    "duration": 20,
    "start_time": "2022-12-19T03:02:31.153Z"
   },
   {
    "duration": 56,
    "start_time": "2022-12-19T03:02:31.175Z"
   },
   {
    "duration": 25,
    "start_time": "2022-12-19T03:02:31.233Z"
   },
   {
    "duration": 13,
    "start_time": "2022-12-19T03:02:31.260Z"
   },
   {
    "duration": 30,
    "start_time": "2022-12-19T03:02:31.274Z"
   },
   {
    "duration": 70,
    "start_time": "2022-12-19T03:02:31.306Z"
   },
   {
    "duration": 55,
    "start_time": "2022-12-19T03:02:31.378Z"
   },
   {
    "duration": 270,
    "start_time": "2022-12-19T03:02:31.435Z"
   },
   {
    "duration": 152,
    "start_time": "2022-12-19T03:02:31.706Z"
   },
   {
    "duration": 9,
    "start_time": "2022-12-19T03:02:31.859Z"
   },
   {
    "duration": 228,
    "start_time": "2022-12-19T03:02:31.870Z"
   },
   {
    "duration": 20,
    "start_time": "2022-12-19T03:02:32.100Z"
   },
   {
    "duration": 30,
    "start_time": "2022-12-19T03:02:32.121Z"
   },
   {
    "duration": 6,
    "start_time": "2022-12-19T03:02:32.153Z"
   },
   {
    "duration": 4616,
    "start_time": "2022-12-19T03:02:32.161Z"
   },
   {
    "duration": 86,
    "start_time": "2022-12-19T03:02:36.779Z"
   },
   {
    "duration": 5,
    "start_time": "2022-12-19T03:02:36.867Z"
   },
   {
    "duration": 43,
    "start_time": "2022-12-19T03:02:36.874Z"
   },
   {
    "duration": 7,
    "start_time": "2022-12-19T03:02:36.935Z"
   },
   {
    "duration": 8,
    "start_time": "2022-12-19T03:02:36.944Z"
   },
   {
    "duration": 8,
    "start_time": "2022-12-19T03:02:36.954Z"
   },
   {
    "duration": 44,
    "start_time": "2022-12-19T03:02:36.963Z"
   },
   {
    "duration": 93,
    "start_time": "2022-12-19T03:02:37.009Z"
   },
   {
    "duration": 15,
    "start_time": "2022-12-19T03:02:37.104Z"
   },
   {
    "duration": 16,
    "start_time": "2022-12-19T03:02:37.120Z"
   },
   {
    "duration": 9,
    "start_time": "2022-12-19T03:02:37.137Z"
   },
   {
    "duration": 14,
    "start_time": "2022-12-19T03:02:37.148Z"
   },
   {
    "duration": 181,
    "start_time": "2022-12-19T03:02:37.164Z"
   },
   {
    "duration": 17,
    "start_time": "2022-12-19T03:02:37.347Z"
   },
   {
    "duration": 202,
    "start_time": "2022-12-19T03:02:37.366Z"
   },
   {
    "duration": 13,
    "start_time": "2022-12-19T03:02:37.569Z"
   },
   {
    "duration": 19,
    "start_time": "2022-12-19T03:02:37.584Z"
   },
   {
    "duration": 656,
    "start_time": "2022-12-19T03:02:37.605Z"
   },
   {
    "duration": 8,
    "start_time": "2022-12-19T03:02:38.263Z"
   },
   {
    "duration": 16,
    "start_time": "2022-12-19T03:02:38.273Z"
   },
   {
    "duration": 11,
    "start_time": "2022-12-19T03:02:38.290Z"
   },
   {
    "duration": 46,
    "start_time": "2022-12-19T03:02:38.306Z"
   },
   {
    "duration": 186,
    "start_time": "2022-12-19T03:02:38.354Z"
   },
   {
    "duration": 23,
    "start_time": "2022-12-19T03:02:38.541Z"
   },
   {
    "duration": 69,
    "start_time": "2022-12-19T03:02:38.566Z"
   },
   {
    "duration": 46,
    "start_time": "2022-12-19T03:02:38.637Z"
   },
   {
    "duration": 280,
    "start_time": "2022-12-19T03:02:38.684Z"
   },
   {
    "duration": 10,
    "start_time": "2022-12-19T03:02:38.965Z"
   },
   {
    "duration": 39,
    "start_time": "2022-12-19T03:02:38.976Z"
   },
   {
    "duration": 43,
    "start_time": "2022-12-19T03:02:39.016Z"
   },
   {
    "duration": 36,
    "start_time": "2022-12-19T03:02:39.061Z"
   },
   {
    "duration": 26,
    "start_time": "2022-12-19T03:02:39.099Z"
   },
   {
    "duration": 23,
    "start_time": "2022-12-19T03:02:39.127Z"
   },
   {
    "duration": 1282,
    "start_time": "2022-12-19T11:05:22.348Z"
   },
   {
    "duration": 73,
    "start_time": "2022-12-19T11:05:23.632Z"
   },
   {
    "duration": 9,
    "start_time": "2022-12-19T11:05:23.706Z"
   },
   {
    "duration": 22,
    "start_time": "2022-12-19T11:05:23.717Z"
   },
   {
    "duration": 25,
    "start_time": "2022-12-19T11:05:23.740Z"
   },
   {
    "duration": 18,
    "start_time": "2022-12-19T11:05:23.766Z"
   },
   {
    "duration": 33,
    "start_time": "2022-12-19T11:05:23.786Z"
   },
   {
    "duration": 337,
    "start_time": "2022-12-19T11:05:23.821Z"
   },
   {
    "duration": 16,
    "start_time": "2022-12-19T11:05:24.160Z"
   },
   {
    "duration": 22,
    "start_time": "2022-12-19T11:05:24.178Z"
   },
   {
    "duration": 17,
    "start_time": "2022-12-19T11:05:24.202Z"
   },
   {
    "duration": 21,
    "start_time": "2022-12-19T11:05:24.220Z"
   },
   {
    "duration": 34,
    "start_time": "2022-12-19T11:05:24.243Z"
   },
   {
    "duration": 21,
    "start_time": "2022-12-19T11:05:24.280Z"
   },
   {
    "duration": 48,
    "start_time": "2022-12-19T11:05:24.303Z"
   },
   {
    "duration": 24,
    "start_time": "2022-12-19T11:05:24.352Z"
   },
   {
    "duration": 24,
    "start_time": "2022-12-19T11:05:24.378Z"
   },
   {
    "duration": 616,
    "start_time": "2022-12-19T11:05:24.404Z"
   },
   {
    "duration": 60,
    "start_time": "2022-12-19T11:05:25.022Z"
   },
   {
    "duration": 141,
    "start_time": "2022-12-19T11:05:25.084Z"
   },
   {
    "duration": 8,
    "start_time": "2022-12-19T11:05:25.227Z"
   },
   {
    "duration": 10,
    "start_time": "2022-12-19T11:05:25.237Z"
   },
   {
    "duration": 291,
    "start_time": "2022-12-19T11:05:25.249Z"
   },
   {
    "duration": 576,
    "start_time": "2022-12-19T11:05:25.542Z"
   },
   {
    "duration": 27,
    "start_time": "2022-12-19T11:05:26.119Z"
   },
   {
    "duration": 73,
    "start_time": "2022-12-19T11:05:26.148Z"
   },
   {
    "duration": 50,
    "start_time": "2022-12-19T11:05:26.222Z"
   },
   {
    "duration": 71,
    "start_time": "2022-12-19T11:05:26.273Z"
   },
   {
    "duration": 149,
    "start_time": "2022-12-19T11:05:26.346Z"
   },
   {
    "duration": 31,
    "start_time": "2022-12-19T11:05:26.496Z"
   },
   {
    "duration": 95,
    "start_time": "2022-12-19T11:05:26.529Z"
   },
   {
    "duration": 120,
    "start_time": "2022-12-19T11:05:26.626Z"
   },
   {
    "duration": 10,
    "start_time": "2022-12-19T11:05:26.748Z"
   },
   {
    "duration": 19,
    "start_time": "2022-12-19T11:05:26.759Z"
   },
   {
    "duration": 11,
    "start_time": "2022-12-19T11:05:26.779Z"
   },
   {
    "duration": 13,
    "start_time": "2022-12-19T11:05:26.791Z"
   },
   {
    "duration": 9,
    "start_time": "2022-12-19T11:05:26.805Z"
   },
   {
    "duration": 176,
    "start_time": "2022-12-19T11:05:26.815Z"
   },
   {
    "duration": 331,
    "start_time": "2022-12-19T11:05:26.993Z"
   },
   {
    "duration": 12,
    "start_time": "2022-12-19T11:05:27.325Z"
   },
   {
    "duration": 40,
    "start_time": "2022-12-19T11:05:27.342Z"
   },
   {
    "duration": 155,
    "start_time": "2022-12-19T11:05:27.384Z"
   },
   {
    "duration": 2,
    "start_time": "2022-12-19T11:05:27.541Z"
   },
   {
    "duration": 37,
    "start_time": "2022-12-19T11:05:27.545Z"
   },
   {
    "duration": 754,
    "start_time": "2022-12-19T11:05:27.584Z"
   },
   {
    "duration": 18,
    "start_time": "2022-12-19T11:05:28.340Z"
   },
   {
    "duration": 44,
    "start_time": "2022-12-19T11:05:28.360Z"
   },
   {
    "duration": 36,
    "start_time": "2022-12-19T11:05:28.407Z"
   },
   {
    "duration": 5,
    "start_time": "2022-12-19T11:05:28.444Z"
   },
   {
    "duration": 17,
    "start_time": "2022-12-19T11:05:28.450Z"
   },
   {
    "duration": 16,
    "start_time": "2022-12-19T11:05:28.468Z"
   },
   {
    "duration": 10,
    "start_time": "2022-12-19T11:05:28.485Z"
   },
   {
    "duration": 266,
    "start_time": "2022-12-19T11:05:28.497Z"
   },
   {
    "duration": 134,
    "start_time": "2022-12-19T11:05:28.765Z"
   },
   {
    "duration": 22,
    "start_time": "2022-12-19T11:05:28.901Z"
   },
   {
    "duration": 213,
    "start_time": "2022-12-19T11:05:28.925Z"
   },
   {
    "duration": 19,
    "start_time": "2022-12-19T11:05:29.140Z"
   },
   {
    "duration": 27,
    "start_time": "2022-12-19T11:05:29.161Z"
   },
   {
    "duration": 11,
    "start_time": "2022-12-19T11:05:29.190Z"
   },
   {
    "duration": 4478,
    "start_time": "2022-12-19T11:05:29.202Z"
   },
   {
    "duration": 79,
    "start_time": "2022-12-19T11:05:33.682Z"
   },
   {
    "duration": 5,
    "start_time": "2022-12-19T11:05:33.762Z"
   },
   {
    "duration": 75,
    "start_time": "2022-12-19T11:05:33.768Z"
   },
   {
    "duration": 6,
    "start_time": "2022-12-19T11:05:33.845Z"
   },
   {
    "duration": 16,
    "start_time": "2022-12-19T11:05:33.853Z"
   },
   {
    "duration": 13,
    "start_time": "2022-12-19T11:05:33.871Z"
   },
   {
    "duration": 80,
    "start_time": "2022-12-19T11:05:33.886Z"
   },
   {
    "duration": 8,
    "start_time": "2022-12-19T11:05:33.968Z"
   },
   {
    "duration": 39,
    "start_time": "2022-12-19T11:05:33.978Z"
   },
   {
    "duration": 53,
    "start_time": "2022-12-19T11:05:34.019Z"
   },
   {
    "duration": 27,
    "start_time": "2022-12-19T11:05:34.074Z"
   },
   {
    "duration": 35,
    "start_time": "2022-12-19T11:05:34.103Z"
   },
   {
    "duration": 181,
    "start_time": "2022-12-19T11:05:34.140Z"
   },
   {
    "duration": 15,
    "start_time": "2022-12-19T11:05:34.323Z"
   },
   {
    "duration": 314,
    "start_time": "2022-12-19T11:05:34.339Z"
   },
   {
    "duration": 12,
    "start_time": "2022-12-19T11:05:34.655Z"
   },
   {
    "duration": 24,
    "start_time": "2022-12-19T11:05:34.668Z"
   },
   {
    "duration": 746,
    "start_time": "2022-12-19T11:05:34.693Z"
   },
   {
    "duration": 10,
    "start_time": "2022-12-19T11:05:35.441Z"
   },
   {
    "duration": 82,
    "start_time": "2022-12-19T11:05:35.453Z"
   },
   {
    "duration": 35,
    "start_time": "2022-12-19T11:05:35.538Z"
   },
   {
    "duration": 27,
    "start_time": "2022-12-19T11:05:35.574Z"
   },
   {
    "duration": 169,
    "start_time": "2022-12-19T11:05:35.603Z"
   },
   {
    "duration": 21,
    "start_time": "2022-12-19T11:05:35.773Z"
   },
   {
    "duration": 31,
    "start_time": "2022-12-19T11:05:35.796Z"
   },
   {
    "duration": 47,
    "start_time": "2022-12-19T11:05:35.829Z"
   },
   {
    "duration": 273,
    "start_time": "2022-12-19T11:05:35.877Z"
   },
   {
    "duration": 8,
    "start_time": "2022-12-19T11:05:36.152Z"
   },
   {
    "duration": 31,
    "start_time": "2022-12-19T11:05:36.162Z"
   },
   {
    "duration": 9,
    "start_time": "2022-12-19T11:05:36.195Z"
   },
   {
    "duration": 35,
    "start_time": "2022-12-19T11:05:36.205Z"
   },
   {
    "duration": 20,
    "start_time": "2022-12-19T11:05:36.242Z"
   },
   {
    "duration": 8,
    "start_time": "2022-12-19T11:05:36.264Z"
   },
   {
    "duration": 10,
    "start_time": "2022-12-19T11:09:30.779Z"
   },
   {
    "duration": 9,
    "start_time": "2022-12-19T11:10:42.947Z"
   },
   {
    "duration": 4,
    "start_time": "2022-12-19T11:10:46.017Z"
   },
   {
    "duration": 36,
    "start_time": "2022-12-19T11:10:46.035Z"
   },
   {
    "duration": 11,
    "start_time": "2022-12-19T11:10:46.073Z"
   },
   {
    "duration": 7,
    "start_time": "2022-12-19T11:10:46.086Z"
   },
   {
    "duration": 10,
    "start_time": "2022-12-19T11:10:46.094Z"
   },
   {
    "duration": 12,
    "start_time": "2022-12-19T11:10:46.106Z"
   },
   {
    "duration": 8,
    "start_time": "2022-12-19T11:10:46.120Z"
   },
   {
    "duration": 20,
    "start_time": "2022-12-19T11:10:46.129Z"
   },
   {
    "duration": 66,
    "start_time": "2022-12-19T11:10:46.150Z"
   },
   {
    "duration": 19,
    "start_time": "2022-12-19T11:10:46.221Z"
   },
   {
    "duration": 18,
    "start_time": "2022-12-19T11:10:46.241Z"
   },
   {
    "duration": 5,
    "start_time": "2022-12-19T11:10:46.260Z"
   },
   {
    "duration": 22,
    "start_time": "2022-12-19T11:10:46.266Z"
   },
   {
    "duration": 10,
    "start_time": "2022-12-19T11:10:46.290Z"
   },
   {
    "duration": 6,
    "start_time": "2022-12-19T11:10:46.321Z"
   },
   {
    "duration": 30,
    "start_time": "2022-12-19T11:10:46.328Z"
   },
   {
    "duration": 17,
    "start_time": "2022-12-19T11:10:46.359Z"
   },
   {
    "duration": 12,
    "start_time": "2022-12-19T11:10:46.378Z"
   },
   {
    "duration": 457,
    "start_time": "2022-12-19T11:10:46.391Z"
   },
   {
    "duration": 58,
    "start_time": "2022-12-19T11:10:46.850Z"
   },
   {
    "duration": 114,
    "start_time": "2022-12-19T11:10:46.910Z"
   },
   {
    "duration": 6,
    "start_time": "2022-12-19T11:10:47.026Z"
   },
   {
    "duration": 7,
    "start_time": "2022-12-19T11:10:47.033Z"
   },
   {
    "duration": 252,
    "start_time": "2022-12-19T11:10:47.041Z"
   },
   {
    "duration": 517,
    "start_time": "2022-12-19T11:10:47.294Z"
   },
   {
    "duration": 26,
    "start_time": "2022-12-19T11:10:47.813Z"
   },
   {
    "duration": 60,
    "start_time": "2022-12-19T11:10:47.840Z"
   },
   {
    "duration": 57,
    "start_time": "2022-12-19T11:10:47.902Z"
   },
   {
    "duration": 66,
    "start_time": "2022-12-19T11:10:47.960Z"
   },
   {
    "duration": 140,
    "start_time": "2022-12-19T11:10:48.028Z"
   },
   {
    "duration": 29,
    "start_time": "2022-12-19T11:10:48.170Z"
   },
   {
    "duration": 86,
    "start_time": "2022-12-19T11:10:48.201Z"
   },
   {
    "duration": 42,
    "start_time": "2022-12-19T11:10:48.288Z"
   },
   {
    "duration": 10,
    "start_time": "2022-12-19T11:10:48.332Z"
   },
   {
    "duration": 16,
    "start_time": "2022-12-19T11:10:48.344Z"
   },
   {
    "duration": 7,
    "start_time": "2022-12-19T11:10:48.361Z"
   },
   {
    "duration": 10,
    "start_time": "2022-12-19T11:10:48.370Z"
   },
   {
    "duration": 9,
    "start_time": "2022-12-19T11:10:48.382Z"
   },
   {
    "duration": 205,
    "start_time": "2022-12-19T11:10:48.393Z"
   },
   {
    "duration": 327,
    "start_time": "2022-12-19T11:10:48.600Z"
   },
   {
    "duration": 13,
    "start_time": "2022-12-19T11:10:48.928Z"
   },
   {
    "duration": 25,
    "start_time": "2022-12-19T11:10:48.946Z"
   },
   {
    "duration": 175,
    "start_time": "2022-12-19T11:10:48.973Z"
   },
   {
    "duration": 3,
    "start_time": "2022-12-19T11:10:49.150Z"
   },
   {
    "duration": 50,
    "start_time": "2022-12-19T11:10:49.154Z"
   },
   {
    "duration": 736,
    "start_time": "2022-12-19T11:10:49.206Z"
   },
   {
    "duration": 19,
    "start_time": "2022-12-19T11:10:49.944Z"
   },
   {
    "duration": 32,
    "start_time": "2022-12-19T11:10:49.965Z"
   },
   {
    "duration": 41,
    "start_time": "2022-12-19T11:10:49.999Z"
   },
   {
    "duration": 5,
    "start_time": "2022-12-19T11:10:50.041Z"
   },
   {
    "duration": 22,
    "start_time": "2022-12-19T11:10:50.048Z"
   },
   {
    "duration": 26,
    "start_time": "2022-12-19T11:10:50.072Z"
   },
   {
    "duration": 7,
    "start_time": "2022-12-19T11:10:50.099Z"
   },
   {
    "duration": 196,
    "start_time": "2022-12-19T11:10:50.108Z"
   },
   {
    "duration": 217,
    "start_time": "2022-12-19T11:10:50.305Z"
   },
   {
    "duration": 8,
    "start_time": "2022-12-19T11:10:50.524Z"
   },
   {
    "duration": 200,
    "start_time": "2022-12-19T11:10:50.533Z"
   },
   {
    "duration": 18,
    "start_time": "2022-12-19T11:10:50.735Z"
   },
   {
    "duration": 24,
    "start_time": "2022-12-19T11:10:50.754Z"
   },
   {
    "duration": 6,
    "start_time": "2022-12-19T11:10:50.779Z"
   },
   {
    "duration": 4646,
    "start_time": "2022-12-19T11:10:50.786Z"
   },
   {
    "duration": 101,
    "start_time": "2022-12-19T11:10:55.434Z"
   },
   {
    "duration": 4,
    "start_time": "2022-12-19T11:10:55.537Z"
   },
   {
    "duration": 54,
    "start_time": "2022-12-19T11:10:55.542Z"
   },
   {
    "duration": 6,
    "start_time": "2022-12-19T11:10:55.598Z"
   },
   {
    "duration": 10,
    "start_time": "2022-12-19T11:10:55.606Z"
   },
   {
    "duration": 8,
    "start_time": "2022-12-19T11:10:55.618Z"
   },
   {
    "duration": 47,
    "start_time": "2022-12-19T11:10:55.628Z"
   },
   {
    "duration": 6,
    "start_time": "2022-12-19T11:10:55.677Z"
   },
   {
    "duration": 41,
    "start_time": "2022-12-19T11:10:55.684Z"
   },
   {
    "duration": 8,
    "start_time": "2022-12-19T11:10:55.727Z"
   },
   {
    "duration": 14,
    "start_time": "2022-12-19T11:10:55.736Z"
   },
   {
    "duration": 12,
    "start_time": "2022-12-19T11:10:55.752Z"
   },
   {
    "duration": 288,
    "start_time": "2022-12-19T11:10:55.765Z"
   },
   {
    "duration": 14,
    "start_time": "2022-12-19T11:10:56.055Z"
   },
   {
    "duration": 192,
    "start_time": "2022-12-19T11:10:56.070Z"
   },
   {
    "duration": 12,
    "start_time": "2022-12-19T11:10:56.264Z"
   },
   {
    "duration": 30,
    "start_time": "2022-12-19T11:10:56.278Z"
   },
   {
    "duration": 632,
    "start_time": "2022-12-19T11:10:56.310Z"
   },
   {
    "duration": 8,
    "start_time": "2022-12-19T11:10:56.944Z"
   },
   {
    "duration": 22,
    "start_time": "2022-12-19T11:10:56.953Z"
   },
   {
    "duration": 10,
    "start_time": "2022-12-19T11:10:56.977Z"
   },
   {
    "duration": 34,
    "start_time": "2022-12-19T11:10:56.988Z"
   },
   {
    "duration": 10,
    "start_time": "2022-12-19T11:10:57.024Z"
   },
   {
    "duration": 35,
    "start_time": "2022-12-19T11:10:57.036Z"
   },
   {
    "duration": 8,
    "start_time": "2022-12-19T11:10:57.072Z"
   },
   {
    "duration": 26,
    "start_time": "2022-12-19T11:10:57.081Z"
   },
   {
    "duration": 255,
    "start_time": "2022-12-19T11:10:57.108Z"
   },
   {
    "duration": 8,
    "start_time": "2022-12-19T11:10:57.365Z"
   },
   {
    "duration": 19,
    "start_time": "2022-12-19T11:10:57.374Z"
   },
   {
    "duration": 5,
    "start_time": "2022-12-19T11:10:57.395Z"
   },
   {
    "duration": 19,
    "start_time": "2022-12-19T11:10:57.402Z"
   },
   {
    "duration": 11,
    "start_time": "2022-12-19T11:10:57.422Z"
   },
   {
    "duration": 20,
    "start_time": "2022-12-19T11:10:57.435Z"
   },
   {
    "duration": 3,
    "start_time": "2022-12-19T11:11:28.561Z"
   },
   {
    "duration": 9,
    "start_time": "2022-12-19T11:11:30.465Z"
   },
   {
    "duration": 11,
    "start_time": "2022-12-19T11:11:31.634Z"
   },
   {
    "duration": 4,
    "start_time": "2022-12-19T11:11:34.403Z"
   },
   {
    "duration": 38,
    "start_time": "2022-12-19T11:11:34.410Z"
   },
   {
    "duration": 10,
    "start_time": "2022-12-19T11:11:34.450Z"
   },
   {
    "duration": 11,
    "start_time": "2022-12-19T11:11:34.461Z"
   },
   {
    "duration": 13,
    "start_time": "2022-12-19T11:11:34.474Z"
   },
   {
    "duration": 9,
    "start_time": "2022-12-19T11:11:34.489Z"
   },
   {
    "duration": 18,
    "start_time": "2022-12-19T11:11:34.500Z"
   },
   {
    "duration": 12,
    "start_time": "2022-12-19T11:11:34.520Z"
   },
   {
    "duration": 91,
    "start_time": "2022-12-19T11:11:34.534Z"
   },
   {
    "duration": 16,
    "start_time": "2022-12-19T11:11:34.627Z"
   },
   {
    "duration": 27,
    "start_time": "2022-12-19T11:11:34.646Z"
   },
   {
    "duration": 4,
    "start_time": "2022-12-19T11:11:34.674Z"
   },
   {
    "duration": 12,
    "start_time": "2022-12-19T11:11:34.680Z"
   },
   {
    "duration": 14,
    "start_time": "2022-12-19T11:11:34.693Z"
   },
   {
    "duration": 26,
    "start_time": "2022-12-19T11:11:34.721Z"
   },
   {
    "duration": 60,
    "start_time": "2022-12-19T11:11:34.748Z"
   },
   {
    "duration": 18,
    "start_time": "2022-12-19T11:11:34.809Z"
   },
   {
    "duration": 105,
    "start_time": "2022-12-19T11:11:34.828Z"
   },
   {
    "duration": 427,
    "start_time": "2022-12-19T11:11:34.934Z"
   },
   {
    "duration": 65,
    "start_time": "2022-12-19T11:11:35.362Z"
   },
   {
    "duration": 142,
    "start_time": "2022-12-19T11:11:35.428Z"
   },
   {
    "duration": 7,
    "start_time": "2022-12-19T11:11:35.572Z"
   },
   {
    "duration": 11,
    "start_time": "2022-12-19T11:11:35.581Z"
   },
   {
    "duration": 267,
    "start_time": "2022-12-19T11:11:35.594Z"
   },
   {
    "duration": 518,
    "start_time": "2022-12-19T11:11:35.863Z"
   },
   {
    "duration": 24,
    "start_time": "2022-12-19T11:11:36.382Z"
   },
   {
    "duration": 64,
    "start_time": "2022-12-19T11:11:36.407Z"
   },
   {
    "duration": 57,
    "start_time": "2022-12-19T11:11:36.472Z"
   },
   {
    "duration": 65,
    "start_time": "2022-12-19T11:11:36.533Z"
   },
   {
    "duration": 144,
    "start_time": "2022-12-19T11:11:36.600Z"
   },
   {
    "duration": 21,
    "start_time": "2022-12-19T11:11:36.745Z"
   },
   {
    "duration": 87,
    "start_time": "2022-12-19T11:11:36.768Z"
   },
   {
    "duration": 42,
    "start_time": "2022-12-19T11:11:36.857Z"
   },
   {
    "duration": 10,
    "start_time": "2022-12-19T11:11:36.901Z"
   },
   {
    "duration": 16,
    "start_time": "2022-12-19T11:11:36.913Z"
   },
   {
    "duration": 7,
    "start_time": "2022-12-19T11:11:36.930Z"
   },
   {
    "duration": 4,
    "start_time": "2022-12-19T11:11:36.939Z"
   },
   {
    "duration": 8,
    "start_time": "2022-12-19T11:11:36.945Z"
   },
   {
    "duration": 204,
    "start_time": "2022-12-19T11:11:36.955Z"
   },
   {
    "duration": 342,
    "start_time": "2022-12-19T11:11:37.161Z"
   },
   {
    "duration": 12,
    "start_time": "2022-12-19T11:11:37.504Z"
   },
   {
    "duration": 49,
    "start_time": "2022-12-19T11:11:37.521Z"
   },
   {
    "duration": 156,
    "start_time": "2022-12-19T11:11:37.571Z"
   },
   {
    "duration": 6,
    "start_time": "2022-12-19T11:11:37.729Z"
   },
   {
    "duration": 58,
    "start_time": "2022-12-19T11:11:37.736Z"
   },
   {
    "duration": 810,
    "start_time": "2022-12-19T11:11:37.795Z"
   },
   {
    "duration": 28,
    "start_time": "2022-12-19T11:11:38.606Z"
   },
   {
    "duration": 52,
    "start_time": "2022-12-19T11:11:38.636Z"
   },
   {
    "duration": 24,
    "start_time": "2022-12-19T11:11:38.690Z"
   },
   {
    "duration": 5,
    "start_time": "2022-12-19T11:11:38.716Z"
   },
   {
    "duration": 45,
    "start_time": "2022-12-19T11:11:38.723Z"
   },
   {
    "duration": 30,
    "start_time": "2022-12-19T11:11:38.769Z"
   },
   {
    "duration": 36,
    "start_time": "2022-12-19T11:11:38.801Z"
   },
   {
    "duration": 228,
    "start_time": "2022-12-19T11:11:38.841Z"
   },
   {
    "duration": 137,
    "start_time": "2022-12-19T11:11:39.071Z"
   },
   {
    "duration": 14,
    "start_time": "2022-12-19T11:11:39.210Z"
   },
   {
    "duration": 214,
    "start_time": "2022-12-19T11:11:39.226Z"
   },
   {
    "duration": 28,
    "start_time": "2022-12-19T11:11:39.443Z"
   },
   {
    "duration": 46,
    "start_time": "2022-12-19T11:11:39.473Z"
   },
   {
    "duration": 10,
    "start_time": "2022-12-19T11:11:39.521Z"
   },
   {
    "duration": 4579,
    "start_time": "2022-12-19T11:11:39.532Z"
   },
   {
    "duration": 110,
    "start_time": "2022-12-19T11:11:44.113Z"
   },
   {
    "duration": 5,
    "start_time": "2022-12-19T11:11:44.224Z"
   },
   {
    "duration": 56,
    "start_time": "2022-12-19T11:11:44.230Z"
   },
   {
    "duration": 6,
    "start_time": "2022-12-19T11:11:44.287Z"
   },
   {
    "duration": 25,
    "start_time": "2022-12-19T11:11:44.294Z"
   },
   {
    "duration": 29,
    "start_time": "2022-12-19T11:11:44.321Z"
   },
   {
    "duration": 47,
    "start_time": "2022-12-19T11:11:44.352Z"
   },
   {
    "duration": 8,
    "start_time": "2022-12-19T11:11:44.401Z"
   },
   {
    "duration": 37,
    "start_time": "2022-12-19T11:11:44.410Z"
   },
   {
    "duration": 33,
    "start_time": "2022-12-19T11:11:44.449Z"
   },
   {
    "duration": 28,
    "start_time": "2022-12-19T11:11:44.484Z"
   },
   {
    "duration": 32,
    "start_time": "2022-12-19T11:11:44.513Z"
   },
   {
    "duration": 187,
    "start_time": "2022-12-19T11:11:44.547Z"
   },
   {
    "duration": 14,
    "start_time": "2022-12-19T11:11:44.736Z"
   },
   {
    "duration": 204,
    "start_time": "2022-12-19T11:11:44.751Z"
   },
   {
    "duration": 12,
    "start_time": "2022-12-19T11:11:44.956Z"
   },
   {
    "duration": 32,
    "start_time": "2022-12-19T11:11:44.970Z"
   },
   {
    "duration": 790,
    "start_time": "2022-12-19T11:11:45.004Z"
   },
   {
    "duration": 11,
    "start_time": "2022-12-19T11:11:45.796Z"
   },
   {
    "duration": 45,
    "start_time": "2022-12-19T11:11:45.809Z"
   },
   {
    "duration": 24,
    "start_time": "2022-12-19T11:11:45.856Z"
   },
   {
    "duration": 42,
    "start_time": "2022-12-19T11:11:45.885Z"
   },
   {
    "duration": 15,
    "start_time": "2022-12-19T11:11:45.928Z"
   },
   {
    "duration": 42,
    "start_time": "2022-12-19T11:11:45.944Z"
   },
   {
    "duration": 11,
    "start_time": "2022-12-19T11:11:45.987Z"
   },
   {
    "duration": 47,
    "start_time": "2022-12-19T11:11:45.999Z"
   },
   {
    "duration": 274,
    "start_time": "2022-12-19T11:11:46.048Z"
   },
   {
    "duration": 9,
    "start_time": "2022-12-19T11:11:46.324Z"
   },
   {
    "duration": 33,
    "start_time": "2022-12-19T11:11:46.334Z"
   },
   {
    "duration": 25,
    "start_time": "2022-12-19T11:11:46.368Z"
   },
   {
    "duration": 46,
    "start_time": "2022-12-19T11:11:46.395Z"
   },
   {
    "duration": 18,
    "start_time": "2022-12-19T11:11:46.442Z"
   },
   {
    "duration": 19,
    "start_time": "2022-12-19T11:11:46.461Z"
   },
   {
    "duration": 4,
    "start_time": "2022-12-19T11:15:05.529Z"
   },
   {
    "duration": 9,
    "start_time": "2022-12-19T11:15:08.383Z"
   },
   {
    "duration": 4,
    "start_time": "2022-12-19T11:15:23.088Z"
   },
   {
    "duration": 4,
    "start_time": "2022-12-19T11:15:29.196Z"
   },
   {
    "duration": 40,
    "start_time": "2022-12-19T11:15:29.202Z"
   },
   {
    "duration": 8,
    "start_time": "2022-12-19T11:15:29.244Z"
   },
   {
    "duration": 10,
    "start_time": "2022-12-19T11:15:29.254Z"
   },
   {
    "duration": 8,
    "start_time": "2022-12-19T11:15:29.266Z"
   },
   {
    "duration": 12,
    "start_time": "2022-12-19T11:15:29.276Z"
   },
   {
    "duration": 11,
    "start_time": "2022-12-19T11:15:29.289Z"
   },
   {
    "duration": 8,
    "start_time": "2022-12-19T11:15:29.302Z"
   },
   {
    "duration": 27,
    "start_time": "2022-12-19T11:15:29.312Z"
   },
   {
    "duration": 69,
    "start_time": "2022-12-19T11:15:29.340Z"
   },
   {
    "duration": 17,
    "start_time": "2022-12-19T11:15:29.412Z"
   },
   {
    "duration": 39,
    "start_time": "2022-12-19T11:15:29.431Z"
   },
   {
    "duration": 8,
    "start_time": "2022-12-19T11:15:29.471Z"
   },
   {
    "duration": 11,
    "start_time": "2022-12-19T11:15:29.480Z"
   },
   {
    "duration": 15,
    "start_time": "2022-12-19T11:15:29.492Z"
   },
   {
    "duration": 8,
    "start_time": "2022-12-19T11:15:29.509Z"
   },
   {
    "duration": 45,
    "start_time": "2022-12-19T11:15:29.518Z"
   },
   {
    "duration": 22,
    "start_time": "2022-12-19T11:15:29.565Z"
   },
   {
    "duration": 8,
    "start_time": "2022-12-19T11:15:29.589Z"
   },
   {
    "duration": 439,
    "start_time": "2022-12-19T11:15:29.599Z"
   },
   {
    "duration": 59,
    "start_time": "2022-12-19T11:15:30.039Z"
   },
   {
    "duration": 116,
    "start_time": "2022-12-19T11:15:30.099Z"
   },
   {
    "duration": 8,
    "start_time": "2022-12-19T11:15:30.216Z"
   },
   {
    "duration": 42,
    "start_time": "2022-12-19T11:15:30.225Z"
   },
   {
    "duration": 296,
    "start_time": "2022-12-19T11:15:30.268Z"
   },
   {
    "duration": 564,
    "start_time": "2022-12-19T11:15:30.567Z"
   },
   {
    "duration": 24,
    "start_time": "2022-12-19T11:15:31.133Z"
   },
   {
    "duration": 72,
    "start_time": "2022-12-19T11:15:31.158Z"
   },
   {
    "duration": 44,
    "start_time": "2022-12-19T11:15:31.234Z"
   },
   {
    "duration": 68,
    "start_time": "2022-12-19T11:15:31.280Z"
   },
   {
    "duration": 145,
    "start_time": "2022-12-19T11:15:31.350Z"
   },
   {
    "duration": 30,
    "start_time": "2022-12-19T11:15:31.497Z"
   },
   {
    "duration": 109,
    "start_time": "2022-12-19T11:15:31.529Z"
   },
   {
    "duration": 46,
    "start_time": "2022-12-19T11:15:31.640Z"
   },
   {
    "duration": 11,
    "start_time": "2022-12-19T11:15:31.687Z"
   },
   {
    "duration": 35,
    "start_time": "2022-12-19T11:15:31.700Z"
   },
   {
    "duration": 45,
    "start_time": "2022-12-19T11:15:31.736Z"
   },
   {
    "duration": 14,
    "start_time": "2022-12-19T11:15:31.783Z"
   },
   {
    "duration": 23,
    "start_time": "2022-12-19T11:15:31.799Z"
   },
   {
    "duration": 172,
    "start_time": "2022-12-19T11:15:31.824Z"
   },
   {
    "duration": 318,
    "start_time": "2022-12-19T11:15:31.998Z"
   },
   {
    "duration": 15,
    "start_time": "2022-12-19T11:15:32.317Z"
   },
   {
    "duration": 35,
    "start_time": "2022-12-19T11:15:32.334Z"
   },
   {
    "duration": 150,
    "start_time": "2022-12-19T11:15:32.371Z"
   },
   {
    "duration": 2,
    "start_time": "2022-12-19T11:15:32.523Z"
   },
   {
    "duration": 35,
    "start_time": "2022-12-19T11:15:32.526Z"
   },
   {
    "duration": 752,
    "start_time": "2022-12-19T11:15:32.563Z"
   },
   {
    "duration": 20,
    "start_time": "2022-12-19T11:15:33.317Z"
   },
   {
    "duration": 29,
    "start_time": "2022-12-19T11:15:33.338Z"
   },
   {
    "duration": 25,
    "start_time": "2022-12-19T11:15:33.369Z"
   },
   {
    "duration": 25,
    "start_time": "2022-12-19T11:15:33.396Z"
   },
   {
    "duration": 20,
    "start_time": "2022-12-19T11:15:33.423Z"
   },
   {
    "duration": 46,
    "start_time": "2022-12-19T11:15:33.445Z"
   },
   {
    "duration": 7,
    "start_time": "2022-12-19T11:15:33.494Z"
   },
   {
    "duration": 222,
    "start_time": "2022-12-19T11:15:33.502Z"
   },
   {
    "duration": 134,
    "start_time": "2022-12-19T11:15:33.726Z"
   },
   {
    "duration": 8,
    "start_time": "2022-12-19T11:15:33.862Z"
   },
   {
    "duration": 203,
    "start_time": "2022-12-19T11:15:33.871Z"
   },
   {
    "duration": 18,
    "start_time": "2022-12-19T11:15:34.076Z"
   },
   {
    "duration": 35,
    "start_time": "2022-12-19T11:15:34.096Z"
   },
   {
    "duration": 6,
    "start_time": "2022-12-19T11:15:34.133Z"
   },
   {
    "duration": 4623,
    "start_time": "2022-12-19T11:15:34.140Z"
   },
   {
    "duration": 79,
    "start_time": "2022-12-19T11:15:38.765Z"
   },
   {
    "duration": 4,
    "start_time": "2022-12-19T11:15:38.846Z"
   },
   {
    "duration": 46,
    "start_time": "2022-12-19T11:15:38.851Z"
   },
   {
    "duration": 23,
    "start_time": "2022-12-19T11:15:38.898Z"
   },
   {
    "duration": 5,
    "start_time": "2022-12-19T11:15:38.922Z"
   },
   {
    "duration": 23,
    "start_time": "2022-12-19T11:15:38.929Z"
   },
   {
    "duration": 51,
    "start_time": "2022-12-19T11:15:38.953Z"
   },
   {
    "duration": 7,
    "start_time": "2022-12-19T11:15:39.006Z"
   },
   {
    "duration": 11,
    "start_time": "2022-12-19T11:15:39.014Z"
   },
   {
    "duration": 7,
    "start_time": "2022-12-19T11:15:39.027Z"
   },
   {
    "duration": 8,
    "start_time": "2022-12-19T11:15:39.036Z"
   },
   {
    "duration": 12,
    "start_time": "2022-12-19T11:15:39.046Z"
   },
   {
    "duration": 165,
    "start_time": "2022-12-19T11:15:39.059Z"
   },
   {
    "duration": 14,
    "start_time": "2022-12-19T11:15:39.226Z"
   },
   {
    "duration": 183,
    "start_time": "2022-12-19T11:15:39.241Z"
   },
   {
    "duration": 11,
    "start_time": "2022-12-19T11:15:39.426Z"
   },
   {
    "duration": 20,
    "start_time": "2022-12-19T11:15:39.438Z"
   },
   {
    "duration": 732,
    "start_time": "2022-12-19T11:15:39.460Z"
   },
   {
    "duration": 8,
    "start_time": "2022-12-19T11:15:40.194Z"
   },
   {
    "duration": 27,
    "start_time": "2022-12-19T11:15:40.204Z"
   },
   {
    "duration": 12,
    "start_time": "2022-12-19T11:15:40.236Z"
   },
   {
    "duration": 18,
    "start_time": "2022-12-19T11:15:40.250Z"
   },
   {
    "duration": 9,
    "start_time": "2022-12-19T11:15:40.270Z"
   },
   {
    "duration": 43,
    "start_time": "2022-12-19T11:15:40.281Z"
   },
   {
    "duration": 10,
    "start_time": "2022-12-19T11:15:40.325Z"
   },
   {
    "duration": 16,
    "start_time": "2022-12-19T11:15:40.337Z"
   },
   {
    "duration": 270,
    "start_time": "2022-12-19T11:15:40.355Z"
   },
   {
    "duration": 8,
    "start_time": "2022-12-19T11:15:40.627Z"
   },
   {
    "duration": 20,
    "start_time": "2022-12-19T11:15:40.637Z"
   },
   {
    "duration": 10,
    "start_time": "2022-12-19T11:15:40.658Z"
   },
   {
    "duration": 11,
    "start_time": "2022-12-19T11:15:40.670Z"
   },
   {
    "duration": 7,
    "start_time": "2022-12-19T11:15:40.682Z"
   },
   {
    "duration": 21,
    "start_time": "2022-12-19T11:15:40.690Z"
   },
   {
    "duration": 4,
    "start_time": "2022-12-19T11:16:14.850Z"
   },
   {
    "duration": 37,
    "start_time": "2022-12-19T11:16:14.857Z"
   },
   {
    "duration": 10,
    "start_time": "2022-12-19T11:16:14.896Z"
   },
   {
    "duration": 9,
    "start_time": "2022-12-19T11:16:14.907Z"
   },
   {
    "duration": 7,
    "start_time": "2022-12-19T11:16:14.919Z"
   },
   {
    "duration": 9,
    "start_time": "2022-12-19T11:16:14.928Z"
   },
   {
    "duration": 7,
    "start_time": "2022-12-19T11:16:14.939Z"
   },
   {
    "duration": 17,
    "start_time": "2022-12-19T11:16:14.948Z"
   },
   {
    "duration": 20,
    "start_time": "2022-12-19T11:16:14.966Z"
   },
   {
    "duration": 73,
    "start_time": "2022-12-19T11:16:14.987Z"
   },
   {
    "duration": 18,
    "start_time": "2022-12-19T11:16:15.064Z"
   },
   {
    "duration": 42,
    "start_time": "2022-12-19T11:16:15.083Z"
   },
   {
    "duration": 5,
    "start_time": "2022-12-19T11:16:15.127Z"
   },
   {
    "duration": 16,
    "start_time": "2022-12-19T11:16:15.134Z"
   },
   {
    "duration": 26,
    "start_time": "2022-12-19T11:16:15.151Z"
   },
   {
    "duration": 16,
    "start_time": "2022-12-19T11:16:15.179Z"
   },
   {
    "duration": 28,
    "start_time": "2022-12-19T11:16:15.197Z"
   },
   {
    "duration": 18,
    "start_time": "2022-12-19T11:16:15.226Z"
   },
   {
    "duration": 8,
    "start_time": "2022-12-19T11:16:15.246Z"
   },
   {
    "duration": 474,
    "start_time": "2022-12-19T11:16:15.255Z"
   },
   {
    "duration": 62,
    "start_time": "2022-12-19T11:16:15.731Z"
   },
   {
    "duration": 114,
    "start_time": "2022-12-19T11:16:15.794Z"
   },
   {
    "duration": 15,
    "start_time": "2022-12-19T11:16:15.910Z"
   },
   {
    "duration": 4,
    "start_time": "2022-12-19T11:16:15.927Z"
   },
   {
    "duration": 224,
    "start_time": "2022-12-19T11:16:15.933Z"
   },
   {
    "duration": 483,
    "start_time": "2022-12-19T11:16:16.159Z"
   },
   {
    "duration": 23,
    "start_time": "2022-12-19T11:16:16.644Z"
   },
   {
    "duration": 67,
    "start_time": "2022-12-19T11:16:16.669Z"
   },
   {
    "duration": 42,
    "start_time": "2022-12-19T11:16:16.740Z"
   },
   {
    "duration": 71,
    "start_time": "2022-12-19T11:16:16.784Z"
   },
   {
    "duration": 131,
    "start_time": "2022-12-19T11:16:16.857Z"
   },
   {
    "duration": 20,
    "start_time": "2022-12-19T11:16:16.990Z"
   },
   {
    "duration": 73,
    "start_time": "2022-12-19T11:16:17.021Z"
   },
   {
    "duration": 44,
    "start_time": "2022-12-19T11:16:17.095Z"
   },
   {
    "duration": 11,
    "start_time": "2022-12-19T11:16:17.140Z"
   },
   {
    "duration": 16,
    "start_time": "2022-12-19T11:16:17.153Z"
   },
   {
    "duration": 7,
    "start_time": "2022-12-19T11:16:17.171Z"
   },
   {
    "duration": 8,
    "start_time": "2022-12-19T11:16:17.180Z"
   },
   {
    "duration": 10,
    "start_time": "2022-12-19T11:16:17.190Z"
   },
   {
    "duration": 185,
    "start_time": "2022-12-19T11:16:17.201Z"
   },
   {
    "duration": 306,
    "start_time": "2022-12-19T11:16:17.388Z"
   },
   {
    "duration": 13,
    "start_time": "2022-12-19T11:16:17.695Z"
   },
   {
    "duration": 32,
    "start_time": "2022-12-19T11:16:17.709Z"
   },
   {
    "duration": 146,
    "start_time": "2022-12-19T11:16:17.743Z"
   },
   {
    "duration": 2,
    "start_time": "2022-12-19T11:16:17.891Z"
   },
   {
    "duration": 53,
    "start_time": "2022-12-19T11:16:17.894Z"
   },
   {
    "duration": 735,
    "start_time": "2022-12-19T11:16:17.949Z"
   },
   {
    "duration": 21,
    "start_time": "2022-12-19T11:16:18.686Z"
   },
   {
    "duration": 46,
    "start_time": "2022-12-19T11:16:18.709Z"
   },
   {
    "duration": 23,
    "start_time": "2022-12-19T11:16:18.756Z"
   },
   {
    "duration": 5,
    "start_time": "2022-12-19T11:16:18.781Z"
   },
   {
    "duration": 13,
    "start_time": "2022-12-19T11:16:18.788Z"
   },
   {
    "duration": 53,
    "start_time": "2022-12-19T11:16:18.802Z"
   },
   {
    "duration": 10,
    "start_time": "2022-12-19T11:16:18.857Z"
   },
   {
    "duration": 205,
    "start_time": "2022-12-19T11:16:18.869Z"
   },
   {
    "duration": 146,
    "start_time": "2022-12-19T11:16:19.076Z"
   },
   {
    "duration": 12,
    "start_time": "2022-12-19T11:16:19.224Z"
   },
   {
    "duration": 234,
    "start_time": "2022-12-19T11:16:19.237Z"
   },
   {
    "duration": 18,
    "start_time": "2022-12-19T11:16:19.473Z"
   },
   {
    "duration": 109,
    "start_time": "2022-12-19T11:16:19.493Z"
   },
   {
    "duration": 54,
    "start_time": "2022-12-19T11:16:19.603Z"
   },
   {
    "duration": 4664,
    "start_time": "2022-12-19T11:16:19.658Z"
   },
   {
    "duration": 174,
    "start_time": "2022-12-19T11:16:24.324Z"
   },
   {
    "duration": 5,
    "start_time": "2022-12-19T11:16:24.499Z"
   },
   {
    "duration": 52,
    "start_time": "2022-12-19T11:16:24.505Z"
   },
   {
    "duration": 6,
    "start_time": "2022-12-19T11:16:24.559Z"
   },
   {
    "duration": 7,
    "start_time": "2022-12-19T11:16:24.567Z"
   },
   {
    "duration": 18,
    "start_time": "2022-12-19T11:16:24.576Z"
   },
   {
    "duration": 48,
    "start_time": "2022-12-19T11:16:24.596Z"
   },
   {
    "duration": 6,
    "start_time": "2022-12-19T11:16:24.646Z"
   },
   {
    "duration": 9,
    "start_time": "2022-12-19T11:16:24.654Z"
   },
   {
    "duration": 8,
    "start_time": "2022-12-19T11:16:24.664Z"
   },
   {
    "duration": 9,
    "start_time": "2022-12-19T11:16:24.673Z"
   },
   {
    "duration": 12,
    "start_time": "2022-12-19T11:16:24.683Z"
   },
   {
    "duration": 171,
    "start_time": "2022-12-19T11:16:24.697Z"
   },
   {
    "duration": 14,
    "start_time": "2022-12-19T11:16:24.870Z"
   },
   {
    "duration": 198,
    "start_time": "2022-12-19T11:16:24.886Z"
   },
   {
    "duration": 13,
    "start_time": "2022-12-19T11:16:25.085Z"
   },
   {
    "duration": 26,
    "start_time": "2022-12-19T11:16:25.099Z"
   },
   {
    "duration": 738,
    "start_time": "2022-12-19T11:16:25.126Z"
   },
   {
    "duration": 8,
    "start_time": "2022-12-19T11:16:25.866Z"
   },
   {
    "duration": 16,
    "start_time": "2022-12-19T11:16:25.876Z"
   },
   {
    "duration": 29,
    "start_time": "2022-12-19T11:16:25.898Z"
   },
   {
    "duration": 21,
    "start_time": "2022-12-19T11:16:25.929Z"
   },
   {
    "duration": 9,
    "start_time": "2022-12-19T11:16:25.952Z"
   },
   {
    "duration": 25,
    "start_time": "2022-12-19T11:16:25.963Z"
   },
   {
    "duration": 32,
    "start_time": "2022-12-19T11:16:25.989Z"
   },
   {
    "duration": 12,
    "start_time": "2022-12-19T11:16:26.022Z"
   },
   {
    "duration": 262,
    "start_time": "2022-12-19T11:16:26.035Z"
   },
   {
    "duration": 9,
    "start_time": "2022-12-19T11:16:26.298Z"
   },
   {
    "duration": 20,
    "start_time": "2022-12-19T11:16:26.308Z"
   },
   {
    "duration": 6,
    "start_time": "2022-12-19T11:16:26.330Z"
   },
   {
    "duration": 12,
    "start_time": "2022-12-19T11:16:26.338Z"
   },
   {
    "duration": 7,
    "start_time": "2022-12-19T11:16:26.352Z"
   },
   {
    "duration": 7,
    "start_time": "2022-12-19T11:16:26.360Z"
   },
   {
    "duration": 11,
    "start_time": "2022-12-19T11:23:33.630Z"
   },
   {
    "duration": 9,
    "start_time": "2022-12-19T11:23:48.065Z"
   },
   {
    "duration": 9,
    "start_time": "2022-12-19T11:24:22.913Z"
   },
   {
    "duration": 17,
    "start_time": "2022-12-19T11:54:43.779Z"
   },
   {
    "duration": 25,
    "start_time": "2022-12-19T11:54:47.779Z"
   },
   {
    "duration": 18,
    "start_time": "2022-12-19T11:56:10.145Z"
   },
   {
    "duration": 9,
    "start_time": "2022-12-19T11:56:25.915Z"
   },
   {
    "duration": 12,
    "start_time": "2022-12-19T11:58:52.175Z"
   },
   {
    "duration": 10,
    "start_time": "2022-12-19T11:58:57.759Z"
   },
   {
    "duration": 10,
    "start_time": "2022-12-19T11:59:35.605Z"
   },
   {
    "duration": 13,
    "start_time": "2022-12-19T12:10:45.381Z"
   },
   {
    "duration": 3,
    "start_time": "2022-12-19T12:10:58.950Z"
   },
   {
    "duration": 6,
    "start_time": "2022-12-19T12:11:12.301Z"
   },
   {
    "duration": 21,
    "start_time": "2022-12-19T12:11:53.261Z"
   },
   {
    "duration": 3,
    "start_time": "2022-12-19T12:15:56.499Z"
   },
   {
    "duration": 46,
    "start_time": "2022-12-19T12:15:56.504Z"
   },
   {
    "duration": 8,
    "start_time": "2022-12-19T12:15:56.552Z"
   },
   {
    "duration": 10,
    "start_time": "2022-12-19T12:15:56.562Z"
   },
   {
    "duration": 12,
    "start_time": "2022-12-19T12:15:56.574Z"
   },
   {
    "duration": 10,
    "start_time": "2022-12-19T12:15:56.587Z"
   },
   {
    "duration": 8,
    "start_time": "2022-12-19T12:15:56.598Z"
   },
   {
    "duration": 6,
    "start_time": "2022-12-19T12:15:56.607Z"
   },
   {
    "duration": 12,
    "start_time": "2022-12-19T12:15:56.615Z"
   },
   {
    "duration": 63,
    "start_time": "2022-12-19T12:15:56.629Z"
   },
   {
    "duration": 16,
    "start_time": "2022-12-19T12:15:56.694Z"
   },
   {
    "duration": 23,
    "start_time": "2022-12-19T12:15:56.712Z"
   },
   {
    "duration": 4,
    "start_time": "2022-12-19T12:15:56.737Z"
   },
   {
    "duration": 9,
    "start_time": "2022-12-19T12:15:56.743Z"
   },
   {
    "duration": 17,
    "start_time": "2022-12-19T12:15:56.753Z"
   },
   {
    "duration": 10,
    "start_time": "2022-12-19T12:15:56.771Z"
   },
   {
    "duration": 48,
    "start_time": "2022-12-19T12:15:56.782Z"
   },
   {
    "duration": 18,
    "start_time": "2022-12-19T12:15:56.831Z"
   },
   {
    "duration": 10,
    "start_time": "2022-12-19T12:15:56.850Z"
   },
   {
    "duration": 418,
    "start_time": "2022-12-19T12:15:56.862Z"
   },
   {
    "duration": 68,
    "start_time": "2022-12-19T12:15:57.282Z"
   },
   {
    "duration": 102,
    "start_time": "2022-12-19T12:15:57.352Z"
   },
   {
    "duration": 7,
    "start_time": "2022-12-19T12:15:57.456Z"
   },
   {
    "duration": 18,
    "start_time": "2022-12-19T12:15:57.465Z"
   },
   {
    "duration": 251,
    "start_time": "2022-12-19T12:15:57.484Z"
   },
   {
    "duration": 524,
    "start_time": "2022-12-19T12:15:57.736Z"
   },
   {
    "duration": 23,
    "start_time": "2022-12-19T12:15:58.262Z"
   },
   {
    "duration": 66,
    "start_time": "2022-12-19T12:15:58.287Z"
   },
   {
    "duration": 46,
    "start_time": "2022-12-19T12:15:58.357Z"
   },
   {
    "duration": 68,
    "start_time": "2022-12-19T12:15:58.404Z"
   },
   {
    "duration": 152,
    "start_time": "2022-12-19T12:15:58.474Z"
   },
   {
    "duration": 20,
    "start_time": "2022-12-19T12:15:58.627Z"
   },
   {
    "duration": 89,
    "start_time": "2022-12-19T12:15:58.649Z"
   },
   {
    "duration": 42,
    "start_time": "2022-12-19T12:15:58.740Z"
   },
   {
    "duration": 12,
    "start_time": "2022-12-19T12:15:58.784Z"
   },
   {
    "duration": 15,
    "start_time": "2022-12-19T12:15:58.797Z"
   },
   {
    "duration": 6,
    "start_time": "2022-12-19T12:15:58.814Z"
   },
   {
    "duration": 13,
    "start_time": "2022-12-19T12:15:58.821Z"
   },
   {
    "duration": 9,
    "start_time": "2022-12-19T12:15:58.835Z"
   },
   {
    "duration": 164,
    "start_time": "2022-12-19T12:15:58.845Z"
   },
   {
    "duration": 353,
    "start_time": "2022-12-19T12:15:59.010Z"
   },
   {
    "duration": 13,
    "start_time": "2022-12-19T12:15:59.365Z"
   },
   {
    "duration": 32,
    "start_time": "2022-12-19T12:15:59.380Z"
   },
   {
    "duration": 172,
    "start_time": "2022-12-19T12:15:59.414Z"
   },
   {
    "duration": 3,
    "start_time": "2022-12-19T12:15:59.587Z"
   },
   {
    "duration": 40,
    "start_time": "2022-12-19T12:15:59.591Z"
   },
   {
    "duration": 735,
    "start_time": "2022-12-19T12:15:59.633Z"
   },
   {
    "duration": 19,
    "start_time": "2022-12-19T12:16:00.370Z"
   },
   {
    "duration": 42,
    "start_time": "2022-12-19T12:16:00.391Z"
   },
   {
    "duration": 133,
    "start_time": "2022-12-19T12:16:00.435Z"
   },
   {
    "duration": 32,
    "start_time": "2022-12-19T12:16:00.570Z"
   },
   {
    "duration": 44,
    "start_time": "2022-12-19T12:16:00.604Z"
   },
   {
    "duration": 28,
    "start_time": "2022-12-19T12:16:00.650Z"
   },
   {
    "duration": 32,
    "start_time": "2022-12-19T12:16:00.679Z"
   },
   {
    "duration": 211,
    "start_time": "2022-12-19T12:16:00.712Z"
   },
   {
    "duration": 140,
    "start_time": "2022-12-19T12:16:00.925Z"
   },
   {
    "duration": 9,
    "start_time": "2022-12-19T12:16:01.067Z"
   },
   {
    "duration": 264,
    "start_time": "2022-12-19T12:16:01.078Z"
   },
   {
    "duration": 19,
    "start_time": "2022-12-19T12:16:01.343Z"
   },
   {
    "duration": 40,
    "start_time": "2022-12-19T12:16:01.363Z"
   },
   {
    "duration": 17,
    "start_time": "2022-12-19T12:16:01.404Z"
   },
   {
    "duration": 4729,
    "start_time": "2022-12-19T12:16:01.422Z"
   },
   {
    "duration": 79,
    "start_time": "2022-12-19T12:16:06.153Z"
   },
   {
    "duration": 5,
    "start_time": "2022-12-19T12:16:06.233Z"
   },
   {
    "duration": 47,
    "start_time": "2022-12-19T12:16:06.239Z"
   },
   {
    "duration": 6,
    "start_time": "2022-12-19T12:16:06.288Z"
   },
   {
    "duration": 25,
    "start_time": "2022-12-19T12:16:06.296Z"
   },
   {
    "duration": 9,
    "start_time": "2022-12-19T12:16:06.323Z"
   },
   {
    "duration": 40,
    "start_time": "2022-12-19T12:16:06.333Z"
   },
   {
    "duration": 7,
    "start_time": "2022-12-19T12:16:06.375Z"
   },
   {
    "duration": 6,
    "start_time": "2022-12-19T12:16:06.383Z"
   },
   {
    "duration": 32,
    "start_time": "2022-12-19T12:16:06.390Z"
   },
   {
    "duration": 8,
    "start_time": "2022-12-19T12:16:06.423Z"
   },
   {
    "duration": 11,
    "start_time": "2022-12-19T12:16:06.432Z"
   },
   {
    "duration": 169,
    "start_time": "2022-12-19T12:16:06.444Z"
   },
   {
    "duration": 15,
    "start_time": "2022-12-19T12:16:06.620Z"
   },
   {
    "duration": 183,
    "start_time": "2022-12-19T12:16:06.636Z"
   },
   {
    "duration": 12,
    "start_time": "2022-12-19T12:16:06.821Z"
   },
   {
    "duration": 29,
    "start_time": "2022-12-19T12:16:06.835Z"
   },
   {
    "duration": 635,
    "start_time": "2022-12-19T12:16:06.866Z"
   },
   {
    "duration": 8,
    "start_time": "2022-12-19T12:16:07.503Z"
   },
   {
    "duration": 18,
    "start_time": "2022-12-19T12:16:07.520Z"
   },
   {
    "duration": 10,
    "start_time": "2022-12-19T12:16:07.543Z"
   },
   {
    "duration": 29,
    "start_time": "2022-12-19T12:16:07.554Z"
   },
   {
    "duration": 8,
    "start_time": "2022-12-19T12:16:07.585Z"
   },
   {
    "duration": 11,
    "start_time": "2022-12-19T12:16:07.594Z"
   },
   {
    "duration": 20,
    "start_time": "2022-12-19T12:16:07.607Z"
   },
   {
    "duration": 31,
    "start_time": "2022-12-19T12:16:07.629Z"
   },
   {
    "duration": 52,
    "start_time": "2022-12-19T12:16:07.662Z"
   },
   {
    "duration": 0,
    "start_time": "2022-12-19T12:16:07.716Z"
   },
   {
    "duration": 0,
    "start_time": "2022-12-19T12:16:07.717Z"
   },
   {
    "duration": 0,
    "start_time": "2022-12-19T12:16:07.719Z"
   },
   {
    "duration": 0,
    "start_time": "2022-12-19T12:16:07.719Z"
   },
   {
    "duration": 0,
    "start_time": "2022-12-19T12:16:07.720Z"
   },
   {
    "duration": 0,
    "start_time": "2022-12-19T12:16:07.721Z"
   },
   {
    "duration": 0,
    "start_time": "2022-12-19T12:16:07.722Z"
   },
   {
    "duration": 0,
    "start_time": "2022-12-19T12:16:07.723Z"
   },
   {
    "duration": 0,
    "start_time": "2022-12-19T12:16:07.724Z"
   },
   {
    "duration": 0,
    "start_time": "2022-12-19T12:16:07.725Z"
   },
   {
    "duration": 0,
    "start_time": "2022-12-19T12:16:07.726Z"
   },
   {
    "duration": 0,
    "start_time": "2022-12-19T12:16:07.727Z"
   },
   {
    "duration": 6,
    "start_time": "2022-12-19T12:21:44.903Z"
   },
   {
    "duration": 109,
    "start_time": "2022-12-19T12:22:55.102Z"
   },
   {
    "duration": 3,
    "start_time": "2022-12-19T12:23:58.180Z"
   },
   {
    "duration": 5,
    "start_time": "2022-12-19T12:24:01.797Z"
   },
   {
    "duration": 9,
    "start_time": "2022-12-19T12:24:28.435Z"
   },
   {
    "duration": 56,
    "start_time": "2022-12-19T12:24:49.795Z"
   },
   {
    "duration": 96,
    "start_time": "2022-12-19T12:25:05.875Z"
   },
   {
    "duration": 6,
    "start_time": "2022-12-19T12:25:28.692Z"
   },
   {
    "duration": 12,
    "start_time": "2022-12-19T12:25:35.826Z"
   },
   {
    "duration": 5,
    "start_time": "2022-12-19T12:25:42.476Z"
   },
   {
    "duration": 4,
    "start_time": "2022-12-19T12:26:01.428Z"
   },
   {
    "duration": 49,
    "start_time": "2022-12-19T12:27:45.057Z"
   },
   {
    "duration": 9,
    "start_time": "2022-12-19T12:28:28.160Z"
   },
   {
    "duration": 10,
    "start_time": "2022-12-19T12:28:32.263Z"
   },
   {
    "duration": 11,
    "start_time": "2022-12-19T12:28:46.168Z"
   },
   {
    "duration": 20,
    "start_time": "2022-12-19T12:28:57.626Z"
   },
   {
    "duration": 7,
    "start_time": "2022-12-19T12:29:10.914Z"
   },
   {
    "duration": 4,
    "start_time": "2022-12-19T12:29:12.763Z"
   },
   {
    "duration": 20,
    "start_time": "2022-12-19T12:29:45.592Z"
   },
   {
    "duration": 2,
    "start_time": "2022-12-19T12:40:52.065Z"
   },
   {
    "duration": 3,
    "start_time": "2022-12-19T12:40:57.063Z"
   },
   {
    "duration": 41,
    "start_time": "2022-12-19T12:41:35.318Z"
   },
   {
    "duration": 408,
    "start_time": "2022-12-19T12:41:48.344Z"
   },
   {
    "duration": 4,
    "start_time": "2022-12-19T12:42:47.103Z"
   },
   {
    "duration": 6,
    "start_time": "2022-12-19T12:43:07.692Z"
   },
   {
    "duration": 41,
    "start_time": "2022-12-19T12:44:57.579Z"
   },
   {
    "duration": 13,
    "start_time": "2022-12-19T12:45:01.667Z"
   },
   {
    "duration": 9,
    "start_time": "2022-12-19T12:45:23.308Z"
   },
   {
    "duration": 10,
    "start_time": "2022-12-19T12:46:07.626Z"
   },
   {
    "duration": 4,
    "start_time": "2022-12-19T12:46:25.165Z"
   },
   {
    "duration": 10,
    "start_time": "2022-12-19T12:47:54.536Z"
   },
   {
    "duration": 3,
    "start_time": "2022-12-19T12:48:35.969Z"
   },
   {
    "duration": 10,
    "start_time": "2022-12-19T12:48:46.613Z"
   },
   {
    "duration": 9,
    "start_time": "2022-12-19T12:50:22.327Z"
   },
   {
    "duration": 9,
    "start_time": "2022-12-19T12:50:42.903Z"
   },
   {
    "duration": 5,
    "start_time": "2022-12-19T12:51:10.974Z"
   },
   {
    "duration": 9,
    "start_time": "2022-12-19T12:51:24.062Z"
   },
   {
    "duration": 9,
    "start_time": "2022-12-19T12:51:33.358Z"
   },
   {
    "duration": 9,
    "start_time": "2022-12-19T12:51:45.927Z"
   },
   {
    "duration": 9,
    "start_time": "2022-12-19T12:51:51.022Z"
   },
   {
    "duration": 9,
    "start_time": "2022-12-19T12:52:28.791Z"
   },
   {
    "duration": 5,
    "start_time": "2022-12-19T12:53:10.893Z"
   },
   {
    "duration": 1290,
    "start_time": "2022-12-19T14:38:56.200Z"
   },
   {
    "duration": 74,
    "start_time": "2022-12-19T14:38:57.492Z"
   },
   {
    "duration": 9,
    "start_time": "2022-12-19T14:38:57.567Z"
   },
   {
    "duration": 19,
    "start_time": "2022-12-19T14:38:57.578Z"
   },
   {
    "duration": 8,
    "start_time": "2022-12-19T14:38:57.598Z"
   },
   {
    "duration": 8,
    "start_time": "2022-12-19T14:38:57.607Z"
   },
   {
    "duration": 15,
    "start_time": "2022-12-19T14:38:57.616Z"
   },
   {
    "duration": 20,
    "start_time": "2022-12-19T14:38:57.633Z"
   },
   {
    "duration": 22,
    "start_time": "2022-12-19T14:38:57.654Z"
   },
   {
    "duration": 234,
    "start_time": "2022-12-19T14:38:57.679Z"
   },
   {
    "duration": 15,
    "start_time": "2022-12-19T14:38:57.915Z"
   },
   {
    "duration": 19,
    "start_time": "2022-12-19T14:38:57.931Z"
   },
   {
    "duration": 4,
    "start_time": "2022-12-19T14:38:57.951Z"
   },
   {
    "duration": 9,
    "start_time": "2022-12-19T14:38:57.957Z"
   },
   {
    "duration": 14,
    "start_time": "2022-12-19T14:38:57.967Z"
   },
   {
    "duration": 15,
    "start_time": "2022-12-19T14:38:57.982Z"
   },
   {
    "duration": 37,
    "start_time": "2022-12-19T14:38:57.998Z"
   },
   {
    "duration": 19,
    "start_time": "2022-12-19T14:38:58.036Z"
   },
   {
    "duration": 8,
    "start_time": "2022-12-19T14:38:58.057Z"
   },
   {
    "duration": 1472,
    "start_time": "2022-12-19T14:38:58.066Z"
   },
   {
    "duration": 47,
    "start_time": "2022-12-19T14:38:59.539Z"
   },
   {
    "duration": 107,
    "start_time": "2022-12-19T14:38:59.588Z"
   },
   {
    "duration": 5,
    "start_time": "2022-12-19T14:38:59.696Z"
   },
   {
    "duration": 8,
    "start_time": "2022-12-19T14:38:59.702Z"
   },
   {
    "duration": 263,
    "start_time": "2022-12-19T14:38:59.711Z"
   },
   {
    "duration": 559,
    "start_time": "2022-12-19T14:38:59.976Z"
   },
   {
    "duration": 22,
    "start_time": "2022-12-19T14:39:00.536Z"
   },
   {
    "duration": 46,
    "start_time": "2022-12-19T14:39:00.563Z"
   },
   {
    "duration": 58,
    "start_time": "2022-12-19T14:39:00.611Z"
   },
   {
    "duration": 64,
    "start_time": "2022-12-19T14:39:00.671Z"
   },
   {
    "duration": 148,
    "start_time": "2022-12-19T14:39:00.737Z"
   },
   {
    "duration": 22,
    "start_time": "2022-12-19T14:39:00.886Z"
   },
   {
    "duration": 90,
    "start_time": "2022-12-19T14:39:00.909Z"
   },
   {
    "duration": 161,
    "start_time": "2022-12-19T14:39:01.001Z"
   },
   {
    "duration": 11,
    "start_time": "2022-12-19T14:39:01.163Z"
   },
   {
    "duration": 33,
    "start_time": "2022-12-19T14:39:01.175Z"
   },
   {
    "duration": 25,
    "start_time": "2022-12-19T14:39:01.209Z"
   },
   {
    "duration": 35,
    "start_time": "2022-12-19T14:39:01.236Z"
   },
   {
    "duration": 25,
    "start_time": "2022-12-19T14:39:01.273Z"
   },
   {
    "duration": 173,
    "start_time": "2022-12-19T14:39:01.300Z"
   },
   {
    "duration": 357,
    "start_time": "2022-12-19T14:39:01.475Z"
   },
   {
    "duration": 13,
    "start_time": "2022-12-19T14:39:01.834Z"
   },
   {
    "duration": 41,
    "start_time": "2022-12-19T14:39:01.849Z"
   },
   {
    "duration": 143,
    "start_time": "2022-12-19T14:39:01.892Z"
   },
   {
    "duration": 2,
    "start_time": "2022-12-19T14:39:02.037Z"
   },
   {
    "duration": 41,
    "start_time": "2022-12-19T14:39:02.040Z"
   },
   {
    "duration": 567,
    "start_time": "2022-12-19T14:39:02.082Z"
   },
   {
    "duration": 17,
    "start_time": "2022-12-19T14:39:02.650Z"
   },
   {
    "duration": 27,
    "start_time": "2022-12-19T14:39:02.669Z"
   },
   {
    "duration": 37,
    "start_time": "2022-12-19T14:39:02.698Z"
   },
   {
    "duration": 5,
    "start_time": "2022-12-19T14:39:02.736Z"
   },
   {
    "duration": 15,
    "start_time": "2022-12-19T14:39:02.743Z"
   },
   {
    "duration": 12,
    "start_time": "2022-12-19T14:39:02.760Z"
   },
   {
    "duration": 6,
    "start_time": "2022-12-19T14:39:02.774Z"
   },
   {
    "duration": 260,
    "start_time": "2022-12-19T14:39:02.782Z"
   },
   {
    "duration": 138,
    "start_time": "2022-12-19T14:39:03.043Z"
   },
   {
    "duration": 8,
    "start_time": "2022-12-19T14:39:03.182Z"
   },
   {
    "duration": 191,
    "start_time": "2022-12-19T14:39:03.191Z"
   },
   {
    "duration": 17,
    "start_time": "2022-12-19T14:39:03.384Z"
   },
   {
    "duration": 34,
    "start_time": "2022-12-19T14:39:03.402Z"
   },
   {
    "duration": 5,
    "start_time": "2022-12-19T14:39:03.438Z"
   },
   {
    "duration": 4515,
    "start_time": "2022-12-19T14:39:03.445Z"
   },
   {
    "duration": 77,
    "start_time": "2022-12-19T14:39:07.961Z"
   },
   {
    "duration": 4,
    "start_time": "2022-12-19T14:39:08.040Z"
   },
   {
    "duration": 54,
    "start_time": "2022-12-19T14:39:08.046Z"
   },
   {
    "duration": 6,
    "start_time": "2022-12-19T14:39:08.102Z"
   },
   {
    "duration": 7,
    "start_time": "2022-12-19T14:39:08.110Z"
   },
   {
    "duration": 15,
    "start_time": "2022-12-19T14:39:08.118Z"
   },
   {
    "duration": 44,
    "start_time": "2022-12-19T14:39:08.135Z"
   },
   {
    "duration": 8,
    "start_time": "2022-12-19T14:39:08.181Z"
   },
   {
    "duration": 6,
    "start_time": "2022-12-19T14:39:08.191Z"
   },
   {
    "duration": 28,
    "start_time": "2022-12-19T14:39:08.199Z"
   },
   {
    "duration": 9,
    "start_time": "2022-12-19T14:39:08.229Z"
   },
   {
    "duration": 22,
    "start_time": "2022-12-19T14:39:08.239Z"
   },
   {
    "duration": 165,
    "start_time": "2022-12-19T14:39:08.262Z"
   },
   {
    "duration": 14,
    "start_time": "2022-12-19T14:39:08.428Z"
   },
   {
    "duration": 188,
    "start_time": "2022-12-19T14:39:08.443Z"
   },
   {
    "duration": 12,
    "start_time": "2022-12-19T14:39:08.633Z"
   },
   {
    "duration": 20,
    "start_time": "2022-12-19T14:39:08.646Z"
   },
   {
    "duration": 610,
    "start_time": "2022-12-19T14:39:08.667Z"
   },
   {
    "duration": 8,
    "start_time": "2022-12-19T14:39:09.279Z"
   },
   {
    "duration": 15,
    "start_time": "2022-12-19T14:39:09.293Z"
   },
   {
    "duration": 23,
    "start_time": "2022-12-19T14:39:09.310Z"
   },
   {
    "duration": 17,
    "start_time": "2022-12-19T14:39:09.335Z"
   },
   {
    "duration": 8,
    "start_time": "2022-12-19T14:39:09.354Z"
   },
   {
    "duration": 8,
    "start_time": "2022-12-19T14:39:09.364Z"
   },
   {
    "duration": 11,
    "start_time": "2022-12-19T14:39:09.374Z"
   },
   {
    "duration": 11,
    "start_time": "2022-12-19T14:39:09.387Z"
   },
   {
    "duration": 31,
    "start_time": "2022-12-19T14:39:09.399Z"
   },
   {
    "duration": 31,
    "start_time": "2022-12-19T14:39:09.432Z"
   },
   {
    "duration": 124,
    "start_time": "2022-12-19T14:39:09.464Z"
   },
   {
    "duration": 22,
    "start_time": "2022-12-19T14:39:09.590Z"
   },
   {
    "duration": 8,
    "start_time": "2022-12-19T14:39:09.626Z"
   },
   {
    "duration": 24,
    "start_time": "2022-12-19T14:39:09.635Z"
   },
   {
    "duration": 311,
    "start_time": "2022-12-19T14:39:09.660Z"
   },
   {
    "duration": 8,
    "start_time": "2022-12-19T14:39:09.973Z"
   },
   {
    "duration": 12,
    "start_time": "2022-12-19T14:39:09.982Z"
   },
   {
    "duration": 5,
    "start_time": "2022-12-19T14:39:09.996Z"
   },
   {
    "duration": 32,
    "start_time": "2022-12-19T14:39:10.003Z"
   },
   {
    "duration": 8,
    "start_time": "2022-12-19T14:39:10.036Z"
   },
   {
    "duration": 21,
    "start_time": "2022-12-19T14:39:10.046Z"
   },
   {
    "duration": 15,
    "start_time": "2022-12-19T14:39:23.770Z"
   },
   {
    "duration": 65,
    "start_time": "2022-12-19T14:40:31.995Z"
   },
   {
    "duration": 22,
    "start_time": "2022-12-19T14:40:39.074Z"
   },
   {
    "duration": 11,
    "start_time": "2022-12-19T14:41:47.825Z"
   },
   {
    "duration": 7,
    "start_time": "2022-12-19T14:41:57.296Z"
   },
   {
    "duration": 7,
    "start_time": "2022-12-19T14:42:08.520Z"
   },
   {
    "duration": 22,
    "start_time": "2022-12-19T14:42:59.435Z"
   },
   {
    "duration": 10,
    "start_time": "2022-12-19T14:43:43.415Z"
   },
   {
    "duration": 9,
    "start_time": "2022-12-19T14:43:55.517Z"
   },
   {
    "duration": 20,
    "start_time": "2022-12-19T14:44:40.231Z"
   },
   {
    "duration": 7,
    "start_time": "2022-12-19T14:45:18.318Z"
   },
   {
    "duration": 8,
    "start_time": "2022-12-19T14:45:21.206Z"
   },
   {
    "duration": 9,
    "start_time": "2022-12-19T14:45:37.496Z"
   },
   {
    "duration": 20,
    "start_time": "2022-12-19T14:46:46.501Z"
   },
   {
    "duration": 21,
    "start_time": "2022-12-19T14:49:57.317Z"
   },
   {
    "duration": 26,
    "start_time": "2022-12-19T14:50:35.896Z"
   },
   {
    "duration": 21,
    "start_time": "2022-12-19T14:50:39.908Z"
   },
   {
    "duration": 15,
    "start_time": "2022-12-19T14:53:55.505Z"
   },
   {
    "duration": 14,
    "start_time": "2022-12-19T14:54:07.788Z"
   },
   {
    "duration": 5,
    "start_time": "2022-12-19T14:54:20.806Z"
   },
   {
    "duration": 22,
    "start_time": "2022-12-19T14:54:31.414Z"
   },
   {
    "duration": 20,
    "start_time": "2022-12-19T14:54:46.645Z"
   },
   {
    "duration": 104,
    "start_time": "2022-12-19T14:56:24.099Z"
   },
   {
    "duration": 4,
    "start_time": "2022-12-19T14:56:27.947Z"
   },
   {
    "duration": 22,
    "start_time": "2022-12-19T14:56:29.660Z"
   },
   {
    "duration": 5,
    "start_time": "2022-12-19T14:59:28.746Z"
   },
   {
    "duration": 23,
    "start_time": "2022-12-19T14:59:30.522Z"
   },
   {
    "duration": 12,
    "start_time": "2022-12-19T15:00:55.711Z"
   },
   {
    "duration": 9,
    "start_time": "2022-12-19T15:01:06.562Z"
   },
   {
    "duration": 9,
    "start_time": "2022-12-19T15:01:38.202Z"
   },
   {
    "duration": 4,
    "start_time": "2022-12-19T15:01:50.682Z"
   },
   {
    "duration": 5,
    "start_time": "2022-12-19T15:01:53.532Z"
   },
   {
    "duration": 6,
    "start_time": "2022-12-19T15:02:00.847Z"
   },
   {
    "duration": 24,
    "start_time": "2022-12-19T15:02:02.966Z"
   },
   {
    "duration": 4,
    "start_time": "2022-12-19T15:02:20.702Z"
   },
   {
    "duration": 4,
    "start_time": "2022-12-19T15:02:22.230Z"
   },
   {
    "duration": 25,
    "start_time": "2022-12-19T15:02:22.918Z"
   },
   {
    "duration": 5,
    "start_time": "2022-12-19T15:02:42.551Z"
   },
   {
    "duration": 6,
    "start_time": "2022-12-19T15:02:56.461Z"
   },
   {
    "duration": 23,
    "start_time": "2022-12-19T15:03:01.641Z"
   },
   {
    "duration": 4,
    "start_time": "2022-12-19T15:03:11.826Z"
   },
   {
    "duration": 21,
    "start_time": "2022-12-19T15:03:13.102Z"
   },
   {
    "duration": 6,
    "start_time": "2022-12-19T15:04:03.252Z"
   },
   {
    "duration": 21,
    "start_time": "2022-12-19T15:04:04.310Z"
   },
   {
    "duration": 22,
    "start_time": "2022-12-19T15:05:03.763Z"
   },
   {
    "duration": 79,
    "start_time": "2022-12-19T15:05:51.490Z"
   },
   {
    "duration": 5,
    "start_time": "2022-12-19T15:05:56.705Z"
   },
   {
    "duration": 5,
    "start_time": "2022-12-19T15:06:04.047Z"
   },
   {
    "duration": 21,
    "start_time": "2022-12-19T15:06:05.340Z"
   },
   {
    "duration": 7,
    "start_time": "2022-12-19T15:07:12.146Z"
   },
   {
    "duration": 7,
    "start_time": "2022-12-19T15:07:14.562Z"
   },
   {
    "duration": 22,
    "start_time": "2022-12-19T15:07:29.706Z"
   },
   {
    "duration": 6,
    "start_time": "2022-12-19T15:07:41.794Z"
   },
   {
    "duration": 21,
    "start_time": "2022-12-19T15:07:42.721Z"
   },
   {
    "duration": 7,
    "start_time": "2022-12-19T15:11:53.806Z"
   },
   {
    "duration": 7,
    "start_time": "2022-12-19T15:14:18.868Z"
   },
   {
    "duration": 11,
    "start_time": "2022-12-19T15:14:41.559Z"
   },
   {
    "duration": 4,
    "start_time": "2022-12-19T15:15:04.357Z"
   },
   {
    "duration": 38,
    "start_time": "2022-12-19T15:15:04.363Z"
   },
   {
    "duration": 10,
    "start_time": "2022-12-19T15:15:04.404Z"
   },
   {
    "duration": 12,
    "start_time": "2022-12-19T15:15:04.415Z"
   },
   {
    "duration": 23,
    "start_time": "2022-12-19T15:15:04.431Z"
   },
   {
    "duration": 10,
    "start_time": "2022-12-19T15:15:04.455Z"
   },
   {
    "duration": 9,
    "start_time": "2022-12-19T15:15:04.467Z"
   },
   {
    "duration": 11,
    "start_time": "2022-12-19T15:15:04.477Z"
   },
   {
    "duration": 18,
    "start_time": "2022-12-19T15:15:04.490Z"
   },
   {
    "duration": 105,
    "start_time": "2022-12-19T15:15:04.510Z"
   },
   {
    "duration": 29,
    "start_time": "2022-12-19T15:15:04.619Z"
   },
   {
    "duration": 26,
    "start_time": "2022-12-19T15:15:04.650Z"
   },
   {
    "duration": 6,
    "start_time": "2022-12-19T15:15:04.678Z"
   },
   {
    "duration": 13,
    "start_time": "2022-12-19T15:15:04.687Z"
   },
   {
    "duration": 33,
    "start_time": "2022-12-19T15:15:04.702Z"
   },
   {
    "duration": 36,
    "start_time": "2022-12-19T15:15:04.737Z"
   },
   {
    "duration": 35,
    "start_time": "2022-12-19T15:15:04.775Z"
   },
   {
    "duration": 23,
    "start_time": "2022-12-19T15:15:04.813Z"
   },
   {
    "duration": 26,
    "start_time": "2022-12-19T15:15:04.838Z"
   },
   {
    "duration": 478,
    "start_time": "2022-12-19T15:15:04.866Z"
   },
   {
    "duration": 58,
    "start_time": "2022-12-19T15:15:05.346Z"
   },
   {
    "duration": 167,
    "start_time": "2022-12-19T15:15:05.405Z"
   },
   {
    "duration": 8,
    "start_time": "2022-12-19T15:15:05.574Z"
   },
   {
    "duration": 50,
    "start_time": "2022-12-19T15:15:05.584Z"
   },
   {
    "duration": 367,
    "start_time": "2022-12-19T15:15:05.636Z"
   },
   {
    "duration": 584,
    "start_time": "2022-12-19T15:15:06.004Z"
   },
   {
    "duration": 22,
    "start_time": "2022-12-19T15:15:06.590Z"
   },
   {
    "duration": 89,
    "start_time": "2022-12-19T15:15:06.613Z"
   },
   {
    "duration": 62,
    "start_time": "2022-12-19T15:15:06.710Z"
   },
   {
    "duration": 71,
    "start_time": "2022-12-19T15:15:06.774Z"
   },
   {
    "duration": 232,
    "start_time": "2022-12-19T15:15:06.847Z"
   },
   {
    "duration": 21,
    "start_time": "2022-12-19T15:15:07.080Z"
   },
   {
    "duration": 97,
    "start_time": "2022-12-19T15:15:07.103Z"
   },
   {
    "duration": 55,
    "start_time": "2022-12-19T15:15:07.202Z"
   },
   {
    "duration": 37,
    "start_time": "2022-12-19T15:15:07.260Z"
   },
   {
    "duration": 48,
    "start_time": "2022-12-19T15:15:07.299Z"
   },
   {
    "duration": 29,
    "start_time": "2022-12-19T15:15:07.348Z"
   },
   {
    "duration": 33,
    "start_time": "2022-12-19T15:15:07.378Z"
   },
   {
    "duration": 36,
    "start_time": "2022-12-19T15:15:07.413Z"
   },
   {
    "duration": 225,
    "start_time": "2022-12-19T15:15:07.451Z"
   },
   {
    "duration": 394,
    "start_time": "2022-12-19T15:15:07.678Z"
   },
   {
    "duration": 14,
    "start_time": "2022-12-19T15:15:08.074Z"
   },
   {
    "duration": 40,
    "start_time": "2022-12-19T15:15:08.090Z"
   },
   {
    "duration": 145,
    "start_time": "2022-12-19T15:15:08.140Z"
   },
   {
    "duration": 3,
    "start_time": "2022-12-19T15:15:08.286Z"
   },
   {
    "duration": 69,
    "start_time": "2022-12-19T15:15:08.291Z"
   },
   {
    "duration": 732,
    "start_time": "2022-12-19T15:15:08.362Z"
   },
   {
    "duration": 18,
    "start_time": "2022-12-19T15:15:09.095Z"
   },
   {
    "duration": 49,
    "start_time": "2022-12-19T15:15:09.115Z"
   },
   {
    "duration": 38,
    "start_time": "2022-12-19T15:15:09.166Z"
   },
   {
    "duration": 22,
    "start_time": "2022-12-19T15:15:09.206Z"
   },
   {
    "duration": 32,
    "start_time": "2022-12-19T15:15:09.230Z"
   },
   {
    "duration": 17,
    "start_time": "2022-12-19T15:15:09.265Z"
   },
   {
    "duration": 14,
    "start_time": "2022-12-19T15:15:09.283Z"
   },
   {
    "duration": 210,
    "start_time": "2022-12-19T15:15:09.299Z"
   },
   {
    "duration": 169,
    "start_time": "2022-12-19T15:15:09.511Z"
   },
   {
    "duration": 9,
    "start_time": "2022-12-19T15:15:09.682Z"
   },
   {
    "duration": 260,
    "start_time": "2022-12-19T15:15:09.694Z"
   },
   {
    "duration": 22,
    "start_time": "2022-12-19T15:15:09.955Z"
   },
   {
    "duration": 90,
    "start_time": "2022-12-19T15:15:09.979Z"
   },
   {
    "duration": 8,
    "start_time": "2022-12-19T15:15:10.071Z"
   },
   {
    "duration": 5211,
    "start_time": "2022-12-19T15:15:10.081Z"
   },
   {
    "duration": 110,
    "start_time": "2022-12-19T15:15:15.294Z"
   },
   {
    "duration": 6,
    "start_time": "2022-12-19T15:15:15.407Z"
   },
   {
    "duration": 85,
    "start_time": "2022-12-19T15:15:15.414Z"
   },
   {
    "duration": 9,
    "start_time": "2022-12-19T15:15:15.501Z"
   },
   {
    "duration": 6,
    "start_time": "2022-12-19T15:15:15.512Z"
   },
   {
    "duration": 29,
    "start_time": "2022-12-19T15:15:15.521Z"
   },
   {
    "duration": 43,
    "start_time": "2022-12-19T15:15:15.552Z"
   },
   {
    "duration": 12,
    "start_time": "2022-12-19T15:15:15.597Z"
   },
   {
    "duration": 26,
    "start_time": "2022-12-19T15:15:15.612Z"
   },
   {
    "duration": 13,
    "start_time": "2022-12-19T15:15:15.643Z"
   },
   {
    "duration": 23,
    "start_time": "2022-12-19T15:15:15.658Z"
   },
   {
    "duration": 20,
    "start_time": "2022-12-19T15:15:15.683Z"
   },
   {
    "duration": 238,
    "start_time": "2022-12-19T15:15:15.705Z"
   },
   {
    "duration": 20,
    "start_time": "2022-12-19T15:15:15.945Z"
   },
   {
    "duration": 309,
    "start_time": "2022-12-19T15:15:15.967Z"
   },
   {
    "duration": 20,
    "start_time": "2022-12-19T15:15:16.278Z"
   },
   {
    "duration": 39,
    "start_time": "2022-12-19T15:15:16.300Z"
   },
   {
    "duration": 739,
    "start_time": "2022-12-19T15:15:16.341Z"
   },
   {
    "duration": 9,
    "start_time": "2022-12-19T15:15:17.083Z"
   },
   {
    "duration": 64,
    "start_time": "2022-12-19T15:15:17.094Z"
   },
   {
    "duration": 12,
    "start_time": "2022-12-19T15:15:17.164Z"
   },
   {
    "duration": 22,
    "start_time": "2022-12-19T15:15:17.177Z"
   },
   {
    "duration": 11,
    "start_time": "2022-12-19T15:15:17.200Z"
   },
   {
    "duration": 35,
    "start_time": "2022-12-19T15:15:17.213Z"
   },
   {
    "duration": 35,
    "start_time": "2022-12-19T15:15:17.250Z"
   },
   {
    "duration": 57,
    "start_time": "2022-12-19T15:15:17.287Z"
   },
   {
    "duration": 27,
    "start_time": "2022-12-19T15:15:17.346Z"
   },
   {
    "duration": 8,
    "start_time": "2022-12-19T15:15:17.376Z"
   },
   {
    "duration": 33,
    "start_time": "2022-12-19T15:15:17.386Z"
   },
   {
    "duration": 46,
    "start_time": "2022-12-19T15:15:17.421Z"
   },
   {
    "duration": 143,
    "start_time": "2022-12-19T15:15:17.468Z"
   },
   {
    "duration": 45,
    "start_time": "2022-12-19T15:15:17.613Z"
   },
   {
    "duration": 15,
    "start_time": "2022-12-19T15:15:17.660Z"
   },
   {
    "duration": 22,
    "start_time": "2022-12-19T15:15:17.678Z"
   },
   {
    "duration": 362,
    "start_time": "2022-12-19T15:15:17.702Z"
   },
   {
    "duration": 10,
    "start_time": "2022-12-19T15:15:18.065Z"
   },
   {
    "duration": 20,
    "start_time": "2022-12-19T15:15:18.077Z"
   },
   {
    "duration": 6,
    "start_time": "2022-12-19T15:15:18.098Z"
   },
   {
    "duration": 33,
    "start_time": "2022-12-19T15:15:18.106Z"
   },
   {
    "duration": 50,
    "start_time": "2022-12-19T15:15:18.142Z"
   },
   {
    "duration": 21,
    "start_time": "2022-12-19T15:15:18.194Z"
   },
   {
    "duration": 5,
    "start_time": "2022-12-19T15:15:35.037Z"
   },
   {
    "duration": 7,
    "start_time": "2022-12-19T15:16:02.902Z"
   },
   {
    "duration": 4,
    "start_time": "2022-12-19T15:16:08.210Z"
   },
   {
    "duration": 51,
    "start_time": "2022-12-19T15:16:08.216Z"
   },
   {
    "duration": 11,
    "start_time": "2022-12-19T15:16:08.269Z"
   },
   {
    "duration": 26,
    "start_time": "2022-12-19T15:16:08.282Z"
   },
   {
    "duration": 13,
    "start_time": "2022-12-19T15:16:08.310Z"
   },
   {
    "duration": 36,
    "start_time": "2022-12-19T15:16:08.325Z"
   },
   {
    "duration": 20,
    "start_time": "2022-12-19T15:16:08.363Z"
   },
   {
    "duration": 10,
    "start_time": "2022-12-19T15:16:08.385Z"
   },
   {
    "duration": 20,
    "start_time": "2022-12-19T15:16:08.396Z"
   },
   {
    "duration": 93,
    "start_time": "2022-12-19T15:16:08.418Z"
   },
   {
    "duration": 23,
    "start_time": "2022-12-19T15:16:08.513Z"
   },
   {
    "duration": 33,
    "start_time": "2022-12-19T15:16:08.538Z"
   },
   {
    "duration": 6,
    "start_time": "2022-12-19T15:16:08.572Z"
   },
   {
    "duration": 7,
    "start_time": "2022-12-19T15:16:08.580Z"
   },
   {
    "duration": 13,
    "start_time": "2022-12-19T15:16:08.589Z"
   },
   {
    "duration": 29,
    "start_time": "2022-12-19T15:16:08.604Z"
   },
   {
    "duration": 42,
    "start_time": "2022-12-19T15:16:08.638Z"
   },
   {
    "duration": 48,
    "start_time": "2022-12-19T15:16:08.681Z"
   },
   {
    "duration": 12,
    "start_time": "2022-12-19T15:16:08.731Z"
   },
   {
    "duration": 489,
    "start_time": "2022-12-19T15:16:08.746Z"
   },
   {
    "duration": 52,
    "start_time": "2022-12-19T15:16:09.244Z"
   },
   {
    "duration": 111,
    "start_time": "2022-12-19T15:16:09.298Z"
   },
   {
    "duration": 24,
    "start_time": "2022-12-19T15:16:09.411Z"
   },
   {
    "duration": 15,
    "start_time": "2022-12-19T15:16:09.437Z"
   },
   {
    "duration": 256,
    "start_time": "2022-12-19T15:16:09.454Z"
   },
   {
    "duration": 583,
    "start_time": "2022-12-19T15:16:09.711Z"
   },
   {
    "duration": 40,
    "start_time": "2022-12-19T15:16:10.296Z"
   },
   {
    "duration": 50,
    "start_time": "2022-12-19T15:16:10.339Z"
   },
   {
    "duration": 64,
    "start_time": "2022-12-19T15:16:10.395Z"
   },
   {
    "duration": 75,
    "start_time": "2022-12-19T15:16:10.461Z"
   },
   {
    "duration": 172,
    "start_time": "2022-12-19T15:16:10.540Z"
   },
   {
    "duration": 35,
    "start_time": "2022-12-19T15:16:10.715Z"
   },
   {
    "duration": 114,
    "start_time": "2022-12-19T15:16:10.753Z"
   },
   {
    "duration": 42,
    "start_time": "2022-12-19T15:16:10.869Z"
   },
   {
    "duration": 39,
    "start_time": "2022-12-19T15:16:10.913Z"
   },
   {
    "duration": 37,
    "start_time": "2022-12-19T15:16:10.953Z"
   },
   {
    "duration": 12,
    "start_time": "2022-12-19T15:16:10.993Z"
   },
   {
    "duration": 24,
    "start_time": "2022-12-19T15:16:11.007Z"
   },
   {
    "duration": 30,
    "start_time": "2022-12-19T15:16:11.033Z"
   },
   {
    "duration": 204,
    "start_time": "2022-12-19T15:16:11.064Z"
   },
   {
    "duration": 378,
    "start_time": "2022-12-19T15:16:11.269Z"
   },
   {
    "duration": 16,
    "start_time": "2022-12-19T15:16:11.649Z"
   },
   {
    "duration": 62,
    "start_time": "2022-12-19T15:16:11.667Z"
   },
   {
    "duration": 177,
    "start_time": "2022-12-19T15:16:11.733Z"
   },
   {
    "duration": 3,
    "start_time": "2022-12-19T15:16:11.911Z"
   },
   {
    "duration": 65,
    "start_time": "2022-12-19T15:16:11.916Z"
   },
   {
    "duration": 767,
    "start_time": "2022-12-19T15:16:11.983Z"
   },
   {
    "duration": 25,
    "start_time": "2022-12-19T15:16:12.752Z"
   },
   {
    "duration": 55,
    "start_time": "2022-12-19T15:16:12.779Z"
   },
   {
    "duration": 35,
    "start_time": "2022-12-19T15:16:12.843Z"
   },
   {
    "duration": 6,
    "start_time": "2022-12-19T15:16:12.880Z"
   },
   {
    "duration": 19,
    "start_time": "2022-12-19T15:16:12.888Z"
   },
   {
    "duration": 38,
    "start_time": "2022-12-19T15:16:12.909Z"
   },
   {
    "duration": 16,
    "start_time": "2022-12-19T15:16:12.949Z"
   },
   {
    "duration": 217,
    "start_time": "2022-12-19T15:16:12.967Z"
   },
   {
    "duration": 163,
    "start_time": "2022-12-19T15:16:13.186Z"
   },
   {
    "duration": 12,
    "start_time": "2022-12-19T15:16:13.351Z"
   },
   {
    "duration": 236,
    "start_time": "2022-12-19T15:16:13.369Z"
   },
   {
    "duration": 47,
    "start_time": "2022-12-19T15:16:13.607Z"
   },
   {
    "duration": 24,
    "start_time": "2022-12-19T15:16:13.657Z"
   },
   {
    "duration": 7,
    "start_time": "2022-12-19T15:16:13.683Z"
   },
   {
    "duration": 5216,
    "start_time": "2022-12-19T15:16:13.692Z"
   },
   {
    "duration": 94,
    "start_time": "2022-12-19T15:16:18.910Z"
   },
   {
    "duration": 6,
    "start_time": "2022-12-19T15:16:19.006Z"
   },
   {
    "duration": 55,
    "start_time": "2022-12-19T15:16:19.027Z"
   },
   {
    "duration": 9,
    "start_time": "2022-12-19T15:16:19.084Z"
   },
   {
    "duration": 59,
    "start_time": "2022-12-19T15:16:19.094Z"
   },
   {
    "duration": 83,
    "start_time": "2022-12-19T15:16:19.155Z"
   },
   {
    "duration": 119,
    "start_time": "2022-12-19T15:16:19.243Z"
   },
   {
    "duration": 13,
    "start_time": "2022-12-19T15:16:19.364Z"
   },
   {
    "duration": 28,
    "start_time": "2022-12-19T15:16:19.379Z"
   },
   {
    "duration": 68,
    "start_time": "2022-12-19T15:16:19.409Z"
   },
   {
    "duration": 34,
    "start_time": "2022-12-19T15:16:19.479Z"
   },
   {
    "duration": 38,
    "start_time": "2022-12-19T15:16:19.515Z"
   },
   {
    "duration": 280,
    "start_time": "2022-12-19T15:16:19.555Z"
   },
   {
    "duration": 24,
    "start_time": "2022-12-19T15:16:19.855Z"
   },
   {
    "duration": 233,
    "start_time": "2022-12-19T15:16:19.881Z"
   },
   {
    "duration": 33,
    "start_time": "2022-12-19T15:16:20.116Z"
   },
   {
    "duration": 41,
    "start_time": "2022-12-19T15:16:20.151Z"
   },
   {
    "duration": 808,
    "start_time": "2022-12-19T15:16:20.194Z"
   },
   {
    "duration": 11,
    "start_time": "2022-12-19T15:16:21.004Z"
   },
   {
    "duration": 58,
    "start_time": "2022-12-19T15:16:21.029Z"
   },
   {
    "duration": 17,
    "start_time": "2022-12-19T15:16:21.093Z"
   },
   {
    "duration": 59,
    "start_time": "2022-12-19T15:16:21.112Z"
   },
   {
    "duration": 11,
    "start_time": "2022-12-19T15:16:21.173Z"
   },
   {
    "duration": 30,
    "start_time": "2022-12-19T15:16:21.186Z"
   },
   {
    "duration": 52,
    "start_time": "2022-12-19T15:16:21.219Z"
   },
   {
    "duration": 24,
    "start_time": "2022-12-19T15:16:21.273Z"
   },
   {
    "duration": 21,
    "start_time": "2022-12-19T15:16:21.299Z"
   },
   {
    "duration": 38,
    "start_time": "2022-12-19T15:16:21.322Z"
   },
   {
    "duration": 17,
    "start_time": "2022-12-19T15:16:21.362Z"
   },
   {
    "duration": 42,
    "start_time": "2022-12-19T15:16:21.380Z"
   },
   {
    "duration": 50,
    "start_time": "2022-12-19T15:16:21.425Z"
   },
   {
    "duration": 12,
    "start_time": "2022-12-19T15:16:21.479Z"
   },
   {
    "duration": 28,
    "start_time": "2022-12-19T15:16:21.493Z"
   },
   {
    "duration": 43,
    "start_time": "2022-12-19T15:16:21.523Z"
   },
   {
    "duration": 36,
    "start_time": "2022-12-19T15:16:21.569Z"
   },
   {
    "duration": 382,
    "start_time": "2022-12-19T15:16:21.607Z"
   },
   {
    "duration": 9,
    "start_time": "2022-12-19T15:16:21.991Z"
   },
   {
    "duration": 35,
    "start_time": "2022-12-19T15:16:22.002Z"
   },
   {
    "duration": 26,
    "start_time": "2022-12-19T15:16:22.039Z"
   },
   {
    "duration": 24,
    "start_time": "2022-12-19T15:16:22.067Z"
   },
   {
    "duration": 13,
    "start_time": "2022-12-19T15:16:22.093Z"
   },
   {
    "duration": 21,
    "start_time": "2022-12-19T15:16:22.108Z"
   },
   {
    "duration": 22,
    "start_time": "2022-12-19T15:17:06.818Z"
   },
   {
    "duration": 6,
    "start_time": "2022-12-19T15:17:09.445Z"
   },
   {
    "duration": 5,
    "start_time": "2022-12-19T15:17:10.413Z"
   },
   {
    "duration": 7,
    "start_time": "2022-12-19T15:17:12.138Z"
   },
   {
    "duration": 4,
    "start_time": "2022-12-19T15:17:22.004Z"
   },
   {
    "duration": 62,
    "start_time": "2022-12-19T15:17:22.010Z"
   },
   {
    "duration": 17,
    "start_time": "2022-12-19T15:17:22.074Z"
   },
   {
    "duration": 52,
    "start_time": "2022-12-19T15:17:22.093Z"
   },
   {
    "duration": 96,
    "start_time": "2022-12-19T15:17:22.147Z"
   },
   {
    "duration": 56,
    "start_time": "2022-12-19T15:17:22.245Z"
   },
   {
    "duration": 30,
    "start_time": "2022-12-19T15:17:22.303Z"
   },
   {
    "duration": 29,
    "start_time": "2022-12-19T15:17:22.335Z"
   },
   {
    "duration": 55,
    "start_time": "2022-12-19T15:17:22.365Z"
   },
   {
    "duration": 95,
    "start_time": "2022-12-19T15:17:22.422Z"
   },
   {
    "duration": 37,
    "start_time": "2022-12-19T15:17:22.520Z"
   },
   {
    "duration": 43,
    "start_time": "2022-12-19T15:17:22.565Z"
   },
   {
    "duration": 37,
    "start_time": "2022-12-19T15:17:22.611Z"
   },
   {
    "duration": 40,
    "start_time": "2022-12-19T15:17:22.650Z"
   },
   {
    "duration": 30,
    "start_time": "2022-12-19T15:17:22.692Z"
   },
   {
    "duration": 47,
    "start_time": "2022-12-19T15:17:22.724Z"
   },
   {
    "duration": 107,
    "start_time": "2022-12-19T15:17:22.773Z"
   },
   {
    "duration": 38,
    "start_time": "2022-12-19T15:17:22.883Z"
   },
   {
    "duration": 17,
    "start_time": "2022-12-19T15:17:22.925Z"
   },
   {
    "duration": 650,
    "start_time": "2022-12-19T15:17:22.951Z"
   },
   {
    "duration": 86,
    "start_time": "2022-12-19T15:17:23.603Z"
   },
   {
    "duration": 146,
    "start_time": "2022-12-19T15:17:23.690Z"
   },
   {
    "duration": 11,
    "start_time": "2022-12-19T15:17:23.838Z"
   },
   {
    "duration": 18,
    "start_time": "2022-12-19T15:17:23.852Z"
   },
   {
    "duration": 282,
    "start_time": "2022-12-19T15:17:23.872Z"
   },
   {
    "duration": 639,
    "start_time": "2022-12-19T15:17:24.156Z"
   },
   {
    "duration": 46,
    "start_time": "2022-12-19T15:17:24.797Z"
   },
   {
    "duration": 116,
    "start_time": "2022-12-19T15:17:24.845Z"
   },
   {
    "duration": 77,
    "start_time": "2022-12-19T15:17:24.968Z"
   },
   {
    "duration": 58,
    "start_time": "2022-12-19T15:17:25.047Z"
   },
   {
    "duration": 166,
    "start_time": "2022-12-19T15:17:25.108Z"
   },
   {
    "duration": 29,
    "start_time": "2022-12-19T15:17:25.276Z"
   },
   {
    "duration": 132,
    "start_time": "2022-12-19T15:17:25.307Z"
   },
   {
    "duration": 44,
    "start_time": "2022-12-19T15:17:25.445Z"
   },
   {
    "duration": 10,
    "start_time": "2022-12-19T15:17:25.491Z"
   },
   {
    "duration": 58,
    "start_time": "2022-12-19T15:17:25.503Z"
   },
   {
    "duration": 22,
    "start_time": "2022-12-19T15:17:25.563Z"
   },
   {
    "duration": 50,
    "start_time": "2022-12-19T15:17:25.587Z"
   },
   {
    "duration": 43,
    "start_time": "2022-12-19T15:17:25.641Z"
   },
   {
    "duration": 232,
    "start_time": "2022-12-19T15:17:25.686Z"
   },
   {
    "duration": 423,
    "start_time": "2022-12-19T15:17:25.920Z"
   },
   {
    "duration": 21,
    "start_time": "2022-12-19T15:17:26.347Z"
   },
   {
    "duration": 68,
    "start_time": "2022-12-19T15:17:26.370Z"
   },
   {
    "duration": 220,
    "start_time": "2022-12-19T15:17:26.442Z"
   },
   {
    "duration": 4,
    "start_time": "2022-12-19T15:17:26.664Z"
   },
   {
    "duration": 62,
    "start_time": "2022-12-19T15:17:26.670Z"
   },
   {
    "duration": 695,
    "start_time": "2022-12-19T15:17:26.736Z"
   },
   {
    "duration": 22,
    "start_time": "2022-12-19T15:17:27.438Z"
   },
   {
    "duration": 38,
    "start_time": "2022-12-19T15:17:27.461Z"
   },
   {
    "duration": 37,
    "start_time": "2022-12-19T15:17:27.501Z"
   },
   {
    "duration": 33,
    "start_time": "2022-12-19T15:17:27.539Z"
   },
   {
    "duration": 30,
    "start_time": "2022-12-19T15:17:27.574Z"
   },
   {
    "duration": 49,
    "start_time": "2022-12-19T15:17:27.607Z"
   },
   {
    "duration": 34,
    "start_time": "2022-12-19T15:17:27.657Z"
   },
   {
    "duration": 256,
    "start_time": "2022-12-19T15:17:27.693Z"
   },
   {
    "duration": 192,
    "start_time": "2022-12-19T15:17:27.951Z"
   },
   {
    "duration": 11,
    "start_time": "2022-12-19T15:17:28.146Z"
   },
   {
    "duration": 232,
    "start_time": "2022-12-19T15:17:28.159Z"
   },
   {
    "duration": 20,
    "start_time": "2022-12-19T15:17:28.392Z"
   },
   {
    "duration": 49,
    "start_time": "2022-12-19T15:17:28.414Z"
   },
   {
    "duration": 8,
    "start_time": "2022-12-19T15:17:28.465Z"
   },
   {
    "duration": 5081,
    "start_time": "2022-12-19T15:17:28.475Z"
   },
   {
    "duration": 96,
    "start_time": "2022-12-19T15:17:33.558Z"
   },
   {
    "duration": 5,
    "start_time": "2022-12-19T15:17:33.657Z"
   },
   {
    "duration": 59,
    "start_time": "2022-12-19T15:17:33.664Z"
   },
   {
    "duration": 15,
    "start_time": "2022-12-19T15:17:33.725Z"
   },
   {
    "duration": 19,
    "start_time": "2022-12-19T15:17:33.742Z"
   },
   {
    "duration": 17,
    "start_time": "2022-12-19T15:17:33.763Z"
   },
   {
    "duration": 72,
    "start_time": "2022-12-19T15:17:33.782Z"
   },
   {
    "duration": 145,
    "start_time": "2022-12-19T15:17:33.856Z"
   },
   {
    "duration": 8,
    "start_time": "2022-12-19T15:17:34.003Z"
   },
   {
    "duration": 16,
    "start_time": "2022-12-19T15:17:34.013Z"
   },
   {
    "duration": 21,
    "start_time": "2022-12-19T15:17:34.037Z"
   },
   {
    "duration": 19,
    "start_time": "2022-12-19T15:17:34.060Z"
   },
   {
    "duration": 178,
    "start_time": "2022-12-19T15:17:34.080Z"
   },
   {
    "duration": 16,
    "start_time": "2022-12-19T15:17:34.260Z"
   },
   {
    "duration": 201,
    "start_time": "2022-12-19T15:17:34.278Z"
   },
   {
    "duration": 13,
    "start_time": "2022-12-19T15:17:34.481Z"
   },
   {
    "duration": 42,
    "start_time": "2022-12-19T15:17:34.496Z"
   },
   {
    "duration": 723,
    "start_time": "2022-12-19T15:17:34.544Z"
   },
   {
    "duration": 9,
    "start_time": "2022-12-19T15:17:35.269Z"
   },
   {
    "duration": 26,
    "start_time": "2022-12-19T15:17:35.280Z"
   },
   {
    "duration": 17,
    "start_time": "2022-12-19T15:17:35.330Z"
   },
   {
    "duration": 36,
    "start_time": "2022-12-19T15:17:35.349Z"
   },
   {
    "duration": 10,
    "start_time": "2022-12-19T15:17:35.386Z"
   },
   {
    "duration": 66,
    "start_time": "2022-12-19T15:17:35.397Z"
   },
   {
    "duration": 12,
    "start_time": "2022-12-19T15:17:35.465Z"
   },
   {
    "duration": 45,
    "start_time": "2022-12-19T15:17:35.479Z"
   },
   {
    "duration": 33,
    "start_time": "2022-12-19T15:17:35.526Z"
   },
   {
    "duration": 17,
    "start_time": "2022-12-19T15:17:35.561Z"
   },
   {
    "duration": 14,
    "start_time": "2022-12-19T15:17:35.581Z"
   },
   {
    "duration": 19,
    "start_time": "2022-12-19T15:17:35.597Z"
   },
   {
    "duration": 29,
    "start_time": "2022-12-19T15:17:35.619Z"
   },
   {
    "duration": 23,
    "start_time": "2022-12-19T15:17:35.651Z"
   },
   {
    "duration": 40,
    "start_time": "2022-12-19T15:17:35.675Z"
   },
   {
    "duration": 23,
    "start_time": "2022-12-19T15:17:35.717Z"
   },
   {
    "duration": 27,
    "start_time": "2022-12-19T15:17:35.741Z"
   },
   {
    "duration": 308,
    "start_time": "2022-12-19T15:17:35.770Z"
   },
   {
    "duration": 10,
    "start_time": "2022-12-19T15:17:36.080Z"
   },
   {
    "duration": 35,
    "start_time": "2022-12-19T15:17:36.091Z"
   },
   {
    "duration": 19,
    "start_time": "2022-12-19T15:17:36.132Z"
   },
   {
    "duration": 20,
    "start_time": "2022-12-19T15:17:36.154Z"
   },
   {
    "duration": 12,
    "start_time": "2022-12-19T15:17:36.176Z"
   },
   {
    "duration": 9,
    "start_time": "2022-12-19T15:17:36.190Z"
   },
   {
    "duration": 4,
    "start_time": "2022-12-19T15:30:45.455Z"
   },
   {
    "duration": 4,
    "start_time": "2022-12-19T15:30:52.319Z"
   },
   {
    "duration": 45,
    "start_time": "2022-12-19T15:30:52.324Z"
   },
   {
    "duration": 9,
    "start_time": "2022-12-19T15:30:52.371Z"
   },
   {
    "duration": 9,
    "start_time": "2022-12-19T15:30:52.382Z"
   },
   {
    "duration": 17,
    "start_time": "2022-12-19T15:30:52.393Z"
   },
   {
    "duration": 13,
    "start_time": "2022-12-19T15:30:52.411Z"
   },
   {
    "duration": 12,
    "start_time": "2022-12-19T15:30:52.425Z"
   },
   {
    "duration": 16,
    "start_time": "2022-12-19T15:30:52.438Z"
   },
   {
    "duration": 18,
    "start_time": "2022-12-19T15:30:52.455Z"
   },
   {
    "duration": 79,
    "start_time": "2022-12-19T15:30:52.475Z"
   },
   {
    "duration": 15,
    "start_time": "2022-12-19T15:30:52.557Z"
   },
   {
    "duration": 21,
    "start_time": "2022-12-19T15:30:52.574Z"
   },
   {
    "duration": 5,
    "start_time": "2022-12-19T15:30:52.596Z"
   },
   {
    "duration": 13,
    "start_time": "2022-12-19T15:30:52.602Z"
   },
   {
    "duration": 7,
    "start_time": "2022-12-19T15:30:52.626Z"
   },
   {
    "duration": 18,
    "start_time": "2022-12-19T15:30:52.634Z"
   },
   {
    "duration": 43,
    "start_time": "2022-12-19T15:30:52.654Z"
   },
   {
    "duration": 16,
    "start_time": "2022-12-19T15:30:52.699Z"
   },
   {
    "duration": 10,
    "start_time": "2022-12-19T15:30:52.717Z"
   },
   {
    "duration": 440,
    "start_time": "2022-12-19T15:30:52.728Z"
   },
   {
    "duration": 63,
    "start_time": "2022-12-19T15:30:53.170Z"
   },
   {
    "duration": 112,
    "start_time": "2022-12-19T15:30:53.235Z"
   },
   {
    "duration": 7,
    "start_time": "2022-12-19T15:30:53.348Z"
   },
   {
    "duration": 17,
    "start_time": "2022-12-19T15:30:53.357Z"
   },
   {
    "duration": 252,
    "start_time": "2022-12-19T15:30:53.376Z"
   },
   {
    "duration": 545,
    "start_time": "2022-12-19T15:30:53.631Z"
   },
   {
    "duration": 24,
    "start_time": "2022-12-19T15:30:54.178Z"
   },
   {
    "duration": 62,
    "start_time": "2022-12-19T15:30:54.204Z"
   },
   {
    "duration": 58,
    "start_time": "2022-12-19T15:30:54.272Z"
   },
   {
    "duration": 54,
    "start_time": "2022-12-19T15:30:54.332Z"
   },
   {
    "duration": 143,
    "start_time": "2022-12-19T15:30:54.387Z"
   },
   {
    "duration": 20,
    "start_time": "2022-12-19T15:30:54.532Z"
   },
   {
    "duration": 90,
    "start_time": "2022-12-19T15:30:54.554Z"
   },
   {
    "duration": 41,
    "start_time": "2022-12-19T15:30:54.645Z"
   },
   {
    "duration": 10,
    "start_time": "2022-12-19T15:30:54.688Z"
   },
   {
    "duration": 23,
    "start_time": "2022-12-19T15:30:54.700Z"
   },
   {
    "duration": 14,
    "start_time": "2022-12-19T15:30:54.724Z"
   },
   {
    "duration": 16,
    "start_time": "2022-12-19T15:30:54.739Z"
   },
   {
    "duration": 28,
    "start_time": "2022-12-19T15:30:54.757Z"
   },
   {
    "duration": 200,
    "start_time": "2022-12-19T15:30:54.786Z"
   },
   {
    "duration": 345,
    "start_time": "2022-12-19T15:30:54.988Z"
   },
   {
    "duration": 12,
    "start_time": "2022-12-19T15:30:55.335Z"
   },
   {
    "duration": 57,
    "start_time": "2022-12-19T15:30:55.348Z"
   },
   {
    "duration": 152,
    "start_time": "2022-12-19T15:30:55.406Z"
   },
   {
    "duration": 3,
    "start_time": "2022-12-19T15:30:55.560Z"
   },
   {
    "duration": 42,
    "start_time": "2022-12-19T15:30:55.564Z"
   },
   {
    "duration": 700,
    "start_time": "2022-12-19T15:30:55.607Z"
   },
   {
    "duration": 25,
    "start_time": "2022-12-19T15:30:56.309Z"
   },
   {
    "duration": 32,
    "start_time": "2022-12-19T15:30:56.336Z"
   },
   {
    "duration": 27,
    "start_time": "2022-12-19T15:30:56.369Z"
   },
   {
    "duration": 29,
    "start_time": "2022-12-19T15:30:56.398Z"
   },
   {
    "duration": 9,
    "start_time": "2022-12-19T15:30:56.429Z"
   },
   {
    "duration": 21,
    "start_time": "2022-12-19T15:30:56.440Z"
   },
   {
    "duration": 15,
    "start_time": "2022-12-19T15:30:56.463Z"
   },
   {
    "duration": 199,
    "start_time": "2022-12-19T15:30:56.480Z"
   },
   {
    "duration": 232,
    "start_time": "2022-12-19T15:30:56.680Z"
   },
   {
    "duration": 13,
    "start_time": "2022-12-19T15:30:56.914Z"
   },
   {
    "duration": 207,
    "start_time": "2022-12-19T15:30:56.929Z"
   },
   {
    "duration": 19,
    "start_time": "2022-12-19T15:30:57.137Z"
   },
   {
    "duration": 21,
    "start_time": "2022-12-19T15:30:57.157Z"
   },
   {
    "duration": 5,
    "start_time": "2022-12-19T15:30:57.180Z"
   },
   {
    "duration": 4808,
    "start_time": "2022-12-19T15:30:57.187Z"
   },
   {
    "duration": 83,
    "start_time": "2022-12-19T15:31:01.997Z"
   },
   {
    "duration": 4,
    "start_time": "2022-12-19T15:31:02.082Z"
   },
   {
    "duration": 18,
    "start_time": "2022-12-19T15:31:02.088Z"
   },
   {
    "duration": 24,
    "start_time": "2022-12-19T15:31:02.108Z"
   },
   {
    "duration": 12,
    "start_time": "2022-12-19T15:31:02.134Z"
   },
   {
    "duration": 11,
    "start_time": "2022-12-19T15:31:02.148Z"
   },
   {
    "duration": 11,
    "start_time": "2022-12-19T15:31:02.160Z"
   },
   {
    "duration": 77,
    "start_time": "2022-12-19T15:31:02.173Z"
   },
   {
    "duration": 8,
    "start_time": "2022-12-19T15:31:02.252Z"
   },
   {
    "duration": 32,
    "start_time": "2022-12-19T15:31:02.261Z"
   },
   {
    "duration": 9,
    "start_time": "2022-12-19T15:31:02.294Z"
   },
   {
    "duration": 58,
    "start_time": "2022-12-19T15:31:02.304Z"
   },
   {
    "duration": 9,
    "start_time": "2022-12-19T15:31:02.364Z"
   },
   {
    "duration": 17,
    "start_time": "2022-12-19T15:31:02.374Z"
   },
   {
    "duration": 9,
    "start_time": "2022-12-19T15:31:02.393Z"
   },
   {
    "duration": 9,
    "start_time": "2022-12-19T15:31:02.404Z"
   },
   {
    "duration": 48,
    "start_time": "2022-12-19T15:31:02.415Z"
   },
   {
    "duration": 202,
    "start_time": "2022-12-19T15:31:02.464Z"
   },
   {
    "duration": 15,
    "start_time": "2022-12-19T15:31:02.668Z"
   },
   {
    "duration": 195,
    "start_time": "2022-12-19T15:31:02.684Z"
   },
   {
    "duration": 13,
    "start_time": "2022-12-19T15:31:02.884Z"
   },
   {
    "duration": 35,
    "start_time": "2022-12-19T15:31:02.898Z"
   },
   {
    "duration": 597,
    "start_time": "2022-12-19T15:31:02.935Z"
   },
   {
    "duration": 8,
    "start_time": "2022-12-19T15:31:03.534Z"
   },
   {
    "duration": 20,
    "start_time": "2022-12-19T15:31:03.544Z"
   },
   {
    "duration": 23,
    "start_time": "2022-12-19T15:31:03.566Z"
   },
   {
    "duration": 29,
    "start_time": "2022-12-19T15:31:03.591Z"
   },
   {
    "duration": 18,
    "start_time": "2022-12-19T15:31:03.622Z"
   },
   {
    "duration": 36,
    "start_time": "2022-12-19T15:31:03.642Z"
   },
   {
    "duration": 16,
    "start_time": "2022-12-19T15:31:03.680Z"
   },
   {
    "duration": 37,
    "start_time": "2022-12-19T15:31:03.698Z"
   },
   {
    "duration": 9,
    "start_time": "2022-12-19T15:31:03.737Z"
   },
   {
    "duration": 31,
    "start_time": "2022-12-19T15:31:03.748Z"
   },
   {
    "duration": 266,
    "start_time": "2022-12-19T15:31:03.780Z"
   },
   {
    "duration": 10,
    "start_time": "2022-12-19T15:31:04.047Z"
   },
   {
    "duration": 13,
    "start_time": "2022-12-19T15:31:04.059Z"
   },
   {
    "duration": 9,
    "start_time": "2022-12-19T15:31:04.074Z"
   },
   {
    "duration": 15,
    "start_time": "2022-12-19T15:31:04.084Z"
   },
   {
    "duration": 11,
    "start_time": "2022-12-19T15:31:04.101Z"
   },
   {
    "duration": 18,
    "start_time": "2022-12-19T15:31:04.116Z"
   },
   {
    "duration": 12,
    "start_time": "2022-12-19T15:32:39.061Z"
   },
   {
    "duration": 56,
    "start_time": "2022-12-19T15:40:13.310Z"
   },
   {
    "duration": 4,
    "start_time": "2022-12-19T15:49:20.173Z"
   },
   {
    "duration": 6,
    "start_time": "2022-12-19T15:49:34.486Z"
   },
   {
    "duration": 5,
    "start_time": "2022-12-19T16:58:16.465Z"
   },
   {
    "duration": 36,
    "start_time": "2022-12-19T16:58:16.473Z"
   },
   {
    "duration": 9,
    "start_time": "2022-12-19T16:58:16.510Z"
   },
   {
    "duration": 8,
    "start_time": "2022-12-19T16:58:16.520Z"
   },
   {
    "duration": 8,
    "start_time": "2022-12-19T16:58:16.530Z"
   },
   {
    "duration": 8,
    "start_time": "2022-12-19T16:58:16.540Z"
   },
   {
    "duration": 7,
    "start_time": "2022-12-19T16:58:16.550Z"
   },
   {
    "duration": 6,
    "start_time": "2022-12-19T16:58:16.558Z"
   },
   {
    "duration": 10,
    "start_time": "2022-12-19T16:58:16.565Z"
   },
   {
    "duration": 75,
    "start_time": "2022-12-19T16:58:16.577Z"
   },
   {
    "duration": 121,
    "start_time": "2022-12-19T16:58:16.655Z"
   },
   {
    "duration": 17,
    "start_time": "2022-12-19T16:58:16.778Z"
   },
   {
    "duration": 4,
    "start_time": "2022-12-19T16:58:16.797Z"
   },
   {
    "duration": 26,
    "start_time": "2022-12-19T16:58:16.803Z"
   },
   {
    "duration": 6,
    "start_time": "2022-12-19T16:58:16.831Z"
   },
   {
    "duration": 10,
    "start_time": "2022-12-19T16:58:16.838Z"
   },
   {
    "duration": 29,
    "start_time": "2022-12-19T16:58:16.849Z"
   },
   {
    "duration": 48,
    "start_time": "2022-12-19T16:58:16.879Z"
   },
   {
    "duration": 8,
    "start_time": "2022-12-19T16:58:16.929Z"
   },
   {
    "duration": 400,
    "start_time": "2022-12-19T16:58:16.938Z"
   },
   {
    "duration": 54,
    "start_time": "2022-12-19T16:58:17.340Z"
   },
   {
    "duration": 113,
    "start_time": "2022-12-19T16:58:17.396Z"
   },
   {
    "duration": 16,
    "start_time": "2022-12-19T16:58:17.511Z"
   },
   {
    "duration": 5,
    "start_time": "2022-12-19T16:58:17.529Z"
   },
   {
    "duration": 244,
    "start_time": "2022-12-19T16:58:17.535Z"
   },
   {
    "duration": 501,
    "start_time": "2022-12-19T16:58:17.781Z"
   },
   {
    "duration": 21,
    "start_time": "2022-12-19T16:58:18.284Z"
   },
   {
    "duration": 58,
    "start_time": "2022-12-19T16:58:18.307Z"
   },
   {
    "duration": 56,
    "start_time": "2022-12-19T16:58:18.371Z"
   },
   {
    "duration": 50,
    "start_time": "2022-12-19T16:58:18.429Z"
   },
   {
    "duration": 141,
    "start_time": "2022-12-19T16:58:18.481Z"
   },
   {
    "duration": 21,
    "start_time": "2022-12-19T16:58:18.625Z"
   },
   {
    "duration": 94,
    "start_time": "2022-12-19T16:58:18.648Z"
   },
   {
    "duration": 51,
    "start_time": "2022-12-19T16:58:18.744Z"
   },
   {
    "duration": 13,
    "start_time": "2022-12-19T16:58:18.796Z"
   },
   {
    "duration": 15,
    "start_time": "2022-12-19T16:58:18.811Z"
   },
   {
    "duration": 12,
    "start_time": "2022-12-19T16:58:18.828Z"
   },
   {
    "duration": 8,
    "start_time": "2022-12-19T16:58:18.842Z"
   },
   {
    "duration": 10,
    "start_time": "2022-12-19T16:58:18.852Z"
   },
   {
    "duration": 208,
    "start_time": "2022-12-19T16:58:18.863Z"
   },
   {
    "duration": 315,
    "start_time": "2022-12-19T16:58:19.073Z"
   },
   {
    "duration": 16,
    "start_time": "2022-12-19T16:58:19.390Z"
   },
   {
    "duration": 35,
    "start_time": "2022-12-19T16:58:19.408Z"
   },
   {
    "duration": 146,
    "start_time": "2022-12-19T16:58:19.445Z"
   },
   {
    "duration": 2,
    "start_time": "2022-12-19T16:58:19.593Z"
   },
   {
    "duration": 31,
    "start_time": "2022-12-19T16:58:19.597Z"
   },
   {
    "duration": 637,
    "start_time": "2022-12-19T16:58:19.629Z"
   },
   {
    "duration": 19,
    "start_time": "2022-12-19T16:58:20.267Z"
   },
   {
    "duration": 41,
    "start_time": "2022-12-19T16:58:20.287Z"
   },
   {
    "duration": 24,
    "start_time": "2022-12-19T16:58:20.330Z"
   },
   {
    "duration": 5,
    "start_time": "2022-12-19T16:58:20.355Z"
   },
   {
    "duration": 11,
    "start_time": "2022-12-19T16:58:20.362Z"
   },
   {
    "duration": 11,
    "start_time": "2022-12-19T16:58:20.374Z"
   },
   {
    "duration": 9,
    "start_time": "2022-12-19T16:58:20.387Z"
   },
   {
    "duration": 216,
    "start_time": "2022-12-19T16:58:20.397Z"
   },
   {
    "duration": 142,
    "start_time": "2022-12-19T16:58:20.614Z"
   },
   {
    "duration": 9,
    "start_time": "2022-12-19T16:58:20.758Z"
   },
   {
    "duration": 208,
    "start_time": "2022-12-19T16:58:20.768Z"
   },
   {
    "duration": 19,
    "start_time": "2022-12-19T16:58:20.978Z"
   },
   {
    "duration": 36,
    "start_time": "2022-12-19T16:58:20.999Z"
   },
   {
    "duration": 6,
    "start_time": "2022-12-19T16:58:21.036Z"
   },
   {
    "duration": 4874,
    "start_time": "2022-12-19T16:58:21.043Z"
   },
   {
    "duration": 87,
    "start_time": "2022-12-19T16:58:25.919Z"
   },
   {
    "duration": 18,
    "start_time": "2022-12-19T16:58:26.008Z"
   },
   {
    "duration": 5,
    "start_time": "2022-12-19T16:58:26.029Z"
   },
   {
    "duration": 4,
    "start_time": "2022-12-19T16:58:26.036Z"
   },
   {
    "duration": 9,
    "start_time": "2022-12-19T16:58:26.042Z"
   },
   {
    "duration": 8,
    "start_time": "2022-12-19T16:58:26.052Z"
   },
   {
    "duration": 5,
    "start_time": "2022-12-19T16:58:26.062Z"
   },
   {
    "duration": 70,
    "start_time": "2022-12-19T16:58:26.069Z"
   },
   {
    "duration": 8,
    "start_time": "2022-12-19T16:58:26.140Z"
   },
   {
    "duration": 9,
    "start_time": "2022-12-19T16:58:26.149Z"
   },
   {
    "duration": 8,
    "start_time": "2022-12-19T16:58:26.159Z"
   },
   {
    "duration": 69,
    "start_time": "2022-12-19T16:58:26.169Z"
   },
   {
    "duration": 8,
    "start_time": "2022-12-19T16:58:26.240Z"
   },
   {
    "duration": 23,
    "start_time": "2022-12-19T16:58:26.249Z"
   },
   {
    "duration": 13,
    "start_time": "2022-12-19T16:58:26.274Z"
   },
   {
    "duration": 14,
    "start_time": "2022-12-19T16:58:26.289Z"
   },
   {
    "duration": 16,
    "start_time": "2022-12-19T16:58:26.304Z"
   },
   {
    "duration": 163,
    "start_time": "2022-12-19T16:58:26.322Z"
   },
   {
    "duration": 16,
    "start_time": "2022-12-19T16:58:26.486Z"
   },
   {
    "duration": 192,
    "start_time": "2022-12-19T16:58:26.503Z"
   },
   {
    "duration": 13,
    "start_time": "2022-12-19T16:58:26.700Z"
   },
   {
    "duration": 29,
    "start_time": "2022-12-19T16:58:26.714Z"
   },
   {
    "duration": 695,
    "start_time": "2022-12-19T16:58:26.744Z"
   },
   {
    "duration": 8,
    "start_time": "2022-12-19T16:58:27.441Z"
   },
   {
    "duration": 16,
    "start_time": "2022-12-19T16:58:27.450Z"
   },
   {
    "duration": 22,
    "start_time": "2022-12-19T16:58:27.468Z"
   },
   {
    "duration": 21,
    "start_time": "2022-12-19T16:58:27.492Z"
   },
   {
    "duration": 9,
    "start_time": "2022-12-19T16:58:27.526Z"
   },
   {
    "duration": 21,
    "start_time": "2022-12-19T16:58:27.537Z"
   },
   {
    "duration": 8,
    "start_time": "2022-12-19T16:58:27.560Z"
   },
   {
    "duration": 22,
    "start_time": "2022-12-19T16:58:27.569Z"
   },
   {
    "duration": 8,
    "start_time": "2022-12-19T16:58:27.593Z"
   },
   {
    "duration": 11,
    "start_time": "2022-12-19T16:58:27.627Z"
   },
   {
    "duration": 279,
    "start_time": "2022-12-19T16:58:27.640Z"
   },
   {
    "duration": 9,
    "start_time": "2022-12-19T16:58:27.927Z"
   },
   {
    "duration": 32,
    "start_time": "2022-12-19T16:58:27.938Z"
   },
   {
    "duration": 8,
    "start_time": "2022-12-19T16:58:27.972Z"
   },
   {
    "duration": 13,
    "start_time": "2022-12-19T16:58:27.982Z"
   },
   {
    "duration": 7,
    "start_time": "2022-12-19T16:58:27.997Z"
   },
   {
    "duration": 11,
    "start_time": "2022-12-19T16:58:28.005Z"
   },
   {
    "duration": 27,
    "start_time": "2022-12-19T16:59:37.660Z"
   },
   {
    "duration": 25,
    "start_time": "2022-12-19T16:59:57.828Z"
   },
   {
    "duration": 10,
    "start_time": "2022-12-19T17:03:05.789Z"
   },
   {
    "duration": 49,
    "start_time": "2022-12-19T17:03:05.802Z"
   },
   {
    "duration": 12,
    "start_time": "2022-12-19T17:03:05.854Z"
   },
   {
    "duration": 17,
    "start_time": "2022-12-19T17:03:05.868Z"
   },
   {
    "duration": 38,
    "start_time": "2022-12-19T17:03:05.887Z"
   },
   {
    "duration": 42,
    "start_time": "2022-12-19T17:03:05.928Z"
   },
   {
    "duration": 40,
    "start_time": "2022-12-19T17:03:05.972Z"
   },
   {
    "duration": 25,
    "start_time": "2022-12-19T17:03:06.014Z"
   },
   {
    "duration": 36,
    "start_time": "2022-12-19T17:03:06.041Z"
   },
   {
    "duration": 101,
    "start_time": "2022-12-19T17:03:06.079Z"
   },
   {
    "duration": 19,
    "start_time": "2022-12-19T17:03:06.182Z"
   },
   {
    "duration": 37,
    "start_time": "2022-12-19T17:03:06.203Z"
   },
   {
    "duration": 6,
    "start_time": "2022-12-19T17:03:06.242Z"
   },
   {
    "duration": 32,
    "start_time": "2022-12-19T17:03:06.249Z"
   },
   {
    "duration": 24,
    "start_time": "2022-12-19T17:03:06.284Z"
   },
   {
    "duration": 19,
    "start_time": "2022-12-19T17:03:06.309Z"
   },
   {
    "duration": 35,
    "start_time": "2022-12-19T17:03:06.330Z"
   },
   {
    "duration": 19,
    "start_time": "2022-12-19T17:03:06.367Z"
   },
   {
    "duration": 12,
    "start_time": "2022-12-19T17:03:06.387Z"
   },
   {
    "duration": 424,
    "start_time": "2022-12-19T17:03:06.401Z"
   },
   {
    "duration": 56,
    "start_time": "2022-12-19T17:03:06.827Z"
   },
   {
    "duration": 115,
    "start_time": "2022-12-19T17:03:06.885Z"
   },
   {
    "duration": 6,
    "start_time": "2022-12-19T17:03:07.002Z"
   },
   {
    "duration": 17,
    "start_time": "2022-12-19T17:03:07.010Z"
   },
   {
    "duration": 229,
    "start_time": "2022-12-19T17:03:07.029Z"
   },
   {
    "duration": 460,
    "start_time": "2022-12-19T17:03:07.260Z"
   },
   {
    "duration": 31,
    "start_time": "2022-12-19T17:03:07.726Z"
   },
   {
    "duration": 49,
    "start_time": "2022-12-19T17:03:07.758Z"
   },
   {
    "duration": 66,
    "start_time": "2022-12-19T17:03:07.809Z"
   },
   {
    "duration": 62,
    "start_time": "2022-12-19T17:03:07.877Z"
   },
   {
    "duration": 130,
    "start_time": "2022-12-19T17:03:07.941Z"
   },
   {
    "duration": 21,
    "start_time": "2022-12-19T17:03:08.073Z"
   },
   {
    "duration": 81,
    "start_time": "2022-12-19T17:03:08.095Z"
   },
   {
    "duration": 40,
    "start_time": "2022-12-19T17:03:08.178Z"
   },
   {
    "duration": 11,
    "start_time": "2022-12-19T17:03:08.219Z"
   },
   {
    "duration": 17,
    "start_time": "2022-12-19T17:03:08.231Z"
   },
   {
    "duration": 7,
    "start_time": "2022-12-19T17:03:08.250Z"
   },
   {
    "duration": 6,
    "start_time": "2022-12-19T17:03:08.259Z"
   },
   {
    "duration": 5,
    "start_time": "2022-12-19T17:03:08.267Z"
   },
   {
    "duration": 179,
    "start_time": "2022-12-19T17:03:08.274Z"
   },
   {
    "duration": 303,
    "start_time": "2022-12-19T17:03:08.456Z"
   },
   {
    "duration": 12,
    "start_time": "2022-12-19T17:03:08.763Z"
   },
   {
    "duration": 25,
    "start_time": "2022-12-19T17:03:08.777Z"
   },
   {
    "duration": 153,
    "start_time": "2022-12-19T17:03:08.803Z"
   },
   {
    "duration": 2,
    "start_time": "2022-12-19T17:03:08.958Z"
   },
   {
    "duration": 42,
    "start_time": "2022-12-19T17:03:08.962Z"
   },
   {
    "duration": 586,
    "start_time": "2022-12-19T17:03:09.005Z"
   },
   {
    "duration": 17,
    "start_time": "2022-12-19T17:03:09.593Z"
   },
   {
    "duration": 35,
    "start_time": "2022-12-19T17:03:09.612Z"
   },
   {
    "duration": 23,
    "start_time": "2022-12-19T17:03:09.648Z"
   },
   {
    "duration": 4,
    "start_time": "2022-12-19T17:03:09.673Z"
   },
   {
    "duration": 13,
    "start_time": "2022-12-19T17:03:09.679Z"
   },
   {
    "duration": 37,
    "start_time": "2022-12-19T17:03:09.694Z"
   },
   {
    "duration": 9,
    "start_time": "2022-12-19T17:03:09.734Z"
   },
   {
    "duration": 219,
    "start_time": "2022-12-19T17:03:09.745Z"
   },
   {
    "duration": 137,
    "start_time": "2022-12-19T17:03:09.965Z"
   },
   {
    "duration": 8,
    "start_time": "2022-12-19T17:03:10.105Z"
   },
   {
    "duration": 196,
    "start_time": "2022-12-19T17:03:10.126Z"
   },
   {
    "duration": 19,
    "start_time": "2022-12-19T17:03:10.323Z"
   },
   {
    "duration": 20,
    "start_time": "2022-12-19T17:03:10.343Z"
   },
   {
    "duration": 6,
    "start_time": "2022-12-19T17:03:10.364Z"
   },
   {
    "duration": 4763,
    "start_time": "2022-12-19T17:03:10.371Z"
   },
   {
    "duration": 75,
    "start_time": "2022-12-19T17:03:15.136Z"
   },
   {
    "duration": 17,
    "start_time": "2022-12-19T17:03:15.212Z"
   },
   {
    "duration": 16,
    "start_time": "2022-12-19T17:03:15.230Z"
   },
   {
    "duration": 6,
    "start_time": "2022-12-19T17:03:15.248Z"
   },
   {
    "duration": 19,
    "start_time": "2022-12-19T17:03:15.255Z"
   },
   {
    "duration": 8,
    "start_time": "2022-12-19T17:03:15.275Z"
   },
   {
    "duration": 10,
    "start_time": "2022-12-19T17:03:15.284Z"
   },
   {
    "duration": 45,
    "start_time": "2022-12-19T17:03:15.296Z"
   },
   {
    "duration": 6,
    "start_time": "2022-12-19T17:03:15.343Z"
   },
   {
    "duration": 15,
    "start_time": "2022-12-19T17:03:15.351Z"
   },
   {
    "duration": 21,
    "start_time": "2022-12-19T17:03:15.367Z"
   },
   {
    "duration": 52,
    "start_time": "2022-12-19T17:03:15.390Z"
   },
   {
    "duration": 7,
    "start_time": "2022-12-19T17:03:15.443Z"
   },
   {
    "duration": 16,
    "start_time": "2022-12-19T17:03:15.451Z"
   },
   {
    "duration": 31,
    "start_time": "2022-12-19T17:03:15.469Z"
   },
   {
    "duration": 15,
    "start_time": "2022-12-19T17:03:15.501Z"
   },
   {
    "duration": 22,
    "start_time": "2022-12-19T17:03:15.517Z"
   },
   {
    "duration": 241,
    "start_time": "2022-12-19T17:03:15.541Z"
   },
   {
    "duration": 14,
    "start_time": "2022-12-19T17:03:15.784Z"
   },
   {
    "duration": 194,
    "start_time": "2022-12-19T17:03:15.800Z"
   },
   {
    "duration": 13,
    "start_time": "2022-12-19T17:03:15.996Z"
   },
   {
    "duration": 30,
    "start_time": "2022-12-19T17:03:16.010Z"
   },
   {
    "duration": 688,
    "start_time": "2022-12-19T17:03:16.041Z"
   },
   {
    "duration": 7,
    "start_time": "2022-12-19T17:03:16.731Z"
   },
   {
    "duration": 35,
    "start_time": "2022-12-19T17:03:16.739Z"
   },
   {
    "duration": 10,
    "start_time": "2022-12-19T17:03:16.776Z"
   },
   {
    "duration": 20,
    "start_time": "2022-12-19T17:03:16.787Z"
   },
   {
    "duration": 21,
    "start_time": "2022-12-19T17:03:16.809Z"
   },
   {
    "duration": 20,
    "start_time": "2022-12-19T17:03:16.831Z"
   },
   {
    "duration": 7,
    "start_time": "2022-12-19T17:03:16.853Z"
   },
   {
    "duration": 27,
    "start_time": "2022-12-19T17:03:16.862Z"
   },
   {
    "duration": 7,
    "start_time": "2022-12-19T17:03:16.891Z"
   },
   {
    "duration": 35,
    "start_time": "2022-12-19T17:03:16.900Z"
   },
   {
    "duration": 292,
    "start_time": "2022-12-19T17:03:16.937Z"
   },
   {
    "duration": 9,
    "start_time": "2022-12-19T17:03:17.230Z"
   },
   {
    "duration": 21,
    "start_time": "2022-12-19T17:03:17.240Z"
   },
   {
    "duration": 18,
    "start_time": "2022-12-19T17:03:17.262Z"
   },
   {
    "duration": 16,
    "start_time": "2022-12-19T17:03:17.282Z"
   },
   {
    "duration": 5,
    "start_time": "2022-12-19T17:03:17.300Z"
   },
   {
    "duration": 9,
    "start_time": "2022-12-19T17:03:17.306Z"
   },
   {
    "duration": 1089,
    "start_time": "2022-12-19T17:06:35.456Z"
   },
   {
    "duration": 35,
    "start_time": "2022-12-19T17:06:36.548Z"
   },
   {
    "duration": 11,
    "start_time": "2022-12-19T17:06:36.584Z"
   },
   {
    "duration": 6,
    "start_time": "2022-12-19T17:06:36.598Z"
   },
   {
    "duration": 7,
    "start_time": "2022-12-19T17:06:36.605Z"
   },
   {
    "duration": 7,
    "start_time": "2022-12-19T17:06:36.614Z"
   },
   {
    "duration": 7,
    "start_time": "2022-12-19T17:06:36.623Z"
   },
   {
    "duration": 5,
    "start_time": "2022-12-19T17:06:36.631Z"
   },
   {
    "duration": 11,
    "start_time": "2022-12-19T17:06:36.638Z"
   },
   {
    "duration": 70,
    "start_time": "2022-12-19T17:06:36.651Z"
   },
   {
    "duration": 16,
    "start_time": "2022-12-19T17:06:36.723Z"
   },
   {
    "duration": 18,
    "start_time": "2022-12-19T17:06:36.741Z"
   },
   {
    "duration": 5,
    "start_time": "2022-12-19T17:06:36.760Z"
   },
   {
    "duration": 9,
    "start_time": "2022-12-19T17:06:36.766Z"
   },
   {
    "duration": 9,
    "start_time": "2022-12-19T17:06:36.777Z"
   },
   {
    "duration": 7,
    "start_time": "2022-12-19T17:06:36.788Z"
   },
   {
    "duration": 64,
    "start_time": "2022-12-19T17:06:36.796Z"
   },
   {
    "duration": 21,
    "start_time": "2022-12-19T17:06:36.862Z"
   },
   {
    "duration": 10,
    "start_time": "2022-12-19T17:06:36.885Z"
   },
   {
    "duration": 466,
    "start_time": "2022-12-19T17:06:36.896Z"
   },
   {
    "duration": 50,
    "start_time": "2022-12-19T17:06:37.363Z"
   },
   {
    "duration": 122,
    "start_time": "2022-12-19T17:06:37.414Z"
   },
   {
    "duration": 6,
    "start_time": "2022-12-19T17:06:37.537Z"
   },
   {
    "duration": 10,
    "start_time": "2022-12-19T17:06:37.544Z"
   },
   {
    "duration": 295,
    "start_time": "2022-12-19T17:06:37.555Z"
   },
   {
    "duration": 641,
    "start_time": "2022-12-19T17:06:37.852Z"
   },
   {
    "duration": 32,
    "start_time": "2022-12-19T17:06:38.495Z"
   },
   {
    "duration": 47,
    "start_time": "2022-12-19T17:06:38.533Z"
   },
   {
    "duration": 69,
    "start_time": "2022-12-19T17:06:38.582Z"
   },
   {
    "duration": 51,
    "start_time": "2022-12-19T17:06:38.652Z"
   },
   {
    "duration": 160,
    "start_time": "2022-12-19T17:06:38.705Z"
   },
   {
    "duration": 21,
    "start_time": "2022-12-19T17:06:38.867Z"
   },
   {
    "duration": 96,
    "start_time": "2022-12-19T17:06:38.890Z"
   },
   {
    "duration": 41,
    "start_time": "2022-12-19T17:06:38.988Z"
   },
   {
    "duration": 10,
    "start_time": "2022-12-19T17:06:39.030Z"
   },
   {
    "duration": 17,
    "start_time": "2022-12-19T17:06:39.042Z"
   },
   {
    "duration": 16,
    "start_time": "2022-12-19T17:06:39.061Z"
   },
   {
    "duration": 10,
    "start_time": "2022-12-19T17:06:39.078Z"
   },
   {
    "duration": 7,
    "start_time": "2022-12-19T17:06:39.090Z"
   },
   {
    "duration": 161,
    "start_time": "2022-12-19T17:06:39.098Z"
   },
   {
    "duration": 365,
    "start_time": "2022-12-19T17:06:39.261Z"
   },
   {
    "duration": 13,
    "start_time": "2022-12-19T17:06:39.627Z"
   },
   {
    "duration": 44,
    "start_time": "2022-12-19T17:06:39.641Z"
   },
   {
    "duration": 157,
    "start_time": "2022-12-19T17:06:39.686Z"
   },
   {
    "duration": 2,
    "start_time": "2022-12-19T17:06:39.845Z"
   },
   {
    "duration": 47,
    "start_time": "2022-12-19T17:06:39.849Z"
   },
   {
    "duration": 611,
    "start_time": "2022-12-19T17:06:39.897Z"
   },
   {
    "duration": 28,
    "start_time": "2022-12-19T17:06:40.510Z"
   },
   {
    "duration": 31,
    "start_time": "2022-12-19T17:06:40.540Z"
   },
   {
    "duration": 25,
    "start_time": "2022-12-19T17:06:40.573Z"
   },
   {
    "duration": 28,
    "start_time": "2022-12-19T17:06:40.600Z"
   },
   {
    "duration": 9,
    "start_time": "2022-12-19T17:06:40.629Z"
   },
   {
    "duration": 18,
    "start_time": "2022-12-19T17:06:40.639Z"
   },
   {
    "duration": 10,
    "start_time": "2022-12-19T17:06:40.659Z"
   },
   {
    "duration": 271,
    "start_time": "2022-12-19T17:06:40.670Z"
   },
   {
    "duration": 135,
    "start_time": "2022-12-19T17:06:40.943Z"
   },
   {
    "duration": 9,
    "start_time": "2022-12-19T17:06:41.079Z"
   },
   {
    "duration": 221,
    "start_time": "2022-12-19T17:06:41.090Z"
   },
   {
    "duration": 18,
    "start_time": "2022-12-19T17:06:41.313Z"
   },
   {
    "duration": 25,
    "start_time": "2022-12-19T17:06:41.333Z"
   },
   {
    "duration": 5,
    "start_time": "2022-12-19T17:06:41.360Z"
   },
   {
    "duration": 4730,
    "start_time": "2022-12-19T17:06:41.366Z"
   },
   {
    "duration": 85,
    "start_time": "2022-12-19T17:06:46.098Z"
   },
   {
    "duration": 6,
    "start_time": "2022-12-19T17:06:46.185Z"
   },
   {
    "duration": 9,
    "start_time": "2022-12-19T17:06:46.193Z"
   },
   {
    "duration": 3,
    "start_time": "2022-12-19T17:06:46.204Z"
   },
   {
    "duration": 8,
    "start_time": "2022-12-19T17:06:46.227Z"
   },
   {
    "duration": 13,
    "start_time": "2022-12-19T17:06:46.237Z"
   },
   {
    "duration": 8,
    "start_time": "2022-12-19T17:06:46.252Z"
   },
   {
    "duration": 73,
    "start_time": "2022-12-19T17:06:46.262Z"
   },
   {
    "duration": 6,
    "start_time": "2022-12-19T17:06:46.337Z"
   },
   {
    "duration": 13,
    "start_time": "2022-12-19T17:06:46.345Z"
   },
   {
    "duration": 8,
    "start_time": "2022-12-19T17:06:46.360Z"
   },
   {
    "duration": 149,
    "start_time": "2022-12-19T17:06:46.370Z"
   },
   {
    "duration": 10,
    "start_time": "2022-12-19T17:06:46.520Z"
   },
   {
    "duration": 7,
    "start_time": "2022-12-19T17:06:46.531Z"
   },
   {
    "duration": 7,
    "start_time": "2022-12-19T17:06:46.540Z"
   },
   {
    "duration": 12,
    "start_time": "2022-12-19T17:06:46.549Z"
   },
   {
    "duration": 14,
    "start_time": "2022-12-19T17:06:46.562Z"
   },
   {
    "duration": 185,
    "start_time": "2022-12-19T17:06:46.578Z"
   },
   {
    "duration": 16,
    "start_time": "2022-12-19T17:06:46.765Z"
   },
   {
    "duration": 198,
    "start_time": "2022-12-19T17:06:46.786Z"
   },
   {
    "duration": 14,
    "start_time": "2022-12-19T17:06:46.986Z"
   },
   {
    "duration": 40,
    "start_time": "2022-12-19T17:06:47.002Z"
   },
   {
    "duration": 629,
    "start_time": "2022-12-19T17:06:47.044Z"
   },
   {
    "duration": 7,
    "start_time": "2022-12-19T17:06:47.675Z"
   },
   {
    "duration": 17,
    "start_time": "2022-12-19T17:06:47.684Z"
   },
   {
    "duration": 24,
    "start_time": "2022-12-19T17:06:47.703Z"
   },
   {
    "duration": 17,
    "start_time": "2022-12-19T17:06:47.728Z"
   },
   {
    "duration": 9,
    "start_time": "2022-12-19T17:06:47.747Z"
   },
   {
    "duration": 23,
    "start_time": "2022-12-19T17:06:47.758Z"
   },
   {
    "duration": 155,
    "start_time": "2022-12-19T17:06:47.782Z"
   },
   {
    "duration": 23,
    "start_time": "2022-12-19T17:06:47.939Z"
   },
   {
    "duration": 7,
    "start_time": "2022-12-19T17:06:47.964Z"
   },
   {
    "duration": 59,
    "start_time": "2022-12-19T17:06:47.973Z"
   },
   {
    "duration": 330,
    "start_time": "2022-12-19T17:06:48.033Z"
   },
   {
    "duration": 9,
    "start_time": "2022-12-19T17:06:48.364Z"
   },
   {
    "duration": 17,
    "start_time": "2022-12-19T17:06:48.375Z"
   },
   {
    "duration": 7,
    "start_time": "2022-12-19T17:06:48.394Z"
   },
   {
    "duration": 24,
    "start_time": "2022-12-19T17:06:48.403Z"
   },
   {
    "duration": 4,
    "start_time": "2022-12-19T17:06:48.428Z"
   },
   {
    "duration": 9,
    "start_time": "2022-12-19T17:06:48.434Z"
   },
   {
    "duration": 3,
    "start_time": "2022-12-19T19:41:00.347Z"
   },
   {
    "duration": 53,
    "start_time": "2022-12-19T19:41:00.355Z"
   },
   {
    "duration": 10,
    "start_time": "2022-12-19T19:41:00.410Z"
   },
   {
    "duration": 26,
    "start_time": "2022-12-19T19:41:00.422Z"
   },
   {
    "duration": 14,
    "start_time": "2022-12-19T19:41:00.451Z"
   },
   {
    "duration": 17,
    "start_time": "2022-12-19T19:41:00.467Z"
   },
   {
    "duration": 14,
    "start_time": "2022-12-19T19:41:00.485Z"
   },
   {
    "duration": 16,
    "start_time": "2022-12-19T19:41:00.500Z"
   },
   {
    "duration": 26,
    "start_time": "2022-12-19T19:41:00.518Z"
   },
   {
    "duration": 89,
    "start_time": "2022-12-19T19:41:00.545Z"
   },
   {
    "duration": 20,
    "start_time": "2022-12-19T19:41:00.638Z"
   },
   {
    "duration": 33,
    "start_time": "2022-12-19T19:41:00.660Z"
   },
   {
    "duration": 25,
    "start_time": "2022-12-19T19:41:00.695Z"
   },
   {
    "duration": 25,
    "start_time": "2022-12-19T19:41:00.722Z"
   },
   {
    "duration": 31,
    "start_time": "2022-12-19T19:41:00.748Z"
   },
   {
    "duration": 15,
    "start_time": "2022-12-19T19:41:00.781Z"
   },
   {
    "duration": 53,
    "start_time": "2022-12-19T19:41:00.797Z"
   },
   {
    "duration": 18,
    "start_time": "2022-12-19T19:41:00.852Z"
   },
   {
    "duration": 27,
    "start_time": "2022-12-19T19:41:00.871Z"
   },
   {
    "duration": 452,
    "start_time": "2022-12-19T19:41:00.900Z"
   },
   {
    "duration": 77,
    "start_time": "2022-12-19T19:41:01.355Z"
   },
   {
    "duration": 108,
    "start_time": "2022-12-19T19:41:01.434Z"
   },
   {
    "duration": 6,
    "start_time": "2022-12-19T19:41:01.544Z"
   },
   {
    "duration": 22,
    "start_time": "2022-12-19T19:41:01.551Z"
   },
   {
    "duration": 280,
    "start_time": "2022-12-19T19:41:01.575Z"
   },
   {
    "duration": 546,
    "start_time": "2022-12-19T19:41:01.857Z"
   },
   {
    "duration": 28,
    "start_time": "2022-12-19T19:41:02.405Z"
   },
   {
    "duration": 47,
    "start_time": "2022-12-19T19:41:02.435Z"
   },
   {
    "duration": 65,
    "start_time": "2022-12-19T19:41:02.488Z"
   },
   {
    "duration": 50,
    "start_time": "2022-12-19T19:41:02.554Z"
   },
   {
    "duration": 144,
    "start_time": "2022-12-19T19:41:02.606Z"
   },
   {
    "duration": 20,
    "start_time": "2022-12-19T19:41:02.751Z"
   },
   {
    "duration": 92,
    "start_time": "2022-12-19T19:41:02.773Z"
   },
   {
    "duration": 41,
    "start_time": "2022-12-19T19:41:02.867Z"
   },
   {
    "duration": 10,
    "start_time": "2022-12-19T19:41:02.910Z"
   },
   {
    "duration": 27,
    "start_time": "2022-12-19T19:41:02.921Z"
   },
   {
    "duration": 7,
    "start_time": "2022-12-19T19:41:02.950Z"
   },
   {
    "duration": 22,
    "start_time": "2022-12-19T19:41:02.959Z"
   },
   {
    "duration": 8,
    "start_time": "2022-12-19T19:41:02.982Z"
   },
   {
    "duration": 185,
    "start_time": "2022-12-19T19:41:02.991Z"
   },
   {
    "duration": 331,
    "start_time": "2022-12-19T19:41:03.177Z"
   },
   {
    "duration": 12,
    "start_time": "2022-12-19T19:41:03.510Z"
   },
   {
    "duration": 38,
    "start_time": "2022-12-19T19:41:03.526Z"
   },
   {
    "duration": 141,
    "start_time": "2022-12-19T19:41:03.566Z"
   },
   {
    "duration": 3,
    "start_time": "2022-12-19T19:41:03.708Z"
   },
   {
    "duration": 43,
    "start_time": "2022-12-19T19:41:03.712Z"
   },
   {
    "duration": 609,
    "start_time": "2022-12-19T19:41:03.757Z"
   },
   {
    "duration": 19,
    "start_time": "2022-12-19T19:41:04.368Z"
   },
   {
    "duration": 43,
    "start_time": "2022-12-19T19:41:04.389Z"
   },
   {
    "duration": 25,
    "start_time": "2022-12-19T19:41:04.434Z"
   },
   {
    "duration": 5,
    "start_time": "2022-12-19T19:41:04.460Z"
   },
   {
    "duration": 10,
    "start_time": "2022-12-19T19:41:04.467Z"
   },
   {
    "duration": 18,
    "start_time": "2022-12-19T19:41:04.479Z"
   },
   {
    "duration": 34,
    "start_time": "2022-12-19T19:41:04.498Z"
   },
   {
    "duration": 203,
    "start_time": "2022-12-19T19:41:04.534Z"
   },
   {
    "duration": 235,
    "start_time": "2022-12-19T19:41:04.739Z"
   },
   {
    "duration": 9,
    "start_time": "2022-12-19T19:41:04.975Z"
   },
   {
    "duration": 215,
    "start_time": "2022-12-19T19:41:04.986Z"
   },
   {
    "duration": 25,
    "start_time": "2022-12-19T19:41:05.202Z"
   },
   {
    "duration": 21,
    "start_time": "2022-12-19T19:41:05.228Z"
   },
   {
    "duration": 6,
    "start_time": "2022-12-19T19:41:05.250Z"
   },
   {
    "duration": 4580,
    "start_time": "2022-12-19T19:41:05.257Z"
   },
   {
    "duration": 101,
    "start_time": "2022-12-19T19:41:09.839Z"
   },
   {
    "duration": 4,
    "start_time": "2022-12-19T19:41:09.942Z"
   },
   {
    "duration": 8,
    "start_time": "2022-12-19T19:41:09.948Z"
   },
   {
    "duration": 5,
    "start_time": "2022-12-19T19:41:09.957Z"
   },
   {
    "duration": 9,
    "start_time": "2022-12-19T19:41:09.964Z"
   },
   {
    "duration": 7,
    "start_time": "2022-12-19T19:41:09.975Z"
   },
   {
    "duration": 6,
    "start_time": "2022-12-19T19:41:09.984Z"
   },
   {
    "duration": 44,
    "start_time": "2022-12-19T19:41:10.027Z"
   },
   {
    "duration": 7,
    "start_time": "2022-12-19T19:41:10.073Z"
   },
   {
    "duration": 8,
    "start_time": "2022-12-19T19:41:10.082Z"
   },
   {
    "duration": 35,
    "start_time": "2022-12-19T19:41:10.092Z"
   },
   {
    "duration": 41,
    "start_time": "2022-12-19T19:41:10.129Z"
   },
   {
    "duration": 7,
    "start_time": "2022-12-19T19:41:10.172Z"
   },
   {
    "duration": 8,
    "start_time": "2022-12-19T19:41:10.181Z"
   },
   {
    "duration": 37,
    "start_time": "2022-12-19T19:41:10.190Z"
   },
   {
    "duration": 8,
    "start_time": "2022-12-19T19:41:10.229Z"
   },
   {
    "duration": 42,
    "start_time": "2022-12-19T19:41:10.239Z"
   },
   {
    "duration": 159,
    "start_time": "2022-12-19T19:41:10.283Z"
   },
   {
    "duration": 17,
    "start_time": "2022-12-19T19:41:10.444Z"
   },
   {
    "duration": 192,
    "start_time": "2022-12-19T19:41:10.463Z"
   },
   {
    "duration": 12,
    "start_time": "2022-12-19T19:41:10.661Z"
   },
   {
    "duration": 24,
    "start_time": "2022-12-19T19:41:10.675Z"
   },
   {
    "duration": 609,
    "start_time": "2022-12-19T19:41:10.701Z"
   },
   {
    "duration": 15,
    "start_time": "2022-12-19T19:41:11.312Z"
   },
   {
    "duration": 14,
    "start_time": "2022-12-19T19:41:11.329Z"
   },
   {
    "duration": 11,
    "start_time": "2022-12-19T19:41:11.344Z"
   },
   {
    "duration": 21,
    "start_time": "2022-12-19T19:41:11.357Z"
   },
   {
    "duration": 10,
    "start_time": "2022-12-19T19:41:11.379Z"
   },
   {
    "duration": 55,
    "start_time": "2022-12-19T19:41:11.390Z"
   },
   {
    "duration": 8,
    "start_time": "2022-12-19T19:41:11.447Z"
   },
   {
    "duration": 22,
    "start_time": "2022-12-19T19:41:11.456Z"
   },
   {
    "duration": 8,
    "start_time": "2022-12-19T19:41:11.480Z"
   },
   {
    "duration": 45,
    "start_time": "2022-12-19T19:41:11.489Z"
   },
   {
    "duration": 302,
    "start_time": "2022-12-19T19:41:11.536Z"
   },
   {
    "duration": 12,
    "start_time": "2022-12-19T19:41:11.840Z"
   },
   {
    "duration": 14,
    "start_time": "2022-12-19T19:41:11.854Z"
   },
   {
    "duration": 6,
    "start_time": "2022-12-19T19:41:11.869Z"
   },
   {
    "duration": 10,
    "start_time": "2022-12-19T19:41:11.877Z"
   },
   {
    "duration": 5,
    "start_time": "2022-12-19T19:41:11.889Z"
   },
   {
    "duration": 7,
    "start_time": "2022-12-19T19:41:11.926Z"
   },
   {
    "duration": 6,
    "start_time": "2022-12-19T19:42:27.151Z"
   },
   {
    "duration": 21,
    "start_time": "2022-12-19T19:42:54.297Z"
   },
   {
    "duration": 17,
    "start_time": "2022-12-19T19:43:13.076Z"
   },
   {
    "duration": 4,
    "start_time": "2022-12-19T19:43:30.339Z"
   },
   {
    "duration": 33,
    "start_time": "2022-12-19T19:43:30.349Z"
   },
   {
    "duration": 9,
    "start_time": "2022-12-19T19:43:30.384Z"
   },
   {
    "duration": 26,
    "start_time": "2022-12-19T19:43:30.395Z"
   },
   {
    "duration": 13,
    "start_time": "2022-12-19T19:43:30.424Z"
   },
   {
    "duration": 10,
    "start_time": "2022-12-19T19:43:30.439Z"
   },
   {
    "duration": 13,
    "start_time": "2022-12-19T19:43:30.450Z"
   },
   {
    "duration": 31,
    "start_time": "2022-12-19T19:43:30.465Z"
   },
   {
    "duration": 27,
    "start_time": "2022-12-19T19:43:30.497Z"
   },
   {
    "duration": 95,
    "start_time": "2022-12-19T19:43:30.526Z"
   },
   {
    "duration": 116,
    "start_time": "2022-12-19T19:43:30.624Z"
   },
   {
    "duration": 15,
    "start_time": "2022-12-19T19:43:30.741Z"
   },
   {
    "duration": 12,
    "start_time": "2022-12-19T19:43:30.757Z"
   },
   {
    "duration": 30,
    "start_time": "2022-12-19T19:43:30.771Z"
   },
   {
    "duration": 43,
    "start_time": "2022-12-19T19:43:30.803Z"
   },
   {
    "duration": 53,
    "start_time": "2022-12-19T19:43:30.848Z"
   },
   {
    "duration": 51,
    "start_time": "2022-12-19T19:43:30.902Z"
   },
   {
    "duration": 18,
    "start_time": "2022-12-19T19:43:30.955Z"
   },
   {
    "duration": 26,
    "start_time": "2022-12-19T19:43:30.975Z"
   },
   {
    "duration": 466,
    "start_time": "2022-12-19T19:43:31.003Z"
   },
   {
    "duration": 61,
    "start_time": "2022-12-19T19:43:31.471Z"
   },
   {
    "duration": 135,
    "start_time": "2022-12-19T19:43:31.534Z"
   },
   {
    "duration": 6,
    "start_time": "2022-12-19T19:43:31.671Z"
   },
   {
    "duration": 9,
    "start_time": "2022-12-19T19:43:31.679Z"
   },
   {
    "duration": 261,
    "start_time": "2022-12-19T19:43:31.690Z"
   },
   {
    "duration": 504,
    "start_time": "2022-12-19T19:43:31.952Z"
   },
   {
    "duration": 21,
    "start_time": "2022-12-19T19:43:32.458Z"
   },
   {
    "duration": 63,
    "start_time": "2022-12-19T19:43:32.481Z"
   },
   {
    "duration": 41,
    "start_time": "2022-12-19T19:43:32.548Z"
   },
   {
    "duration": 72,
    "start_time": "2022-12-19T19:43:32.591Z"
   },
   {
    "duration": 140,
    "start_time": "2022-12-19T19:43:32.665Z"
   },
   {
    "duration": 30,
    "start_time": "2022-12-19T19:43:32.807Z"
   },
   {
    "duration": 105,
    "start_time": "2022-12-19T19:43:32.839Z"
   },
   {
    "duration": 43,
    "start_time": "2022-12-19T19:43:32.946Z"
   },
   {
    "duration": 11,
    "start_time": "2022-12-19T19:43:32.991Z"
   },
   {
    "duration": 23,
    "start_time": "2022-12-19T19:43:33.003Z"
   },
   {
    "duration": 7,
    "start_time": "2022-12-19T19:43:33.028Z"
   },
   {
    "duration": 9,
    "start_time": "2022-12-19T19:43:33.036Z"
   },
   {
    "duration": 17,
    "start_time": "2022-12-19T19:43:33.047Z"
   },
   {
    "duration": 189,
    "start_time": "2022-12-19T19:43:33.066Z"
   },
   {
    "duration": 361,
    "start_time": "2022-12-19T19:43:33.257Z"
   },
   {
    "duration": 15,
    "start_time": "2022-12-19T19:43:33.621Z"
   },
   {
    "duration": 32,
    "start_time": "2022-12-19T19:43:33.638Z"
   },
   {
    "duration": 171,
    "start_time": "2022-12-19T19:43:33.672Z"
   },
   {
    "duration": 3,
    "start_time": "2022-12-19T19:43:33.846Z"
   },
   {
    "duration": 48,
    "start_time": "2022-12-19T19:43:33.851Z"
   },
   {
    "duration": 605,
    "start_time": "2022-12-19T19:43:33.900Z"
   },
   {
    "duration": 29,
    "start_time": "2022-12-19T19:43:34.506Z"
   },
   {
    "duration": 29,
    "start_time": "2022-12-19T19:43:34.537Z"
   },
   {
    "duration": 25,
    "start_time": "2022-12-19T19:43:34.567Z"
   },
   {
    "duration": 36,
    "start_time": "2022-12-19T19:43:34.593Z"
   },
   {
    "duration": 11,
    "start_time": "2022-12-19T19:43:34.631Z"
   },
   {
    "duration": 11,
    "start_time": "2022-12-19T19:43:34.644Z"
   },
   {
    "duration": 8,
    "start_time": "2022-12-19T19:43:34.657Z"
   },
   {
    "duration": 218,
    "start_time": "2022-12-19T19:43:34.666Z"
   },
   {
    "duration": 147,
    "start_time": "2022-12-19T19:43:34.885Z"
   },
   {
    "duration": 9,
    "start_time": "2022-12-19T19:43:35.034Z"
   },
   {
    "duration": 215,
    "start_time": "2022-12-19T19:43:35.045Z"
   },
   {
    "duration": 19,
    "start_time": "2022-12-19T19:43:35.261Z"
   },
   {
    "duration": 47,
    "start_time": "2022-12-19T19:43:35.282Z"
   },
   {
    "duration": 7,
    "start_time": "2022-12-19T19:43:35.331Z"
   },
   {
    "duration": 4783,
    "start_time": "2022-12-19T19:43:35.340Z"
   },
   {
    "duration": 73,
    "start_time": "2022-12-19T19:43:40.127Z"
   },
   {
    "duration": 25,
    "start_time": "2022-12-19T19:43:40.202Z"
   },
   {
    "duration": 5,
    "start_time": "2022-12-19T19:43:40.229Z"
   },
   {
    "duration": 10,
    "start_time": "2022-12-19T19:43:40.236Z"
   },
   {
    "duration": 22,
    "start_time": "2022-12-19T19:43:40.247Z"
   },
   {
    "duration": 11,
    "start_time": "2022-12-19T19:43:40.270Z"
   },
   {
    "duration": 13,
    "start_time": "2022-12-19T19:43:40.282Z"
   },
   {
    "duration": 66,
    "start_time": "2022-12-19T19:43:40.296Z"
   },
   {
    "duration": 9,
    "start_time": "2022-12-19T19:43:40.364Z"
   },
   {
    "duration": 9,
    "start_time": "2022-12-19T19:43:40.375Z"
   },
   {
    "duration": 9,
    "start_time": "2022-12-19T19:43:40.386Z"
   },
   {
    "duration": 60,
    "start_time": "2022-12-19T19:43:40.426Z"
   },
   {
    "duration": 7,
    "start_time": "2022-12-19T19:43:40.489Z"
   },
   {
    "duration": 33,
    "start_time": "2022-12-19T19:43:40.497Z"
   },
   {
    "duration": 11,
    "start_time": "2022-12-19T19:43:40.532Z"
   },
   {
    "duration": 11,
    "start_time": "2022-12-19T19:43:40.544Z"
   },
   {
    "duration": 12,
    "start_time": "2022-12-19T19:43:40.556Z"
   },
   {
    "duration": 184,
    "start_time": "2022-12-19T19:43:40.570Z"
   },
   {
    "duration": 16,
    "start_time": "2022-12-19T19:43:40.756Z"
   },
   {
    "duration": 198,
    "start_time": "2022-12-19T19:43:40.773Z"
   },
   {
    "duration": 18,
    "start_time": "2022-12-19T19:43:40.977Z"
   },
   {
    "duration": 43,
    "start_time": "2022-12-19T19:43:40.998Z"
   },
   {
    "duration": 732,
    "start_time": "2022-12-19T19:43:41.043Z"
   },
   {
    "duration": 9,
    "start_time": "2022-12-19T19:43:41.776Z"
   },
   {
    "duration": 18,
    "start_time": "2022-12-19T19:43:41.786Z"
   },
   {
    "duration": 33,
    "start_time": "2022-12-19T19:43:41.805Z"
   },
   {
    "duration": 26,
    "start_time": "2022-12-19T19:43:41.841Z"
   },
   {
    "duration": 12,
    "start_time": "2022-12-19T19:43:41.869Z"
   },
   {
    "duration": 58,
    "start_time": "2022-12-19T19:43:41.883Z"
   },
   {
    "duration": 26,
    "start_time": "2022-12-19T19:43:41.943Z"
   },
   {
    "duration": 8,
    "start_time": "2022-12-19T19:43:41.970Z"
   },
   {
    "duration": 58,
    "start_time": "2022-12-19T19:43:41.980Z"
   },
   {
    "duration": 12,
    "start_time": "2022-12-19T19:43:42.040Z"
   },
   {
    "duration": 23,
    "start_time": "2022-12-19T19:43:42.054Z"
   },
   {
    "duration": 289,
    "start_time": "2022-12-19T19:43:42.079Z"
   },
   {
    "duration": 11,
    "start_time": "2022-12-19T19:43:42.371Z"
   },
   {
    "duration": 15,
    "start_time": "2022-12-19T19:43:42.383Z"
   },
   {
    "duration": 28,
    "start_time": "2022-12-19T19:43:42.400Z"
   },
   {
    "duration": 15,
    "start_time": "2022-12-19T19:43:42.430Z"
   },
   {
    "duration": 6,
    "start_time": "2022-12-19T19:43:42.446Z"
   },
   {
    "duration": 20,
    "start_time": "2022-12-19T19:43:42.454Z"
   },
   {
    "duration": 6,
    "start_time": "2022-12-19T19:44:59.251Z"
   },
   {
    "duration": 14,
    "start_time": "2022-12-19T19:45:11.336Z"
   },
   {
    "duration": 19,
    "start_time": "2022-12-19T19:46:21.137Z"
   },
   {
    "duration": 8,
    "start_time": "2022-12-19T20:00:06.664Z"
   },
   {
    "duration": 15,
    "start_time": "2022-12-19T20:00:35.753Z"
   },
   {
    "duration": 3,
    "start_time": "2022-12-19T20:00:45.970Z"
   },
   {
    "duration": 64,
    "start_time": "2022-12-19T20:00:45.976Z"
   },
   {
    "duration": 11,
    "start_time": "2022-12-19T20:00:46.043Z"
   },
   {
    "duration": 9,
    "start_time": "2022-12-19T20:00:46.057Z"
   },
   {
    "duration": 12,
    "start_time": "2022-12-19T20:00:46.069Z"
   },
   {
    "duration": 9,
    "start_time": "2022-12-19T20:00:46.083Z"
   },
   {
    "duration": 35,
    "start_time": "2022-12-19T20:00:46.093Z"
   },
   {
    "duration": 12,
    "start_time": "2022-12-19T20:00:46.130Z"
   },
   {
    "duration": 12,
    "start_time": "2022-12-19T20:00:46.144Z"
   },
   {
    "duration": 73,
    "start_time": "2022-12-19T20:00:46.158Z"
   },
   {
    "duration": 15,
    "start_time": "2022-12-19T20:00:46.234Z"
   },
   {
    "duration": 22,
    "start_time": "2022-12-19T20:00:46.251Z"
   },
   {
    "duration": 7,
    "start_time": "2022-12-19T20:00:46.275Z"
   },
   {
    "duration": 44,
    "start_time": "2022-12-19T20:00:46.284Z"
   },
   {
    "duration": 6,
    "start_time": "2022-12-19T20:00:46.330Z"
   },
   {
    "duration": 11,
    "start_time": "2022-12-19T20:00:46.338Z"
   },
   {
    "duration": 36,
    "start_time": "2022-12-19T20:00:46.351Z"
   },
   {
    "duration": 59,
    "start_time": "2022-12-19T20:00:46.389Z"
   },
   {
    "duration": 11,
    "start_time": "2022-12-19T20:00:46.450Z"
   },
   {
    "duration": 424,
    "start_time": "2022-12-19T20:00:46.462Z"
   },
   {
    "duration": 56,
    "start_time": "2022-12-19T20:00:46.888Z"
   },
   {
    "duration": 117,
    "start_time": "2022-12-19T20:00:46.945Z"
   },
   {
    "duration": 6,
    "start_time": "2022-12-19T20:00:47.063Z"
   },
   {
    "duration": 12,
    "start_time": "2022-12-19T20:00:47.071Z"
   },
   {
    "duration": 249,
    "start_time": "2022-12-19T20:00:47.085Z"
   },
   {
    "duration": 514,
    "start_time": "2022-12-19T20:00:47.336Z"
   },
   {
    "duration": 25,
    "start_time": "2022-12-19T20:00:47.852Z"
   },
   {
    "duration": 67,
    "start_time": "2022-12-19T20:00:47.879Z"
   },
   {
    "duration": 43,
    "start_time": "2022-12-19T20:00:47.951Z"
   },
   {
    "duration": 73,
    "start_time": "2022-12-19T20:00:47.996Z"
   },
   {
    "duration": 144,
    "start_time": "2022-12-19T20:00:48.070Z"
   },
   {
    "duration": 26,
    "start_time": "2022-12-19T20:00:48.215Z"
   },
   {
    "duration": 86,
    "start_time": "2022-12-19T20:00:48.243Z"
   },
   {
    "duration": 42,
    "start_time": "2022-12-19T20:00:48.331Z"
   },
   {
    "duration": 10,
    "start_time": "2022-12-19T20:00:48.375Z"
   },
   {
    "duration": 14,
    "start_time": "2022-12-19T20:00:48.386Z"
   },
   {
    "duration": 20,
    "start_time": "2022-12-19T20:00:48.401Z"
   },
   {
    "duration": 7,
    "start_time": "2022-12-19T20:00:48.423Z"
   },
   {
    "duration": 6,
    "start_time": "2022-12-19T20:00:48.431Z"
   },
   {
    "duration": 170,
    "start_time": "2022-12-19T20:00:48.439Z"
   },
   {
    "duration": 346,
    "start_time": "2022-12-19T20:00:48.611Z"
   },
   {
    "duration": 12,
    "start_time": "2022-12-19T20:00:48.959Z"
   },
   {
    "duration": 29,
    "start_time": "2022-12-19T20:00:48.972Z"
   },
   {
    "duration": 181,
    "start_time": "2022-12-19T20:00:49.003Z"
   },
   {
    "duration": 2,
    "start_time": "2022-12-19T20:00:49.186Z"
   },
   {
    "duration": 38,
    "start_time": "2022-12-19T20:00:49.189Z"
   },
   {
    "duration": 579,
    "start_time": "2022-12-19T20:00:49.229Z"
   },
   {
    "duration": 30,
    "start_time": "2022-12-19T20:00:49.810Z"
   },
   {
    "duration": 32,
    "start_time": "2022-12-19T20:00:49.842Z"
   },
   {
    "duration": 26,
    "start_time": "2022-12-19T20:00:49.876Z"
   },
   {
    "duration": 6,
    "start_time": "2022-12-19T20:00:49.926Z"
   },
   {
    "duration": 33,
    "start_time": "2022-12-19T20:00:49.934Z"
   },
   {
    "duration": 12,
    "start_time": "2022-12-19T20:00:49.969Z"
   },
   {
    "duration": 8,
    "start_time": "2022-12-19T20:00:49.983Z"
   },
   {
    "duration": 206,
    "start_time": "2022-12-19T20:00:49.993Z"
   },
   {
    "duration": 141,
    "start_time": "2022-12-19T20:00:50.201Z"
   },
   {
    "duration": 8,
    "start_time": "2022-12-19T20:00:50.344Z"
   },
   {
    "duration": 199,
    "start_time": "2022-12-19T20:00:50.354Z"
   },
   {
    "duration": 18,
    "start_time": "2022-12-19T20:00:50.554Z"
   },
   {
    "duration": 25,
    "start_time": "2022-12-19T20:00:50.574Z"
   },
   {
    "duration": 26,
    "start_time": "2022-12-19T20:00:50.601Z"
   },
   {
    "duration": 4886,
    "start_time": "2022-12-19T20:00:50.628Z"
   },
   {
    "duration": 92,
    "start_time": "2022-12-19T20:00:55.516Z"
   },
   {
    "duration": 19,
    "start_time": "2022-12-19T20:00:55.611Z"
   },
   {
    "duration": 15,
    "start_time": "2022-12-19T20:00:55.632Z"
   },
   {
    "duration": 11,
    "start_time": "2022-12-19T20:00:55.649Z"
   },
   {
    "duration": 21,
    "start_time": "2022-12-19T20:00:55.661Z"
   },
   {
    "duration": 12,
    "start_time": "2022-12-19T20:00:55.684Z"
   },
   {
    "duration": 22,
    "start_time": "2022-12-19T20:00:55.698Z"
   },
   {
    "duration": 50,
    "start_time": "2022-12-19T20:00:55.725Z"
   },
   {
    "duration": 8,
    "start_time": "2022-12-19T20:00:55.777Z"
   },
   {
    "duration": 8,
    "start_time": "2022-12-19T20:00:55.787Z"
   },
   {
    "duration": 32,
    "start_time": "2022-12-19T20:00:55.796Z"
   },
   {
    "duration": 45,
    "start_time": "2022-12-19T20:00:55.830Z"
   },
   {
    "duration": 7,
    "start_time": "2022-12-19T20:00:55.877Z"
   },
   {
    "duration": 15,
    "start_time": "2022-12-19T20:00:55.885Z"
   },
   {
    "duration": 36,
    "start_time": "2022-12-19T20:00:55.901Z"
   },
   {
    "duration": 10,
    "start_time": "2022-12-19T20:00:55.939Z"
   },
   {
    "duration": 28,
    "start_time": "2022-12-19T20:00:55.951Z"
   },
   {
    "duration": 181,
    "start_time": "2022-12-19T20:00:55.981Z"
   },
   {
    "duration": 17,
    "start_time": "2022-12-19T20:00:56.164Z"
   },
   {
    "duration": 203,
    "start_time": "2022-12-19T20:00:56.182Z"
   },
   {
    "duration": 14,
    "start_time": "2022-12-19T20:00:56.390Z"
   },
   {
    "duration": 35,
    "start_time": "2022-12-19T20:00:56.406Z"
   },
   {
    "duration": 680,
    "start_time": "2022-12-19T20:00:56.442Z"
   },
   {
    "duration": 7,
    "start_time": "2022-12-19T20:00:57.126Z"
   },
   {
    "duration": 12,
    "start_time": "2022-12-19T20:00:57.135Z"
   },
   {
    "duration": 10,
    "start_time": "2022-12-19T20:00:57.149Z"
   },
   {
    "duration": 25,
    "start_time": "2022-12-19T20:00:57.160Z"
   },
   {
    "duration": 8,
    "start_time": "2022-12-19T20:00:57.187Z"
   },
   {
    "duration": 5,
    "start_time": "2022-12-19T20:00:57.227Z"
   },
   {
    "duration": 14,
    "start_time": "2022-12-19T20:00:57.234Z"
   },
   {
    "duration": 14,
    "start_time": "2022-12-19T20:00:57.250Z"
   },
   {
    "duration": 20,
    "start_time": "2022-12-19T20:00:57.266Z"
   },
   {
    "duration": 43,
    "start_time": "2022-12-19T20:00:57.288Z"
   },
   {
    "duration": 25,
    "start_time": "2022-12-19T20:00:57.333Z"
   },
   {
    "duration": 8,
    "start_time": "2022-12-19T20:00:57.360Z"
   },
   {
    "duration": 12,
    "start_time": "2022-12-19T20:00:57.369Z"
   },
   {
    "duration": 265,
    "start_time": "2022-12-19T20:00:57.383Z"
   },
   {
    "duration": 11,
    "start_time": "2022-12-19T20:00:57.650Z"
   },
   {
    "duration": 19,
    "start_time": "2022-12-19T20:00:57.663Z"
   },
   {
    "duration": 6,
    "start_time": "2022-12-19T20:00:57.684Z"
   },
   {
    "duration": 14,
    "start_time": "2022-12-19T20:00:57.691Z"
   },
   {
    "duration": 4,
    "start_time": "2022-12-19T20:00:57.727Z"
   },
   {
    "duration": 8,
    "start_time": "2022-12-19T20:00:57.733Z"
   },
   {
    "duration": 8,
    "start_time": "2022-12-19T20:01:42.765Z"
   },
   {
    "duration": 1096,
    "start_time": "2022-12-19T20:02:28.570Z"
   },
   {
    "duration": 36,
    "start_time": "2022-12-19T20:02:29.667Z"
   },
   {
    "duration": 10,
    "start_time": "2022-12-19T20:02:29.705Z"
   },
   {
    "duration": 8,
    "start_time": "2022-12-19T20:02:29.717Z"
   },
   {
    "duration": 7,
    "start_time": "2022-12-19T20:02:29.726Z"
   },
   {
    "duration": 7,
    "start_time": "2022-12-19T20:02:29.734Z"
   },
   {
    "duration": 9,
    "start_time": "2022-12-19T20:02:29.742Z"
   },
   {
    "duration": 6,
    "start_time": "2022-12-19T20:02:29.752Z"
   },
   {
    "duration": 11,
    "start_time": "2022-12-19T20:02:29.759Z"
   },
   {
    "duration": 81,
    "start_time": "2022-12-19T20:02:29.772Z"
   },
   {
    "duration": 15,
    "start_time": "2022-12-19T20:02:29.854Z"
   },
   {
    "duration": 16,
    "start_time": "2022-12-19T20:02:29.870Z"
   },
   {
    "duration": 4,
    "start_time": "2022-12-19T20:02:29.888Z"
   },
   {
    "duration": 35,
    "start_time": "2022-12-19T20:02:29.893Z"
   },
   {
    "duration": 7,
    "start_time": "2022-12-19T20:02:29.929Z"
   },
   {
    "duration": 25,
    "start_time": "2022-12-19T20:02:29.937Z"
   },
   {
    "duration": 32,
    "start_time": "2022-12-19T20:02:29.963Z"
   },
   {
    "duration": 32,
    "start_time": "2022-12-19T20:02:29.996Z"
   },
   {
    "duration": 8,
    "start_time": "2022-12-19T20:02:30.030Z"
   },
   {
    "duration": 463,
    "start_time": "2022-12-19T20:02:30.040Z"
   },
   {
    "duration": 62,
    "start_time": "2022-12-19T20:02:30.505Z"
   },
   {
    "duration": 113,
    "start_time": "2022-12-19T20:02:30.569Z"
   },
   {
    "duration": 6,
    "start_time": "2022-12-19T20:02:30.683Z"
   },
   {
    "duration": 26,
    "start_time": "2022-12-19T20:02:30.690Z"
   },
   {
    "duration": 317,
    "start_time": "2022-12-19T20:02:30.718Z"
   },
   {
    "duration": 672,
    "start_time": "2022-12-19T20:02:31.037Z"
   },
   {
    "duration": 31,
    "start_time": "2022-12-19T20:02:31.710Z"
   },
   {
    "duration": 54,
    "start_time": "2022-12-19T20:02:31.749Z"
   },
   {
    "duration": 73,
    "start_time": "2022-12-19T20:02:31.805Z"
   },
   {
    "duration": 61,
    "start_time": "2022-12-19T20:02:31.880Z"
   },
   {
    "duration": 154,
    "start_time": "2022-12-19T20:02:31.943Z"
   },
   {
    "duration": 33,
    "start_time": "2022-12-19T20:02:32.099Z"
   },
   {
    "duration": 77,
    "start_time": "2022-12-19T20:02:32.133Z"
   },
   {
    "duration": 42,
    "start_time": "2022-12-19T20:02:32.212Z"
   },
   {
    "duration": 10,
    "start_time": "2022-12-19T20:02:32.256Z"
   },
   {
    "duration": 12,
    "start_time": "2022-12-19T20:02:32.268Z"
   },
   {
    "duration": 11,
    "start_time": "2022-12-19T20:02:32.282Z"
   },
   {
    "duration": 8,
    "start_time": "2022-12-19T20:02:32.295Z"
   },
   {
    "duration": 25,
    "start_time": "2022-12-19T20:02:32.304Z"
   },
   {
    "duration": 183,
    "start_time": "2022-12-19T20:02:32.331Z"
   },
   {
    "duration": 378,
    "start_time": "2022-12-19T20:02:32.516Z"
   },
   {
    "duration": 12,
    "start_time": "2022-12-19T20:02:32.895Z"
   },
   {
    "duration": 36,
    "start_time": "2022-12-19T20:02:32.909Z"
   },
   {
    "duration": 170,
    "start_time": "2022-12-19T20:02:32.947Z"
   },
   {
    "duration": 3,
    "start_time": "2022-12-19T20:02:33.119Z"
   },
   {
    "duration": 29,
    "start_time": "2022-12-19T20:02:33.125Z"
   },
   {
    "duration": 607,
    "start_time": "2022-12-19T20:02:33.155Z"
   },
   {
    "duration": 20,
    "start_time": "2022-12-19T20:02:33.764Z"
   },
   {
    "duration": 46,
    "start_time": "2022-12-19T20:02:33.785Z"
   },
   {
    "duration": 26,
    "start_time": "2022-12-19T20:02:33.832Z"
   },
   {
    "duration": 5,
    "start_time": "2022-12-19T20:02:33.860Z"
   },
   {
    "duration": 11,
    "start_time": "2022-12-19T20:02:33.866Z"
   },
   {
    "duration": 12,
    "start_time": "2022-12-19T20:02:33.879Z"
   },
   {
    "duration": 35,
    "start_time": "2022-12-19T20:02:33.892Z"
   },
   {
    "duration": 262,
    "start_time": "2022-12-19T20:02:33.929Z"
   },
   {
    "duration": 135,
    "start_time": "2022-12-19T20:02:34.193Z"
   },
   {
    "duration": 8,
    "start_time": "2022-12-19T20:02:34.329Z"
   },
   {
    "duration": 197,
    "start_time": "2022-12-19T20:02:34.338Z"
   },
   {
    "duration": 17,
    "start_time": "2022-12-19T20:02:34.537Z"
   },
   {
    "duration": 22,
    "start_time": "2022-12-19T20:02:34.555Z"
   },
   {
    "duration": 5,
    "start_time": "2022-12-19T20:02:34.578Z"
   },
   {
    "duration": 4404,
    "start_time": "2022-12-19T20:02:34.584Z"
   },
   {
    "duration": 80,
    "start_time": "2022-12-19T20:02:38.989Z"
   },
   {
    "duration": 4,
    "start_time": "2022-12-19T20:02:39.071Z"
   },
   {
    "duration": 7,
    "start_time": "2022-12-19T20:02:39.076Z"
   },
   {
    "duration": 14,
    "start_time": "2022-12-19T20:02:39.085Z"
   },
   {
    "duration": 14,
    "start_time": "2022-12-19T20:02:39.100Z"
   },
   {
    "duration": 16,
    "start_time": "2022-12-19T20:02:39.116Z"
   },
   {
    "duration": 6,
    "start_time": "2022-12-19T20:02:39.134Z"
   },
   {
    "duration": 45,
    "start_time": "2022-12-19T20:02:39.142Z"
   },
   {
    "duration": 7,
    "start_time": "2022-12-19T20:02:39.188Z"
   },
   {
    "duration": 31,
    "start_time": "2022-12-19T20:02:39.196Z"
   },
   {
    "duration": 6,
    "start_time": "2022-12-19T20:02:39.229Z"
   },
   {
    "duration": 127,
    "start_time": "2022-12-19T20:02:39.236Z"
   },
   {
    "duration": 7,
    "start_time": "2022-12-19T20:02:39.365Z"
   },
   {
    "duration": 10,
    "start_time": "2022-12-19T20:02:39.373Z"
   },
   {
    "duration": 14,
    "start_time": "2022-12-19T20:02:39.385Z"
   },
   {
    "duration": 28,
    "start_time": "2022-12-19T20:02:39.401Z"
   },
   {
    "duration": 12,
    "start_time": "2022-12-19T20:02:39.431Z"
   },
   {
    "duration": 158,
    "start_time": "2022-12-19T20:02:39.444Z"
   },
   {
    "duration": 24,
    "start_time": "2022-12-19T20:02:39.604Z"
   },
   {
    "duration": 171,
    "start_time": "2022-12-19T20:02:39.633Z"
   },
   {
    "duration": 23,
    "start_time": "2022-12-19T20:02:39.806Z"
   },
   {
    "duration": 21,
    "start_time": "2022-12-19T20:02:39.830Z"
   },
   {
    "duration": 612,
    "start_time": "2022-12-19T20:02:39.853Z"
   },
   {
    "duration": 9,
    "start_time": "2022-12-19T20:02:40.467Z"
   },
   {
    "duration": 14,
    "start_time": "2022-12-19T20:02:40.478Z"
   },
   {
    "duration": 37,
    "start_time": "2022-12-19T20:02:40.494Z"
   },
   {
    "duration": 18,
    "start_time": "2022-12-19T20:02:40.533Z"
   },
   {
    "duration": 10,
    "start_time": "2022-12-19T20:02:40.553Z"
   },
   {
    "duration": 7,
    "start_time": "2022-12-19T20:02:40.564Z"
   },
   {
    "duration": 9,
    "start_time": "2022-12-19T20:02:40.573Z"
   },
   {
    "duration": 55,
    "start_time": "2022-12-19T20:02:40.584Z"
   },
   {
    "duration": 21,
    "start_time": "2022-12-19T20:02:40.641Z"
   },
   {
    "duration": 145,
    "start_time": "2022-12-19T20:02:40.663Z"
   },
   {
    "duration": 29,
    "start_time": "2022-12-19T20:02:40.810Z"
   },
   {
    "duration": 8,
    "start_time": "2022-12-19T20:02:40.841Z"
   },
   {
    "duration": 22,
    "start_time": "2022-12-19T20:02:40.851Z"
   },
   {
    "duration": 359,
    "start_time": "2022-12-19T20:02:40.875Z"
   },
   {
    "duration": 8,
    "start_time": "2022-12-19T20:02:41.235Z"
   },
   {
    "duration": 13,
    "start_time": "2022-12-19T20:02:41.245Z"
   },
   {
    "duration": 5,
    "start_time": "2022-12-19T20:02:41.260Z"
   },
   {
    "duration": 10,
    "start_time": "2022-12-19T20:02:41.267Z"
   },
   {
    "duration": 5,
    "start_time": "2022-12-19T20:02:41.278Z"
   },
   {
    "duration": 42,
    "start_time": "2022-12-19T20:02:41.285Z"
   },
   {
    "duration": 8,
    "start_time": "2022-12-19T20:03:55.940Z"
   },
   {
    "duration": 10,
    "start_time": "2022-12-19T20:04:33.161Z"
   },
   {
    "duration": 22,
    "start_time": "2022-12-19T20:05:18.353Z"
   },
   {
    "duration": 8,
    "start_time": "2022-12-19T20:05:33.460Z"
   },
   {
    "duration": 5,
    "start_time": "2022-12-19T20:17:00.029Z"
   },
   {
    "duration": 45,
    "start_time": "2022-12-19T20:17:00.040Z"
   },
   {
    "duration": 10,
    "start_time": "2022-12-19T20:17:00.087Z"
   },
   {
    "duration": 19,
    "start_time": "2022-12-19T20:17:00.098Z"
   },
   {
    "duration": 16,
    "start_time": "2022-12-19T20:17:00.119Z"
   },
   {
    "duration": 21,
    "start_time": "2022-12-19T20:17:00.136Z"
   },
   {
    "duration": 15,
    "start_time": "2022-12-19T20:17:00.158Z"
   },
   {
    "duration": 16,
    "start_time": "2022-12-19T20:17:00.174Z"
   },
   {
    "duration": 11,
    "start_time": "2022-12-19T20:17:00.192Z"
   },
   {
    "duration": 68,
    "start_time": "2022-12-19T20:17:00.204Z"
   },
   {
    "duration": 15,
    "start_time": "2022-12-19T20:17:00.275Z"
   },
   {
    "duration": 45,
    "start_time": "2022-12-19T20:17:00.291Z"
   },
   {
    "duration": 7,
    "start_time": "2022-12-19T20:17:00.337Z"
   },
   {
    "duration": 12,
    "start_time": "2022-12-19T20:17:00.346Z"
   },
   {
    "duration": 30,
    "start_time": "2022-12-19T20:17:00.359Z"
   },
   {
    "duration": 22,
    "start_time": "2022-12-19T20:17:00.391Z"
   },
   {
    "duration": 33,
    "start_time": "2022-12-19T20:17:00.414Z"
   },
   {
    "duration": 32,
    "start_time": "2022-12-19T20:17:00.449Z"
   },
   {
    "duration": 9,
    "start_time": "2022-12-19T20:17:00.484Z"
   },
   {
    "duration": 458,
    "start_time": "2022-12-19T20:17:00.495Z"
   },
   {
    "duration": 55,
    "start_time": "2022-12-19T20:17:00.955Z"
   },
   {
    "duration": 124,
    "start_time": "2022-12-19T20:17:01.011Z"
   },
   {
    "duration": 8,
    "start_time": "2022-12-19T20:17:01.136Z"
   },
   {
    "duration": 53,
    "start_time": "2022-12-19T20:17:01.145Z"
   },
   {
    "duration": 313,
    "start_time": "2022-12-19T20:17:01.200Z"
   },
   {
    "duration": 602,
    "start_time": "2022-12-19T20:17:01.515Z"
   },
   {
    "duration": 22,
    "start_time": "2022-12-19T20:17:02.118Z"
   },
   {
    "duration": 93,
    "start_time": "2022-12-19T20:17:02.141Z"
   },
   {
    "duration": 43,
    "start_time": "2022-12-19T20:17:02.238Z"
   },
   {
    "duration": 67,
    "start_time": "2022-12-19T20:17:02.282Z"
   },
   {
    "duration": 156,
    "start_time": "2022-12-19T20:17:02.351Z"
   },
   {
    "duration": 26,
    "start_time": "2022-12-19T20:17:02.509Z"
   },
   {
    "duration": 74,
    "start_time": "2022-12-19T20:17:02.537Z"
   },
   {
    "duration": 43,
    "start_time": "2022-12-19T20:17:02.627Z"
   },
   {
    "duration": 10,
    "start_time": "2022-12-19T20:17:02.671Z"
   },
   {
    "duration": 33,
    "start_time": "2022-12-19T20:17:02.683Z"
   },
   {
    "duration": 18,
    "start_time": "2022-12-19T20:17:02.718Z"
   },
   {
    "duration": 14,
    "start_time": "2022-12-19T20:17:02.738Z"
   },
   {
    "duration": 10,
    "start_time": "2022-12-19T20:17:02.753Z"
   },
   {
    "duration": 164,
    "start_time": "2022-12-19T20:17:02.764Z"
   },
   {
    "duration": 327,
    "start_time": "2022-12-19T20:17:02.929Z"
   },
   {
    "duration": 12,
    "start_time": "2022-12-19T20:17:03.258Z"
   },
   {
    "duration": 34,
    "start_time": "2022-12-19T20:17:03.271Z"
   },
   {
    "duration": 161,
    "start_time": "2022-12-19T20:17:03.306Z"
   },
   {
    "duration": 3,
    "start_time": "2022-12-19T20:17:03.468Z"
   },
   {
    "duration": 33,
    "start_time": "2022-12-19T20:17:03.472Z"
   },
   {
    "duration": 615,
    "start_time": "2022-12-19T20:17:03.507Z"
   },
   {
    "duration": 19,
    "start_time": "2022-12-19T20:17:04.124Z"
   },
   {
    "duration": 28,
    "start_time": "2022-12-19T20:17:04.145Z"
   },
   {
    "duration": 23,
    "start_time": "2022-12-19T20:17:04.175Z"
   },
   {
    "duration": 27,
    "start_time": "2022-12-19T20:17:04.200Z"
   },
   {
    "duration": 12,
    "start_time": "2022-12-19T20:17:04.229Z"
   },
   {
    "duration": 12,
    "start_time": "2022-12-19T20:17:04.242Z"
   },
   {
    "duration": 6,
    "start_time": "2022-12-19T20:17:04.255Z"
   },
   {
    "duration": 209,
    "start_time": "2022-12-19T20:17:04.262Z"
   },
   {
    "duration": 248,
    "start_time": "2022-12-19T20:17:04.473Z"
   },
   {
    "duration": 8,
    "start_time": "2022-12-19T20:17:04.723Z"
   },
   {
    "duration": 208,
    "start_time": "2022-12-19T20:17:04.732Z"
   },
   {
    "duration": 18,
    "start_time": "2022-12-19T20:17:04.942Z"
   },
   {
    "duration": 20,
    "start_time": "2022-12-19T20:17:04.962Z"
   },
   {
    "duration": 5,
    "start_time": "2022-12-19T20:17:04.984Z"
   },
   {
    "duration": 4601,
    "start_time": "2022-12-19T20:17:04.990Z"
   },
   {
    "duration": 80,
    "start_time": "2022-12-19T20:17:09.593Z"
   },
   {
    "duration": 4,
    "start_time": "2022-12-19T20:17:09.675Z"
   },
   {
    "duration": 8,
    "start_time": "2022-12-19T20:17:09.680Z"
   },
   {
    "duration": 6,
    "start_time": "2022-12-19T20:17:09.689Z"
   },
   {
    "duration": 43,
    "start_time": "2022-12-19T20:17:09.697Z"
   },
   {
    "duration": 8,
    "start_time": "2022-12-19T20:17:09.742Z"
   },
   {
    "duration": 22,
    "start_time": "2022-12-19T20:17:09.752Z"
   },
   {
    "duration": 47,
    "start_time": "2022-12-19T20:17:09.776Z"
   },
   {
    "duration": 9,
    "start_time": "2022-12-19T20:17:09.825Z"
   },
   {
    "duration": 11,
    "start_time": "2022-12-19T20:17:09.836Z"
   },
   {
    "duration": 8,
    "start_time": "2022-12-19T20:17:09.849Z"
   },
   {
    "duration": 45,
    "start_time": "2022-12-19T20:17:09.858Z"
   },
   {
    "duration": 26,
    "start_time": "2022-12-19T20:17:09.905Z"
   },
   {
    "duration": 5,
    "start_time": "2022-12-19T20:17:09.932Z"
   },
   {
    "duration": 8,
    "start_time": "2022-12-19T20:17:09.939Z"
   },
   {
    "duration": 10,
    "start_time": "2022-12-19T20:17:09.949Z"
   },
   {
    "duration": 19,
    "start_time": "2022-12-19T20:17:09.960Z"
   },
   {
    "duration": 178,
    "start_time": "2022-12-19T20:17:09.980Z"
   },
   {
    "duration": 14,
    "start_time": "2022-12-19T20:17:10.160Z"
   },
   {
    "duration": 178,
    "start_time": "2022-12-19T20:17:10.176Z"
   },
   {
    "duration": 12,
    "start_time": "2022-12-19T20:17:10.359Z"
   },
   {
    "duration": 28,
    "start_time": "2022-12-19T20:17:10.372Z"
   },
   {
    "duration": 603,
    "start_time": "2022-12-19T20:17:10.401Z"
   },
   {
    "duration": 7,
    "start_time": "2022-12-19T20:17:11.006Z"
   },
   {
    "duration": 13,
    "start_time": "2022-12-19T20:17:11.025Z"
   },
   {
    "duration": 10,
    "start_time": "2022-12-19T20:17:11.040Z"
   },
   {
    "duration": 18,
    "start_time": "2022-12-19T20:17:11.051Z"
   },
   {
    "duration": 8,
    "start_time": "2022-12-19T20:17:11.071Z"
   },
   {
    "duration": 54,
    "start_time": "2022-12-19T20:17:11.080Z"
   },
   {
    "duration": 7,
    "start_time": "2022-12-19T20:17:11.135Z"
   },
   {
    "duration": 20,
    "start_time": "2022-12-19T20:17:11.144Z"
   },
   {
    "duration": 7,
    "start_time": "2022-12-19T20:17:11.166Z"
   },
   {
    "duration": 12,
    "start_time": "2022-12-19T20:17:11.175Z"
   },
   {
    "duration": 269,
    "start_time": "2022-12-19T20:17:11.189Z"
   },
   {
    "duration": 9,
    "start_time": "2022-12-19T20:17:11.461Z"
   },
   {
    "duration": 17,
    "start_time": "2022-12-19T20:17:11.472Z"
   },
   {
    "duration": 6,
    "start_time": "2022-12-19T20:17:11.490Z"
   },
   {
    "duration": 33,
    "start_time": "2022-12-19T20:17:11.497Z"
   },
   {
    "duration": 5,
    "start_time": "2022-12-19T20:17:11.532Z"
   },
   {
    "duration": 11,
    "start_time": "2022-12-19T20:17:11.539Z"
   },
   {
    "duration": 4,
    "start_time": "2022-12-19T20:54:03.760Z"
   },
   {
    "duration": 41,
    "start_time": "2022-12-19T20:54:03.766Z"
   },
   {
    "duration": 9,
    "start_time": "2022-12-19T20:54:03.810Z"
   },
   {
    "duration": 29,
    "start_time": "2022-12-19T20:54:03.821Z"
   },
   {
    "duration": 17,
    "start_time": "2022-12-19T20:54:03.852Z"
   },
   {
    "duration": 14,
    "start_time": "2022-12-19T20:54:03.870Z"
   },
   {
    "duration": 11,
    "start_time": "2022-12-19T20:54:03.886Z"
   },
   {
    "duration": 9,
    "start_time": "2022-12-19T20:54:03.899Z"
   },
   {
    "duration": 13,
    "start_time": "2022-12-19T20:54:03.909Z"
   },
   {
    "duration": 69,
    "start_time": "2022-12-19T20:54:03.924Z"
   },
   {
    "duration": 15,
    "start_time": "2022-12-19T20:54:03.996Z"
   },
   {
    "duration": 131,
    "start_time": "2022-12-19T20:54:04.012Z"
   },
   {
    "duration": 5,
    "start_time": "2022-12-19T20:54:04.144Z"
   },
   {
    "duration": 15,
    "start_time": "2022-12-19T20:54:04.151Z"
   },
   {
    "duration": 11,
    "start_time": "2022-12-19T20:54:04.167Z"
   },
   {
    "duration": 20,
    "start_time": "2022-12-19T20:54:04.180Z"
   },
   {
    "duration": 30,
    "start_time": "2022-12-19T20:54:04.202Z"
   },
   {
    "duration": 17,
    "start_time": "2022-12-19T20:54:04.234Z"
   },
   {
    "duration": 7,
    "start_time": "2022-12-19T20:54:04.253Z"
   },
   {
    "duration": 414,
    "start_time": "2022-12-19T20:54:04.262Z"
   },
   {
    "duration": 56,
    "start_time": "2022-12-19T20:54:04.678Z"
   },
   {
    "duration": 104,
    "start_time": "2022-12-19T20:54:04.736Z"
   },
   {
    "duration": 5,
    "start_time": "2022-12-19T20:54:04.842Z"
   },
   {
    "duration": 14,
    "start_time": "2022-12-19T20:54:04.849Z"
   },
   {
    "duration": 262,
    "start_time": "2022-12-19T20:54:04.865Z"
   },
   {
    "duration": 529,
    "start_time": "2022-12-19T20:54:05.129Z"
   },
   {
    "duration": 25,
    "start_time": "2022-12-19T20:54:05.660Z"
   },
   {
    "duration": 77,
    "start_time": "2022-12-19T20:54:05.687Z"
   },
   {
    "duration": 45,
    "start_time": "2022-12-19T20:54:05.769Z"
   },
   {
    "duration": 50,
    "start_time": "2022-12-19T20:54:05.828Z"
   },
   {
    "duration": 147,
    "start_time": "2022-12-19T20:54:05.880Z"
   },
   {
    "duration": 20,
    "start_time": "2022-12-19T20:54:06.029Z"
   },
   {
    "duration": 94,
    "start_time": "2022-12-19T20:54:06.051Z"
   },
   {
    "duration": 41,
    "start_time": "2022-12-19T20:54:06.147Z"
   },
   {
    "duration": 10,
    "start_time": "2022-12-19T20:54:06.190Z"
   },
   {
    "duration": 18,
    "start_time": "2022-12-19T20:54:06.202Z"
   },
   {
    "duration": 7,
    "start_time": "2022-12-19T20:54:06.222Z"
   },
   {
    "duration": 9,
    "start_time": "2022-12-19T20:54:06.231Z"
   },
   {
    "duration": 11,
    "start_time": "2022-12-19T20:54:06.241Z"
   },
   {
    "duration": 193,
    "start_time": "2022-12-19T20:54:06.254Z"
   },
   {
    "duration": 335,
    "start_time": "2022-12-19T20:54:06.448Z"
   },
   {
    "duration": 12,
    "start_time": "2022-12-19T20:54:06.784Z"
   },
   {
    "duration": 49,
    "start_time": "2022-12-19T20:54:06.798Z"
   },
   {
    "duration": 188,
    "start_time": "2022-12-19T20:54:06.848Z"
   },
   {
    "duration": 2,
    "start_time": "2022-12-19T20:54:07.038Z"
   },
   {
    "duration": 46,
    "start_time": "2022-12-19T20:54:07.042Z"
   },
   {
    "duration": 580,
    "start_time": "2022-12-19T20:54:07.089Z"
   },
   {
    "duration": 18,
    "start_time": "2022-12-19T20:54:07.671Z"
   },
   {
    "duration": 43,
    "start_time": "2022-12-19T20:54:07.690Z"
   },
   {
    "duration": 24,
    "start_time": "2022-12-19T20:54:07.735Z"
   },
   {
    "duration": 11,
    "start_time": "2022-12-19T20:54:07.760Z"
   },
   {
    "duration": 34,
    "start_time": "2022-12-19T20:54:07.773Z"
   },
   {
    "duration": 39,
    "start_time": "2022-12-19T20:54:07.808Z"
   },
   {
    "duration": 19,
    "start_time": "2022-12-19T20:54:07.849Z"
   },
   {
    "duration": 206,
    "start_time": "2022-12-19T20:54:07.870Z"
   },
   {
    "duration": 130,
    "start_time": "2022-12-19T20:54:08.077Z"
   },
   {
    "duration": 18,
    "start_time": "2022-12-19T20:54:08.208Z"
   },
   {
    "duration": 188,
    "start_time": "2022-12-19T20:54:08.228Z"
   },
   {
    "duration": 24,
    "start_time": "2022-12-19T20:54:08.418Z"
   },
   {
    "duration": 24,
    "start_time": "2022-12-19T20:54:08.444Z"
   },
   {
    "duration": 14,
    "start_time": "2022-12-19T20:54:08.470Z"
   },
   {
    "duration": 4525,
    "start_time": "2022-12-19T20:54:08.486Z"
   },
   {
    "duration": 77,
    "start_time": "2022-12-19T20:54:13.013Z"
   },
   {
    "duration": 4,
    "start_time": "2022-12-19T20:54:13.092Z"
   },
   {
    "duration": 6,
    "start_time": "2022-12-19T20:54:13.098Z"
   },
   {
    "duration": 3,
    "start_time": "2022-12-19T20:54:13.106Z"
   },
   {
    "duration": 21,
    "start_time": "2022-12-19T20:54:13.110Z"
   },
   {
    "duration": 7,
    "start_time": "2022-12-19T20:54:13.133Z"
   },
   {
    "duration": 6,
    "start_time": "2022-12-19T20:54:13.141Z"
   },
   {
    "duration": 39,
    "start_time": "2022-12-19T20:54:13.148Z"
   },
   {
    "duration": 44,
    "start_time": "2022-12-19T20:54:13.188Z"
   },
   {
    "duration": 5,
    "start_time": "2022-12-19T20:54:13.233Z"
   },
   {
    "duration": 6,
    "start_time": "2022-12-19T20:54:13.240Z"
   },
   {
    "duration": 38,
    "start_time": "2022-12-19T20:54:13.248Z"
   },
   {
    "duration": 40,
    "start_time": "2022-12-19T20:54:13.287Z"
   },
   {
    "duration": 5,
    "start_time": "2022-12-19T20:54:13.328Z"
   },
   {
    "duration": 9,
    "start_time": "2022-12-19T20:54:13.335Z"
   },
   {
    "duration": 25,
    "start_time": "2022-12-19T20:54:13.345Z"
   },
   {
    "duration": 28,
    "start_time": "2022-12-19T20:54:13.371Z"
   },
   {
    "duration": 158,
    "start_time": "2022-12-19T20:54:13.401Z"
   },
   {
    "duration": 14,
    "start_time": "2022-12-19T20:54:13.561Z"
   },
   {
    "duration": 177,
    "start_time": "2022-12-19T20:54:13.577Z"
   },
   {
    "duration": 12,
    "start_time": "2022-12-19T20:54:13.759Z"
   },
   {
    "duration": 19,
    "start_time": "2022-12-19T20:54:13.773Z"
   },
   {
    "duration": 687,
    "start_time": "2022-12-19T20:54:13.793Z"
   },
   {
    "duration": 8,
    "start_time": "2022-12-19T20:54:14.481Z"
   },
   {
    "duration": 13,
    "start_time": "2022-12-19T20:54:14.491Z"
   },
   {
    "duration": 28,
    "start_time": "2022-12-19T20:54:14.505Z"
   },
   {
    "duration": 17,
    "start_time": "2022-12-19T20:54:14.535Z"
   },
   {
    "duration": 9,
    "start_time": "2022-12-19T20:54:14.553Z"
   },
   {
    "duration": 31,
    "start_time": "2022-12-19T20:54:14.564Z"
   },
   {
    "duration": 12,
    "start_time": "2022-12-19T20:54:14.627Z"
   },
   {
    "duration": 20,
    "start_time": "2022-12-19T20:54:14.641Z"
   },
   {
    "duration": 8,
    "start_time": "2022-12-19T20:54:14.662Z"
   },
   {
    "duration": 12,
    "start_time": "2022-12-19T20:54:14.671Z"
   },
   {
    "duration": 278,
    "start_time": "2022-12-19T20:54:14.685Z"
   },
   {
    "duration": 10,
    "start_time": "2022-12-19T20:54:14.965Z"
   },
   {
    "duration": 13,
    "start_time": "2022-12-19T20:54:14.977Z"
   },
   {
    "duration": 5,
    "start_time": "2022-12-19T20:54:14.992Z"
   },
   {
    "duration": 33,
    "start_time": "2022-12-19T20:54:14.998Z"
   },
   {
    "duration": 16,
    "start_time": "2022-12-19T20:54:15.033Z"
   },
   {
    "duration": 9,
    "start_time": "2022-12-19T20:54:15.051Z"
   },
   {
    "duration": 1087,
    "start_time": "2022-12-19T20:54:22.876Z"
   },
   {
    "duration": 34,
    "start_time": "2022-12-19T20:54:23.965Z"
   },
   {
    "duration": 9,
    "start_time": "2022-12-19T20:54:24.001Z"
   },
   {
    "duration": 7,
    "start_time": "2022-12-19T20:54:24.012Z"
   },
   {
    "duration": 6,
    "start_time": "2022-12-19T20:54:24.020Z"
   },
   {
    "duration": 7,
    "start_time": "2022-12-19T20:54:24.028Z"
   },
   {
    "duration": 7,
    "start_time": "2022-12-19T20:54:24.036Z"
   },
   {
    "duration": 6,
    "start_time": "2022-12-19T20:54:24.044Z"
   },
   {
    "duration": 11,
    "start_time": "2022-12-19T20:54:24.051Z"
   },
   {
    "duration": 82,
    "start_time": "2022-12-19T20:54:24.064Z"
   },
   {
    "duration": 16,
    "start_time": "2022-12-19T20:54:24.147Z"
   },
   {
    "duration": 21,
    "start_time": "2022-12-19T20:54:24.164Z"
   },
   {
    "duration": 4,
    "start_time": "2022-12-19T20:54:24.186Z"
   },
   {
    "duration": 13,
    "start_time": "2022-12-19T20:54:24.192Z"
   },
   {
    "duration": 26,
    "start_time": "2022-12-19T20:54:24.206Z"
   },
   {
    "duration": 8,
    "start_time": "2022-12-19T20:54:24.233Z"
   },
   {
    "duration": 31,
    "start_time": "2022-12-19T20:54:24.242Z"
   },
   {
    "duration": 20,
    "start_time": "2022-12-19T20:54:24.274Z"
   },
   {
    "duration": 36,
    "start_time": "2022-12-19T20:54:24.296Z"
   },
   {
    "duration": 449,
    "start_time": "2022-12-19T20:54:24.333Z"
   },
   {
    "duration": 60,
    "start_time": "2022-12-19T20:54:24.783Z"
   },
   {
    "duration": 140,
    "start_time": "2022-12-19T20:54:24.844Z"
   },
   {
    "duration": 5,
    "start_time": "2022-12-19T20:54:24.986Z"
   },
   {
    "duration": 10,
    "start_time": "2022-12-19T20:54:24.993Z"
   },
   {
    "duration": 299,
    "start_time": "2022-12-19T20:54:25.004Z"
   },
   {
    "duration": 681,
    "start_time": "2022-12-19T20:54:25.304Z"
   },
   {
    "duration": 24,
    "start_time": "2022-12-19T20:54:25.987Z"
   },
   {
    "duration": 51,
    "start_time": "2022-12-19T20:54:26.027Z"
   },
   {
    "duration": 67,
    "start_time": "2022-12-19T20:54:26.080Z"
   },
   {
    "duration": 50,
    "start_time": "2022-12-19T20:54:26.148Z"
   },
   {
    "duration": 169,
    "start_time": "2022-12-19T20:54:26.199Z"
   },
   {
    "duration": 22,
    "start_time": "2022-12-19T20:54:26.370Z"
   },
   {
    "duration": 93,
    "start_time": "2022-12-19T20:54:26.393Z"
   },
   {
    "duration": 40,
    "start_time": "2022-12-19T20:54:26.487Z"
   },
   {
    "duration": 10,
    "start_time": "2022-12-19T20:54:26.529Z"
   },
   {
    "duration": 11,
    "start_time": "2022-12-19T20:54:26.541Z"
   },
   {
    "duration": 6,
    "start_time": "2022-12-19T20:54:26.553Z"
   },
   {
    "duration": 10,
    "start_time": "2022-12-19T20:54:26.561Z"
   },
   {
    "duration": 7,
    "start_time": "2022-12-19T20:54:26.572Z"
   },
   {
    "duration": 192,
    "start_time": "2022-12-19T20:54:26.580Z"
   },
   {
    "duration": 392,
    "start_time": "2022-12-19T20:54:26.774Z"
   },
   {
    "duration": 13,
    "start_time": "2022-12-19T20:54:27.168Z"
   },
   {
    "duration": 31,
    "start_time": "2022-12-19T20:54:27.183Z"
   },
   {
    "duration": 160,
    "start_time": "2022-12-19T20:54:27.227Z"
   },
   {
    "duration": 3,
    "start_time": "2022-12-19T20:54:27.388Z"
   },
   {
    "duration": 41,
    "start_time": "2022-12-19T20:54:27.392Z"
   },
   {
    "duration": 594,
    "start_time": "2022-12-19T20:54:27.434Z"
   },
   {
    "duration": 19,
    "start_time": "2022-12-19T20:54:28.029Z"
   },
   {
    "duration": 38,
    "start_time": "2022-12-19T20:54:28.050Z"
   },
   {
    "duration": 45,
    "start_time": "2022-12-19T20:54:28.090Z"
   },
   {
    "duration": 7,
    "start_time": "2022-12-19T20:54:28.137Z"
   },
   {
    "duration": 10,
    "start_time": "2022-12-19T20:54:28.146Z"
   },
   {
    "duration": 13,
    "start_time": "2022-12-19T20:54:28.158Z"
   },
   {
    "duration": 9,
    "start_time": "2022-12-19T20:54:28.173Z"
   },
   {
    "duration": 276,
    "start_time": "2022-12-19T20:54:28.184Z"
   },
   {
    "duration": 133,
    "start_time": "2022-12-19T20:54:28.461Z"
   },
   {
    "duration": 10,
    "start_time": "2022-12-19T20:54:28.596Z"
   },
   {
    "duration": 218,
    "start_time": "2022-12-19T20:54:28.608Z"
   },
   {
    "duration": 19,
    "start_time": "2022-12-19T20:54:28.828Z"
   },
   {
    "duration": 27,
    "start_time": "2022-12-19T20:54:28.849Z"
   },
   {
    "duration": 6,
    "start_time": "2022-12-19T20:54:28.877Z"
   },
   {
    "duration": 4451,
    "start_time": "2022-12-19T20:54:28.885Z"
   },
   {
    "duration": 72,
    "start_time": "2022-12-19T20:54:33.338Z"
   },
   {
    "duration": 5,
    "start_time": "2022-12-19T20:54:33.427Z"
   },
   {
    "duration": 7,
    "start_time": "2022-12-19T20:54:33.434Z"
   },
   {
    "duration": 4,
    "start_time": "2022-12-19T20:54:33.442Z"
   },
   {
    "duration": 10,
    "start_time": "2022-12-19T20:54:33.448Z"
   },
   {
    "duration": 8,
    "start_time": "2022-12-19T20:54:33.460Z"
   },
   {
    "duration": 7,
    "start_time": "2022-12-19T20:54:33.469Z"
   },
   {
    "duration": 41,
    "start_time": "2022-12-19T20:54:33.526Z"
   },
   {
    "duration": 6,
    "start_time": "2022-12-19T20:54:33.569Z"
   },
   {
    "duration": 9,
    "start_time": "2022-12-19T20:54:33.576Z"
   },
   {
    "duration": 7,
    "start_time": "2022-12-19T20:54:33.587Z"
   },
   {
    "duration": 143,
    "start_time": "2022-12-19T20:54:33.595Z"
   },
   {
    "duration": 7,
    "start_time": "2022-12-19T20:54:33.740Z"
   },
   {
    "duration": 17,
    "start_time": "2022-12-19T20:54:33.748Z"
   },
   {
    "duration": 7,
    "start_time": "2022-12-19T20:54:33.767Z"
   },
   {
    "duration": 8,
    "start_time": "2022-12-19T20:54:33.776Z"
   },
   {
    "duration": 11,
    "start_time": "2022-12-19T20:54:33.786Z"
   },
   {
    "duration": 155,
    "start_time": "2022-12-19T20:54:33.826Z"
   },
   {
    "duration": 15,
    "start_time": "2022-12-19T20:54:33.983Z"
   },
   {
    "duration": 194,
    "start_time": "2022-12-19T20:54:34.003Z"
   },
   {
    "duration": 13,
    "start_time": "2022-12-19T20:54:34.198Z"
   },
   {
    "duration": 29,
    "start_time": "2022-12-19T20:54:34.212Z"
   },
   {
    "duration": 600,
    "start_time": "2022-12-19T20:54:34.243Z"
   },
   {
    "duration": 9,
    "start_time": "2022-12-19T20:54:34.844Z"
   },
   {
    "duration": 14,
    "start_time": "2022-12-19T20:54:34.855Z"
   },
   {
    "duration": 11,
    "start_time": "2022-12-19T20:54:34.871Z"
   },
   {
    "duration": 53,
    "start_time": "2022-12-19T20:54:34.883Z"
   },
   {
    "duration": 9,
    "start_time": "2022-12-19T20:54:34.937Z"
   },
   {
    "duration": 31,
    "start_time": "2022-12-19T20:54:34.948Z"
   },
   {
    "duration": 131,
    "start_time": "2022-12-19T20:54:34.980Z"
   },
   {
    "duration": 43,
    "start_time": "2022-12-19T20:54:35.113Z"
   },
   {
    "duration": 11,
    "start_time": "2022-12-19T20:54:35.157Z"
   },
   {
    "duration": 59,
    "start_time": "2022-12-19T20:54:35.170Z"
   },
   {
    "duration": 339,
    "start_time": "2022-12-19T20:54:35.231Z"
   },
   {
    "duration": 10,
    "start_time": "2022-12-19T20:54:35.572Z"
   },
   {
    "duration": 21,
    "start_time": "2022-12-19T20:54:35.584Z"
   },
   {
    "duration": 25,
    "start_time": "2022-12-19T20:54:35.607Z"
   },
   {
    "duration": 20,
    "start_time": "2022-12-19T20:54:35.634Z"
   },
   {
    "duration": 17,
    "start_time": "2022-12-19T20:54:35.657Z"
   },
   {
    "duration": 19,
    "start_time": "2022-12-19T20:54:35.677Z"
   },
   {
    "duration": 1167,
    "start_time": "2022-12-20T06:57:47.018Z"
   },
   {
    "duration": 74,
    "start_time": "2022-12-20T06:57:48.186Z"
   },
   {
    "duration": 9,
    "start_time": "2022-12-20T06:57:48.262Z"
   },
   {
    "duration": 7,
    "start_time": "2022-12-20T06:57:48.272Z"
   },
   {
    "duration": 8,
    "start_time": "2022-12-20T06:57:48.280Z"
   },
   {
    "duration": 8,
    "start_time": "2022-12-20T06:57:48.290Z"
   },
   {
    "duration": 10,
    "start_time": "2022-12-20T06:57:48.299Z"
   },
   {
    "duration": 13,
    "start_time": "2022-12-20T06:57:48.310Z"
   },
   {
    "duration": 14,
    "start_time": "2022-12-20T06:57:48.324Z"
   },
   {
    "duration": 335,
    "start_time": "2022-12-20T06:57:48.341Z"
   },
   {
    "duration": 17,
    "start_time": "2022-12-20T06:57:48.678Z"
   },
   {
    "duration": 21,
    "start_time": "2022-12-20T06:57:48.697Z"
   },
   {
    "duration": 5,
    "start_time": "2022-12-20T06:57:48.720Z"
   },
   {
    "duration": 37,
    "start_time": "2022-12-20T06:57:48.726Z"
   },
   {
    "duration": 11,
    "start_time": "2022-12-20T06:57:48.764Z"
   },
   {
    "duration": 7,
    "start_time": "2022-12-20T06:57:48.776Z"
   },
   {
    "duration": 33,
    "start_time": "2022-12-20T06:57:48.785Z"
   },
   {
    "duration": 33,
    "start_time": "2022-12-20T06:57:48.820Z"
   },
   {
    "duration": 9,
    "start_time": "2022-12-20T06:57:48.854Z"
   },
   {
    "duration": 636,
    "start_time": "2022-12-20T06:57:48.865Z"
   },
   {
    "duration": 60,
    "start_time": "2022-12-20T06:57:49.502Z"
   },
   {
    "duration": 120,
    "start_time": "2022-12-20T06:57:49.563Z"
   },
   {
    "duration": 5,
    "start_time": "2022-12-20T06:57:49.685Z"
   },
   {
    "duration": 21,
    "start_time": "2022-12-20T06:57:49.692Z"
   },
   {
    "duration": 292,
    "start_time": "2022-12-20T06:57:49.714Z"
   },
   {
    "duration": 646,
    "start_time": "2022-12-20T06:57:50.008Z"
   },
   {
    "duration": 24,
    "start_time": "2022-12-20T06:57:50.655Z"
   },
   {
    "duration": 88,
    "start_time": "2022-12-20T06:57:50.684Z"
   },
   {
    "duration": 57,
    "start_time": "2022-12-20T06:57:50.774Z"
   },
   {
    "duration": 75,
    "start_time": "2022-12-20T06:57:50.832Z"
   },
   {
    "duration": 170,
    "start_time": "2022-12-20T06:57:50.909Z"
   },
   {
    "duration": 23,
    "start_time": "2022-12-20T06:57:51.080Z"
   },
   {
    "duration": 107,
    "start_time": "2022-12-20T06:57:51.104Z"
   },
   {
    "duration": 79,
    "start_time": "2022-12-20T06:57:51.213Z"
   },
   {
    "duration": 11,
    "start_time": "2022-12-20T06:57:51.293Z"
   },
   {
    "duration": 14,
    "start_time": "2022-12-20T06:57:51.305Z"
   },
   {
    "duration": 11,
    "start_time": "2022-12-20T06:57:51.320Z"
   },
   {
    "duration": 30,
    "start_time": "2022-12-20T06:57:51.332Z"
   },
   {
    "duration": 6,
    "start_time": "2022-12-20T06:57:51.364Z"
   },
   {
    "duration": 191,
    "start_time": "2022-12-20T06:57:51.371Z"
   },
   {
    "duration": 366,
    "start_time": "2022-12-20T06:57:51.564Z"
   },
   {
    "duration": 17,
    "start_time": "2022-12-20T06:57:51.932Z"
   },
   {
    "duration": 28,
    "start_time": "2022-12-20T06:57:51.950Z"
   },
   {
    "duration": 178,
    "start_time": "2022-12-20T06:57:51.979Z"
   },
   {
    "duration": 3,
    "start_time": "2022-12-20T06:57:52.158Z"
   },
   {
    "duration": 36,
    "start_time": "2022-12-20T06:57:52.162Z"
   },
   {
    "duration": 823,
    "start_time": "2022-12-20T06:57:52.200Z"
   },
   {
    "duration": 25,
    "start_time": "2022-12-20T06:57:53.025Z"
   },
   {
    "duration": 29,
    "start_time": "2022-12-20T06:57:53.052Z"
   },
   {
    "duration": 46,
    "start_time": "2022-12-20T06:57:53.082Z"
   },
   {
    "duration": 9,
    "start_time": "2022-12-20T06:57:53.130Z"
   },
   {
    "duration": 28,
    "start_time": "2022-12-20T06:57:53.141Z"
   },
   {
    "duration": 18,
    "start_time": "2022-12-20T06:57:53.170Z"
   },
   {
    "duration": 11,
    "start_time": "2022-12-20T06:57:53.190Z"
   },
   {
    "duration": 287,
    "start_time": "2022-12-20T06:57:53.203Z"
   },
   {
    "duration": 165,
    "start_time": "2022-12-20T06:57:53.492Z"
   },
   {
    "duration": 9,
    "start_time": "2022-12-20T06:57:53.659Z"
   },
   {
    "duration": 227,
    "start_time": "2022-12-20T06:57:53.669Z"
   },
   {
    "duration": 38,
    "start_time": "2022-12-20T06:57:53.898Z"
   },
   {
    "duration": 27,
    "start_time": "2022-12-20T06:57:53.938Z"
   },
   {
    "duration": 6,
    "start_time": "2022-12-20T06:57:53.967Z"
   },
   {
    "duration": 5115,
    "start_time": "2022-12-20T06:57:53.974Z"
   },
   {
    "duration": 92,
    "start_time": "2022-12-20T06:57:59.091Z"
   },
   {
    "duration": 5,
    "start_time": "2022-12-20T06:57:59.184Z"
   },
   {
    "duration": 16,
    "start_time": "2022-12-20T06:57:59.190Z"
   },
   {
    "duration": 27,
    "start_time": "2022-12-20T06:57:59.208Z"
   },
   {
    "duration": 19,
    "start_time": "2022-12-20T06:57:59.237Z"
   },
   {
    "duration": 19,
    "start_time": "2022-12-20T06:57:59.258Z"
   },
   {
    "duration": 8,
    "start_time": "2022-12-20T06:57:59.278Z"
   },
   {
    "duration": 52,
    "start_time": "2022-12-20T06:57:59.287Z"
   },
   {
    "duration": 9,
    "start_time": "2022-12-20T06:57:59.342Z"
   },
   {
    "duration": 29,
    "start_time": "2022-12-20T06:57:59.352Z"
   },
   {
    "duration": 14,
    "start_time": "2022-12-20T06:57:59.383Z"
   },
   {
    "duration": 113,
    "start_time": "2022-12-20T06:57:59.399Z"
   },
   {
    "duration": 8,
    "start_time": "2022-12-20T06:57:59.514Z"
   },
   {
    "duration": 23,
    "start_time": "2022-12-20T06:57:59.525Z"
   },
   {
    "duration": 12,
    "start_time": "2022-12-20T06:57:59.549Z"
   },
   {
    "duration": 15,
    "start_time": "2022-12-20T06:57:59.563Z"
   },
   {
    "duration": 16,
    "start_time": "2022-12-20T06:57:59.579Z"
   },
   {
    "duration": 190,
    "start_time": "2022-12-20T06:57:59.596Z"
   },
   {
    "duration": 14,
    "start_time": "2022-12-20T06:57:59.788Z"
   },
   {
    "duration": 208,
    "start_time": "2022-12-20T06:57:59.807Z"
   },
   {
    "duration": 30,
    "start_time": "2022-12-20T06:58:00.016Z"
   },
   {
    "duration": 35,
    "start_time": "2022-12-20T06:58:00.048Z"
   },
   {
    "duration": 672,
    "start_time": "2022-12-20T06:58:00.085Z"
   },
   {
    "duration": 9,
    "start_time": "2022-12-20T06:58:00.759Z"
   },
   {
    "duration": 62,
    "start_time": "2022-12-20T06:58:00.770Z"
   },
   {
    "duration": 35,
    "start_time": "2022-12-20T06:58:00.834Z"
   },
   {
    "duration": 45,
    "start_time": "2022-12-20T06:58:00.871Z"
   },
   {
    "duration": 63,
    "start_time": "2022-12-20T06:58:00.917Z"
   },
   {
    "duration": 77,
    "start_time": "2022-12-20T06:58:00.983Z"
   },
   {
    "duration": 214,
    "start_time": "2022-12-20T06:58:01.061Z"
   },
   {
    "duration": 29,
    "start_time": "2022-12-20T06:58:01.277Z"
   },
   {
    "duration": 36,
    "start_time": "2022-12-20T06:58:01.324Z"
   },
   {
    "duration": 62,
    "start_time": "2022-12-20T06:58:01.361Z"
   },
   {
    "duration": 351,
    "start_time": "2022-12-20T06:58:01.425Z"
   },
   {
    "duration": 9,
    "start_time": "2022-12-20T06:58:01.778Z"
   },
   {
    "duration": 122,
    "start_time": "2022-12-20T06:58:01.788Z"
   },
   {
    "duration": 67,
    "start_time": "2022-12-20T06:58:01.912Z"
   },
   {
    "duration": 73,
    "start_time": "2022-12-20T06:58:01.980Z"
   },
   {
    "duration": 32,
    "start_time": "2022-12-20T06:58:02.055Z"
   },
   {
    "duration": 50,
    "start_time": "2022-12-20T06:58:02.089Z"
   },
   {
    "duration": 1076,
    "start_time": "2022-12-20T07:06:35.237Z"
   },
   {
    "duration": 35,
    "start_time": "2022-12-20T07:06:36.314Z"
   },
   {
    "duration": 9,
    "start_time": "2022-12-20T07:06:36.350Z"
   },
   {
    "duration": 6,
    "start_time": "2022-12-20T07:06:36.361Z"
   },
   {
    "duration": 7,
    "start_time": "2022-12-20T07:06:36.368Z"
   },
   {
    "duration": 7,
    "start_time": "2022-12-20T07:06:36.376Z"
   },
   {
    "duration": 6,
    "start_time": "2022-12-20T07:06:36.385Z"
   },
   {
    "duration": 19,
    "start_time": "2022-12-20T07:06:36.392Z"
   },
   {
    "duration": 11,
    "start_time": "2022-12-20T07:06:36.412Z"
   },
   {
    "duration": 70,
    "start_time": "2022-12-20T07:06:36.426Z"
   },
   {
    "duration": 19,
    "start_time": "2022-12-20T07:06:36.498Z"
   },
   {
    "duration": 18,
    "start_time": "2022-12-20T07:06:36.520Z"
   },
   {
    "duration": 5,
    "start_time": "2022-12-20T07:06:36.540Z"
   },
   {
    "duration": 24,
    "start_time": "2022-12-20T07:06:36.547Z"
   },
   {
    "duration": 16,
    "start_time": "2022-12-20T07:06:36.572Z"
   },
   {
    "duration": 9,
    "start_time": "2022-12-20T07:06:36.590Z"
   },
   {
    "duration": 30,
    "start_time": "2022-12-20T07:06:36.601Z"
   },
   {
    "duration": 20,
    "start_time": "2022-12-20T07:06:36.633Z"
   },
   {
    "duration": 10,
    "start_time": "2022-12-20T07:06:36.654Z"
   },
   {
    "duration": 457,
    "start_time": "2022-12-20T07:06:36.666Z"
   },
   {
    "duration": 56,
    "start_time": "2022-12-20T07:06:37.125Z"
   },
   {
    "duration": 122,
    "start_time": "2022-12-20T07:06:37.183Z"
   },
   {
    "duration": 16,
    "start_time": "2022-12-20T07:06:37.307Z"
   },
   {
    "duration": 5,
    "start_time": "2022-12-20T07:06:37.325Z"
   },
   {
    "duration": 297,
    "start_time": "2022-12-20T07:06:37.331Z"
   },
   {
    "duration": 594,
    "start_time": "2022-12-20T07:06:37.630Z"
   },
   {
    "duration": 23,
    "start_time": "2022-12-20T07:06:38.226Z"
   },
   {
    "duration": 69,
    "start_time": "2022-12-20T07:06:38.254Z"
   },
   {
    "duration": 48,
    "start_time": "2022-12-20T07:06:38.324Z"
   },
   {
    "duration": 66,
    "start_time": "2022-12-20T07:06:38.374Z"
   },
   {
    "duration": 148,
    "start_time": "2022-12-20T07:06:38.442Z"
   },
   {
    "duration": 32,
    "start_time": "2022-12-20T07:06:38.592Z"
   },
   {
    "duration": 80,
    "start_time": "2022-12-20T07:06:38.626Z"
   },
   {
    "duration": 40,
    "start_time": "2022-12-20T07:06:38.708Z"
   },
   {
    "duration": 11,
    "start_time": "2022-12-20T07:06:38.750Z"
   },
   {
    "duration": 10,
    "start_time": "2022-12-20T07:06:38.762Z"
   },
   {
    "duration": 8,
    "start_time": "2022-12-20T07:06:38.774Z"
   },
   {
    "duration": 5,
    "start_time": "2022-12-20T07:06:38.783Z"
   },
   {
    "duration": 6,
    "start_time": "2022-12-20T07:06:38.789Z"
   },
   {
    "duration": 197,
    "start_time": "2022-12-20T07:06:38.796Z"
   },
   {
    "duration": 353,
    "start_time": "2022-12-20T07:06:38.995Z"
   },
   {
    "duration": 12,
    "start_time": "2022-12-20T07:06:39.350Z"
   },
   {
    "duration": 27,
    "start_time": "2022-12-20T07:06:39.363Z"
   },
   {
    "duration": 165,
    "start_time": "2022-12-20T07:06:39.392Z"
   },
   {
    "duration": 3,
    "start_time": "2022-12-20T07:06:39.558Z"
   },
   {
    "duration": 30,
    "start_time": "2022-12-20T07:06:39.562Z"
   },
   {
    "duration": 729,
    "start_time": "2022-12-20T07:06:39.593Z"
   },
   {
    "duration": 22,
    "start_time": "2022-12-20T07:06:40.324Z"
   },
   {
    "duration": 31,
    "start_time": "2022-12-20T07:06:40.348Z"
   },
   {
    "duration": 48,
    "start_time": "2022-12-20T07:06:40.381Z"
   },
   {
    "duration": 5,
    "start_time": "2022-12-20T07:06:40.431Z"
   },
   {
    "duration": 12,
    "start_time": "2022-12-20T07:06:40.437Z"
   },
   {
    "duration": 13,
    "start_time": "2022-12-20T07:06:40.452Z"
   },
   {
    "duration": 7,
    "start_time": "2022-12-20T07:06:40.466Z"
   },
   {
    "duration": 279,
    "start_time": "2022-12-20T07:06:40.475Z"
   },
   {
    "duration": 136,
    "start_time": "2022-12-20T07:06:40.755Z"
   },
   {
    "duration": 9,
    "start_time": "2022-12-20T07:06:40.892Z"
   },
   {
    "duration": 205,
    "start_time": "2022-12-20T07:06:40.902Z"
   },
   {
    "duration": 25,
    "start_time": "2022-12-20T07:06:41.108Z"
   },
   {
    "duration": 22,
    "start_time": "2022-12-20T07:06:41.135Z"
   },
   {
    "duration": 6,
    "start_time": "2022-12-20T07:06:41.158Z"
   },
   {
    "duration": 4516,
    "start_time": "2022-12-20T07:06:41.165Z"
   },
   {
    "duration": 85,
    "start_time": "2022-12-20T07:06:45.683Z"
   },
   {
    "duration": 4,
    "start_time": "2022-12-20T07:06:45.769Z"
   },
   {
    "duration": 24,
    "start_time": "2022-12-20T07:06:45.775Z"
   },
   {
    "duration": 17,
    "start_time": "2022-12-20T07:06:45.800Z"
   },
   {
    "duration": 26,
    "start_time": "2022-12-20T07:06:45.819Z"
   },
   {
    "duration": 9,
    "start_time": "2022-12-20T07:06:45.846Z"
   },
   {
    "duration": 6,
    "start_time": "2022-12-20T07:06:45.857Z"
   },
   {
    "duration": 50,
    "start_time": "2022-12-20T07:06:45.865Z"
   },
   {
    "duration": 6,
    "start_time": "2022-12-20T07:06:45.916Z"
   },
   {
    "duration": 11,
    "start_time": "2022-12-20T07:06:45.924Z"
   },
   {
    "duration": 16,
    "start_time": "2022-12-20T07:06:45.937Z"
   },
   {
    "duration": 148,
    "start_time": "2022-12-20T07:06:45.955Z"
   },
   {
    "duration": 8,
    "start_time": "2022-12-20T07:06:46.105Z"
   },
   {
    "duration": 13,
    "start_time": "2022-12-20T07:06:46.120Z"
   },
   {
    "duration": 11,
    "start_time": "2022-12-20T07:06:46.134Z"
   },
   {
    "duration": 9,
    "start_time": "2022-12-20T07:06:46.146Z"
   },
   {
    "duration": 12,
    "start_time": "2022-12-20T07:06:46.157Z"
   },
   {
    "duration": 173,
    "start_time": "2022-12-20T07:06:46.170Z"
   },
   {
    "duration": 15,
    "start_time": "2022-12-20T07:06:46.344Z"
   },
   {
    "duration": 193,
    "start_time": "2022-12-20T07:06:46.364Z"
   },
   {
    "duration": 15,
    "start_time": "2022-12-20T07:06:46.559Z"
   },
   {
    "duration": 21,
    "start_time": "2022-12-20T07:06:46.576Z"
   },
   {
    "duration": 603,
    "start_time": "2022-12-20T07:06:46.599Z"
   },
   {
    "duration": 7,
    "start_time": "2022-12-20T07:06:47.204Z"
   },
   {
    "duration": 14,
    "start_time": "2022-12-20T07:06:47.222Z"
   },
   {
    "duration": 10,
    "start_time": "2022-12-20T07:06:47.237Z"
   },
   {
    "duration": 18,
    "start_time": "2022-12-20T07:06:47.248Z"
   },
   {
    "duration": 8,
    "start_time": "2022-12-20T07:06:47.268Z"
   },
   {
    "duration": 45,
    "start_time": "2022-12-20T07:06:47.277Z"
   },
   {
    "duration": 716,
    "start_time": "2022-12-20T07:06:47.324Z"
   },
   {
    "duration": 22,
    "start_time": "2022-12-20T07:06:48.041Z"
   },
   {
    "duration": 9,
    "start_time": "2022-12-20T07:06:48.064Z"
   },
   {
    "duration": 51,
    "start_time": "2022-12-20T07:06:48.074Z"
   },
   {
    "duration": 307,
    "start_time": "2022-12-20T07:06:48.127Z"
   },
   {
    "duration": 8,
    "start_time": "2022-12-20T07:06:48.435Z"
   },
   {
    "duration": 12,
    "start_time": "2022-12-20T07:06:48.445Z"
   },
   {
    "duration": 6,
    "start_time": "2022-12-20T07:06:48.458Z"
   },
   {
    "duration": 12,
    "start_time": "2022-12-20T07:06:48.465Z"
   },
   {
    "duration": 10,
    "start_time": "2022-12-20T07:06:48.478Z"
   },
   {
    "duration": 15,
    "start_time": "2022-12-20T07:06:48.489Z"
   },
   {
    "duration": 53,
    "start_time": "2022-12-20T08:17:25.271Z"
   },
   {
    "duration": 1314,
    "start_time": "2022-12-20T08:17:27.960Z"
   },
   {
    "duration": 75,
    "start_time": "2022-12-20T08:17:29.276Z"
   },
   {
    "duration": 9,
    "start_time": "2022-12-20T08:17:29.353Z"
   },
   {
    "duration": 10,
    "start_time": "2022-12-20T08:17:29.364Z"
   },
   {
    "duration": 5,
    "start_time": "2022-12-20T08:17:29.376Z"
   },
   {
    "duration": 7,
    "start_time": "2022-12-20T08:17:29.383Z"
   },
   {
    "duration": 8,
    "start_time": "2022-12-20T08:17:29.391Z"
   },
   {
    "duration": 6,
    "start_time": "2022-12-20T08:17:29.400Z"
   },
   {
    "duration": 10,
    "start_time": "2022-12-20T08:17:29.408Z"
   },
   {
    "duration": 188,
    "start_time": "2022-12-20T08:17:29.420Z"
   },
   {
    "duration": 19,
    "start_time": "2022-12-20T08:17:29.610Z"
   },
   {
    "duration": 16,
    "start_time": "2022-12-20T08:17:29.630Z"
   },
   {
    "duration": 5,
    "start_time": "2022-12-20T08:17:29.648Z"
   },
   {
    "duration": 6,
    "start_time": "2022-12-20T08:17:29.654Z"
   },
   {
    "duration": 8,
    "start_time": "2022-12-20T08:17:29.662Z"
   },
   {
    "duration": 28,
    "start_time": "2022-12-20T08:17:29.671Z"
   },
   {
    "duration": 30,
    "start_time": "2022-12-20T08:17:29.700Z"
   },
   {
    "duration": 19,
    "start_time": "2022-12-20T08:17:29.732Z"
   },
   {
    "duration": 8,
    "start_time": "2022-12-20T08:17:29.753Z"
   },
   {
    "duration": 628,
    "start_time": "2022-12-20T08:17:29.762Z"
   },
   {
    "duration": 57,
    "start_time": "2022-12-20T08:17:30.392Z"
   },
   {
    "duration": 119,
    "start_time": "2022-12-20T08:17:30.451Z"
   },
   {
    "duration": 6,
    "start_time": "2022-12-20T08:17:30.572Z"
   },
   {
    "duration": 33,
    "start_time": "2022-12-20T08:17:30.580Z"
   },
   {
    "duration": 288,
    "start_time": "2022-12-20T08:17:30.614Z"
   },
   {
    "duration": 562,
    "start_time": "2022-12-20T08:17:30.904Z"
   },
   {
    "duration": 32,
    "start_time": "2022-12-20T08:17:31.467Z"
   },
   {
    "duration": 53,
    "start_time": "2022-12-20T08:17:31.504Z"
   },
   {
    "duration": 61,
    "start_time": "2022-12-20T08:17:31.558Z"
   },
   {
    "duration": 57,
    "start_time": "2022-12-20T08:17:31.621Z"
   },
   {
    "duration": 153,
    "start_time": "2022-12-20T08:17:31.679Z"
   },
   {
    "duration": 24,
    "start_time": "2022-12-20T08:17:31.834Z"
   },
   {
    "duration": 109,
    "start_time": "2022-12-20T08:17:31.859Z"
   },
   {
    "duration": 83,
    "start_time": "2022-12-20T08:17:31.969Z"
   },
   {
    "duration": 12,
    "start_time": "2022-12-20T08:17:32.054Z"
   },
   {
    "duration": 11,
    "start_time": "2022-12-20T08:17:32.067Z"
   },
   {
    "duration": 8,
    "start_time": "2022-12-20T08:17:32.080Z"
   },
   {
    "duration": 5,
    "start_time": "2022-12-20T08:17:32.090Z"
   },
   {
    "duration": 12,
    "start_time": "2022-12-20T08:17:32.096Z"
   },
   {
    "duration": 167,
    "start_time": "2022-12-20T08:17:32.109Z"
   },
   {
    "duration": 376,
    "start_time": "2022-12-20T08:17:32.278Z"
   },
   {
    "duration": 12,
    "start_time": "2022-12-20T08:17:32.655Z"
   },
   {
    "duration": 42,
    "start_time": "2022-12-20T08:17:32.669Z"
   },
   {
    "duration": 163,
    "start_time": "2022-12-20T08:17:32.713Z"
   },
   {
    "duration": 3,
    "start_time": "2022-12-20T08:17:32.877Z"
   },
   {
    "duration": 55,
    "start_time": "2022-12-20T08:17:32.881Z"
   },
   {
    "duration": 882,
    "start_time": "2022-12-20T08:17:32.937Z"
   },
   {
    "duration": 18,
    "start_time": "2022-12-20T08:17:33.820Z"
   },
   {
    "duration": 36,
    "start_time": "2022-12-20T08:17:33.840Z"
   },
   {
    "duration": 31,
    "start_time": "2022-12-20T08:17:33.878Z"
   },
   {
    "duration": 6,
    "start_time": "2022-12-20T08:17:33.910Z"
   },
   {
    "duration": 20,
    "start_time": "2022-12-20T08:17:33.917Z"
   },
   {
    "duration": 43,
    "start_time": "2022-12-20T08:17:33.939Z"
   },
   {
    "duration": 11,
    "start_time": "2022-12-20T08:17:33.984Z"
   },
   {
    "duration": 243,
    "start_time": "2022-12-20T08:17:33.996Z"
   },
   {
    "duration": 132,
    "start_time": "2022-12-20T08:17:34.241Z"
   },
   {
    "duration": 8,
    "start_time": "2022-12-20T08:17:34.374Z"
   },
   {
    "duration": 205,
    "start_time": "2022-12-20T08:17:34.384Z"
   },
   {
    "duration": 26,
    "start_time": "2022-12-20T08:17:34.590Z"
   },
   {
    "duration": 33,
    "start_time": "2022-12-20T08:17:34.618Z"
   },
   {
    "duration": 6,
    "start_time": "2022-12-20T08:17:34.652Z"
   },
   {
    "duration": 4447,
    "start_time": "2022-12-20T08:17:34.660Z"
   },
   {
    "duration": 75,
    "start_time": "2022-12-20T08:17:39.109Z"
   },
   {
    "duration": 4,
    "start_time": "2022-12-20T08:17:39.197Z"
   },
   {
    "duration": 7,
    "start_time": "2022-12-20T08:17:39.203Z"
   },
   {
    "duration": 4,
    "start_time": "2022-12-20T08:17:39.211Z"
   },
   {
    "duration": 9,
    "start_time": "2022-12-20T08:17:39.217Z"
   },
   {
    "duration": 11,
    "start_time": "2022-12-20T08:17:39.228Z"
   },
   {
    "duration": 7,
    "start_time": "2022-12-20T08:17:39.241Z"
   },
   {
    "duration": 64,
    "start_time": "2022-12-20T08:17:39.249Z"
   },
   {
    "duration": 6,
    "start_time": "2022-12-20T08:17:39.315Z"
   },
   {
    "duration": 15,
    "start_time": "2022-12-20T08:17:39.322Z"
   },
   {
    "duration": 9,
    "start_time": "2022-12-20T08:17:39.338Z"
   },
   {
    "duration": 115,
    "start_time": "2022-12-20T08:17:39.349Z"
   },
   {
    "duration": 6,
    "start_time": "2022-12-20T08:17:39.466Z"
   },
   {
    "duration": 12,
    "start_time": "2022-12-20T08:17:39.474Z"
   },
   {
    "duration": 7,
    "start_time": "2022-12-20T08:17:39.497Z"
   },
   {
    "duration": 10,
    "start_time": "2022-12-20T08:17:39.505Z"
   },
   {
    "duration": 13,
    "start_time": "2022-12-20T08:17:39.516Z"
   },
   {
    "duration": 178,
    "start_time": "2022-12-20T08:17:39.531Z"
   },
   {
    "duration": 17,
    "start_time": "2022-12-20T08:17:39.711Z"
   },
   {
    "duration": 201,
    "start_time": "2022-12-20T08:17:39.733Z"
   },
   {
    "duration": 14,
    "start_time": "2022-12-20T08:17:39.936Z"
   },
   {
    "duration": 23,
    "start_time": "2022-12-20T08:17:39.951Z"
   },
   {
    "duration": 668,
    "start_time": "2022-12-20T08:17:39.976Z"
   },
   {
    "duration": 9,
    "start_time": "2022-12-20T08:17:40.646Z"
   },
   {
    "duration": 13,
    "start_time": "2022-12-20T08:17:40.656Z"
   },
   {
    "duration": 27,
    "start_time": "2022-12-20T08:17:40.671Z"
   },
   {
    "duration": 23,
    "start_time": "2022-12-20T08:17:40.699Z"
   },
   {
    "duration": 10,
    "start_time": "2022-12-20T08:17:40.724Z"
   },
   {
    "duration": 46,
    "start_time": "2022-12-20T08:17:40.736Z"
   },
   {
    "duration": 209,
    "start_time": "2022-12-20T08:17:40.784Z"
   },
   {
    "duration": 29,
    "start_time": "2022-12-20T08:17:40.996Z"
   },
   {
    "duration": 8,
    "start_time": "2022-12-20T08:17:41.026Z"
   },
   {
    "duration": 67,
    "start_time": "2022-12-20T08:17:41.036Z"
   },
   {
    "duration": 278,
    "start_time": "2022-12-20T08:17:41.105Z"
   },
   {
    "duration": 12,
    "start_time": "2022-12-20T08:17:41.385Z"
   },
   {
    "duration": 9,
    "start_time": "2022-12-20T08:17:41.399Z"
   },
   {
    "duration": 5,
    "start_time": "2022-12-20T08:17:41.409Z"
   },
   {
    "duration": 12,
    "start_time": "2022-12-20T08:17:41.415Z"
   },
   {
    "duration": 9,
    "start_time": "2022-12-20T08:17:41.428Z"
   },
   {
    "duration": 11,
    "start_time": "2022-12-20T08:17:41.439Z"
   },
   {
    "duration": 10,
    "start_time": "2022-12-20T08:18:11.606Z"
   },
   {
    "duration": 10,
    "start_time": "2022-12-20T08:19:29.950Z"
   },
   {
    "duration": 13,
    "start_time": "2022-12-20T08:29:53.694Z"
   },
   {
    "duration": 12,
    "start_time": "2022-12-20T08:29:59.085Z"
   },
   {
    "duration": 16,
    "start_time": "2022-12-20T08:31:03.910Z"
   },
   {
    "duration": 10,
    "start_time": "2022-12-20T08:33:48.834Z"
   },
   {
    "duration": 12,
    "start_time": "2022-12-20T08:34:29.969Z"
   },
   {
    "duration": 13,
    "start_time": "2022-12-20T08:35:13.334Z"
   },
   {
    "duration": 3,
    "start_time": "2022-12-20T08:35:43.879Z"
   },
   {
    "duration": 40,
    "start_time": "2022-12-20T08:35:43.885Z"
   },
   {
    "duration": 10,
    "start_time": "2022-12-20T08:35:43.926Z"
   },
   {
    "duration": 13,
    "start_time": "2022-12-20T08:35:43.938Z"
   },
   {
    "duration": 19,
    "start_time": "2022-12-20T08:35:43.959Z"
   },
   {
    "duration": 12,
    "start_time": "2022-12-20T08:35:43.980Z"
   },
   {
    "duration": 8,
    "start_time": "2022-12-20T08:35:43.993Z"
   },
   {
    "duration": 6,
    "start_time": "2022-12-20T08:35:44.003Z"
   },
   {
    "duration": 11,
    "start_time": "2022-12-20T08:35:44.011Z"
   },
   {
    "duration": 64,
    "start_time": "2022-12-20T08:35:44.023Z"
   },
   {
    "duration": 22,
    "start_time": "2022-12-20T08:35:44.089Z"
   },
   {
    "duration": 18,
    "start_time": "2022-12-20T08:35:44.113Z"
   },
   {
    "duration": 5,
    "start_time": "2022-12-20T08:35:44.133Z"
   },
   {
    "duration": 7,
    "start_time": "2022-12-20T08:35:44.139Z"
   },
   {
    "duration": 8,
    "start_time": "2022-12-20T08:35:44.147Z"
   },
   {
    "duration": 41,
    "start_time": "2022-12-20T08:35:44.157Z"
   },
   {
    "duration": 35,
    "start_time": "2022-12-20T08:35:44.200Z"
   },
   {
    "duration": 17,
    "start_time": "2022-12-20T08:35:44.237Z"
   },
   {
    "duration": 7,
    "start_time": "2022-12-20T08:35:44.256Z"
   },
   {
    "duration": 458,
    "start_time": "2022-12-20T08:35:44.264Z"
   },
   {
    "duration": 88,
    "start_time": "2022-12-20T08:35:44.724Z"
   },
   {
    "duration": 189,
    "start_time": "2022-12-20T08:35:44.814Z"
   },
   {
    "duration": 6,
    "start_time": "2022-12-20T08:35:45.006Z"
   },
   {
    "duration": 35,
    "start_time": "2022-12-20T08:35:45.015Z"
   },
   {
    "duration": 245,
    "start_time": "2022-12-20T08:35:45.052Z"
   },
   {
    "duration": 495,
    "start_time": "2022-12-20T08:35:45.299Z"
   },
   {
    "duration": 22,
    "start_time": "2022-12-20T08:35:45.796Z"
   },
   {
    "duration": 51,
    "start_time": "2022-12-20T08:35:45.820Z"
   },
   {
    "duration": 57,
    "start_time": "2022-12-20T08:35:45.875Z"
   },
   {
    "duration": 72,
    "start_time": "2022-12-20T08:35:45.934Z"
   },
   {
    "duration": 138,
    "start_time": "2022-12-20T08:35:46.008Z"
   },
   {
    "duration": 23,
    "start_time": "2022-12-20T08:35:46.147Z"
   },
   {
    "duration": 93,
    "start_time": "2022-12-20T08:35:46.171Z"
   },
   {
    "duration": 44,
    "start_time": "2022-12-20T08:35:46.266Z"
   },
   {
    "duration": 11,
    "start_time": "2022-12-20T08:35:46.312Z"
   },
   {
    "duration": 41,
    "start_time": "2022-12-20T08:35:46.324Z"
   },
   {
    "duration": 16,
    "start_time": "2022-12-20T08:35:46.366Z"
   },
   {
    "duration": 29,
    "start_time": "2022-12-20T08:35:46.383Z"
   },
   {
    "duration": 17,
    "start_time": "2022-12-20T08:35:46.414Z"
   },
   {
    "duration": 171,
    "start_time": "2022-12-20T08:35:46.433Z"
   },
   {
    "duration": 301,
    "start_time": "2022-12-20T08:35:46.606Z"
   },
   {
    "duration": 13,
    "start_time": "2022-12-20T08:35:46.908Z"
   },
   {
    "duration": 36,
    "start_time": "2022-12-20T08:35:46.923Z"
   },
   {
    "duration": 163,
    "start_time": "2022-12-20T08:35:46.961Z"
   },
   {
    "duration": 2,
    "start_time": "2022-12-20T08:35:47.125Z"
   },
   {
    "duration": 36,
    "start_time": "2022-12-20T08:35:47.129Z"
   },
   {
    "duration": 720,
    "start_time": "2022-12-20T08:35:47.167Z"
   },
   {
    "duration": 25,
    "start_time": "2022-12-20T08:35:47.888Z"
   },
   {
    "duration": 54,
    "start_time": "2022-12-20T08:35:47.914Z"
   },
   {
    "duration": 27,
    "start_time": "2022-12-20T08:35:47.973Z"
   },
   {
    "duration": 7,
    "start_time": "2022-12-20T08:35:48.001Z"
   },
   {
    "duration": 15,
    "start_time": "2022-12-20T08:35:48.009Z"
   },
   {
    "duration": 24,
    "start_time": "2022-12-20T08:35:48.026Z"
   },
   {
    "duration": 7,
    "start_time": "2022-12-20T08:35:48.051Z"
   },
   {
    "duration": 191,
    "start_time": "2022-12-20T08:35:48.060Z"
   },
   {
    "duration": 218,
    "start_time": "2022-12-20T08:35:48.253Z"
   },
   {
    "duration": 8,
    "start_time": "2022-12-20T08:35:48.473Z"
   },
   {
    "duration": 196,
    "start_time": "2022-12-20T08:35:48.482Z"
   },
   {
    "duration": 27,
    "start_time": "2022-12-20T08:35:48.680Z"
   },
   {
    "duration": 22,
    "start_time": "2022-12-20T08:35:48.708Z"
   },
   {
    "duration": 6,
    "start_time": "2022-12-20T08:35:48.731Z"
   },
   {
    "duration": 4430,
    "start_time": "2022-12-20T08:35:48.739Z"
   },
   {
    "duration": 79,
    "start_time": "2022-12-20T08:35:53.171Z"
   },
   {
    "duration": 4,
    "start_time": "2022-12-20T08:35:53.251Z"
   },
   {
    "duration": 43,
    "start_time": "2022-12-20T08:35:53.256Z"
   },
   {
    "duration": 24,
    "start_time": "2022-12-20T08:35:53.300Z"
   },
   {
    "duration": 44,
    "start_time": "2022-12-20T08:35:53.325Z"
   },
   {
    "duration": 7,
    "start_time": "2022-12-20T08:35:53.371Z"
   },
   {
    "duration": 8,
    "start_time": "2022-12-20T08:35:53.379Z"
   },
   {
    "duration": 40,
    "start_time": "2022-12-20T08:35:53.388Z"
   },
   {
    "duration": 8,
    "start_time": "2022-12-20T08:35:53.430Z"
   },
   {
    "duration": 11,
    "start_time": "2022-12-20T08:35:53.440Z"
   },
   {
    "duration": 10,
    "start_time": "2022-12-20T08:35:53.453Z"
   },
   {
    "duration": 47,
    "start_time": "2022-12-20T08:35:53.464Z"
   },
   {
    "duration": 7,
    "start_time": "2022-12-20T08:35:53.512Z"
   },
   {
    "duration": 8,
    "start_time": "2022-12-20T08:35:53.520Z"
   },
   {
    "duration": 8,
    "start_time": "2022-12-20T08:35:53.529Z"
   },
   {
    "duration": 8,
    "start_time": "2022-12-20T08:35:53.539Z"
   },
   {
    "duration": 11,
    "start_time": "2022-12-20T08:35:53.549Z"
   },
   {
    "duration": 176,
    "start_time": "2022-12-20T08:35:53.561Z"
   },
   {
    "duration": 16,
    "start_time": "2022-12-20T08:35:53.739Z"
   },
   {
    "duration": 200,
    "start_time": "2022-12-20T08:35:53.757Z"
   },
   {
    "duration": 23,
    "start_time": "2022-12-20T08:35:53.964Z"
   },
   {
    "duration": 42,
    "start_time": "2022-12-20T08:35:53.988Z"
   },
   {
    "duration": 584,
    "start_time": "2022-12-20T08:35:54.032Z"
   },
   {
    "duration": 8,
    "start_time": "2022-12-20T08:35:54.618Z"
   },
   {
    "duration": 13,
    "start_time": "2022-12-20T08:35:54.627Z"
   },
   {
    "duration": 9,
    "start_time": "2022-12-20T08:35:54.642Z"
   },
   {
    "duration": 20,
    "start_time": "2022-12-20T08:35:54.653Z"
   },
   {
    "duration": 9,
    "start_time": "2022-12-20T08:35:54.697Z"
   },
   {
    "duration": 24,
    "start_time": "2022-12-20T08:35:54.708Z"
   },
   {
    "duration": 12,
    "start_time": "2022-12-20T08:35:54.734Z"
   },
   {
    "duration": 26,
    "start_time": "2022-12-20T08:35:54.748Z"
   },
   {
    "duration": 24,
    "start_time": "2022-12-20T08:35:54.776Z"
   },
   {
    "duration": 17,
    "start_time": "2022-12-20T08:35:54.802Z"
   },
   {
    "duration": 314,
    "start_time": "2022-12-20T08:35:54.820Z"
   },
   {
    "duration": 8,
    "start_time": "2022-12-20T08:35:55.136Z"
   },
   {
    "duration": 95,
    "start_time": "2022-12-20T08:35:55.146Z"
   },
   {
    "duration": 62,
    "start_time": "2022-12-20T08:35:55.243Z"
   },
   {
    "duration": 81,
    "start_time": "2022-12-20T08:35:55.306Z"
   },
   {
    "duration": 52,
    "start_time": "2022-12-20T08:35:55.389Z"
   },
   {
    "duration": 46,
    "start_time": "2022-12-20T08:35:55.443Z"
   },
   {
    "duration": 1117,
    "start_time": "2022-12-20T08:36:07.443Z"
   },
   {
    "duration": 36,
    "start_time": "2022-12-20T08:36:08.562Z"
   },
   {
    "duration": 9,
    "start_time": "2022-12-20T08:36:08.600Z"
   },
   {
    "duration": 13,
    "start_time": "2022-12-20T08:36:08.612Z"
   },
   {
    "duration": 19,
    "start_time": "2022-12-20T08:36:08.626Z"
   },
   {
    "duration": 6,
    "start_time": "2022-12-20T08:36:08.647Z"
   },
   {
    "duration": 22,
    "start_time": "2022-12-20T08:36:08.655Z"
   },
   {
    "duration": 18,
    "start_time": "2022-12-20T08:36:08.678Z"
   },
   {
    "duration": 22,
    "start_time": "2022-12-20T08:36:08.697Z"
   },
   {
    "duration": 82,
    "start_time": "2022-12-20T08:36:08.721Z"
   },
   {
    "duration": 22,
    "start_time": "2022-12-20T08:36:08.805Z"
   },
   {
    "duration": 19,
    "start_time": "2022-12-20T08:36:08.829Z"
   },
   {
    "duration": 4,
    "start_time": "2022-12-20T08:36:08.850Z"
   },
   {
    "duration": 9,
    "start_time": "2022-12-20T08:36:08.856Z"
   },
   {
    "duration": 17,
    "start_time": "2022-12-20T08:36:08.867Z"
   },
   {
    "duration": 18,
    "start_time": "2022-12-20T08:36:08.885Z"
   },
   {
    "duration": 36,
    "start_time": "2022-12-20T08:36:08.904Z"
   },
   {
    "duration": 21,
    "start_time": "2022-12-20T08:36:08.941Z"
   },
   {
    "duration": 8,
    "start_time": "2022-12-20T08:36:08.963Z"
   },
   {
    "duration": 504,
    "start_time": "2022-12-20T08:36:08.972Z"
   },
   {
    "duration": 68,
    "start_time": "2022-12-20T08:36:09.477Z"
   },
   {
    "duration": 121,
    "start_time": "2022-12-20T08:36:09.547Z"
   },
   {
    "duration": 5,
    "start_time": "2022-12-20T08:36:09.669Z"
   },
   {
    "duration": 22,
    "start_time": "2022-12-20T08:36:09.675Z"
   },
   {
    "duration": 252,
    "start_time": "2022-12-20T08:36:09.699Z"
   },
   {
    "duration": 634,
    "start_time": "2022-12-20T08:36:09.954Z"
   },
   {
    "duration": 28,
    "start_time": "2022-12-20T08:36:10.590Z"
   },
   {
    "duration": 60,
    "start_time": "2022-12-20T08:36:10.623Z"
   },
   {
    "duration": 60,
    "start_time": "2022-12-20T08:36:10.685Z"
   },
   {
    "duration": 70,
    "start_time": "2022-12-20T08:36:10.747Z"
   },
   {
    "duration": 146,
    "start_time": "2022-12-20T08:36:10.819Z"
   },
   {
    "duration": 31,
    "start_time": "2022-12-20T08:36:10.967Z"
   },
   {
    "duration": 77,
    "start_time": "2022-12-20T08:36:10.999Z"
   },
   {
    "duration": 44,
    "start_time": "2022-12-20T08:36:11.077Z"
   },
   {
    "duration": 15,
    "start_time": "2022-12-20T08:36:11.123Z"
   },
   {
    "duration": 32,
    "start_time": "2022-12-20T08:36:11.139Z"
   },
   {
    "duration": 12,
    "start_time": "2022-12-20T08:36:11.173Z"
   },
   {
    "duration": 14,
    "start_time": "2022-12-20T08:36:11.187Z"
   },
   {
    "duration": 15,
    "start_time": "2022-12-20T08:36:11.202Z"
   },
   {
    "duration": 187,
    "start_time": "2022-12-20T08:36:11.219Z"
   },
   {
    "duration": 325,
    "start_time": "2022-12-20T08:36:11.408Z"
   },
   {
    "duration": 14,
    "start_time": "2022-12-20T08:36:11.734Z"
   },
   {
    "duration": 52,
    "start_time": "2022-12-20T08:36:11.750Z"
   },
   {
    "duration": 167,
    "start_time": "2022-12-20T08:36:11.803Z"
   },
   {
    "duration": 3,
    "start_time": "2022-12-20T08:36:11.972Z"
   },
   {
    "duration": 44,
    "start_time": "2022-12-20T08:36:11.976Z"
   },
   {
    "duration": 735,
    "start_time": "2022-12-20T08:36:12.021Z"
   },
   {
    "duration": 17,
    "start_time": "2022-12-20T08:36:12.758Z"
   },
   {
    "duration": 40,
    "start_time": "2022-12-20T08:36:12.777Z"
   },
   {
    "duration": 24,
    "start_time": "2022-12-20T08:36:12.819Z"
   },
   {
    "duration": 6,
    "start_time": "2022-12-20T08:36:12.844Z"
   },
   {
    "duration": 24,
    "start_time": "2022-12-20T08:36:12.851Z"
   },
   {
    "duration": 26,
    "start_time": "2022-12-20T08:36:12.877Z"
   },
   {
    "duration": 28,
    "start_time": "2022-12-20T08:36:12.905Z"
   },
   {
    "duration": 302,
    "start_time": "2022-12-20T08:36:12.934Z"
   },
   {
    "duration": 148,
    "start_time": "2022-12-20T08:36:13.237Z"
   },
   {
    "duration": 11,
    "start_time": "2022-12-20T08:36:13.387Z"
   },
   {
    "duration": 222,
    "start_time": "2022-12-20T08:36:13.400Z"
   },
   {
    "duration": 23,
    "start_time": "2022-12-20T08:36:13.624Z"
   },
   {
    "duration": 51,
    "start_time": "2022-12-20T08:36:13.649Z"
   },
   {
    "duration": 7,
    "start_time": "2022-12-20T08:36:13.701Z"
   },
   {
    "duration": 4744,
    "start_time": "2022-12-20T08:36:13.710Z"
   },
   {
    "duration": 82,
    "start_time": "2022-12-20T08:36:18.456Z"
   },
   {
    "duration": 4,
    "start_time": "2022-12-20T08:36:18.540Z"
   },
   {
    "duration": 15,
    "start_time": "2022-12-20T08:36:18.546Z"
   },
   {
    "duration": 13,
    "start_time": "2022-12-20T08:36:18.563Z"
   },
   {
    "duration": 11,
    "start_time": "2022-12-20T08:36:18.577Z"
   },
   {
    "duration": 16,
    "start_time": "2022-12-20T08:36:18.590Z"
   },
   {
    "duration": 13,
    "start_time": "2022-12-20T08:36:18.608Z"
   },
   {
    "duration": 61,
    "start_time": "2022-12-20T08:36:18.622Z"
   },
   {
    "duration": 6,
    "start_time": "2022-12-20T08:36:18.684Z"
   },
   {
    "duration": 15,
    "start_time": "2022-12-20T08:36:18.691Z"
   },
   {
    "duration": 11,
    "start_time": "2022-12-20T08:36:18.708Z"
   },
   {
    "duration": 107,
    "start_time": "2022-12-20T08:36:18.721Z"
   },
   {
    "duration": 6,
    "start_time": "2022-12-20T08:36:18.830Z"
   },
   {
    "duration": 37,
    "start_time": "2022-12-20T08:36:18.837Z"
   },
   {
    "duration": 19,
    "start_time": "2022-12-20T08:36:18.875Z"
   },
   {
    "duration": 9,
    "start_time": "2022-12-20T08:36:18.896Z"
   },
   {
    "duration": 14,
    "start_time": "2022-12-20T08:36:18.906Z"
   },
   {
    "duration": 191,
    "start_time": "2022-12-20T08:36:18.921Z"
   },
   {
    "duration": 15,
    "start_time": "2022-12-20T08:36:19.114Z"
   },
   {
    "duration": 180,
    "start_time": "2022-12-20T08:36:19.135Z"
   },
   {
    "duration": 11,
    "start_time": "2022-12-20T08:36:19.317Z"
   },
   {
    "duration": 21,
    "start_time": "2022-12-20T08:36:19.329Z"
   },
   {
    "duration": 553,
    "start_time": "2022-12-20T08:36:19.352Z"
   },
   {
    "duration": 7,
    "start_time": "2022-12-20T08:36:19.907Z"
   },
   {
    "duration": 15,
    "start_time": "2022-12-20T08:36:19.916Z"
   },
   {
    "duration": 10,
    "start_time": "2022-12-20T08:36:19.933Z"
   },
   {
    "duration": 19,
    "start_time": "2022-12-20T08:36:19.944Z"
   },
   {
    "duration": 38,
    "start_time": "2022-12-20T08:36:19.965Z"
   },
   {
    "duration": 25,
    "start_time": "2022-12-20T08:36:20.005Z"
   },
   {
    "duration": 163,
    "start_time": "2022-12-20T08:36:20.031Z"
   },
   {
    "duration": 20,
    "start_time": "2022-12-20T08:36:20.195Z"
   },
   {
    "duration": 8,
    "start_time": "2022-12-20T08:36:20.217Z"
   },
   {
    "duration": 14,
    "start_time": "2022-12-20T08:36:20.226Z"
   },
   {
    "duration": 325,
    "start_time": "2022-12-20T08:36:20.241Z"
   },
   {
    "duration": 9,
    "start_time": "2022-12-20T08:36:20.567Z"
   },
   {
    "duration": 55,
    "start_time": "2022-12-20T08:36:20.578Z"
   },
   {
    "duration": 18,
    "start_time": "2022-12-20T08:36:20.634Z"
   },
   {
    "duration": 32,
    "start_time": "2022-12-20T08:36:20.654Z"
   },
   {
    "duration": 9,
    "start_time": "2022-12-20T08:36:20.687Z"
   },
   {
    "duration": 21,
    "start_time": "2022-12-20T08:36:20.698Z"
   },
   {
    "duration": 4,
    "start_time": "2022-12-20T08:41:35.672Z"
   },
   {
    "duration": 48,
    "start_time": "2022-12-20T08:41:35.680Z"
   },
   {
    "duration": 8,
    "start_time": "2022-12-20T08:41:35.730Z"
   },
   {
    "duration": 7,
    "start_time": "2022-12-20T08:41:35.739Z"
   },
   {
    "duration": 13,
    "start_time": "2022-12-20T08:41:35.748Z"
   },
   {
    "duration": 13,
    "start_time": "2022-12-20T08:41:35.762Z"
   },
   {
    "duration": 8,
    "start_time": "2022-12-20T08:41:35.777Z"
   },
   {
    "duration": 8,
    "start_time": "2022-12-20T08:41:35.787Z"
   },
   {
    "duration": 12,
    "start_time": "2022-12-20T08:41:35.796Z"
   },
   {
    "duration": 67,
    "start_time": "2022-12-20T08:41:35.809Z"
   },
   {
    "duration": 23,
    "start_time": "2022-12-20T08:41:35.879Z"
   },
   {
    "duration": 30,
    "start_time": "2022-12-20T08:41:35.904Z"
   },
   {
    "duration": 4,
    "start_time": "2022-12-20T08:41:35.936Z"
   },
   {
    "duration": 23,
    "start_time": "2022-12-20T08:41:35.942Z"
   },
   {
    "duration": 24,
    "start_time": "2022-12-20T08:41:35.966Z"
   },
   {
    "duration": 16,
    "start_time": "2022-12-20T08:41:35.991Z"
   },
   {
    "duration": 46,
    "start_time": "2022-12-20T08:41:36.008Z"
   },
   {
    "duration": 18,
    "start_time": "2022-12-20T08:41:36.056Z"
   },
   {
    "duration": 13,
    "start_time": "2022-12-20T08:41:36.075Z"
   },
   {
    "duration": 440,
    "start_time": "2022-12-20T08:41:36.089Z"
   },
   {
    "duration": 67,
    "start_time": "2022-12-20T08:41:36.531Z"
   },
   {
    "duration": 108,
    "start_time": "2022-12-20T08:41:36.599Z"
   },
   {
    "duration": 6,
    "start_time": "2022-12-20T08:41:36.708Z"
   },
   {
    "duration": 6,
    "start_time": "2022-12-20T08:41:36.716Z"
   },
   {
    "duration": 257,
    "start_time": "2022-12-20T08:41:36.723Z"
   },
   {
    "duration": 496,
    "start_time": "2022-12-20T08:41:36.982Z"
   },
   {
    "duration": 26,
    "start_time": "2022-12-20T08:41:37.480Z"
   },
   {
    "duration": 54,
    "start_time": "2022-12-20T08:41:37.508Z"
   },
   {
    "duration": 71,
    "start_time": "2022-12-20T08:41:37.568Z"
   },
   {
    "duration": 65,
    "start_time": "2022-12-20T08:41:37.641Z"
   },
   {
    "duration": 144,
    "start_time": "2022-12-20T08:41:37.708Z"
   },
   {
    "duration": 20,
    "start_time": "2022-12-20T08:41:37.854Z"
   },
   {
    "duration": 100,
    "start_time": "2022-12-20T08:41:37.876Z"
   },
   {
    "duration": 54,
    "start_time": "2022-12-20T08:41:37.978Z"
   },
   {
    "duration": 14,
    "start_time": "2022-12-20T08:41:38.034Z"
   },
   {
    "duration": 15,
    "start_time": "2022-12-20T08:41:38.050Z"
   },
   {
    "duration": 17,
    "start_time": "2022-12-20T08:41:38.066Z"
   },
   {
    "duration": 14,
    "start_time": "2022-12-20T08:41:38.084Z"
   },
   {
    "duration": 8,
    "start_time": "2022-12-20T08:41:38.100Z"
   },
   {
    "duration": 232,
    "start_time": "2022-12-20T08:41:38.109Z"
   },
   {
    "duration": 320,
    "start_time": "2022-12-20T08:41:38.343Z"
   },
   {
    "duration": 12,
    "start_time": "2022-12-20T08:41:38.665Z"
   },
   {
    "duration": 55,
    "start_time": "2022-12-20T08:41:38.678Z"
   },
   {
    "duration": 158,
    "start_time": "2022-12-20T08:41:38.735Z"
   },
   {
    "duration": 3,
    "start_time": "2022-12-20T08:41:38.895Z"
   },
   {
    "duration": 43,
    "start_time": "2022-12-20T08:41:38.899Z"
   },
   {
    "duration": 774,
    "start_time": "2022-12-20T08:41:38.944Z"
   },
   {
    "duration": 26,
    "start_time": "2022-12-20T08:41:39.720Z"
   },
   {
    "duration": 50,
    "start_time": "2022-12-20T08:41:39.748Z"
   },
   {
    "duration": 25,
    "start_time": "2022-12-20T08:41:39.800Z"
   },
   {
    "duration": 6,
    "start_time": "2022-12-20T08:41:39.827Z"
   },
   {
    "duration": 20,
    "start_time": "2022-12-20T08:41:39.835Z"
   },
   {
    "duration": 31,
    "start_time": "2022-12-20T08:41:39.857Z"
   },
   {
    "duration": 16,
    "start_time": "2022-12-20T08:41:39.890Z"
   },
   {
    "duration": 232,
    "start_time": "2022-12-20T08:41:39.907Z"
   },
   {
    "duration": 231,
    "start_time": "2022-12-20T08:41:40.140Z"
   },
   {
    "duration": 9,
    "start_time": "2022-12-20T08:41:40.373Z"
   },
   {
    "duration": 231,
    "start_time": "2022-12-20T08:41:40.383Z"
   },
   {
    "duration": 32,
    "start_time": "2022-12-20T08:41:40.617Z"
   },
   {
    "duration": 48,
    "start_time": "2022-12-20T08:41:40.651Z"
   },
   {
    "duration": 8,
    "start_time": "2022-12-20T08:41:40.701Z"
   },
   {
    "duration": 4796,
    "start_time": "2022-12-20T08:41:40.711Z"
   },
   {
    "duration": 78,
    "start_time": "2022-12-20T08:41:45.509Z"
   },
   {
    "duration": 5,
    "start_time": "2022-12-20T08:41:45.597Z"
   },
   {
    "duration": 14,
    "start_time": "2022-12-20T08:41:45.603Z"
   },
   {
    "duration": 16,
    "start_time": "2022-12-20T08:41:45.619Z"
   },
   {
    "duration": 33,
    "start_time": "2022-12-20T08:41:45.636Z"
   },
   {
    "duration": 15,
    "start_time": "2022-12-20T08:41:45.670Z"
   },
   {
    "duration": 30,
    "start_time": "2022-12-20T08:41:45.687Z"
   },
   {
    "duration": 64,
    "start_time": "2022-12-20T08:41:45.719Z"
   },
   {
    "duration": 7,
    "start_time": "2022-12-20T08:41:45.785Z"
   },
   {
    "duration": 19,
    "start_time": "2022-12-20T08:41:45.794Z"
   },
   {
    "duration": 12,
    "start_time": "2022-12-20T08:41:45.815Z"
   },
   {
    "duration": 54,
    "start_time": "2022-12-20T08:41:45.828Z"
   },
   {
    "duration": 7,
    "start_time": "2022-12-20T08:41:45.884Z"
   },
   {
    "duration": 12,
    "start_time": "2022-12-20T08:41:45.892Z"
   },
   {
    "duration": 14,
    "start_time": "2022-12-20T08:41:45.905Z"
   },
   {
    "duration": 22,
    "start_time": "2022-12-20T08:41:45.921Z"
   },
   {
    "duration": 38,
    "start_time": "2022-12-20T08:41:45.945Z"
   },
   {
    "duration": 186,
    "start_time": "2022-12-20T08:41:45.985Z"
   },
   {
    "duration": 15,
    "start_time": "2022-12-20T08:41:46.172Z"
   },
   {
    "duration": 198,
    "start_time": "2022-12-20T08:41:46.189Z"
   },
   {
    "duration": 15,
    "start_time": "2022-12-20T08:41:46.399Z"
   },
   {
    "duration": 35,
    "start_time": "2022-12-20T08:41:46.415Z"
   },
   {
    "duration": 610,
    "start_time": "2022-12-20T08:41:46.451Z"
   },
   {
    "duration": 8,
    "start_time": "2022-12-20T08:41:47.063Z"
   },
   {
    "duration": 29,
    "start_time": "2022-12-20T08:41:47.072Z"
   },
   {
    "duration": 15,
    "start_time": "2022-12-20T08:41:47.103Z"
   },
   {
    "duration": 22,
    "start_time": "2022-12-20T08:41:47.120Z"
   },
   {
    "duration": 16,
    "start_time": "2022-12-20T08:41:47.143Z"
   },
   {
    "duration": 32,
    "start_time": "2022-12-20T08:41:47.160Z"
   },
   {
    "duration": 8,
    "start_time": "2022-12-20T08:41:47.194Z"
   },
   {
    "duration": 35,
    "start_time": "2022-12-20T08:41:47.203Z"
   },
   {
    "duration": 8,
    "start_time": "2022-12-20T08:41:47.240Z"
   },
   {
    "duration": 13,
    "start_time": "2022-12-20T08:41:47.250Z"
   },
   {
    "duration": 292,
    "start_time": "2022-12-20T08:41:47.265Z"
   },
   {
    "duration": 9,
    "start_time": "2022-12-20T08:41:47.559Z"
   },
   {
    "duration": 25,
    "start_time": "2022-12-20T08:41:47.570Z"
   },
   {
    "duration": 18,
    "start_time": "2022-12-20T08:41:47.597Z"
   },
   {
    "duration": 41,
    "start_time": "2022-12-20T08:41:47.616Z"
   },
   {
    "duration": 36,
    "start_time": "2022-12-20T08:41:47.658Z"
   },
   {
    "duration": 14,
    "start_time": "2022-12-20T08:41:47.696Z"
   },
   {
    "duration": 4,
    "start_time": "2022-12-20T08:44:01.773Z"
   },
   {
    "duration": 41,
    "start_time": "2022-12-20T08:44:01.779Z"
   },
   {
    "duration": 9,
    "start_time": "2022-12-20T08:44:01.822Z"
   },
   {
    "duration": 10,
    "start_time": "2022-12-20T08:44:01.832Z"
   },
   {
    "duration": 5,
    "start_time": "2022-12-20T08:44:01.845Z"
   },
   {
    "duration": 8,
    "start_time": "2022-12-20T08:44:01.852Z"
   },
   {
    "duration": 23,
    "start_time": "2022-12-20T08:44:01.862Z"
   },
   {
    "duration": 12,
    "start_time": "2022-12-20T08:44:01.887Z"
   },
   {
    "duration": 18,
    "start_time": "2022-12-20T08:44:01.901Z"
   },
   {
    "duration": 99,
    "start_time": "2022-12-20T08:44:01.921Z"
   },
   {
    "duration": 28,
    "start_time": "2022-12-20T08:44:02.024Z"
   },
   {
    "duration": 163,
    "start_time": "2022-12-20T08:44:02.055Z"
   },
   {
    "duration": 18,
    "start_time": "2022-12-20T08:44:02.220Z"
   },
   {
    "duration": 10,
    "start_time": "2022-12-20T08:44:02.240Z"
   },
   {
    "duration": 9,
    "start_time": "2022-12-20T08:44:02.252Z"
   },
   {
    "duration": 13,
    "start_time": "2022-12-20T08:44:02.263Z"
   },
   {
    "duration": 33,
    "start_time": "2022-12-20T08:44:02.278Z"
   },
   {
    "duration": 20,
    "start_time": "2022-12-20T08:44:02.312Z"
   },
   {
    "duration": 8,
    "start_time": "2022-12-20T08:44:02.334Z"
   },
   {
    "duration": 443,
    "start_time": "2022-12-20T08:44:02.344Z"
   },
   {
    "duration": 65,
    "start_time": "2022-12-20T08:44:02.788Z"
   },
   {
    "duration": 123,
    "start_time": "2022-12-20T08:44:02.855Z"
   },
   {
    "duration": 6,
    "start_time": "2022-12-20T08:44:02.979Z"
   },
   {
    "duration": 15,
    "start_time": "2022-12-20T08:44:02.986Z"
   },
   {
    "duration": 240,
    "start_time": "2022-12-20T08:44:03.002Z"
   },
   {
    "duration": 525,
    "start_time": "2022-12-20T08:44:03.244Z"
   },
   {
    "duration": 31,
    "start_time": "2022-12-20T08:44:03.771Z"
   },
   {
    "duration": 56,
    "start_time": "2022-12-20T08:44:03.803Z"
   },
   {
    "duration": 60,
    "start_time": "2022-12-20T08:44:03.863Z"
   },
   {
    "duration": 78,
    "start_time": "2022-12-20T08:44:03.926Z"
   },
   {
    "duration": 141,
    "start_time": "2022-12-20T08:44:04.007Z"
   },
   {
    "duration": 25,
    "start_time": "2022-12-20T08:44:04.150Z"
   },
   {
    "duration": 90,
    "start_time": "2022-12-20T08:44:04.177Z"
   },
   {
    "duration": 43,
    "start_time": "2022-12-20T08:44:04.269Z"
   },
   {
    "duration": 15,
    "start_time": "2022-12-20T08:44:04.314Z"
   },
   {
    "duration": 20,
    "start_time": "2022-12-20T08:44:04.331Z"
   },
   {
    "duration": 9,
    "start_time": "2022-12-20T08:44:04.352Z"
   },
   {
    "duration": 6,
    "start_time": "2022-12-20T08:44:04.362Z"
   },
   {
    "duration": 33,
    "start_time": "2022-12-20T08:44:04.370Z"
   },
   {
    "duration": 211,
    "start_time": "2022-12-20T08:44:04.405Z"
   },
   {
    "duration": 435,
    "start_time": "2022-12-20T08:44:04.618Z"
   },
   {
    "duration": 13,
    "start_time": "2022-12-20T08:44:05.054Z"
   },
   {
    "duration": 41,
    "start_time": "2022-12-20T08:44:05.068Z"
   },
   {
    "duration": 157,
    "start_time": "2022-12-20T08:44:05.111Z"
   },
   {
    "duration": 3,
    "start_time": "2022-12-20T08:44:05.270Z"
   },
   {
    "duration": 124,
    "start_time": "2022-12-20T08:44:05.275Z"
   },
   {
    "duration": 785,
    "start_time": "2022-12-20T08:44:05.401Z"
   },
   {
    "duration": 21,
    "start_time": "2022-12-20T08:44:06.188Z"
   },
   {
    "duration": 29,
    "start_time": "2022-12-20T08:44:06.211Z"
   },
   {
    "duration": 29,
    "start_time": "2022-12-20T08:44:06.241Z"
   },
   {
    "duration": 29,
    "start_time": "2022-12-20T08:44:06.271Z"
   },
   {
    "duration": 8,
    "start_time": "2022-12-20T08:44:06.302Z"
   },
   {
    "duration": 18,
    "start_time": "2022-12-20T08:44:06.311Z"
   },
   {
    "duration": 8,
    "start_time": "2022-12-20T08:44:06.330Z"
   },
   {
    "duration": 186,
    "start_time": "2022-12-20T08:44:06.339Z"
   },
   {
    "duration": 139,
    "start_time": "2022-12-20T08:44:06.526Z"
   },
   {
    "duration": 10,
    "start_time": "2022-12-20T08:44:06.667Z"
   },
   {
    "duration": 204,
    "start_time": "2022-12-20T08:44:06.678Z"
   },
   {
    "duration": 27,
    "start_time": "2022-12-20T08:44:06.884Z"
   },
   {
    "duration": 21,
    "start_time": "2022-12-20T08:44:06.913Z"
   },
   {
    "duration": 5,
    "start_time": "2022-12-20T08:44:06.936Z"
   },
   {
    "duration": 4548,
    "start_time": "2022-12-20T08:44:06.943Z"
   },
   {
    "duration": 70,
    "start_time": "2022-12-20T08:44:11.493Z"
   },
   {
    "duration": 4,
    "start_time": "2022-12-20T08:44:11.565Z"
   },
   {
    "duration": 10,
    "start_time": "2022-12-20T08:44:11.570Z"
   },
   {
    "duration": 4,
    "start_time": "2022-12-20T08:44:11.596Z"
   },
   {
    "duration": 11,
    "start_time": "2022-12-20T08:44:11.601Z"
   },
   {
    "duration": 7,
    "start_time": "2022-12-20T08:44:11.613Z"
   },
   {
    "duration": 11,
    "start_time": "2022-12-20T08:44:11.622Z"
   },
   {
    "duration": 55,
    "start_time": "2022-12-20T08:44:11.635Z"
   },
   {
    "duration": 11,
    "start_time": "2022-12-20T08:44:11.692Z"
   },
   {
    "duration": 8,
    "start_time": "2022-12-20T08:44:11.704Z"
   },
   {
    "duration": 8,
    "start_time": "2022-12-20T08:44:11.713Z"
   },
   {
    "duration": 44,
    "start_time": "2022-12-20T08:44:11.722Z"
   },
   {
    "duration": 31,
    "start_time": "2022-12-20T08:44:11.768Z"
   },
   {
    "duration": 9,
    "start_time": "2022-12-20T08:44:11.801Z"
   },
   {
    "duration": 14,
    "start_time": "2022-12-20T08:44:11.812Z"
   },
   {
    "duration": 10,
    "start_time": "2022-12-20T08:44:11.828Z"
   },
   {
    "duration": 12,
    "start_time": "2022-12-20T08:44:11.840Z"
   },
   {
    "duration": 207,
    "start_time": "2022-12-20T08:44:11.853Z"
   },
   {
    "duration": 15,
    "start_time": "2022-12-20T08:44:12.061Z"
   },
   {
    "duration": 189,
    "start_time": "2022-12-20T08:44:12.078Z"
   },
   {
    "duration": 13,
    "start_time": "2022-12-20T08:44:12.272Z"
   },
   {
    "duration": 18,
    "start_time": "2022-12-20T08:44:12.297Z"
   },
   {
    "duration": 703,
    "start_time": "2022-12-20T08:44:12.317Z"
   },
   {
    "duration": 9,
    "start_time": "2022-12-20T08:44:13.022Z"
   },
   {
    "duration": 14,
    "start_time": "2022-12-20T08:44:13.032Z"
   },
   {
    "duration": 10,
    "start_time": "2022-12-20T08:44:13.048Z"
   },
   {
    "duration": 45,
    "start_time": "2022-12-20T08:44:13.060Z"
   },
   {
    "duration": 8,
    "start_time": "2022-12-20T08:44:13.107Z"
   },
   {
    "duration": 25,
    "start_time": "2022-12-20T08:44:13.116Z"
   },
   {
    "duration": 9,
    "start_time": "2022-12-20T08:44:13.143Z"
   },
   {
    "duration": 51,
    "start_time": "2022-12-20T08:44:13.153Z"
   },
   {
    "duration": 7,
    "start_time": "2022-12-20T08:44:13.206Z"
   },
   {
    "duration": 14,
    "start_time": "2022-12-20T08:44:13.215Z"
   },
   {
    "duration": 245,
    "start_time": "2022-12-20T08:44:13.230Z"
   },
   {
    "duration": 9,
    "start_time": "2022-12-20T08:44:13.476Z"
   },
   {
    "duration": 10,
    "start_time": "2022-12-20T08:44:13.497Z"
   },
   {
    "duration": 5,
    "start_time": "2022-12-20T08:44:13.508Z"
   },
   {
    "duration": 17,
    "start_time": "2022-12-20T08:44:13.514Z"
   },
   {
    "duration": 6,
    "start_time": "2022-12-20T08:44:13.533Z"
   },
   {
    "duration": 9,
    "start_time": "2022-12-20T08:44:13.541Z"
   },
   {
    "duration": 1103,
    "start_time": "2022-12-20T16:12:50.879Z"
   },
   {
    "duration": 36,
    "start_time": "2022-12-20T16:12:51.984Z"
   },
   {
    "duration": 10,
    "start_time": "2022-12-20T16:12:52.022Z"
   },
   {
    "duration": 10,
    "start_time": "2022-12-20T16:12:52.034Z"
   },
   {
    "duration": 11,
    "start_time": "2022-12-20T16:12:52.047Z"
   },
   {
    "duration": 7,
    "start_time": "2022-12-20T16:12:52.060Z"
   },
   {
    "duration": 8,
    "start_time": "2022-12-20T16:12:52.068Z"
   },
   {
    "duration": 8,
    "start_time": "2022-12-20T16:12:52.077Z"
   },
   {
    "duration": 13,
    "start_time": "2022-12-20T16:12:52.086Z"
   },
   {
    "duration": 79,
    "start_time": "2022-12-20T16:12:52.100Z"
   },
   {
    "duration": 17,
    "start_time": "2022-12-20T16:12:52.180Z"
   },
   {
    "duration": 29,
    "start_time": "2022-12-20T16:12:52.198Z"
   },
   {
    "duration": 6,
    "start_time": "2022-12-20T16:12:52.229Z"
   },
   {
    "duration": 12,
    "start_time": "2022-12-20T16:12:52.237Z"
   },
   {
    "duration": 17,
    "start_time": "2022-12-20T16:12:52.251Z"
   },
   {
    "duration": 13,
    "start_time": "2022-12-20T16:12:52.270Z"
   },
   {
    "duration": 52,
    "start_time": "2022-12-20T16:12:52.285Z"
   },
   {
    "duration": 23,
    "start_time": "2022-12-20T16:12:52.339Z"
   },
   {
    "duration": 10,
    "start_time": "2022-12-20T16:12:52.364Z"
   },
   {
    "duration": 497,
    "start_time": "2022-12-20T16:12:52.376Z"
   },
   {
    "duration": 70,
    "start_time": "2022-12-20T16:12:52.874Z"
   },
   {
    "duration": 128,
    "start_time": "2022-12-20T16:12:52.946Z"
   },
   {
    "duration": 6,
    "start_time": "2022-12-20T16:12:53.076Z"
   },
   {
    "duration": 9,
    "start_time": "2022-12-20T16:12:53.084Z"
   },
   {
    "duration": 294,
    "start_time": "2022-12-20T16:12:53.094Z"
   },
   {
    "duration": 636,
    "start_time": "2022-12-20T16:12:53.390Z"
   },
   {
    "duration": 34,
    "start_time": "2022-12-20T16:12:54.028Z"
   },
   {
    "duration": 74,
    "start_time": "2022-12-20T16:12:54.064Z"
   },
   {
    "duration": 53,
    "start_time": "2022-12-20T16:12:54.140Z"
   },
   {
    "duration": 77,
    "start_time": "2022-12-20T16:12:54.195Z"
   },
   {
    "duration": 165,
    "start_time": "2022-12-20T16:12:54.274Z"
   },
   {
    "duration": 24,
    "start_time": "2022-12-20T16:12:54.441Z"
   },
   {
    "duration": 100,
    "start_time": "2022-12-20T16:12:54.467Z"
   },
   {
    "duration": 43,
    "start_time": "2022-12-20T16:12:54.568Z"
   },
   {
    "duration": 11,
    "start_time": "2022-12-20T16:12:54.612Z"
   },
   {
    "duration": 12,
    "start_time": "2022-12-20T16:12:54.625Z"
   },
   {
    "duration": 7,
    "start_time": "2022-12-20T16:12:54.638Z"
   },
   {
    "duration": 6,
    "start_time": "2022-12-20T16:12:54.647Z"
   },
   {
    "duration": 7,
    "start_time": "2022-12-20T16:12:54.654Z"
   },
   {
    "duration": 193,
    "start_time": "2022-12-20T16:12:54.663Z"
   },
   {
    "duration": 361,
    "start_time": "2022-12-20T16:12:54.861Z"
   },
   {
    "duration": 14,
    "start_time": "2022-12-20T16:12:55.223Z"
   },
   {
    "duration": 33,
    "start_time": "2022-12-20T16:12:55.239Z"
   },
   {
    "duration": 161,
    "start_time": "2022-12-20T16:12:55.274Z"
   },
   {
    "duration": 2,
    "start_time": "2022-12-20T16:12:55.437Z"
   },
   {
    "duration": 35,
    "start_time": "2022-12-20T16:12:55.441Z"
   },
   {
    "duration": 681,
    "start_time": "2022-12-20T16:12:55.478Z"
   },
   {
    "duration": 19,
    "start_time": "2022-12-20T16:12:56.160Z"
   },
   {
    "duration": 48,
    "start_time": "2022-12-20T16:12:56.181Z"
   },
   {
    "duration": 29,
    "start_time": "2022-12-20T16:12:56.230Z"
   },
   {
    "duration": 6,
    "start_time": "2022-12-20T16:12:56.261Z"
   },
   {
    "duration": 11,
    "start_time": "2022-12-20T16:12:56.268Z"
   },
   {
    "duration": 14,
    "start_time": "2022-12-20T16:12:56.281Z"
   },
   {
    "duration": 8,
    "start_time": "2022-12-20T16:12:56.322Z"
   },
   {
    "duration": 280,
    "start_time": "2022-12-20T16:12:56.331Z"
   },
   {
    "duration": 167,
    "start_time": "2022-12-20T16:12:56.614Z"
   },
   {
    "duration": 9,
    "start_time": "2022-12-20T16:12:56.783Z"
   },
   {
    "duration": 226,
    "start_time": "2022-12-20T16:12:56.794Z"
   },
   {
    "duration": 19,
    "start_time": "2022-12-20T16:12:57.022Z"
   },
   {
    "duration": 36,
    "start_time": "2022-12-20T16:12:57.043Z"
   },
   {
    "duration": 15,
    "start_time": "2022-12-20T16:12:57.080Z"
   },
   {
    "duration": 4672,
    "start_time": "2022-12-20T16:12:57.096Z"
   },
   {
    "duration": 83,
    "start_time": "2022-12-20T16:13:01.770Z"
   },
   {
    "duration": 6,
    "start_time": "2022-12-20T16:13:01.855Z"
   },
   {
    "duration": 19,
    "start_time": "2022-12-20T16:13:01.863Z"
   },
   {
    "duration": 9,
    "start_time": "2022-12-20T16:13:01.884Z"
   },
   {
    "duration": 12,
    "start_time": "2022-12-20T16:13:01.896Z"
   },
   {
    "duration": 27,
    "start_time": "2022-12-20T16:13:01.909Z"
   },
   {
    "duration": 10,
    "start_time": "2022-12-20T16:13:01.938Z"
   },
   {
    "duration": 53,
    "start_time": "2022-12-20T16:13:01.950Z"
   },
   {
    "duration": 7,
    "start_time": "2022-12-20T16:13:02.004Z"
   },
   {
    "duration": 11,
    "start_time": "2022-12-20T16:13:02.013Z"
   },
   {
    "duration": 8,
    "start_time": "2022-12-20T16:13:02.026Z"
   },
   {
    "duration": 42,
    "start_time": "2022-12-20T16:13:02.036Z"
   },
   {
    "duration": 7,
    "start_time": "2022-12-20T16:13:02.080Z"
   },
   {
    "duration": 6,
    "start_time": "2022-12-20T16:13:02.088Z"
   },
   {
    "duration": 36,
    "start_time": "2022-12-20T16:13:02.095Z"
   },
   {
    "duration": 17,
    "start_time": "2022-12-20T16:13:02.133Z"
   },
   {
    "duration": 20,
    "start_time": "2022-12-20T16:13:02.151Z"
   },
   {
    "duration": 165,
    "start_time": "2022-12-20T16:13:02.172Z"
   },
   {
    "duration": 15,
    "start_time": "2022-12-20T16:13:02.338Z"
   },
   {
    "duration": 287,
    "start_time": "2022-12-20T16:13:02.355Z"
   },
   {
    "duration": 12,
    "start_time": "2022-12-20T16:13:02.644Z"
   },
   {
    "duration": 42,
    "start_time": "2022-12-20T16:13:02.658Z"
   },
   {
    "duration": 606,
    "start_time": "2022-12-20T16:13:02.702Z"
   },
   {
    "duration": 13,
    "start_time": "2022-12-20T16:13:03.310Z"
   },
   {
    "duration": 19,
    "start_time": "2022-12-20T16:13:03.324Z"
   },
   {
    "duration": 11,
    "start_time": "2022-12-20T16:13:03.345Z"
   },
   {
    "duration": 31,
    "start_time": "2022-12-20T16:13:03.357Z"
   },
   {
    "duration": 10,
    "start_time": "2022-12-20T16:13:03.389Z"
   },
   {
    "duration": 39,
    "start_time": "2022-12-20T16:13:03.400Z"
   },
   {
    "duration": 206,
    "start_time": "2022-12-20T16:13:03.440Z"
   },
   {
    "duration": 29,
    "start_time": "2022-12-20T16:13:03.648Z"
   },
   {
    "duration": 9,
    "start_time": "2022-12-20T16:13:03.679Z"
   },
   {
    "duration": 44,
    "start_time": "2022-12-20T16:13:03.689Z"
   },
   {
    "duration": 346,
    "start_time": "2022-12-20T16:13:03.735Z"
   },
   {
    "duration": 10,
    "start_time": "2022-12-20T16:13:04.084Z"
   },
   {
    "duration": 28,
    "start_time": "2022-12-20T16:13:04.095Z"
   },
   {
    "duration": 7,
    "start_time": "2022-12-20T16:13:04.125Z"
   },
   {
    "duration": 13,
    "start_time": "2022-12-20T16:13:04.134Z"
   },
   {
    "duration": 10,
    "start_time": "2022-12-20T16:13:04.150Z"
   },
   {
    "duration": 11,
    "start_time": "2022-12-20T16:13:04.162Z"
   }
  ],
  "kernelspec": {
   "display_name": "Python 3 (ipykernel)",
   "language": "python",
   "name": "python3"
  },
  "language_info": {
   "codemirror_mode": {
    "name": "ipython",
    "version": 3
   },
   "file_extension": ".py",
   "mimetype": "text/x-python",
   "name": "python",
   "nbconvert_exporter": "python",
   "pygments_lexer": "ipython3",
   "version": "3.9.12"
  },
  "toc": {
   "base_numbering": 1,
   "nav_menu": {
    "height": "185px",
    "width": "310px"
   },
   "number_sections": true,
   "sideBar": true,
   "skip_h1_title": true,
   "title_cell": "ОГЛАВЛЕНИЕ",
   "title_sidebar": "Contents",
   "toc_cell": true,
   "toc_position": {
    "height": "calc(100% - 180px)",
    "left": "10px",
    "top": "150px",
    "width": "276.094px"
   },
   "toc_section_display": true,
   "toc_window_display": false
  }
 },
 "nbformat": 4,
 "nbformat_minor": 5
}
